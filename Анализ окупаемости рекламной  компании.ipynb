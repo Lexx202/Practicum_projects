{
 "cells": [
  {
   "cell_type": "markdown",
   "metadata": {
    "toc": true
   },
   "source": [
    "<h1>Проект: Анализ окупаемости рекламной  компании развлекательного приложения Procrastinate Pro+<span class=\"tocSkip\"></span></h1>\n",
    "<div class=\"toc\"><ul class=\"toc-item\"><li><span><a href=\"#Описание-проекта\" data-toc-modified-id=\"Описание-проекта-1\"><span class=\"toc-item-num\">1&nbsp;&nbsp;</span>Описание проекта</a></span></li><li><span><a href=\"#Загрузите-данные-и-подготовьте-их-к-анализу\" data-toc-modified-id=\"Загрузите-данные-и-подготовьте-их-к-анализу-2\"><span class=\"toc-item-num\">2&nbsp;&nbsp;</span>Загрузите данные и подготовьте их к анализу</a></span><ul class=\"toc-item\"><li><span><a href=\"#Предобработка-данных-датафрейма-visits\" data-toc-modified-id=\"Предобработка-данных-датафрейма-visits-2.1\"><span class=\"toc-item-num\">2.1&nbsp;&nbsp;</span>Предобработка данных датафрейма visits</a></span></li><li><span><a href=\"#Предобработка-данных-датафрейма-orders\" data-toc-modified-id=\"Предобработка-данных-датафрейма-orders-2.2\"><span class=\"toc-item-num\">2.2&nbsp;&nbsp;</span>Предобработка данных датафрейма orders</a></span></li><li><span><a href=\"#Предобработка-данных-датафрейта-costs\" data-toc-modified-id=\"Предобработка-данных-датафрейта-costs-2.3\"><span class=\"toc-item-num\">2.3&nbsp;&nbsp;</span>Предобработка данных датафрейта costs</a></span></li><li><span><a href=\"#Вывод:\" data-toc-modified-id=\"Вывод:-2.4\"><span class=\"toc-item-num\">2.4&nbsp;&nbsp;</span>Вывод:</a></span></li></ul></li><li><span><a href=\"#Задайте-функции-для-расчёта-и-анализа-LTV,-ROI,-удержания-и-конверсии.\" data-toc-modified-id=\"Задайте-функции-для-расчёта-и-анализа-LTV,-ROI,-удержания-и-конверсии.-3\"><span class=\"toc-item-num\">3&nbsp;&nbsp;</span>Задайте функции для расчёта и анализа LTV, ROI, удержания и конверсии.</a></span></li><li><span><a href=\"#Исследовательский-анализ-данных\" data-toc-modified-id=\"Исследовательский-анализ-данных-4\"><span class=\"toc-item-num\">4&nbsp;&nbsp;</span>Исследовательский анализ данных</a></span><ul class=\"toc-item\"><li><span><a href=\"#Составление-профиля-пользователей.-Определение-минимальной-и-максимальной-даты-привлечения-пользователей.\" data-toc-modified-id=\"Составление-профиля-пользователей.-Определение-минимальной-и-максимальной-даты-привлечения-пользователей.-4.1\"><span class=\"toc-item-num\">4.1&nbsp;&nbsp;</span>Составление профиля пользователей. Определение минимальной и максимальной даты привлечения пользователей.</a></span></li><li><span><a href=\"#Анализ-данных-о-количестве-пользователей-и-плательщиков-по-странам.\" data-toc-modified-id=\"Анализ-данных-о-количестве-пользователей-и-плательщиков-по-странам.-4.2\"><span class=\"toc-item-num\">4.2&nbsp;&nbsp;</span>Анализ данных о количестве пользователей и плательщиков по странам.</a></span></li><li><span><a href=\"#Анализ-данных-о-устройствах-которыми-пользуются-клиенты.-Какие-устройства-предпочитают-платящие-пользователи.\" data-toc-modified-id=\"Анализ-данных-о-устройствах-которыми-пользуются-клиенты.-Какие-устройства-предпочитают-платящие-пользователи.-4.3\"><span class=\"toc-item-num\">4.3&nbsp;&nbsp;</span>Анализ данных о устройствах которыми пользуются клиенты. Какие устройства предпочитают платящие пользователи.</a></span></li><li><span><a href=\"#Анализ-данных-по--источникам-привлечения-пользователей-и-определение-каналов-привлечения\" data-toc-modified-id=\"Анализ-данных-по--источникам-привлечения-пользователей-и-определение-каналов-привлечения-4.4\"><span class=\"toc-item-num\">4.4&nbsp;&nbsp;</span>Анализ данных по  источникам привлечения пользователей и определение каналов привлечения</a></span></li><li><span><a href=\"#Вывод:\" data-toc-modified-id=\"Вывод:-4.5\"><span class=\"toc-item-num\">4.5&nbsp;&nbsp;</span>Вывод:</a></span></li></ul></li><li><span><a href=\"#Маркетинг\" data-toc-modified-id=\"Маркетинг-5\"><span class=\"toc-item-num\">5&nbsp;&nbsp;</span>Маркетинг</a></span><ul class=\"toc-item\"><li><span><a href=\"#Вывод:\" data-toc-modified-id=\"Вывод:-5.1\"><span class=\"toc-item-num\">5.1&nbsp;&nbsp;</span>Вывод:</a></span></li></ul></li><li><span><a href=\"#Оцените-окупаемость-рекламы\" data-toc-modified-id=\"Оцените-окупаемость-рекламы-6\"><span class=\"toc-item-num\">6&nbsp;&nbsp;</span>Оцените окупаемость рекламы</a></span><ul class=\"toc-item\"><li><span><a href=\"#Оценка-общей-ситуации-,-рассчет--LTV-и-ROI\" data-toc-modified-id=\"Оценка-общей-ситуации-,-рассчет--LTV-и-ROI-6.1\"><span class=\"toc-item-num\">6.1&nbsp;&nbsp;</span>Оценка общей ситуации , рассчет  LTV и ROI</a></span></li><li><span><a href=\"#Расчитаем-конверсию-Conversion-Rate-и-удержание-Retention-Rate\" data-toc-modified-id=\"Расчитаем-конверсию-Conversion-Rate-и-удержание-Retention-Rate-6.2\"><span class=\"toc-item-num\">6.2&nbsp;&nbsp;</span>Расчитаем конверсию Conversion Rate и удержание Retention Rate</a></span></li><li><span><a href=\"#Анализ-окупаемость-рекламы-с-разбивкой-по-устройствам.\" data-toc-modified-id=\"Анализ-окупаемость-рекламы-с-разбивкой-по-устройствам.-6.3\"><span class=\"toc-item-num\">6.3&nbsp;&nbsp;</span>Анализ окупаемость рекламы с разбивкой по устройствам.</a></span></li><li><span><a href=\"#Анализ-окупаемость-рекламы-с-разбивкой-по-странам.\" data-toc-modified-id=\"Анализ-окупаемость-рекламы-с-разбивкой-по-странам.-6.4\"><span class=\"toc-item-num\">6.4&nbsp;&nbsp;</span>Анализ окупаемость рекламы с разбивкой по странам.</a></span></li><li><span><a href=\"#Анализ-окупаемость-рекламы-с-разбивкой-по-каналам.\" data-toc-modified-id=\"Анализ-окупаемость-рекламы-с-разбивкой-по-каналам.-6.5\"><span class=\"toc-item-num\">6.5&nbsp;&nbsp;</span>Анализ окупаемость рекламы с разбивкой по каналам.</a></span></li><li><span><a href=\"#Анализ-рекламной-компании-в-регионе-United-States.\" data-toc-modified-id=\"Анализ-рекламной-компании-в-регионе-United-States.-6.6\"><span class=\"toc-item-num\">6.6&nbsp;&nbsp;</span>Анализ рекламной компании в регионе United States.</a></span></li><li><span><a href=\"#Анализ-каналов-в-регионе-Европа\" data-toc-modified-id=\"Анализ-каналов-в-регионе-Европа-6.7\"><span class=\"toc-item-num\">6.7&nbsp;&nbsp;</span>Анализ каналов в регионе Европа</a></span></li><li><span><a href=\"#Вывод:\" data-toc-modified-id=\"Вывод:-6.8\"><span class=\"toc-item-num\">6.8&nbsp;&nbsp;</span>Вывод:</a></span></li></ul></li><li><span><a href=\"#Выводы-и-рекомендации\" data-toc-modified-id=\"Выводы-и-рекомендации-7\"><span class=\"toc-item-num\">7&nbsp;&nbsp;</span>Выводы и рекомендации</a></span></li></ul></div>"
   ]
  },
  {
   "cell_type": "markdown",
   "metadata": {},
   "source": [
    "### Описание проекта"
   ]
  },
  {
   "cell_type": "markdown",
   "metadata": {},
   "source": [
    "Для развития проекта развлекательного приложения Procrastinate Pro+ была проведена рекламная компания направленная на привлечение новых пользователей. Несмотря на  вложеные в рекламу средства, последние несколько месяцев компания терпит убытки. Необходимо разобраться в причинах проблемы и подготовить рекомендации по их устранению.\n",
    "\n",
    "Для анализа предоставленны данные о пользователях, привлечённых с 1 мая по 27 октября 2019 года:\n",
    "-\tлог сервера с данными об их посещениях,\n",
    "-\tвыгрузка их покупок за этот период,\n",
    "-\tрекламные расходы.\n",
    "\n",
    "Необходимо проанализировать:\n",
    "-\tоткуда приходят пользователи и какими устройствами они пользуются,\n",
    "-\tсколько стоит привлечение пользователей из различных рекламных каналов;\n",
    "-\tсколько денег приносит каждый клиент,\n",
    "-\tкогда расходы на привлечение клиента окупаются,\n",
    "-\tкакие факторы мешают привлечению клиентов.\n"
   ]
  },
  {
   "cell_type": "markdown",
   "metadata": {},
   "source": [
    "**Описание данных**\n",
    "\n",
    "Информация представленна в трех датасетах: файл visits_info_short.csv хранит лог сервера с информацией о посещениях сайта, orders_info_short.csv — информацию о заказах, а costs_info_short.csv — информацию о расходах на рекламу.\n",
    "\n",
    "Структура visits_info_short.csv:\n",
    "-\tUser Id — уникальный идентификатор пользователя,\n",
    "-\tRegion — страна пользователя,\n",
    "-\tDevice — тип устройства пользователя,\n",
    "-\tChannel — идентификатор источника перехода,\n",
    "-\tSession Start — дата и время начала сессии,\n",
    "-\tSession End — дата и время окончания сессии.\n",
    "\n",
    "Структура orders_info_short.csv:\n",
    "-\tUser Id — уникальный идентификатор пользователя,\n",
    "-\tEvent Dt — дата и время покупки,\n",
    "-\tRevenue — сумма заказа.\n",
    "\n",
    "Структура costs_info_short.csv:\n",
    "-\tdt — дата проведения рекламной кампании,\n",
    "-\tChannel — идентификатор рекламного источника,\n",
    "-\tcosts — расходы на эту кампанию.\n"
   ]
  },
  {
   "cell_type": "markdown",
   "metadata": {
    "id": "r-BO88CnWVwe"
   },
   "source": [
    "### Загрузите данные и подготовьте их к анализу"
   ]
  },
  {
   "cell_type": "code",
   "execution_count": 1,
   "metadata": {
    "id": "_vsKinGUWVwk"
   },
   "outputs": [],
   "source": [
    "import pandas as pd\n",
    "import matplotlib.pyplot as plt\n",
    "from datetime import datetime, timedelta\n",
    "import numpy as np\n",
    "import seaborn as sns"
   ]
  },
  {
   "cell_type": "code",
   "execution_count": 2,
   "metadata": {},
   "outputs": [],
   "source": [
    "visits, orders, costs = (\n",
    "    pd.read_csv('c:/projects/visits_info_short.csv'),  # журнал сессий\n",
    "    pd.read_csv('c:/projects/orders_info_short.csv'),  # покупки\n",
    "    pd.read_csv('c:/projects/costs_info_short.csv'),  \n",
    ")"
   ]
  },
  {
   "cell_type": "markdown",
   "metadata": {},
   "source": [
    "#### Предобработка данных датафрейма visits"
   ]
  },
  {
   "cell_type": "code",
   "execution_count": 3,
   "metadata": {},
   "outputs": [
    {
     "data": {
      "text/html": [
       "<div>\n",
       "<style scoped>\n",
       "    .dataframe tbody tr th:only-of-type {\n",
       "        vertical-align: middle;\n",
       "    }\n",
       "\n",
       "    .dataframe tbody tr th {\n",
       "        vertical-align: top;\n",
       "    }\n",
       "\n",
       "    .dataframe thead th {\n",
       "        text-align: right;\n",
       "    }\n",
       "</style>\n",
       "<table border=\"1\" class=\"dataframe\">\n",
       "  <thead>\n",
       "    <tr style=\"text-align: right;\">\n",
       "      <th></th>\n",
       "      <th>User Id</th>\n",
       "      <th>Region</th>\n",
       "      <th>Device</th>\n",
       "      <th>Channel</th>\n",
       "      <th>Session Start</th>\n",
       "      <th>Session End</th>\n",
       "    </tr>\n",
       "  </thead>\n",
       "  <tbody>\n",
       "    <tr>\n",
       "      <th>0</th>\n",
       "      <td>981449118918</td>\n",
       "      <td>United States</td>\n",
       "      <td>iPhone</td>\n",
       "      <td>organic</td>\n",
       "      <td>2019-05-01 02:36:01</td>\n",
       "      <td>2019-05-01 02:45:01</td>\n",
       "    </tr>\n",
       "    <tr>\n",
       "      <th>1</th>\n",
       "      <td>278965908054</td>\n",
       "      <td>United States</td>\n",
       "      <td>iPhone</td>\n",
       "      <td>organic</td>\n",
       "      <td>2019-05-01 04:46:31</td>\n",
       "      <td>2019-05-01 04:47:35</td>\n",
       "    </tr>\n",
       "    <tr>\n",
       "      <th>2</th>\n",
       "      <td>590706206550</td>\n",
       "      <td>United States</td>\n",
       "      <td>Mac</td>\n",
       "      <td>organic</td>\n",
       "      <td>2019-05-01 14:09:25</td>\n",
       "      <td>2019-05-01 15:32:08</td>\n",
       "    </tr>\n",
       "    <tr>\n",
       "      <th>3</th>\n",
       "      <td>326433527971</td>\n",
       "      <td>United States</td>\n",
       "      <td>Android</td>\n",
       "      <td>TipTop</td>\n",
       "      <td>2019-05-01 00:29:59</td>\n",
       "      <td>2019-05-01 00:54:25</td>\n",
       "    </tr>\n",
       "    <tr>\n",
       "      <th>4</th>\n",
       "      <td>349773784594</td>\n",
       "      <td>United States</td>\n",
       "      <td>Mac</td>\n",
       "      <td>organic</td>\n",
       "      <td>2019-05-01 03:33:35</td>\n",
       "      <td>2019-05-01 03:57:40</td>\n",
       "    </tr>\n",
       "  </tbody>\n",
       "</table>\n",
       "</div>"
      ],
      "text/plain": [
       "        User Id         Region   Device  Channel        Session Start  \\\n",
       "0  981449118918  United States   iPhone  organic  2019-05-01 02:36:01   \n",
       "1  278965908054  United States   iPhone  organic  2019-05-01 04:46:31   \n",
       "2  590706206550  United States      Mac  organic  2019-05-01 14:09:25   \n",
       "3  326433527971  United States  Android   TipTop  2019-05-01 00:29:59   \n",
       "4  349773784594  United States      Mac  organic  2019-05-01 03:33:35   \n",
       "\n",
       "           Session End  \n",
       "0  2019-05-01 02:45:01  \n",
       "1  2019-05-01 04:47:35  \n",
       "2  2019-05-01 15:32:08  \n",
       "3  2019-05-01 00:54:25  \n",
       "4  2019-05-01 03:57:40  "
      ]
     },
     "execution_count": 3,
     "metadata": {},
     "output_type": "execute_result"
    }
   ],
   "source": [
    "visits.head()"
   ]
  },
  {
   "cell_type": "code",
   "execution_count": 4,
   "metadata": {},
   "outputs": [
    {
     "name": "stdout",
     "output_type": "stream",
     "text": [
      "<class 'pandas.core.frame.DataFrame'>\n",
      "RangeIndex: 309901 entries, 0 to 309900\n",
      "Data columns (total 6 columns):\n",
      " #   Column         Non-Null Count   Dtype \n",
      "---  ------         --------------   ----- \n",
      " 0   User Id        309901 non-null  int64 \n",
      " 1   Region         309901 non-null  object\n",
      " 2   Device         309901 non-null  object\n",
      " 3   Channel        309901 non-null  object\n",
      " 4   Session Start  309901 non-null  object\n",
      " 5   Session End    309901 non-null  object\n",
      "dtypes: int64(1), object(5)\n",
      "memory usage: 14.2+ MB\n"
     ]
    }
   ],
   "source": [
    "visits.info()"
   ]
  },
  {
   "cell_type": "code",
   "execution_count": 5,
   "metadata": {},
   "outputs": [
    {
     "data": {
      "text/plain": [
       "User Id          0\n",
       "Region           0\n",
       "Device           0\n",
       "Channel          0\n",
       "Session Start    0\n",
       "Session End      0\n",
       "dtype: int64"
      ]
     },
     "execution_count": 5,
     "metadata": {},
     "output_type": "execute_result"
    }
   ],
   "source": [
    "visits.isna().sum()"
   ]
  },
  {
   "cell_type": "code",
   "execution_count": 6,
   "metadata": {},
   "outputs": [],
   "source": [
    "visits.columns = visits.columns.str.lower().str.replace(' ', '_')\n",
    "#visits.columns = ['user_id', 'region', 'device', 'channel', 'session_start', 'session_end']"
   ]
  },
  {
   "cell_type": "code",
   "execution_count": 7,
   "metadata": {},
   "outputs": [],
   "source": [
    "visits['session_start'] = pd.to_datetime(visits['session_start'])\n",
    "visits['session_end'] = pd.to_datetime(visits['session_end'])"
   ]
  },
  {
   "cell_type": "code",
   "execution_count": 8,
   "metadata": {},
   "outputs": [
    {
     "data": {
      "text/plain": [
       "0"
      ]
     },
     "execution_count": 8,
     "metadata": {},
     "output_type": "execute_result"
    }
   ],
   "source": [
    "visits.duplicated().sum()"
   ]
  },
  {
   "cell_type": "code",
   "execution_count": 9,
   "metadata": {},
   "outputs": [
    {
     "data": {
      "text/plain": [
       "array(['United States', 'UK', 'France', 'Germany'], dtype=object)"
      ]
     },
     "execution_count": 9,
     "metadata": {},
     "output_type": "execute_result"
    }
   ],
   "source": [
    "visits['region'].unique()"
   ]
  },
  {
   "cell_type": "code",
   "execution_count": 10,
   "metadata": {},
   "outputs": [
    {
     "data": {
      "text/plain": [
       "array(['iPhone', 'Mac', 'Android', 'PC'], dtype=object)"
      ]
     },
     "execution_count": 10,
     "metadata": {},
     "output_type": "execute_result"
    }
   ],
   "source": [
    "visits['device'].unique()"
   ]
  },
  {
   "cell_type": "code",
   "execution_count": 11,
   "metadata": {
    "scrolled": true
   },
   "outputs": [
    {
     "data": {
      "text/plain": [
       "array(['organic', 'TipTop', 'RocketSuperAds', 'YRabbit', 'FaceBoom',\n",
       "       'MediaTornado', 'AdNonSense', 'LeapBob', 'WahooNetBanner',\n",
       "       'OppleCreativeMedia', 'lambdaMediaAds'], dtype=object)"
      ]
     },
     "execution_count": 11,
     "metadata": {},
     "output_type": "execute_result"
    }
   ],
   "source": [
    "visits['channel'].unique()"
   ]
  },
  {
   "cell_type": "code",
   "execution_count": 12,
   "metadata": {},
   "outputs": [
    {
     "name": "stdout",
     "output_type": "stream",
     "text": [
      "Данные в датасете \"visits\" представленны c 2019-05-01 по 2019-10-31.\n"
     ]
    }
   ],
   "source": [
    "visits_min_data = visits['session_start'].dt.date.min()\n",
    "visits_max_data = visits['session_start'].dt.date.max()\n",
    "\n",
    "print(f'Данные в датасете \"visits\" представленны c {visits_min_data} по {visits_max_data}.')"
   ]
  },
  {
   "cell_type": "code",
   "execution_count": 13,
   "metadata": {},
   "outputs": [
    {
     "name": "stdout",
     "output_type": "stream",
     "text": [
      "<class 'pandas.core.frame.DataFrame'>\n",
      "RangeIndex: 309901 entries, 0 to 309900\n",
      "Data columns (total 6 columns):\n",
      " #   Column         Non-Null Count   Dtype         \n",
      "---  ------         --------------   -----         \n",
      " 0   user_id        309901 non-null  int64         \n",
      " 1   region         309901 non-null  object        \n",
      " 2   device         309901 non-null  object        \n",
      " 3   channel        309901 non-null  object        \n",
      " 4   session_start  309901 non-null  datetime64[ns]\n",
      " 5   session_end    309901 non-null  datetime64[ns]\n",
      "dtypes: datetime64[ns](2), int64(1), object(3)\n",
      "memory usage: 14.2+ MB\n"
     ]
    }
   ],
   "source": [
    "visits.info()"
   ]
  },
  {
   "cell_type": "markdown",
   "metadata": {},
   "source": [
    "В датасете visits хранятся данные о всех визитах пользователей в приложение с 01.05.2019 по 31.10.2019 за 6 месяцев. В данных исправленны названия столбцов (переведены в нижний регистр и заменены пробелы на нижнее подчеркивание). Пропуски в данных отсутствуют, явных и неявных дубликатов не выявленно. В столбцах 'session_start', 'session_end' изменен тип данных с object на datetime64[ns]."
   ]
  },
  {
   "cell_type": "markdown",
   "metadata": {},
   "source": [
    "#### Предобработка данных датафрейма orders"
   ]
  },
  {
   "cell_type": "code",
   "execution_count": 14,
   "metadata": {
    "scrolled": true
   },
   "outputs": [
    {
     "data": {
      "text/html": [
       "<div>\n",
       "<style scoped>\n",
       "    .dataframe tbody tr th:only-of-type {\n",
       "        vertical-align: middle;\n",
       "    }\n",
       "\n",
       "    .dataframe tbody tr th {\n",
       "        vertical-align: top;\n",
       "    }\n",
       "\n",
       "    .dataframe thead th {\n",
       "        text-align: right;\n",
       "    }\n",
       "</style>\n",
       "<table border=\"1\" class=\"dataframe\">\n",
       "  <thead>\n",
       "    <tr style=\"text-align: right;\">\n",
       "      <th></th>\n",
       "      <th>User Id</th>\n",
       "      <th>Event Dt</th>\n",
       "      <th>Revenue</th>\n",
       "    </tr>\n",
       "  </thead>\n",
       "  <tbody>\n",
       "    <tr>\n",
       "      <th>0</th>\n",
       "      <td>188246423999</td>\n",
       "      <td>2019-05-01 23:09:52</td>\n",
       "      <td>4.99</td>\n",
       "    </tr>\n",
       "    <tr>\n",
       "      <th>1</th>\n",
       "      <td>174361394180</td>\n",
       "      <td>2019-05-01 12:24:04</td>\n",
       "      <td>4.99</td>\n",
       "    </tr>\n",
       "    <tr>\n",
       "      <th>2</th>\n",
       "      <td>529610067795</td>\n",
       "      <td>2019-05-01 11:34:04</td>\n",
       "      <td>4.99</td>\n",
       "    </tr>\n",
       "    <tr>\n",
       "      <th>3</th>\n",
       "      <td>319939546352</td>\n",
       "      <td>2019-05-01 15:34:40</td>\n",
       "      <td>4.99</td>\n",
       "    </tr>\n",
       "    <tr>\n",
       "      <th>4</th>\n",
       "      <td>366000285810</td>\n",
       "      <td>2019-05-01 13:59:51</td>\n",
       "      <td>4.99</td>\n",
       "    </tr>\n",
       "  </tbody>\n",
       "</table>\n",
       "</div>"
      ],
      "text/plain": [
       "        User Id             Event Dt  Revenue\n",
       "0  188246423999  2019-05-01 23:09:52     4.99\n",
       "1  174361394180  2019-05-01 12:24:04     4.99\n",
       "2  529610067795  2019-05-01 11:34:04     4.99\n",
       "3  319939546352  2019-05-01 15:34:40     4.99\n",
       "4  366000285810  2019-05-01 13:59:51     4.99"
      ]
     },
     "execution_count": 14,
     "metadata": {},
     "output_type": "execute_result"
    }
   ],
   "source": [
    "orders.head()"
   ]
  },
  {
   "cell_type": "code",
   "execution_count": 15,
   "metadata": {},
   "outputs": [
    {
     "name": "stdout",
     "output_type": "stream",
     "text": [
      "<class 'pandas.core.frame.DataFrame'>\n",
      "RangeIndex: 40212 entries, 0 to 40211\n",
      "Data columns (total 3 columns):\n",
      " #   Column    Non-Null Count  Dtype  \n",
      "---  ------    --------------  -----  \n",
      " 0   User Id   40212 non-null  int64  \n",
      " 1   Event Dt  40212 non-null  object \n",
      " 2   Revenue   40212 non-null  float64\n",
      "dtypes: float64(1), int64(1), object(1)\n",
      "memory usage: 942.6+ KB\n"
     ]
    }
   ],
   "source": [
    "orders.info()"
   ]
  },
  {
   "cell_type": "code",
   "execution_count": 16,
   "metadata": {},
   "outputs": [
    {
     "data": {
      "text/plain": [
       "User Id     0\n",
       "Event Dt    0\n",
       "Revenue     0\n",
       "dtype: int64"
      ]
     },
     "execution_count": 16,
     "metadata": {},
     "output_type": "execute_result"
    }
   ],
   "source": [
    "orders.isna().sum()"
   ]
  },
  {
   "cell_type": "code",
   "execution_count": 17,
   "metadata": {},
   "outputs": [],
   "source": [
    "orders.columns = ['user_id', 'event_dt', 'revenue']"
   ]
  },
  {
   "cell_type": "code",
   "execution_count": 18,
   "metadata": {},
   "outputs": [
    {
     "data": {
      "text/plain": [
       "0"
      ]
     },
     "execution_count": 18,
     "metadata": {},
     "output_type": "execute_result"
    }
   ],
   "source": [
    "orders.duplicated().sum()"
   ]
  },
  {
   "cell_type": "code",
   "execution_count": 19,
   "metadata": {},
   "outputs": [],
   "source": [
    "orders['event_dt'] = pd.to_datetime(orders['event_dt'])"
   ]
  },
  {
   "cell_type": "code",
   "execution_count": 20,
   "metadata": {},
   "outputs": [
    {
     "name": "stdout",
     "output_type": "stream",
     "text": [
      "Данные в датасете \"orders\" представленны c 2019-05-01 по 2019-10-31.\n"
     ]
    }
   ],
   "source": [
    "orders_min_data = orders['event_dt'].dt.date.min()\n",
    "orders_max_data = orders['event_dt'].dt.date.max()\n",
    "\n",
    "print(f'Данные в датасете \"orders\" представленны c {orders_min_data} по {orders_max_data}.')"
   ]
  },
  {
   "cell_type": "code",
   "execution_count": 21,
   "metadata": {},
   "outputs": [
    {
     "name": "stdout",
     "output_type": "stream",
     "text": [
      "<class 'pandas.core.frame.DataFrame'>\n",
      "RangeIndex: 40212 entries, 0 to 40211\n",
      "Data columns (total 3 columns):\n",
      " #   Column    Non-Null Count  Dtype         \n",
      "---  ------    --------------  -----         \n",
      " 0   user_id   40212 non-null  int64         \n",
      " 1   event_dt  40212 non-null  datetime64[ns]\n",
      " 2   revenue   40212 non-null  float64       \n",
      "dtypes: datetime64[ns](1), float64(1), int64(1)\n",
      "memory usage: 942.6 KB\n"
     ]
    }
   ],
   "source": [
    "orders.info()"
   ]
  },
  {
   "cell_type": "markdown",
   "metadata": {},
   "source": [
    "В датасете orders хранятся данные о всех покупках пользователей совершенных в период  с 01.05.2019 по 31.10.2019 за 6 месяцев. В данных исправленны названия столбцов (переведены в нижний регистр и заменены пробелы на нижнее подчеркивание). Пропуски в данных отсутствуют,  дубликатов не выявленно. В столбце 'event_dt' изменен тип данных с object на datetime64[ns]."
   ]
  },
  {
   "cell_type": "markdown",
   "metadata": {},
   "source": [
    "#### Предобработка данных датафрейта costs"
   ]
  },
  {
   "cell_type": "code",
   "execution_count": 22,
   "metadata": {},
   "outputs": [
    {
     "data": {
      "text/html": [
       "<div>\n",
       "<style scoped>\n",
       "    .dataframe tbody tr th:only-of-type {\n",
       "        vertical-align: middle;\n",
       "    }\n",
       "\n",
       "    .dataframe tbody tr th {\n",
       "        vertical-align: top;\n",
       "    }\n",
       "\n",
       "    .dataframe thead th {\n",
       "        text-align: right;\n",
       "    }\n",
       "</style>\n",
       "<table border=\"1\" class=\"dataframe\">\n",
       "  <thead>\n",
       "    <tr style=\"text-align: right;\">\n",
       "      <th></th>\n",
       "      <th>dt</th>\n",
       "      <th>Channel</th>\n",
       "      <th>costs</th>\n",
       "    </tr>\n",
       "  </thead>\n",
       "  <tbody>\n",
       "    <tr>\n",
       "      <th>0</th>\n",
       "      <td>2019-05-01</td>\n",
       "      <td>FaceBoom</td>\n",
       "      <td>113.3</td>\n",
       "    </tr>\n",
       "    <tr>\n",
       "      <th>1</th>\n",
       "      <td>2019-05-02</td>\n",
       "      <td>FaceBoom</td>\n",
       "      <td>78.1</td>\n",
       "    </tr>\n",
       "    <tr>\n",
       "      <th>2</th>\n",
       "      <td>2019-05-03</td>\n",
       "      <td>FaceBoom</td>\n",
       "      <td>85.8</td>\n",
       "    </tr>\n",
       "    <tr>\n",
       "      <th>3</th>\n",
       "      <td>2019-05-04</td>\n",
       "      <td>FaceBoom</td>\n",
       "      <td>136.4</td>\n",
       "    </tr>\n",
       "    <tr>\n",
       "      <th>4</th>\n",
       "      <td>2019-05-05</td>\n",
       "      <td>FaceBoom</td>\n",
       "      <td>122.1</td>\n",
       "    </tr>\n",
       "  </tbody>\n",
       "</table>\n",
       "</div>"
      ],
      "text/plain": [
       "           dt   Channel  costs\n",
       "0  2019-05-01  FaceBoom  113.3\n",
       "1  2019-05-02  FaceBoom   78.1\n",
       "2  2019-05-03  FaceBoom   85.8\n",
       "3  2019-05-04  FaceBoom  136.4\n",
       "4  2019-05-05  FaceBoom  122.1"
      ]
     },
     "execution_count": 22,
     "metadata": {},
     "output_type": "execute_result"
    }
   ],
   "source": [
    "costs.head()"
   ]
  },
  {
   "cell_type": "code",
   "execution_count": 23,
   "metadata": {},
   "outputs": [
    {
     "name": "stdout",
     "output_type": "stream",
     "text": [
      "<class 'pandas.core.frame.DataFrame'>\n",
      "RangeIndex: 1800 entries, 0 to 1799\n",
      "Data columns (total 3 columns):\n",
      " #   Column   Non-Null Count  Dtype  \n",
      "---  ------   --------------  -----  \n",
      " 0   dt       1800 non-null   object \n",
      " 1   Channel  1800 non-null   object \n",
      " 2   costs    1800 non-null   float64\n",
      "dtypes: float64(1), object(2)\n",
      "memory usage: 42.3+ KB\n"
     ]
    }
   ],
   "source": [
    "costs.info()"
   ]
  },
  {
   "cell_type": "code",
   "execution_count": 24,
   "metadata": {},
   "outputs": [
    {
     "data": {
      "text/plain": [
       "dt         0\n",
       "Channel    0\n",
       "costs      0\n",
       "dtype: int64"
      ]
     },
     "execution_count": 24,
     "metadata": {},
     "output_type": "execute_result"
    }
   ],
   "source": [
    "costs.isna().sum()"
   ]
  },
  {
   "cell_type": "code",
   "execution_count": 25,
   "metadata": {},
   "outputs": [],
   "source": [
    "costs.columns = costs.columns.str.lower()"
   ]
  },
  {
   "cell_type": "code",
   "execution_count": 26,
   "metadata": {},
   "outputs": [
    {
     "data": {
      "text/plain": [
       "0"
      ]
     },
     "execution_count": 26,
     "metadata": {},
     "output_type": "execute_result"
    }
   ],
   "source": [
    "costs.duplicated().sum()"
   ]
  },
  {
   "cell_type": "code",
   "execution_count": 27,
   "metadata": {},
   "outputs": [
    {
     "data": {
      "text/plain": [
       "array(['FaceBoom', 'MediaTornado', 'RocketSuperAds', 'TipTop', 'YRabbit',\n",
       "       'AdNonSense', 'LeapBob', 'OppleCreativeMedia', 'WahooNetBanner',\n",
       "       'lambdaMediaAds'], dtype=object)"
      ]
     },
     "execution_count": 27,
     "metadata": {},
     "output_type": "execute_result"
    }
   ],
   "source": [
    "costs['channel'].unique()"
   ]
  },
  {
   "cell_type": "code",
   "execution_count": 28,
   "metadata": {},
   "outputs": [],
   "source": [
    "costs['dt'] = pd.to_datetime(costs['dt']).dt.date "
   ]
  },
  {
   "cell_type": "code",
   "execution_count": 29,
   "metadata": {},
   "outputs": [
    {
     "name": "stdout",
     "output_type": "stream",
     "text": [
      "Данные в датасете \"costs\" представленны c 2019-05-01 по 2019-10-27.\n"
     ]
    }
   ],
   "source": [
    "costs_min_data = costs['dt'].min()\n",
    "costs_max_data = costs['dt'].max()\n",
    "\n",
    "print(f'Данные в датасете \"costs\" представленны c {costs_min_data} по {costs_max_data}.')"
   ]
  },
  {
   "cell_type": "code",
   "execution_count": 30,
   "metadata": {},
   "outputs": [
    {
     "name": "stdout",
     "output_type": "stream",
     "text": [
      "<class 'pandas.core.frame.DataFrame'>\n",
      "RangeIndex: 1800 entries, 0 to 1799\n",
      "Data columns (total 3 columns):\n",
      " #   Column   Non-Null Count  Dtype  \n",
      "---  ------   --------------  -----  \n",
      " 0   dt       1800 non-null   object \n",
      " 1   channel  1800 non-null   object \n",
      " 2   costs    1800 non-null   float64\n",
      "dtypes: float64(1), object(2)\n",
      "memory usage: 42.3+ KB\n"
     ]
    }
   ],
   "source": [
    "costs.info()"
   ]
  },
  {
   "cell_type": "markdown",
   "metadata": {},
   "source": [
    "В датасете costs хранятся данные о расходах на рекламную компанию за период с 01.05.2019 по 27.10.2019 за 6 месяцев. В данных исправленны названия столбцов (переведены в нижний регистр). Пропуски в данных отсутствуют, дубликатов не выявленно. В столбце 'dt' изменен тип данных с object на datetime64[ns]."
   ]
  },
  {
   "cell_type": "markdown",
   "metadata": {},
   "source": [
    "#### Вывод:"
   ]
  },
  {
   "cell_type": "markdown",
   "metadata": {},
   "source": [
    "Проведена предобработка предоставленных для анализа данных в датафреймах visits, orders, costs. \n",
    "В датасете visits хранятся данные о всех визитах пользователей в приложение с 01.05.2019 по 31.10.2019 за 6 месяцев. В данных исправленны названия столбцов (переведены в нижний регистр и заменены пробелы на нижнее подчеркивание). Пропуски в данных отсутствуют, явных и неявных дубликатов не выявленно. В столбцах содержащих даты и время изменен тип данных с object на datetime64[ns]."
   ]
  },
  {
   "cell_type": "markdown",
   "metadata": {
    "id": "AS1eCqCpWVwk"
   },
   "source": [
    "### Задайте функции для расчёта и анализа LTV, ROI, удержания и конверсии.\n",
    "\n",
    "Разрешается использовать функции, с которыми вы познакомились в теоретических уроках.\n",
    "\n",
    "Это функции для вычисления значений метрик:\n",
    "\n",
    "- `get_profiles()` — для создания профилей пользователей,\n",
    "- `get_retention()` — для подсчёта Retention Rate,\n",
    "- `get_conversion()` — для подсчёта конверсии,\n",
    "- `get_ltv()` — для подсчёта LTV.\n",
    "\n",
    "А также функции для построения графиков:\n",
    "\n",
    "- `filter_data()` — для сглаживания данных,\n",
    "- `plot_retention()` — для построения графика Retention Rate,\n",
    "- `plot_conversion()` — для построения графика конверсии,\n",
    "- `plot_ltv_roi` — для визуализации LTV и ROI."
   ]
  },
  {
   "cell_type": "code",
   "execution_count": 31,
   "metadata": {
    "id": "igOfMgBpWVwl"
   },
   "outputs": [],
   "source": [
    "# функция для создания пользовательских профилей\n",
    "\n",
    "def get_profiles(sessions, orders,  ad_costs, event_names=[]):\n",
    "\n",
    "    # находим параметры первых посещений\n",
    "    profiles = (\n",
    "        sessions.sort_values(by=['user_id', 'session_start'])\n",
    "        .groupby('user_id')\n",
    "        .agg(\n",
    "            {\n",
    "                'session_start': 'first',\n",
    "                'channel': 'first',\n",
    "                'device': 'first',\n",
    "                'region': 'first',\n",
    "            }\n",
    "        )\n",
    "        .rename(columns={'session_start': 'first_ts'})\n",
    "        .reset_index()\n",
    "    )\n",
    "\n",
    "    # для когортного анализа определяем дату первого посещения\n",
    "    # и первый день месяца, в который это посещение произошло\n",
    "    profiles['dt'] = profiles['first_ts'].dt.date\n",
    "    profiles['month'] = profiles['first_ts'].values.astype('datetime64[M]')\n",
    "\n",
    "    # добавляем признак платящих пользователей\n",
    "    profiles['payer'] = profiles['user_id'].isin(orders['user_id'].unique())\n",
    "\n",
    "   \n",
    "    # считаем количество уникальных пользователей\n",
    "    # с одинаковыми источником и датой привлечения\n",
    "    new_users = (\n",
    "        profiles.groupby(['dt', 'channel'])\n",
    "        .agg({'user_id': 'nunique'})\n",
    "        .rename(columns={'user_id': 'unique_users'})\n",
    "        .reset_index()\n",
    "    )\n",
    "\n",
    "    # объединяем траты на рекламу и число привлечённых пользователей\n",
    "    ad_costs = ad_costs.merge(new_users, on=['dt', 'channel'], how='left')\n",
    "\n",
    "    # делим рекламные расходы на число привлечённых пользователей\n",
    "    ad_costs['acquisition_cost'] = ad_costs['costs'] / ad_costs['unique_users']\n",
    "\n",
    "    # добавляем стоимость привлечения в профили\n",
    "    profiles = profiles.merge(\n",
    "        ad_costs[['dt', 'channel', 'acquisition_cost']],\n",
    "        on=['dt', 'channel'],\n",
    "        how='left',\n",
    "    )\n",
    "\n",
    "    # стоимость привлечения органических пользователей равна нулю\n",
    "    profiles['acquisition_cost'] = profiles['acquisition_cost'].fillna(0)\n",
    "\n",
    "    return profiles\n"
   ]
  },
  {
   "cell_type": "code",
   "execution_count": 32,
   "metadata": {},
   "outputs": [],
   "source": [
    "# get_retention() функция для расчёта удержания\n",
    "\n",
    "def get_retention(\n",
    "    profiles,\n",
    "    sessions,\n",
    "    observation_date,\n",
    "    horizon_days,\n",
    "    dimensions=[],\n",
    "    ignore_horizon=False,\n",
    "):\n",
    "\n",
    "    # добавляем столбец payer в передаваемый dimensions список\n",
    "    dimensions = ['payer'] + dimensions\n",
    "\n",
    "    # исключаем пользователей, не «доживших» до горизонта анализа\n",
    "    last_suitable_acquisition_date = observation_date\n",
    "    if not ignore_horizon:\n",
    "        last_suitable_acquisition_date = observation_date - timedelta(\n",
    "            days=horizon_days - 1\n",
    "        )\n",
    "    result_raw = profiles.query('dt <= @last_suitable_acquisition_date')\n",
    "\n",
    "    # собираем «сырые» данные для расчёта удержания\n",
    "    result_raw = result_raw.merge(\n",
    "        sessions[['user_id', 'session_start']], on='user_id', how='left'\n",
    "    )\n",
    "    result_raw['lifetime'] = (\n",
    "        result_raw['session_start'] - result_raw['first_ts']\n",
    "    ).dt.days\n",
    "\n",
    "    # функция для группировки таблицы по желаемым признакам\n",
    "    def group_by_dimensions(df, dims, horizon_days):\n",
    "        result = df.pivot_table(\n",
    "            index=dims, columns='lifetime', values='user_id', aggfunc='nunique'\n",
    "        )\n",
    "        cohort_sizes = (\n",
    "            df.groupby(dims)\n",
    "            .agg({'user_id': 'nunique'})\n",
    "            .rename(columns={'user_id': 'cohort_size'})\n",
    "        )\n",
    "        result = cohort_sizes.merge(result, on=dims, how='left').fillna(0)\n",
    "        result = result.div(result['cohort_size'], axis=0)\n",
    "        result = result[['cohort_size'] + list(range(horizon_days))]\n",
    "        result['cohort_size'] = cohort_sizes\n",
    "        return result\n",
    "\n",
    "    # получаем таблицу удержания\n",
    "    result_grouped = group_by_dimensions(result_raw, dimensions, horizon_days)\n",
    "\n",
    "    # получаем таблицу динамики удержания\n",
    "    result_in_time = group_by_dimensions(\n",
    "        result_raw, dimensions + ['dt'], horizon_days\n",
    "    )\n",
    "\n",
    "    # возвращаем обе таблицы и сырые данные\n",
    "    return result_raw, result_grouped, result_in_time"
   ]
  },
  {
   "cell_type": "code",
   "execution_count": 33,
   "metadata": {},
   "outputs": [],
   "source": [
    "# get_conversion() функция для расчёта конверсии\n",
    "\n",
    "def get_conversion(\n",
    "    profiles,\n",
    "    purchases,\n",
    "    observation_date,\n",
    "    horizon_days,\n",
    "    dimensions=[],\n",
    "    ignore_horizon=False,\n",
    "):\n",
    "\n",
    "    # исключаем пользователей, не «доживших» до горизонта анализа\n",
    "    last_suitable_acquisition_date = observation_date\n",
    "    if not ignore_horizon:\n",
    "        last_suitable_acquisition_date = observation_date - timedelta(\n",
    "            days=horizon_days - 1\n",
    "        )\n",
    "    result_raw = profiles.query('dt <= @last_suitable_acquisition_date')\n",
    "\n",
    "    # определяем дату и время первой покупки для каждого пользователя\n",
    "    first_purchases = (\n",
    "        purchases.sort_values(by=['user_id', 'event_dt'])\n",
    "        .groupby('user_id')\n",
    "        .agg({'event_dt': 'first'})\n",
    "        .reset_index()\n",
    "    )\n",
    "\n",
    "    # добавляем данные о покупках в профили\n",
    "    result_raw = result_raw.merge(\n",
    "        first_purchases[['user_id', 'event_dt']], on='user_id', how='left'\n",
    "    )\n",
    "\n",
    "    # рассчитываем лайфтайм для каждой покупки\n",
    "    result_raw['lifetime'] = (\n",
    "        result_raw['event_dt'] - result_raw['first_ts']\n",
    "    ).dt.days\n",
    "\n",
    "    # группируем по cohort, если в dimensions ничего нет\n",
    "    if len(dimensions) == 0:\n",
    "        result_raw['cohort'] = 'All users' \n",
    "        dimensions = dimensions + ['cohort']\n",
    "\n",
    "    # функция для группировки таблицы по желаемым признакам\n",
    "    def group_by_dimensions(df, dims, horizon_days):\n",
    "        result = df.pivot_table(\n",
    "            index=dims, columns='lifetime', values='user_id', aggfunc='nunique'\n",
    "        )\n",
    "        result = result.fillna(0).cumsum(axis = 1)\n",
    "        cohort_sizes = (\n",
    "            df.groupby(dims)\n",
    "            .agg({'user_id': 'nunique'})\n",
    "            .rename(columns={'user_id': 'cohort_size'})\n",
    "        )\n",
    "        result = cohort_sizes.merge(result, on=dims, how='left').fillna(0)\n",
    "        # делим каждую «ячейку» в строке на размер когорты\n",
    "        # и получаем conversion rate\n",
    "        result = result.div(result['cohort_size'], axis=0)\n",
    "        result = result[['cohort_size'] + list(range(horizon_days))]\n",
    "        result['cohort_size'] = cohort_sizes\n",
    "        return result\n",
    "\n",
    "    # получаем таблицу конверсии\n",
    "    result_grouped = group_by_dimensions(result_raw, dimensions, horizon_days)\n",
    "\n",
    "    # для таблицы динамики конверсии убираем 'cohort' из dimensions\n",
    "    if 'cohort' in dimensions: \n",
    "        dimensions = []\n",
    "\n",
    "    # получаем таблицу динамики конверсии\n",
    "    result_in_time = group_by_dimensions(\n",
    "        result_raw, dimensions + ['dt'], horizon_days\n",
    "    )\n",
    "\n",
    "    # возвращаем обе таблицы и сырые данные\n",
    "    return result_raw, result_grouped, result_in_time"
   ]
  },
  {
   "cell_type": "code",
   "execution_count": 34,
   "metadata": {},
   "outputs": [],
   "source": [
    "# get_ltv() функция для расчёта LTV и ROI\n",
    "\n",
    "def get_ltv(\n",
    "    profiles,\n",
    "    purchases,\n",
    "    observation_date,\n",
    "    horizon_days,\n",
    "    dimensions=[],\n",
    "    ignore_horizon=False,\n",
    "):\n",
    "\n",
    "    # исключаем пользователей, не «доживших» до горизонта анализа\n",
    "    last_suitable_acquisition_date = observation_date\n",
    "    if not ignore_horizon:\n",
    "        last_suitable_acquisition_date = observation_date - timedelta(\n",
    "            days=horizon_days - 1\n",
    "        )\n",
    "    result_raw = profiles.query('dt <= @last_suitable_acquisition_date')\n",
    "    # добавляем данные о покупках в профили\n",
    "    result_raw = result_raw.merge(\n",
    "        purchases[['user_id', 'event_dt', 'revenue']], on='user_id', how='left'\n",
    "    )\n",
    "    # рассчитываем лайфтайм пользователя для каждой покупки\n",
    "    result_raw['lifetime'] = (\n",
    "        result_raw['event_dt'] - result_raw['first_ts']\n",
    "    ).dt.days\n",
    "    # группируем по cohort, если в dimensions ничего нет\n",
    "    if len(dimensions) == 0:\n",
    "        result_raw['cohort'] = 'All users'\n",
    "        dimensions = dimensions + ['cohort']\n",
    "\n",
    "    # функция группировки по желаемым признакам\n",
    "    def group_by_dimensions(df, dims, horizon_days):\n",
    "        # строим «треугольную» таблицу выручки\n",
    "        result = df.pivot_table(\n",
    "            index=dims, columns='lifetime', values='revenue', aggfunc='sum'\n",
    "        )\n",
    "        # находим сумму выручки с накоплением\n",
    "        result = result.fillna(0).cumsum(axis=1)\n",
    "        # вычисляем размеры когорт\n",
    "        cohort_sizes = (\n",
    "            df.groupby(dims)\n",
    "            .agg({'user_id': 'nunique'})\n",
    "            .rename(columns={'user_id': 'cohort_size'})\n",
    "        )\n",
    "        # объединяем размеры когорт и таблицу выручки\n",
    "        result = cohort_sizes.merge(result, on=dims, how='left').fillna(0)\n",
    "        # считаем LTV: делим каждую «ячейку» в строке на размер когорты\n",
    "        result = result.div(result['cohort_size'], axis=0)\n",
    "        # исключаем все лайфтаймы, превышающие горизонт анализа\n",
    "        result = result[['cohort_size'] + list(range(horizon_days))]\n",
    "        # восстанавливаем размеры когорт\n",
    "        result['cohort_size'] = cohort_sizes\n",
    "\n",
    "        # собираем датафрейм с данными пользователей и значениями CAC, \n",
    "        # добавляя параметры из dimensions\n",
    "        cac = df[['user_id', 'acquisition_cost'] + dims].drop_duplicates()\n",
    "\n",
    "        # считаем средний CAC по параметрам из dimensions\n",
    "        cac = (\n",
    "            cac.groupby(dims)\n",
    "            .agg({'acquisition_cost': 'mean'})\n",
    "            .rename(columns={'acquisition_cost': 'cac'})\n",
    "        )\n",
    "\n",
    "        # считаем ROI: делим LTV на CAC\n",
    "        roi = result.div(cac['cac'], axis=0)\n",
    "\n",
    "        # удаляем строки с бесконечным ROI\n",
    "        roi = roi[~roi['cohort_size'].isin([np.inf])]\n",
    "\n",
    "        # восстанавливаем размеры когорт в таблице ROI\n",
    "        roi['cohort_size'] = cohort_sizes\n",
    "\n",
    "        # добавляем CAC в таблицу ROI\n",
    "        roi['cac'] = cac['cac']\n",
    "\n",
    "        # в финальной таблице оставляем размеры когорт, CAC\n",
    "        # и ROI в лайфтаймы, не превышающие горизонт анализа\n",
    "        roi = roi[['cohort_size', 'cac'] + list(range(horizon_days))]\n",
    "\n",
    "        # возвращаем таблицы LTV и ROI\n",
    "        return result, roi\n",
    "\n",
    "    # получаем таблицы LTV и ROI\n",
    "    result_grouped, roi_grouped = group_by_dimensions(\n",
    "        result_raw, dimensions, horizon_days\n",
    "    )\n",
    "\n",
    "    # для таблиц динамики убираем 'cohort' из dimensions\n",
    "    if 'cohort' in dimensions:\n",
    "        dimensions = []\n",
    "\n",
    "    # получаем таблицы динамики LTV и ROI\n",
    "    result_in_time, roi_in_time = group_by_dimensions(\n",
    "        result_raw, dimensions + ['dt'], horizon_days\n",
    "    )\n",
    "\n",
    "    return (\n",
    "        result_raw,  # сырые данные\n",
    "        result_grouped,  # таблица LTV\n",
    "        result_in_time,  # таблица динамики LTV\n",
    "        roi_grouped,  # таблица ROI\n",
    "        roi_in_time,  # таблица динамики ROI\n",
    "    )"
   ]
  },
  {
   "cell_type": "code",
   "execution_count": 35,
   "metadata": {},
   "outputs": [],
   "source": [
    "# filter_data() функция для сглаживания фрейма\n",
    "\n",
    "def filter_data(df, window):\n",
    "    # для каждого столбца применяем скользящее среднее\n",
    "    for column in df.columns.values:\n",
    "        df[column] = df[column].rolling(window).mean() \n",
    "    return df"
   ]
  },
  {
   "cell_type": "code",
   "execution_count": 36,
   "metadata": {},
   "outputs": [],
   "source": [
    "# plot_retention() функция для визуализации удержания\n",
    "\n",
    "def plot_retention(retention, retention_history, horizon, window=7):\n",
    "\n",
    "    # задаём размер сетки для графиков\n",
    "    plt.figure(figsize=(15, 10))\n",
    "\n",
    "    # исключаем размеры когорт и удержание первого дня\n",
    "    retention = retention.drop(columns=['cohort_size', 0])\n",
    "    # в таблице динамики оставляем только нужный лайфтайм\n",
    "    retention_history = retention_history.drop(columns=['cohort_size'])[\n",
    "        [horizon - 1]\n",
    "    ]\n",
    "\n",
    "    # если в индексах таблицы удержания только payer,\n",
    "    # добавляем второй признак — cohort\n",
    "    if retention.index.nlevels == 1:\n",
    "        retention['cohort'] = 'All users'\n",
    "        retention = retention.reset_index().set_index(['cohort', 'payer'])\n",
    "\n",
    "    # в таблице графиков — два столбца и две строки, четыре ячейки\n",
    "    # в первой строим кривые удержания платящих пользователей\n",
    "    ax1 = plt.subplot(2, 2, 1)\n",
    "    retention.query('payer == True').droplevel('payer').T.plot(\n",
    "        grid=True, ax=ax1\n",
    "    )\n",
    "    plt.legend()\n",
    "    plt.xlabel('Лайфтайм')\n",
    "    plt.title('Удержание платящих пользователей')\n",
    "\n",
    "    # во второй ячейке строим кривые удержания неплатящих\n",
    "    # вертикальная ось — от графика из первой ячейки\n",
    "    ax2 = plt.subplot(2, 2, 2, sharey=ax1)\n",
    "    retention.query('payer == False').droplevel('payer').T.plot(\n",
    "        grid=True, ax=ax2\n",
    "    )\n",
    "    plt.legend()\n",
    "    plt.xlabel('Лайфтайм')\n",
    "    plt.title('Удержание неплатящих пользователей')\n",
    "\n",
    "    # в третьей ячейке — динамика удержания платящих\n",
    "    ax3 = plt.subplot(2, 2, 3)\n",
    "    # получаем названия столбцов для сводной таблицы\n",
    "    columns = [\n",
    "        name\n",
    "        for name in retention_history.index.names\n",
    "        if name not in ['dt', 'payer']\n",
    "    ]\n",
    "    # фильтруем данные и строим график\n",
    "    filtered_data = retention_history.query('payer == True').pivot_table(\n",
    "        index='dt', columns=columns, values=horizon - 1, aggfunc='mean'\n",
    "    )\n",
    "    filter_data(filtered_data, window).plot(grid=True, ax=ax3)\n",
    "    plt.xlabel('Дата привлечения')\n",
    "    plt.title(\n",
    "        'Динамика удержания платящих пользователей на {}-й день'.format(\n",
    "            horizon\n",
    "        )\n",
    "    )\n",
    "\n",
    "    # в чётвертой ячейке — динамика удержания неплатящих\n",
    "    ax4 = plt.subplot(2, 2, 4, sharey=ax3)\n",
    "    # фильтруем данные и строим график\n",
    "    filtered_data = retention_history.query('payer == False').pivot_table(\n",
    "        index='dt', columns=columns, values=horizon - 1, aggfunc='mean'\n",
    "    )\n",
    "    filter_data(filtered_data, window).plot(grid=True, ax=ax4)\n",
    "    plt.xlabel('Дата привлечения')\n",
    "    plt.title(\n",
    "        'Динамика удержания неплатящих пользователей на {}-й день'.format(\n",
    "            horizon\n",
    "        )\n",
    "    )\n",
    "    \n",
    "    plt.tight_layout()\n",
    "    plt.show()"
   ]
  },
  {
   "cell_type": "code",
   "execution_count": 37,
   "metadata": {},
   "outputs": [],
   "source": [
    "# plot_conversion() plot_conversion функция для визуализации конверсии\n",
    "\n",
    "def plot_conversion(conversion, conversion_history, horizon, window=7):\n",
    "\n",
    "    # задаём размер сетки для графиков\n",
    "    plt.figure(figsize=(15, 5))\n",
    "\n",
    "    # исключаем размеры когорт\n",
    "    conversion = conversion.drop(columns=['cohort_size'])\n",
    "    # в таблице динамики оставляем только нужный лайфтайм\n",
    "    conversion_history = conversion_history.drop(columns=['cohort_size'])[\n",
    "        [horizon - 1]\n",
    "    ]\n",
    "\n",
    "    # первый график — кривые конверсии\n",
    "    ax1 = plt.subplot(1, 2, 1)\n",
    "    conversion.T.plot(grid=True, ax=ax1)\n",
    "    plt.legend()\n",
    "    plt.xlabel('Лайфтайм')\n",
    "    plt.title('Конверсия пользователей')\n",
    "\n",
    "    # второй график — динамика конверсии\n",
    "    ax2 = plt.subplot(1, 2, 2, sharey=ax1)\n",
    "    columns = [\n",
    "        # столбцами сводной таблицы станут все столбцы индекса, кроме даты\n",
    "        name for name in conversion_history.index.names if name not in ['dt']\n",
    "    ]\n",
    "    filtered_data = conversion_history.pivot_table(\n",
    "        index='dt', columns=columns, values=horizon - 1, aggfunc='mean'\n",
    "    )\n",
    "    filter_data(filtered_data, window).plot(grid=True, ax=ax2)\n",
    "    plt.xlabel('Дата привлечения')\n",
    "    plt.title('Динамика конверсии пользователей на {}-й день'.format(horizon))\n",
    "\n",
    "    plt.tight_layout()\n",
    "    plt.show()"
   ]
  },
  {
   "cell_type": "code",
   "execution_count": 38,
   "metadata": {},
   "outputs": [],
   "source": [
    "# plot_ltv_roi() функция для визуализации LTV и ROI\n",
    "\n",
    "def plot_ltv_roi(ltv, ltv_history, roi, roi_history, horizon, window=7):\n",
    "\n",
    "    # задаём сетку отрисовки графиков\n",
    "    plt.figure(figsize=(20, 10))\n",
    "\n",
    "    # из таблицы ltv исключаем размеры когорт\n",
    "    ltv = ltv.drop(columns=['cohort_size'])\n",
    "    # в таблице динамики ltv оставляем только нужный лайфтайм\n",
    "    ltv_history = ltv_history.drop(columns=['cohort_size'])[[horizon - 1]]\n",
    "\n",
    "    # стоимость привлечения запишем в отдельный фрейм\n",
    "    cac_history = roi_history[['cac']]\n",
    "\n",
    "    # из таблицы roi исключаем размеры когорт и cac\n",
    "    roi = roi.drop(columns=['cohort_size', 'cac'])\n",
    "    # в таблице динамики roi оставляем только нужный лайфтайм\n",
    "    roi_history = roi_history.drop(columns=['cohort_size', 'cac'])[\n",
    "        [horizon - 1]\n",
    "    ]\n",
    "\n",
    "    # первый график — кривые ltv\n",
    "    ax1 = plt.subplot(2, 3, 1)\n",
    "    ltv.T.plot(grid=True, ax=ax1)\n",
    "    plt.legend()\n",
    "    plt.xlabel('Лайфтайм')\n",
    "    plt.title('LTV')\n",
    "\n",
    "    # второй график — динамика ltv\n",
    "    ax2 = plt.subplot(2, 3, 2, sharey=ax1)\n",
    "    # столбцами сводной таблицы станут все столбцы индекса, кроме даты\n",
    "    columns = [name for name in ltv_history.index.names if name not in ['dt']]\n",
    "    filtered_data = ltv_history.pivot_table(\n",
    "        index='dt', columns=columns, values=horizon - 1, aggfunc='mean'\n",
    "    )\n",
    "    filter_data(filtered_data, window).plot(grid=True, ax=ax2)\n",
    "    plt.xlabel('Дата привлечения')\n",
    "    plt.title('Динамика LTV пользователей на {}-й день'.format(horizon))\n",
    "\n",
    "    # третий график — динамика cac\n",
    "    ax3 = plt.subplot(2, 3, 3, sharey=ax1)\n",
    "    # столбцами сводной таблицы станут все столбцы индекса, кроме даты\n",
    "    columns = [name for name in cac_history.index.names if name not in ['dt']]\n",
    "    filtered_data = cac_history.pivot_table(\n",
    "        index='dt', columns=columns, values='cac', aggfunc='mean'\n",
    "    )\n",
    "    filter_data(filtered_data, window).plot(grid=True, ax=ax3)\n",
    "    plt.xlabel('Дата привлечения')\n",
    "    plt.title('Динамика стоимости привлечения пользователей')\n",
    "\n",
    "    # четвёртый график — кривые roi\n",
    "    ax4 = plt.subplot(2, 3, 4)\n",
    "    roi.T.plot(grid=True, ax=ax4)\n",
    "    plt.axhline(y=1, color='red', linestyle='--', label='Уровень окупаемости')\n",
    "    plt.legend()\n",
    "    plt.xlabel('Лайфтайм')\n",
    "    plt.title('ROI')\n",
    "\n",
    "    # пятый график — динамика roi\n",
    "    ax5 = plt.subplot(2, 3, 5, sharey=ax4)\n",
    "    # столбцами сводной таблицы станут все столбцы индекса, кроме даты\n",
    "    columns = [name for name in roi_history.index.names if name not in ['dt']]\n",
    "    filtered_data = roi_history.pivot_table(\n",
    "        index='dt', columns=columns, values=horizon - 1, aggfunc='mean'\n",
    "    )\n",
    "    filter_data(filtered_data, window).plot(grid=True, ax=ax5)\n",
    "    plt.axhline(y=1, color='red', linestyle='--', label='Уровень окупаемости')\n",
    "    plt.xlabel('Дата привлечения')\n",
    "    plt.title('Динамика ROI пользователей на {}-й день'.format(horizon))\n",
    "\n",
    "    plt.tight_layout()\n",
    "    plt.show()"
   ]
  },
  {
   "cell_type": "markdown",
   "metadata": {
    "id": "V-KBT-KMWVwl"
   },
   "source": [
    "### Исследовательский анализ данных\n",
    "\n",
    "- Составьте профили пользователей. Определите минимальную и максимальную даты привлечения пользователей.\n",
    "- Выясните, из каких стран пользователи приходят в приложение и на какую страну приходится больше всего платящих пользователей. Постройте таблицу, отражающую количество пользователей и долю платящих из каждой страны.\n",
    "- Узнайте, какими устройствами пользуются клиенты и какие устройства предпочитают платящие пользователи. Постройте таблицу, отражающую количество пользователей и долю платящих для каждого устройства.\n",
    "- Изучите рекламные источники привлечения и определите каналы, из которых пришло больше всего платящих пользователей. Постройте таблицу, отражающую количество пользователей и долю платящих для каждого канала привлечения.\n",
    "\n",
    "После каждого пункта сформулируйте выводы."
   ]
  },
  {
   "cell_type": "markdown",
   "metadata": {},
   "source": [
    "#### Составление профиля пользователей. Определение минимальной и максимальной даты привлечения пользователей."
   ]
  },
  {
   "cell_type": "code",
   "execution_count": 39,
   "metadata": {
    "id": "oOLsbJpNWVwm"
   },
   "outputs": [
    {
     "data": {
      "text/html": [
       "<div>\n",
       "<style scoped>\n",
       "    .dataframe tbody tr th:only-of-type {\n",
       "        vertical-align: middle;\n",
       "    }\n",
       "\n",
       "    .dataframe tbody tr th {\n",
       "        vertical-align: top;\n",
       "    }\n",
       "\n",
       "    .dataframe thead th {\n",
       "        text-align: right;\n",
       "    }\n",
       "</style>\n",
       "<table border=\"1\" class=\"dataframe\">\n",
       "  <thead>\n",
       "    <tr style=\"text-align: right;\">\n",
       "      <th></th>\n",
       "      <th>user_id</th>\n",
       "      <th>first_ts</th>\n",
       "      <th>channel</th>\n",
       "      <th>device</th>\n",
       "      <th>region</th>\n",
       "      <th>dt</th>\n",
       "      <th>month</th>\n",
       "      <th>payer</th>\n",
       "      <th>acquisition_cost</th>\n",
       "    </tr>\n",
       "  </thead>\n",
       "  <tbody>\n",
       "    <tr>\n",
       "      <th>0</th>\n",
       "      <td>599326</td>\n",
       "      <td>2019-05-07 20:58:57</td>\n",
       "      <td>FaceBoom</td>\n",
       "      <td>Mac</td>\n",
       "      <td>United States</td>\n",
       "      <td>2019-05-07</td>\n",
       "      <td>2019-05-01</td>\n",
       "      <td>True</td>\n",
       "      <td>1.088172</td>\n",
       "    </tr>\n",
       "    <tr>\n",
       "      <th>1</th>\n",
       "      <td>4919697</td>\n",
       "      <td>2019-07-09 12:46:07</td>\n",
       "      <td>FaceBoom</td>\n",
       "      <td>iPhone</td>\n",
       "      <td>United States</td>\n",
       "      <td>2019-07-09</td>\n",
       "      <td>2019-07-01</td>\n",
       "      <td>False</td>\n",
       "      <td>1.107237</td>\n",
       "    </tr>\n",
       "    <tr>\n",
       "      <th>2</th>\n",
       "      <td>6085896</td>\n",
       "      <td>2019-10-01 09:58:33</td>\n",
       "      <td>organic</td>\n",
       "      <td>iPhone</td>\n",
       "      <td>France</td>\n",
       "      <td>2019-10-01</td>\n",
       "      <td>2019-10-01</td>\n",
       "      <td>False</td>\n",
       "      <td>0.000000</td>\n",
       "    </tr>\n",
       "    <tr>\n",
       "      <th>3</th>\n",
       "      <td>22593348</td>\n",
       "      <td>2019-08-22 21:35:48</td>\n",
       "      <td>AdNonSense</td>\n",
       "      <td>PC</td>\n",
       "      <td>Germany</td>\n",
       "      <td>2019-08-22</td>\n",
       "      <td>2019-08-01</td>\n",
       "      <td>False</td>\n",
       "      <td>0.988235</td>\n",
       "    </tr>\n",
       "    <tr>\n",
       "      <th>4</th>\n",
       "      <td>31989216</td>\n",
       "      <td>2019-10-02 00:07:44</td>\n",
       "      <td>YRabbit</td>\n",
       "      <td>iPhone</td>\n",
       "      <td>United States</td>\n",
       "      <td>2019-10-02</td>\n",
       "      <td>2019-10-01</td>\n",
       "      <td>False</td>\n",
       "      <td>0.230769</td>\n",
       "    </tr>\n",
       "    <tr>\n",
       "      <th>...</th>\n",
       "      <td>...</td>\n",
       "      <td>...</td>\n",
       "      <td>...</td>\n",
       "      <td>...</td>\n",
       "      <td>...</td>\n",
       "      <td>...</td>\n",
       "      <td>...</td>\n",
       "      <td>...</td>\n",
       "      <td>...</td>\n",
       "    </tr>\n",
       "    <tr>\n",
       "      <th>150003</th>\n",
       "      <td>999956196527</td>\n",
       "      <td>2019-09-28 08:33:02</td>\n",
       "      <td>TipTop</td>\n",
       "      <td>iPhone</td>\n",
       "      <td>United States</td>\n",
       "      <td>2019-09-28</td>\n",
       "      <td>2019-09-01</td>\n",
       "      <td>False</td>\n",
       "      <td>3.500000</td>\n",
       "    </tr>\n",
       "    <tr>\n",
       "      <th>150004</th>\n",
       "      <td>999975439887</td>\n",
       "      <td>2019-10-21 00:35:17</td>\n",
       "      <td>organic</td>\n",
       "      <td>PC</td>\n",
       "      <td>UK</td>\n",
       "      <td>2019-10-21</td>\n",
       "      <td>2019-10-01</td>\n",
       "      <td>False</td>\n",
       "      <td>0.000000</td>\n",
       "    </tr>\n",
       "    <tr>\n",
       "      <th>150005</th>\n",
       "      <td>999976332130</td>\n",
       "      <td>2019-07-23 02:57:06</td>\n",
       "      <td>TipTop</td>\n",
       "      <td>iPhone</td>\n",
       "      <td>United States</td>\n",
       "      <td>2019-07-23</td>\n",
       "      <td>2019-07-01</td>\n",
       "      <td>False</td>\n",
       "      <td>2.600000</td>\n",
       "    </tr>\n",
       "    <tr>\n",
       "      <th>150006</th>\n",
       "      <td>999979924135</td>\n",
       "      <td>2019-09-28 21:28:09</td>\n",
       "      <td>MediaTornado</td>\n",
       "      <td>PC</td>\n",
       "      <td>United States</td>\n",
       "      <td>2019-09-28</td>\n",
       "      <td>2019-09-01</td>\n",
       "      <td>False</td>\n",
       "      <td>0.205714</td>\n",
       "    </tr>\n",
       "    <tr>\n",
       "      <th>150007</th>\n",
       "      <td>999999563947</td>\n",
       "      <td>2019-10-18 19:57:25</td>\n",
       "      <td>organic</td>\n",
       "      <td>iPhone</td>\n",
       "      <td>United States</td>\n",
       "      <td>2019-10-18</td>\n",
       "      <td>2019-10-01</td>\n",
       "      <td>False</td>\n",
       "      <td>0.000000</td>\n",
       "    </tr>\n",
       "  </tbody>\n",
       "</table>\n",
       "<p>150008 rows × 9 columns</p>\n",
       "</div>"
      ],
      "text/plain": [
       "             user_id            first_ts       channel  device         region  \\\n",
       "0             599326 2019-05-07 20:58:57      FaceBoom     Mac  United States   \n",
       "1            4919697 2019-07-09 12:46:07      FaceBoom  iPhone  United States   \n",
       "2            6085896 2019-10-01 09:58:33       organic  iPhone         France   \n",
       "3           22593348 2019-08-22 21:35:48    AdNonSense      PC        Germany   \n",
       "4           31989216 2019-10-02 00:07:44       YRabbit  iPhone  United States   \n",
       "...              ...                 ...           ...     ...            ...   \n",
       "150003  999956196527 2019-09-28 08:33:02        TipTop  iPhone  United States   \n",
       "150004  999975439887 2019-10-21 00:35:17       organic      PC             UK   \n",
       "150005  999976332130 2019-07-23 02:57:06        TipTop  iPhone  United States   \n",
       "150006  999979924135 2019-09-28 21:28:09  MediaTornado      PC  United States   \n",
       "150007  999999563947 2019-10-18 19:57:25       organic  iPhone  United States   \n",
       "\n",
       "                dt      month  payer  acquisition_cost  \n",
       "0       2019-05-07 2019-05-01   True          1.088172  \n",
       "1       2019-07-09 2019-07-01  False          1.107237  \n",
       "2       2019-10-01 2019-10-01  False          0.000000  \n",
       "3       2019-08-22 2019-08-01  False          0.988235  \n",
       "4       2019-10-02 2019-10-01  False          0.230769  \n",
       "...            ...        ...    ...               ...  \n",
       "150003  2019-09-28 2019-09-01  False          3.500000  \n",
       "150004  2019-10-21 2019-10-01  False          0.000000  \n",
       "150005  2019-07-23 2019-07-01  False          2.600000  \n",
       "150006  2019-09-28 2019-09-01  False          0.205714  \n",
       "150007  2019-10-18 2019-10-01  False          0.000000  \n",
       "\n",
       "[150008 rows x 9 columns]"
      ]
     },
     "execution_count": 39,
     "metadata": {},
     "output_type": "execute_result"
    }
   ],
   "source": [
    "profiles = get_profiles(visits, orders,  costs)\n",
    "profiles"
   ]
  },
  {
   "cell_type": "code",
   "execution_count": 40,
   "metadata": {},
   "outputs": [
    {
     "data": {
      "text/plain": [
       "datetime.date(2019, 5, 1)"
      ]
     },
     "execution_count": 40,
     "metadata": {},
     "output_type": "execute_result"
    }
   ],
   "source": [
    "profiles['dt'].min()"
   ]
  },
  {
   "cell_type": "code",
   "execution_count": 41,
   "metadata": {},
   "outputs": [
    {
     "data": {
      "text/plain": [
       "datetime.date(2019, 10, 27)"
      ]
     },
     "execution_count": 41,
     "metadata": {},
     "output_type": "execute_result"
    }
   ],
   "source": [
    "profiles['dt'].max()"
   ]
  },
  {
   "cell_type": "markdown",
   "metadata": {},
   "source": [
    "Составлен профиль пользователей. Минимальнная дата привлечения пользователей 01.05.2019г. Максимальная дата привлечения пользователей 27.10.2019г. Период дат совпадает с указанным в задании."
   ]
  },
  {
   "cell_type": "markdown",
   "metadata": {},
   "source": [
    "#### Анализ данных о количестве пользователей и плательщиков по странам. "
   ]
  },
  {
   "cell_type": "code",
   "execution_count": 42,
   "metadata": {},
   "outputs": [],
   "source": [
    "def table_payer(data, index):\n",
    "    percent_payer = data.pivot_table(\n",
    "        index=index, \n",
    "        aggfunc=({'user_id':'count', 'payer':'sum'}))\n",
    "    percent_payer['payer_percent'] = round(percent_payer['payer'] / percent_payer['user_id']*100, 2)\n",
    "    percent_payer = percent_payer.sort_values(by='payer_percent', ascending=False)\n",
    "    percent_payer.columns = ['payer', 'count_user', 'payer_percent']\n",
    "    percent_payer = percent_payer[['count_user', 'payer_percent']]\n",
    "    return percent_payer"
   ]
  },
  {
   "cell_type": "code",
   "execution_count": 43,
   "metadata": {},
   "outputs": [],
   "source": [
    "def plot_percent_payer(data):\n",
    "\n",
    "    \n",
    "    plt.figure(figsize=(20,5))\n",
    "    count_users = data.sort_values(by='count_user', ascending=True).\\\n",
    "    plot(y='count_user', kind='barh', grid=True,   ax=plt.subplot(1,2,1))\n",
    "\n",
    "    plt.title('Колисчетво пользователей')\n",
    "    \n",
    "\n",
    "    percent_payer= data.sort_values(by='payer_percent', ascending=True).\\\n",
    "    plot(y='payer_percent', kind='barh', grid=True,   ax=plt.subplot(1,2,2))\n",
    "\n",
    "    plt.title('Колисчетво пользователей-плательщиков')\n",
    "    \n",
    "    plt.show()"
   ]
  },
  {
   "cell_type": "code",
   "execution_count": 44,
   "metadata": {},
   "outputs": [
    {
     "data": {
      "text/html": [
       "<div>\n",
       "<style scoped>\n",
       "    .dataframe tbody tr th:only-of-type {\n",
       "        vertical-align: middle;\n",
       "    }\n",
       "\n",
       "    .dataframe tbody tr th {\n",
       "        vertical-align: top;\n",
       "    }\n",
       "\n",
       "    .dataframe thead th {\n",
       "        text-align: right;\n",
       "    }\n",
       "</style>\n",
       "<table border=\"1\" class=\"dataframe\">\n",
       "  <thead>\n",
       "    <tr style=\"text-align: right;\">\n",
       "      <th></th>\n",
       "      <th>count_user</th>\n",
       "      <th>payer_percent</th>\n",
       "    </tr>\n",
       "    <tr>\n",
       "      <th>region</th>\n",
       "      <th></th>\n",
       "      <th></th>\n",
       "    </tr>\n",
       "  </thead>\n",
       "  <tbody>\n",
       "    <tr>\n",
       "      <th>United States</th>\n",
       "      <td>100002</td>\n",
       "      <td>6.90</td>\n",
       "    </tr>\n",
       "    <tr>\n",
       "      <th>Germany</th>\n",
       "      <td>14981</td>\n",
       "      <td>4.11</td>\n",
       "    </tr>\n",
       "    <tr>\n",
       "      <th>UK</th>\n",
       "      <td>17575</td>\n",
       "      <td>3.98</td>\n",
       "    </tr>\n",
       "    <tr>\n",
       "      <th>France</th>\n",
       "      <td>17450</td>\n",
       "      <td>3.80</td>\n",
       "    </tr>\n",
       "  </tbody>\n",
       "</table>\n",
       "</div>"
      ],
      "text/plain": [
       "               count_user  payer_percent\n",
       "region                                  \n",
       "United States      100002           6.90\n",
       "Germany             14981           4.11\n",
       "UK                  17575           3.98\n",
       "France              17450           3.80"
      ]
     },
     "execution_count": 44,
     "metadata": {},
     "output_type": "execute_result"
    }
   ],
   "source": [
    "percent_payer_counry = table_payer(profiles, profiles['region'])\n",
    "percent_payer_counry"
   ]
  },
  {
   "cell_type": "code",
   "execution_count": 45,
   "metadata": {},
   "outputs": [
    {
     "data": {
      "image/png": "[encoded data removed]",
      "text/plain": [
       "<Figure size 2000x500 with 2 Axes>"
      ]
     },
     "metadata": {},
     "output_type": "display_data"
    }
   ],
   "source": [
    "plot_percent_payer(percent_payer_counry)"
   ]
  },
  {
   "cell_type": "markdown",
   "metadata": {},
   "source": [
    "Количество пользователей распределились по странам следующим образам:\n",
    "- United States- 100002\t\n",
    "- UK           - 17575\t\n",
    "- France\t   - 17450\t\n",
    "- Germany\t   - 14981\t\n",
    "\n",
    "Количество плательщиков распределились по странам следующим образам:\n",
    "- United States\t- 6.90\n",
    "- Germany\t    - 4.11\n",
    "- UK\t        - 3.98\n",
    "- France\t    - 3.80\n",
    "\n",
    "\n",
    "\n"
   ]
  },
  {
   "cell_type": "markdown",
   "metadata": {},
   "source": [
    "#### Анализ данных о устройствах которыми пользуются клиенты. Какие устройства предпочитают платящие пользователи. "
   ]
  },
  {
   "cell_type": "code",
   "execution_count": 46,
   "metadata": {},
   "outputs": [
    {
     "data": {
      "text/html": [
       "<div>\n",
       "<style scoped>\n",
       "    .dataframe tbody tr th:only-of-type {\n",
       "        vertical-align: middle;\n",
       "    }\n",
       "\n",
       "    .dataframe tbody tr th {\n",
       "        vertical-align: top;\n",
       "    }\n",
       "\n",
       "    .dataframe thead th {\n",
       "        text-align: right;\n",
       "    }\n",
       "</style>\n",
       "<table border=\"1\" class=\"dataframe\">\n",
       "  <thead>\n",
       "    <tr style=\"text-align: right;\">\n",
       "      <th></th>\n",
       "      <th>count_user</th>\n",
       "      <th>payer_percent</th>\n",
       "    </tr>\n",
       "    <tr>\n",
       "      <th>device</th>\n",
       "      <th></th>\n",
       "      <th></th>\n",
       "    </tr>\n",
       "  </thead>\n",
       "  <tbody>\n",
       "    <tr>\n",
       "      <th>Mac</th>\n",
       "      <td>30042</td>\n",
       "      <td>6.36</td>\n",
       "    </tr>\n",
       "    <tr>\n",
       "      <th>iPhone</th>\n",
       "      <td>54479</td>\n",
       "      <td>6.21</td>\n",
       "    </tr>\n",
       "    <tr>\n",
       "      <th>Android</th>\n",
       "      <td>35032</td>\n",
       "      <td>5.85</td>\n",
       "    </tr>\n",
       "    <tr>\n",
       "      <th>PC</th>\n",
       "      <td>30455</td>\n",
       "      <td>5.05</td>\n",
       "    </tr>\n",
       "  </tbody>\n",
       "</table>\n",
       "</div>"
      ],
      "text/plain": [
       "         count_user  payer_percent\n",
       "device                            \n",
       "Mac           30042           6.36\n",
       "iPhone        54479           6.21\n",
       "Android       35032           5.85\n",
       "PC            30455           5.05"
      ]
     },
     "execution_count": 46,
     "metadata": {},
     "output_type": "execute_result"
    }
   ],
   "source": [
    "percent_payer_device = table_payer(profiles, profiles['device'])\n",
    "percent_payer_device"
   ]
  },
  {
   "cell_type": "code",
   "execution_count": 47,
   "metadata": {},
   "outputs": [
    {
     "data": {
      "image/png": "[encoded data removed]",
      "text/plain": [
       "<Figure size 2000x500 with 2 Axes>"
      ]
     },
     "metadata": {},
     "output_type": "display_data"
    }
   ],
   "source": [
    "plot_percent_payer(percent_payer_device)"
   ]
  },
  {
   "cell_type": "markdown",
   "metadata": {},
   "source": [
    "Пользователи распределились по устройствам следующим образом:\n",
    "- iPhone\t- 54479\n",
    "- Android- 35032\n",
    "- PC - \t30455\n",
    "- Mac - 30042\t\n",
    "\n",
    "Пользователи-плательщики распределились по устройствам следующим образом:\n",
    "- Mac\t-\t6.36\n",
    "- iPhone\t-\t6.21\n",
    "- Android\t-\t5.85\n",
    "- PC\t-\t5.05\n"
   ]
  },
  {
   "cell_type": "markdown",
   "metadata": {},
   "source": [
    "#### Анализ данных по  источникам привлечения пользователей и определение каналов привлечения"
   ]
  },
  {
   "cell_type": "code",
   "execution_count": 48,
   "metadata": {},
   "outputs": [
    {
     "data": {
      "text/html": [
       "<div>\n",
       "<style scoped>\n",
       "    .dataframe tbody tr th:only-of-type {\n",
       "        vertical-align: middle;\n",
       "    }\n",
       "\n",
       "    .dataframe tbody tr th {\n",
       "        vertical-align: top;\n",
       "    }\n",
       "\n",
       "    .dataframe thead th {\n",
       "        text-align: right;\n",
       "    }\n",
       "</style>\n",
       "<table border=\"1\" class=\"dataframe\">\n",
       "  <thead>\n",
       "    <tr style=\"text-align: right;\">\n",
       "      <th></th>\n",
       "      <th>count_user</th>\n",
       "      <th>payer_percent</th>\n",
       "    </tr>\n",
       "    <tr>\n",
       "      <th>channel</th>\n",
       "      <th></th>\n",
       "      <th></th>\n",
       "    </tr>\n",
       "  </thead>\n",
       "  <tbody>\n",
       "    <tr>\n",
       "      <th>FaceBoom</th>\n",
       "      <td>29144</td>\n",
       "      <td>12.20</td>\n",
       "    </tr>\n",
       "    <tr>\n",
       "      <th>AdNonSense</th>\n",
       "      <td>3880</td>\n",
       "      <td>11.34</td>\n",
       "    </tr>\n",
       "    <tr>\n",
       "      <th>lambdaMediaAds</th>\n",
       "      <td>2149</td>\n",
       "      <td>10.47</td>\n",
       "    </tr>\n",
       "    <tr>\n",
       "      <th>TipTop</th>\n",
       "      <td>19561</td>\n",
       "      <td>9.60</td>\n",
       "    </tr>\n",
       "    <tr>\n",
       "      <th>RocketSuperAds</th>\n",
       "      <td>4448</td>\n",
       "      <td>7.91</td>\n",
       "    </tr>\n",
       "    <tr>\n",
       "      <th>WahooNetBanner</th>\n",
       "      <td>8553</td>\n",
       "      <td>5.30</td>\n",
       "    </tr>\n",
       "    <tr>\n",
       "      <th>YRabbit</th>\n",
       "      <td>4312</td>\n",
       "      <td>3.83</td>\n",
       "    </tr>\n",
       "    <tr>\n",
       "      <th>MediaTornado</th>\n",
       "      <td>4364</td>\n",
       "      <td>3.57</td>\n",
       "    </tr>\n",
       "    <tr>\n",
       "      <th>LeapBob</th>\n",
       "      <td>8553</td>\n",
       "      <td>3.06</td>\n",
       "    </tr>\n",
       "    <tr>\n",
       "      <th>OppleCreativeMedia</th>\n",
       "      <td>8605</td>\n",
       "      <td>2.71</td>\n",
       "    </tr>\n",
       "    <tr>\n",
       "      <th>organic</th>\n",
       "      <td>56439</td>\n",
       "      <td>2.06</td>\n",
       "    </tr>\n",
       "  </tbody>\n",
       "</table>\n",
       "</div>"
      ],
      "text/plain": [
       "                    count_user  payer_percent\n",
       "channel                                      \n",
       "FaceBoom                 29144          12.20\n",
       "AdNonSense                3880          11.34\n",
       "lambdaMediaAds            2149          10.47\n",
       "TipTop                   19561           9.60\n",
       "RocketSuperAds            4448           7.91\n",
       "WahooNetBanner            8553           5.30\n",
       "YRabbit                   4312           3.83\n",
       "MediaTornado              4364           3.57\n",
       "LeapBob                   8553           3.06\n",
       "OppleCreativeMedia        8605           2.71\n",
       "organic                  56439           2.06"
      ]
     },
     "execution_count": 48,
     "metadata": {},
     "output_type": "execute_result"
    }
   ],
   "source": [
    "percent_payer_channel = table_payer(profiles, profiles['channel'])\n",
    "percent_payer_channel"
   ]
  },
  {
   "cell_type": "code",
   "execution_count": 49,
   "metadata": {},
   "outputs": [
    {
     "data": {
      "image/png": "[encoded data removed]",
      "text/plain": [
       "<Figure size 2000x500 with 2 Axes>"
      ]
     },
     "metadata": {},
     "output_type": "display_data"
    }
   ],
   "source": [
    "plot_percent_payer(percent_payer_channel)"
   ]
  },
  {
   "cell_type": "markdown",
   "metadata": {},
   "source": [
    "Наибольшее количество платящих пользователей: \n",
    "\n",
    "- FaceBoom - 12.20%\n",
    "- AdNonSense  - 11.34%\n",
    "- lambdaMediaAds - 10.47%\n",
    "- TipTop - 9.60%\n",
    "- RocketSuperAds - 7.91\n",
    "\n",
    "Наибольшее количество пользователей:\n",
    "        \n",
    "- organic - 56439\n",
    "- FaceBoom - 29144\n",
    "- TipTop - 19561\n",
    "- OppleCreativeMedia - 8605\n",
    "- LeapBob - 8553\n",
    "- WahooNetBanner - 8553\n",
    "\n",
    "Из ТОП5 каналов по количеству платящих пользователей только  у FaceBoom и TipTop более 10тыс пользователей, остальные каналы имеют высокий процент платильщиков но очень малое количество пользователей.\n",
    "\n",
    "#### Вывод:\n",
    "\n",
    "Профиль пользователя: 66.66% пользователей приходятся на регион United States, наибольшее количество плательщиков также в United States. Пользователи предпочитают подключатся к приложениям с мобильных устройств iPhone и Android, при этом плательщики больше предпочитают Mac и iPhone. Наибольшее количество пользователей пришли в приложение сами - organic и через каналы  FaceBoom и TipTop, в то время как плательщиков больше пришло через каналы FaceBoom,  AdNonSense, lambdaMediaAds."
   ]
  },
  {
   "cell_type": "markdown",
   "metadata": {
    "id": "80LRB5-eWVwm"
   },
   "source": [
    "### Маркетинг\n",
    "\n",
    "- Посчитайте общую сумму расходов на маркетинг.\n",
    "- Выясните, как траты распределены по рекламным источникам, то есть сколько денег потратили на каждый источник.\n",
    "- Постройте график с визуализацией динамики изменения расходов во времени по неделям по каждому источнику. Затем на другом графике визуализируйте динамику изменения расходов во времени по месяцам по каждому источнику.\n",
    "- Узнайте, сколько в среднем стоило привлечение одного пользователя (CAC) из каждого источника. Используйте профили пользователей.\n",
    "\n",
    "Напишите промежуточные выводы."
   ]
  },
  {
   "cell_type": "code",
   "execution_count": 50,
   "metadata": {},
   "outputs": [
    {
     "name": "stdout",
     "output_type": "stream",
     "text": [
      "Общая сумма затрат на маркетинг в исследуемый период составила:  105497.3\n"
     ]
    }
   ],
   "source": [
    "print('Общая сумма затрат на маркетинг в исследуемый период составила: ', round(profiles['acquisition_cost'].sum(),2))"
   ]
  },
  {
   "cell_type": "code",
   "execution_count": 51,
   "metadata": {
    "scrolled": false
   },
   "outputs": [
    {
     "data": {
      "text/html": [
       "<div>\n",
       "<style scoped>\n",
       "    .dataframe tbody tr th:only-of-type {\n",
       "        vertical-align: middle;\n",
       "    }\n",
       "\n",
       "    .dataframe tbody tr th {\n",
       "        vertical-align: top;\n",
       "    }\n",
       "\n",
       "    .dataframe thead th {\n",
       "        text-align: right;\n",
       "    }\n",
       "</style>\n",
       "<table border=\"1\" class=\"dataframe\">\n",
       "  <thead>\n",
       "    <tr style=\"text-align: right;\">\n",
       "      <th></th>\n",
       "      <th>acquisition_cost</th>\n",
       "      <th>percent_costs</th>\n",
       "      <th></th>\n",
       "    </tr>\n",
       "    <tr>\n",
       "      <th>channel</th>\n",
       "      <th></th>\n",
       "      <th></th>\n",
       "      <th></th>\n",
       "    </tr>\n",
       "  </thead>\n",
       "  <tbody>\n",
       "    <tr>\n",
       "      <th>TipTop</th>\n",
       "      <td>54751.30</td>\n",
       "      <td>51.90</td>\n",
       "      <td>%</td>\n",
       "    </tr>\n",
       "    <tr>\n",
       "      <th>FaceBoom</th>\n",
       "      <td>32445.60</td>\n",
       "      <td>30.75</td>\n",
       "      <td>%</td>\n",
       "    </tr>\n",
       "    <tr>\n",
       "      <th>WahooNetBanner</th>\n",
       "      <td>5151.00</td>\n",
       "      <td>4.88</td>\n",
       "      <td>%</td>\n",
       "    </tr>\n",
       "    <tr>\n",
       "      <th>AdNonSense</th>\n",
       "      <td>3911.25</td>\n",
       "      <td>3.71</td>\n",
       "      <td>%</td>\n",
       "    </tr>\n",
       "    <tr>\n",
       "      <th>OppleCreativeMedia</th>\n",
       "      <td>2151.25</td>\n",
       "      <td>2.04</td>\n",
       "      <td>%</td>\n",
       "    </tr>\n",
       "    <tr>\n",
       "      <th>RocketSuperAds</th>\n",
       "      <td>1833.00</td>\n",
       "      <td>1.74</td>\n",
       "      <td>%</td>\n",
       "    </tr>\n",
       "    <tr>\n",
       "      <th>LeapBob</th>\n",
       "      <td>1797.60</td>\n",
       "      <td>1.70</td>\n",
       "      <td>%</td>\n",
       "    </tr>\n",
       "    <tr>\n",
       "      <th>lambdaMediaAds</th>\n",
       "      <td>1557.60</td>\n",
       "      <td>1.48</td>\n",
       "      <td>%</td>\n",
       "    </tr>\n",
       "    <tr>\n",
       "      <th>MediaTornado</th>\n",
       "      <td>954.48</td>\n",
       "      <td>0.90</td>\n",
       "      <td>%</td>\n",
       "    </tr>\n",
       "    <tr>\n",
       "      <th>YRabbit</th>\n",
       "      <td>944.22</td>\n",
       "      <td>0.90</td>\n",
       "      <td>%</td>\n",
       "    </tr>\n",
       "    <tr>\n",
       "      <th>organic</th>\n",
       "      <td>0.00</td>\n",
       "      <td>0.00</td>\n",
       "      <td>%</td>\n",
       "    </tr>\n",
       "  </tbody>\n",
       "</table>\n",
       "</div>"
      ],
      "text/plain": [
       "                    acquisition_cost  percent_costs   \n",
       "channel                                               \n",
       "TipTop                      54751.30          51.90  %\n",
       "FaceBoom                    32445.60          30.75  %\n",
       "WahooNetBanner               5151.00           4.88  %\n",
       "AdNonSense                   3911.25           3.71  %\n",
       "OppleCreativeMedia           2151.25           2.04  %\n",
       "RocketSuperAds               1833.00           1.74  %\n",
       "LeapBob                      1797.60           1.70  %\n",
       "lambdaMediaAds               1557.60           1.48  %\n",
       "MediaTornado                  954.48           0.90  %\n",
       "YRabbit                       944.22           0.90  %\n",
       "organic                         0.00           0.00  %"
      ]
     },
     "execution_count": 51,
     "metadata": {},
     "output_type": "execute_result"
    }
   ],
   "source": [
    "profiles_costs = profiles.pivot_table(index='channel', aggfunc=({'acquisition_cost':'sum'})).\\\n",
    "sort_values(by='acquisition_cost', ascending=False)\n",
    "profiles_costs['percent_costs'] = round(\n",
    "    profiles_costs['acquisition_cost'] / profiles_costs['acquisition_cost'].sum()*100, 2\n",
    ")\n",
    "profiles_costs['']='%'\n",
    "profiles_costs"
   ]
  },
  {
   "cell_type": "code",
   "execution_count": 52,
   "metadata": {
    "scrolled": true
   },
   "outputs": [
    {
     "data": {
      "image/png": "[encoded data removed]",
      "text/plain": [
       "<Figure size 1500x500 with 1 Axes>"
      ]
     },
     "metadata": {},
     "output_type": "display_data"
    }
   ],
   "source": [
    "profiles_costs['acquisition_cost']. \\\n",
    "plot(kind='pie', autopct = '%1.2f%%', figsize=(15, 5), legend=True)\n",
    "#plt.legend(loc=4)\n",
    "plt.legend(bbox_to_anchor=(2, 0.8))\n",
    "plt.title('Доля затрат на рекламную компанию')\n",
    "\n",
    "\n",
    "plt.show()"
   ]
  },
  {
   "cell_type": "markdown",
   "metadata": {},
   "source": [
    "По предоставленной информации видно, что 51,90% средств рекламного бюджета израсходованно на канал TipTop.\n",
    "На канал FaceBoom потрачено 30,75% бюджета. На остальные каналы совокупно потрачено 17,35% бюджета.\n",
    "Таким образом на каналы TipTop и FaceBoom потрачено 82,65% бюджета и основной приток новых клиентов расчитан именно с этих каналов."
   ]
  },
  {
   "cell_type": "code",
   "execution_count": 53,
   "metadata": {},
   "outputs": [
    {
     "data": {
      "text/plain": [
       "acquisition_cost    105497.3\n",
       "dtype: float64"
      ]
     },
     "execution_count": 53,
     "metadata": {},
     "output_type": "execute_result"
    }
   ],
   "source": [
    "profiles.pivot_table(index='channel', aggfunc=({'acquisition_cost':'sum'})).\\\n",
    "sort_values(by='acquisition_cost', ascending=False).sum()"
   ]
  },
  {
   "cell_type": "markdown",
   "metadata": {},
   "source": [
    "суммы "
   ]
  },
  {
   "cell_type": "code",
   "execution_count": 54,
   "metadata": {
    "scrolled": false
   },
   "outputs": [],
   "source": [
    "profiles['week'] = pd.to_datetime(profiles['dt']).dt.isocalendar().week"
   ]
  },
  {
   "cell_type": "code",
   "execution_count": 55,
   "metadata": {},
   "outputs": [
    {
     "data": {
      "text/html": [
       "<div>\n",
       "<style scoped>\n",
       "    .dataframe tbody tr th:only-of-type {\n",
       "        vertical-align: middle;\n",
       "    }\n",
       "\n",
       "    .dataframe tbody tr th {\n",
       "        vertical-align: top;\n",
       "    }\n",
       "\n",
       "    .dataframe thead th {\n",
       "        text-align: right;\n",
       "    }\n",
       "</style>\n",
       "<table border=\"1\" class=\"dataframe\">\n",
       "  <thead>\n",
       "    <tr style=\"text-align: right;\">\n",
       "      <th></th>\n",
       "      <th></th>\n",
       "      <th>acquisition_cost</th>\n",
       "    </tr>\n",
       "    <tr>\n",
       "      <th>channel</th>\n",
       "      <th>month</th>\n",
       "      <th></th>\n",
       "    </tr>\n",
       "  </thead>\n",
       "  <tbody>\n",
       "    <tr>\n",
       "      <th rowspan=\"5\" valign=\"top\">AdNonSense</th>\n",
       "      <th>2019-05-01</th>\n",
       "      <td>1169.70</td>\n",
       "    </tr>\n",
       "    <tr>\n",
       "      <th>2019-06-01</th>\n",
       "      <td>538.65</td>\n",
       "    </tr>\n",
       "    <tr>\n",
       "      <th>2019-07-01</th>\n",
       "      <td>504.00</td>\n",
       "    </tr>\n",
       "    <tr>\n",
       "      <th>2019-08-01</th>\n",
       "      <td>579.60</td>\n",
       "    </tr>\n",
       "    <tr>\n",
       "      <th>2019-09-01</th>\n",
       "      <td>581.70</td>\n",
       "    </tr>\n",
       "    <tr>\n",
       "      <th>...</th>\n",
       "      <th>...</th>\n",
       "      <td>...</td>\n",
       "    </tr>\n",
       "    <tr>\n",
       "      <th rowspan=\"5\" valign=\"top\">organic</th>\n",
       "      <th>2019-06-01</th>\n",
       "      <td>0.00</td>\n",
       "    </tr>\n",
       "    <tr>\n",
       "      <th>2019-07-01</th>\n",
       "      <td>0.00</td>\n",
       "    </tr>\n",
       "    <tr>\n",
       "      <th>2019-08-01</th>\n",
       "      <td>0.00</td>\n",
       "    </tr>\n",
       "    <tr>\n",
       "      <th>2019-09-01</th>\n",
       "      <td>0.00</td>\n",
       "    </tr>\n",
       "    <tr>\n",
       "      <th>2019-10-01</th>\n",
       "      <td>0.00</td>\n",
       "    </tr>\n",
       "  </tbody>\n",
       "</table>\n",
       "<p>66 rows × 1 columns</p>\n",
       "</div>"
      ],
      "text/plain": [
       "                       acquisition_cost\n",
       "channel    month                       \n",
       "AdNonSense 2019-05-01           1169.70\n",
       "           2019-06-01            538.65\n",
       "           2019-07-01            504.00\n",
       "           2019-08-01            579.60\n",
       "           2019-09-01            581.70\n",
       "...                                 ...\n",
       "organic    2019-06-01              0.00\n",
       "           2019-07-01              0.00\n",
       "           2019-08-01              0.00\n",
       "           2019-09-01              0.00\n",
       "           2019-10-01              0.00\n",
       "\n",
       "[66 rows x 1 columns]"
      ]
     },
     "execution_count": 55,
     "metadata": {},
     "output_type": "execute_result"
    }
   ],
   "source": [
    "week_costs = profiles.pivot_table(index=(['channel','week']), aggfunc = ({'acquisition_cost':'sum'}))\n",
    "month_costs = profiles.pivot_table(index=(['channel','month']), aggfunc = ({'acquisition_cost':'sum'}))\n",
    "\n",
    "\n",
    "month_costs"
   ]
  },
  {
   "cell_type": "code",
   "execution_count": 56,
   "metadata": {},
   "outputs": [
    {
     "data": {
      "text/html": [
       "<div>\n",
       "<style scoped>\n",
       "    .dataframe tbody tr th:only-of-type {\n",
       "        vertical-align: middle;\n",
       "    }\n",
       "\n",
       "    .dataframe tbody tr th {\n",
       "        vertical-align: top;\n",
       "    }\n",
       "\n",
       "    .dataframe thead th {\n",
       "        text-align: right;\n",
       "    }\n",
       "</style>\n",
       "<table border=\"1\" class=\"dataframe\">\n",
       "  <thead>\n",
       "    <tr style=\"text-align: right;\">\n",
       "      <th></th>\n",
       "      <th></th>\n",
       "      <th>acquisition_cost</th>\n",
       "    </tr>\n",
       "    <tr>\n",
       "      <th>channel</th>\n",
       "      <th>week</th>\n",
       "      <th></th>\n",
       "    </tr>\n",
       "  </thead>\n",
       "  <tbody>\n",
       "    <tr>\n",
       "      <th rowspan=\"5\" valign=\"top\">AdNonSense</th>\n",
       "      <th>18</th>\n",
       "      <td>211.05</td>\n",
       "    </tr>\n",
       "    <tr>\n",
       "      <th>19</th>\n",
       "      <td>273.00</td>\n",
       "    </tr>\n",
       "    <tr>\n",
       "      <th>20</th>\n",
       "      <td>265.65</td>\n",
       "    </tr>\n",
       "    <tr>\n",
       "      <th>21</th>\n",
       "      <td>266.70</td>\n",
       "    </tr>\n",
       "    <tr>\n",
       "      <th>22</th>\n",
       "      <td>202.65</td>\n",
       "    </tr>\n",
       "    <tr>\n",
       "      <th>...</th>\n",
       "      <th>...</th>\n",
       "      <td>...</td>\n",
       "    </tr>\n",
       "    <tr>\n",
       "      <th rowspan=\"5\" valign=\"top\">organic</th>\n",
       "      <th>39</th>\n",
       "      <td>0.00</td>\n",
       "    </tr>\n",
       "    <tr>\n",
       "      <th>40</th>\n",
       "      <td>0.00</td>\n",
       "    </tr>\n",
       "    <tr>\n",
       "      <th>41</th>\n",
       "      <td>0.00</td>\n",
       "    </tr>\n",
       "    <tr>\n",
       "      <th>42</th>\n",
       "      <td>0.00</td>\n",
       "    </tr>\n",
       "    <tr>\n",
       "      <th>43</th>\n",
       "      <td>0.00</td>\n",
       "    </tr>\n",
       "  </tbody>\n",
       "</table>\n",
       "<p>286 rows × 1 columns</p>\n",
       "</div>"
      ],
      "text/plain": [
       "                 acquisition_cost\n",
       "channel    week                  \n",
       "AdNonSense 18              211.05\n",
       "           19              273.00\n",
       "           20              265.65\n",
       "           21              266.70\n",
       "           22              202.65\n",
       "...                           ...\n",
       "organic    39                0.00\n",
       "           40                0.00\n",
       "           41                0.00\n",
       "           42                0.00\n",
       "           43                0.00\n",
       "\n",
       "[286 rows x 1 columns]"
      ]
     },
     "execution_count": 56,
     "metadata": {},
     "output_type": "execute_result"
    }
   ],
   "source": [
    "week_costs"
   ]
  },
  {
   "cell_type": "code",
   "execution_count": 61,
   "metadata": {
    "scrolled": false
   },
   "outputs": [
    {
     "data": {
      "image/png": "[encoded data removed]",
      "text/plain": [
       "<Figure size 2000x800 with 1 Axes>"
      ]
     },
     "metadata": {},
     "output_type": "display_data"
    }
   ],
   "source": [
    "plt.figure(figsize=(20, 8))\n",
    "\n",
    "\n",
    "sns.lineplot(x='month',y='acquisition_cost', hue='channel', data=month_costs.reset_index(), ax=plt.subplot(1,2,2))\n",
    "plt.legend(bbox_to_anchor=(1, 1.1))\n",
    "plt.grid(True,  linewidth=0.5)\n",
    "plt.title('Распределение затрат на реламу на каналах по месяцам')\n",
    "plt.ylabel('затраты на рекламу')\n",
    "plt.xlabel('месяц')\n",
    "\n",
    "plt.show()"
   ]
  },
  {
   "cell_type": "markdown",
   "metadata": {},
   "source": [
    "На графиках видно увеличение затрат на каналы TipTop и FaceBoom начиная мая по октябрь, в октябре затраты начали снижатся. На остальных каналах затраты на рекламу не изменялись."
   ]
  },
  {
   "cell_type": "code",
   "execution_count": null,
   "metadata": {},
   "outputs": [],
   "source": [
    "profiles_channel = profiles.query('channel != \"organic\"')\n",
    "mean_cost_per_user = profiles_channel.pivot_table(index='channel', aggfunc=({'acquisition_cost':'mean'})).\\\n",
    "sort_values(by='acquisition_cost', ascending=False).round(2)\n",
    "mean_cost_per_user['mean_cac'] = round(profiles_channel['acquisition_cost'].sum() / profiles_channel['user_id'].nunique(),2)\n",
    "mean_cost_per_user['difference'] = mean_cost_per_user['acquisition_cost'] -  mean_cost_per_user['mean_cac']\n",
    "mean_cost_per_user"
   ]
  },
  {
   "cell_type": "code",
   "execution_count": null,
   "metadata": {
    "id": "DQE9emXqWVwm"
   },
   "outputs": [],
   "source": [
    "\n",
    "mean_cost_per_user.sort_values(by='acquisition_cost',  ascending=True).\\\n",
    "plot(y='acquisition_cost', kind='barh',figsize=(20,8), grid=True)\n",
    "\n",
    "plt.title('средняя стоимость привлечения одного пользователя по источникам')\n",
    "plt.ylabel('каналы привлечения пользователей')\n",
    "plt.xlabel('средняя стоимость привлечения одного пользователя')\n",
    "plt.show()"
   ]
  },
  {
   "cell_type": "markdown",
   "metadata": {},
   "source": [
    "#### Вывод:\n",
    "Общая сумма затрат на маркетинг в исследуемый период составила:  105497.3. Финансирование рекламной компании возростало с мая - 9978.570 по сентябрь - 22441.340. В сентябре отмечено снижение расходов на рекламу - 20882.415. максимальные траты на рекламу были на 39 неделю - 6784.580.\n",
    "\n",
    "Самая большая стоимость привлечения клиента у следующих источников:\n",
    "- TipTop\t2.80\t(+1.67 от среднего САС на пользователя раного 1.13)\n",
    "- FaceBoom\t1.11\t\t(-0.02 от среднего САС на пользователя раного 0,7)\n",
    "- AdNonSense\t1.01\t\t(-0.12 от среднего САС на пользователя раного 0,7)\n"
   ]
  },
  {
   "cell_type": "markdown",
   "metadata": {
    "id": "poDjrQVHWVwn"
   },
   "source": [
    "### Оцените окупаемость рекламы\n",
    "\n",
    "Используя графики LTV, ROI и CAC, проанализируйте окупаемость рекламы. Считайте, что на календаре 1 ноября 2019 года, а в бизнес-плане заложено, что пользователи должны окупаться не позднее чем через две недели после привлечения. Необходимость включения в анализ органических пользователей определите самостоятельно.\n",
    "\n",
    "- Проанализируйте окупаемость рекламы c помощью графиков LTV и ROI, а также графики динамики LTV, CAC и ROI.\n",
    "- Проверьте конверсию пользователей и динамику её изменения. То же самое сделайте с удержанием пользователей. Постройте и изучите графики конверсии и удержания.\n",
    "- Проанализируйте окупаемость рекламы с разбивкой по устройствам. Постройте графики LTV и ROI, а также графики динамики LTV, CAC и ROI.\n",
    "- Проанализируйте окупаемость рекламы с разбивкой по странам. Постройте графики LTV и ROI, а также графики динамики LTV, CAC и ROI.\n",
    "- Проанализируйте окупаемость рекламы с разбивкой по рекламным каналам. Постройте графики LTV и ROI, а также графики динамики LTV, CAC и ROI.\n",
    "- Ответьте на такие вопросы:\n",
    "    - Окупается ли реклама, направленная на привлечение пользователей в целом?\n",
    "    - Какие устройства, страны и рекламные каналы могут оказывать негативное влияние на окупаемость рекламы?\n",
    "    - Чем могут быть вызваны проблемы окупаемости?\n",
    "\n",
    "Напишите вывод, опишите возможные причины обнаруженных проблем и промежуточные рекомендации для рекламного отдела."
   ]
  },
  {
   "cell_type": "code",
   "execution_count": null,
   "metadata": {
    "id": "hbNu9EXeWVwo"
   },
   "outputs": [],
   "source": [
    "observation_date = datetime(2019, 11, 1).date()  # момент анализа\n",
    "horizon_days = 14  # горизонт анализа "
   ]
  },
  {
   "cell_type": "code",
   "execution_count": null,
   "metadata": {},
   "outputs": [],
   "source": [
    "profiles_payer = profiles.query('channel != \"organic\"')\n",
    "profiles_payer['channel'].unique()"
   ]
  },
  {
   "cell_type": "markdown",
   "metadata": {},
   "source": [
    "Для дальнейшего анализа исключил из дататайма profiles пользователей с каналом organic."
   ]
  },
  {
   "cell_type": "markdown",
   "metadata": {},
   "source": [
    "#### Оценка общей ситуации , рассчет  LTV и ROI\n",
    "Для начала оценим общую ситуацию — посмотрим на окупаемость рекламы. Рассчитаем и визуализируем LTV и ROI, вызвав функции get_ltv() и plot_ltv_roi()."
   ]
  },
  {
   "cell_type": "code",
   "execution_count": null,
   "metadata": {},
   "outputs": [],
   "source": [
    "ltv_raw, ltv_grouped, ltv_history, roi_grouped, roi_history = get_ltv(\n",
    "    profiles_payer, orders, observation_date, horizon_days\n",
    ")\n",
    "\n",
    "# строим графики\n",
    "plot_ltv_roi(ltv_grouped, ltv_history, roi_grouped, roi_history, horizon_days)"
   ]
  },
  {
   "cell_type": "markdown",
   "metadata": {},
   "source": [
    "Момент анализа задан 01.11.2019. \n",
    "Горизонт анализа задан 14 дней.\n",
    "\n",
    "Общие показатели затрат на рекламу и окупаемости рекламы:\n",
    "    \n",
    "- LTV стабильно растет в течении 14 дней и почти достигает 0.9.\n",
    "- Динамика LTV на 14 день колеблется около 0,9.\n",
    "- Динамика стоимости привлечения пользователей наибольший увеличение стоимости в мае с 0.7 до 0.9. С июня по ноябрь рост с0.9 по 1.3.\n",
    "- Окупаемость инвестиций ROI на 14 день составляет 80%. затраты на привлечения новых пользователей не окупаются.\n",
    "- Динамика ROI  пользователей на 14 день стабильно снижается с увеличение инвестиций в рекламу. С мая по июнь ROI был выше CAC. С июня  по ноябрь ROI стабильно ниже CAC и опускается до 60%."
   ]
  },
  {
   "cell_type": "markdown",
   "metadata": {},
   "source": [
    "#### Расчитаем конверсию Conversion Rate и удержание Retention Rate\n",
    "Узнаем, в чём причина: в низкой конверсии или низком удержании. Посчитаем и визуализируем конверсию, вызвав функции get_conversion() и plot_conversion()."
   ]
  },
  {
   "cell_type": "code",
   "execution_count": null,
   "metadata": {},
   "outputs": [],
   "source": [
    "conversion_raw, conversion_grouped, conversion_history = get_conversion(\n",
    "    profiles_payer, orders, observation_date, horizon_days)\n",
    "\n",
    "plot_conversion(conversion_grouped, conversion_history, horizon_days, window=30)"
   ]
  },
  {
   "cell_type": "markdown",
   "metadata": {},
   "source": [
    "Конверсия пользователей достигает 8%\n",
    "Динамика конверсии на 14 день в мае около 4,5%, с июня по ноябрь колеблется с 7% до 9%"
   ]
  },
  {
   "cell_type": "code",
   "execution_count": null,
   "metadata": {},
   "outputs": [],
   "source": [
    "retention_raw, retention_grouped, retention_history = get_retention(\n",
    "    profiles_payer, visits, observation_date, horizon_days\n",
    ")\n",
    "\n",
    "plot_retention(retention_grouped, retention_history, horizon_days, window=14)"
   ]
  },
  {
   "cell_type": "markdown",
   "metadata": {},
   "source": [
    "Удержание плательщиков значительно выше  чем у неплатящих. У плательшиков коэфициент удержания падает с 40% до  10%, в то время как у неплатящих с 18% до 0%\n",
    "Динамика удержания на 14 день у плательщиков составляет  около 11% у неплательщиков близка к 0%."
   ]
  },
  {
   "cell_type": "markdown",
   "metadata": {},
   "source": [
    "#### Анализ окупаемость рекламы с разбивкой по устройствам. \n",
    "Построbvе графики LTV и ROI, а также графики динамики LTV, CAC и ROI."
   ]
  },
  {
   "cell_type": "code",
   "execution_count": null,
   "metadata": {},
   "outputs": [],
   "source": [
    "dimensions = ['device']\n",
    "\n",
    "ltv_raw, ltv_grouped, ltv_history, roi_grouped, roi_history = get_ltv(\n",
    "    profiles_payer, orders, observation_date, horizon_days, dimensions=dimensions\n",
    ")\n",
    "\n",
    "plot_ltv_roi(\n",
    "    ltv_grouped, ltv_history, roi_grouped, roi_history, horizon_days, window=14\n",
    ")"
   ]
  },
  {
   "cell_type": "code",
   "execution_count": null,
   "metadata": {},
   "outputs": [],
   "source": [
    "roi_grouped[13.0].sort_values(ascending=False).round(4)"
   ]
  },
  {
   "cell_type": "code",
   "execution_count": null,
   "metadata": {},
   "outputs": [],
   "source": [
    "dimensions = ['device']\n",
    "retention_raw, retention_grouped, retention_history = get_retention(\n",
    "    profiles_payer, visits, observation_date, horizon_days, dimensions=dimensions\n",
    ")\n",
    "\n",
    "plot_retention(retention_grouped, retention_history, horizon_days, window=14)"
   ]
  },
  {
   "cell_type": "code",
   "execution_count": null,
   "metadata": {
    "scrolled": true
   },
   "outputs": [],
   "source": [
    "dimensions = ['device']\n",
    "conversion_raw, conversion_grouped, conversion_history = get_conversion(\n",
    "    profiles_payer, orders, observation_date, horizon_days, dimensions=dimensions)\n",
    "\n",
    "plot_conversion(conversion_grouped, conversion_history, horizon_days, window=30)"
   ]
  },
  {
   "cell_type": "code",
   "execution_count": null,
   "metadata": {},
   "outputs": [],
   "source": [
    "conversion_grouped[13.0].sort_values(ascending=False).round(3)"
   ]
  },
  {
   "cell_type": "markdown",
   "metadata": {},
   "source": [
    "- LTV одинакова для платформ iPhone, Android, Mac и составляет около 0,9. Пользователи PC имеют стабильно более низкий показатель LTV  около 0,8.\n",
    "- Динамика LTV пользователей на 14 день у всех приблизительна одинакова и составляет от 08 до 1.0\n",
    "- Динамика стоимости привлечения пользователей САС самая высокая у платформ Mac и iPhone достигает 1,5. Динамика Android около 1.2, динамика РС составляет 0,9.\n",
    "- ROI для Mac и iPhone составляет около 70% реклама на этих платформах не окупилась. ROI для Android составляет 90%, самый высокий показатель ROI для РС составляет около 105%.\n",
    "- Динамика ROI пользователей на 14 день для Mac, iPhone  и Android начиная с июня стабильно ниже САС. Динамика РС стабильно выше САС в период с мая по сентябрь, с сентября до конца наблюдаемого периода ROI для РС стабильно ниже САС.\n",
    "- Динамика удержания платящих пользователей по всем платформам приблизительно одинакова, падает с 0,4 до 0,1. Динамика удержания неплатящих пользователей так же одинакова для всех платформ и падает с 0.18 до 0.\n",
    "- Конверсия по платформам:\n",
    "       - Mac        8.7%\n",
    "       - iPhone     8.5%\n",
    "       - Android    8.0%\n",
    "       - PC         6.5%\n"
   ]
  },
  {
   "cell_type": "markdown",
   "metadata": {},
   "source": [
    "#### Анализ окупаемость рекламы с разбивкой по странам. \n",
    "Построим графики LTV и ROI, а также графики динамики LTV, CAC и ROI."
   ]
  },
  {
   "cell_type": "code",
   "execution_count": null,
   "metadata": {},
   "outputs": [],
   "source": [
    "dimensions = ['region']\n",
    "\n",
    "ltv_raw, ltv_grouped, ltv_history, roi_grouped, roi_history = get_ltv(\n",
    "    profiles_payer, orders, observation_date, horizon_days, dimensions=dimensions\n",
    ")\n",
    "\n",
    "plot_ltv_roi(\n",
    "    ltv_grouped, ltv_history, roi_grouped, roi_history, horizon_days, window=50\n",
    ")"
   ]
  },
  {
   "cell_type": "code",
   "execution_count": null,
   "metadata": {},
   "outputs": [],
   "source": [
    "dimensions = ['region']\n",
    "retention_raw, retention_grouped, retention_history = get_retention(\n",
    "    profiles_payer, visits, observation_date, horizon_days, dimensions=dimensions\n",
    ")\n",
    "\n",
    "plot_retention(retention_grouped, retention_history, horizon_days, window=14)"
   ]
  },
  {
   "cell_type": "code",
   "execution_count": null,
   "metadata": {},
   "outputs": [],
   "source": [
    "dimensions = ['region']\n",
    "conversion_raw, conversion_grouped, conversion_history = get_conversion(\n",
    "    profiles_payer, orders, observation_date, horizon_days, dimensions=dimensions)\n",
    "\n",
    "plot_conversion(conversion_grouped, conversion_history, horizon_days, window=30)"
   ]
  },
  {
   "cell_type": "code",
   "execution_count": null,
   "metadata": {
    "scrolled": true
   },
   "outputs": [],
   "source": [
    "retention_grouped[13.0].sort_values(ascending=False).round(4)*100"
   ]
  },
  {
   "cell_type": "code",
   "execution_count": null,
   "metadata": {},
   "outputs": [],
   "source": [
    "conversion_grouped[13.0].sort_values(ascending=False).round(4)*100"
   ]
  },
  {
   "cell_type": "markdown",
   "metadata": {},
   "source": [
    "- Показатель LTV для United States самый высокий - 1.0, показатель Germany, UK и France составляет около 0.7.\n",
    "- Динамика LTV пользователей на 14 день самая высокая у United States около 1.0, показатель Germany 0.8, UK и France около 0.7\n",
    "- Динамика стоимости привлечения пользователей для United States растет и достигает 1,7. Для остальных регионов динамика стабильно держится около 0.4.\n",
    "- Основные инвестиции на рекламу шли в регион United States.\n",
    "- Показатель ROI для United States составил 70%, в остальных регионах реклама окупилась и принесла прибыль. Показатель для France и Germany около 150%,  UK - 160%\n",
    "- Динамика ROI для пользователей на 14 день для United States с июня стабильно ниже САС и достгает 0.6. France, Germany  и UK около 175%.\n",
    "- Вложение в рекламу для пользователей United States  не оправдали ожиданий.\n",
    "- Динамика удержания платящих пользователей на 14 день:\n",
    "       - UK               17.79%\n",
    "       - France           17.40%\n",
    "       - Germany          13.49%\n",
    "       - United States     8.95%\n",
    "- Динамика удержания неплатящих пользователей по всем регионам на 14 день около 0%\n",
    "- Конверсия по платформам:\n",
    "        - United States    9.61%\n",
    "        - Germany          5.05%\n",
    "        - UK               4.92%\n",
    "        - France           4.84%"
   ]
  },
  {
   "cell_type": "markdown",
   "metadata": {},
   "source": [
    "#### Анализ окупаемость рекламы с разбивкой по каналам. \n",
    "Построим графики LTV и ROI, а также графики динамики LTV, CAC и ROI."
   ]
  },
  {
   "cell_type": "code",
   "execution_count": null,
   "metadata": {
    "scrolled": false
   },
   "outputs": [],
   "source": [
    "dimensions = ['channel']\n",
    "\n",
    "ltv_raw, ltv_grouped, ltv_history, roi_grouped, roi_history = get_ltv(\n",
    "    profiles_payer, orders, observation_date, horizon_days, dimensions=dimensions\n",
    ")\n",
    "\n",
    "plot_ltv_roi(\n",
    "    ltv_grouped, ltv_history, roi_grouped, roi_history, horizon_days, window=30\n",
    ")"
   ]
  },
  {
   "cell_type": "code",
   "execution_count": null,
   "metadata": {},
   "outputs": [],
   "source": [
    "ltv_grouped[13.0].sort_values(ascending=False)"
   ]
  },
  {
   "cell_type": "code",
   "execution_count": null,
   "metadata": {},
   "outputs": [],
   "source": [
    "roi_grouped[13.0].sort_values(ascending=False).round(2)*100"
   ]
  },
  {
   "cell_type": "code",
   "execution_count": null,
   "metadata": {},
   "outputs": [],
   "source": [
    "dimensions = ['channel']\n",
    "retention_raw, retention_grouped, retention_history = get_retention(\n",
    "    profiles_payer, visits, observation_date, horizon_days, dimensions=dimensions\n",
    ")\n",
    "\n",
    "plot_retention(retention_grouped, retention_history, horizon_days, window=14)"
   ]
  },
  {
   "cell_type": "code",
   "execution_count": null,
   "metadata": {},
   "outputs": [],
   "source": [
    "retention_grouped[13.0].sort_values(ascending=False)*100"
   ]
  },
  {
   "cell_type": "code",
   "execution_count": null,
   "metadata": {},
   "outputs": [],
   "source": [
    "dimensions = ['channel']\n",
    "conversion_raw, conversion_grouped, conversion_history = get_conversion(\n",
    "    profiles_payer, orders, observation_date, horizon_days, dimensions=dimensions)\n",
    "\n",
    "plot_conversion(conversion_grouped, conversion_history, horizon_days, window=30)"
   ]
  },
  {
   "cell_type": "code",
   "execution_count": null,
   "metadata": {},
   "outputs": [],
   "source": [
    "conversion_grouped[13.0].sort_values(ascending=False).round(4)*100"
   ]
  },
  {
   "cell_type": "markdown",
   "metadata": {},
   "source": [
    "- Показатель LTV для пользователей от каналов lambdaMediaAds составил 1.77, TipTop - 1.49. \n",
    "- Показатель LTV для каналов RocketSuperAds, WahooNetBanner, AdNonSense, FaceBoom, YRabbit, MediaTornado составил от 0.5 до 1.0. Показатель LTV для каналов LeapBob, OppleCreativeMedia, organic составил ниже 0.5.\n",
    "- Динамика стоимости источника TipTop стабильно растет и достигает 3.5. Расходы на остальные источники стабильны от 0 до 1,0.\n",
    "- Показатель ROI для каналов AdNonSense\t83%, FaceBoom\t74%, TipTop 54%. Реклама в этих каналах не окупилась. Остальные каналы показали 150%-258%\n",
    "- Динамика ROI для каналов на 14 день для FaceBoom\t, TipTop ниже САС.\n",
    "- Показатель удержания платящих пользователей на 14 день по каналам AdNonSense\t83%  и FaceBoom\tоколо 0%, TipTop 20.62%. Остальные каналы показали высокий процент удержания плотящих пользователей от 10% до 23%\n",
    "- Показатель удержания не платящих пользователей на 14 день по каналам около 0,5%. по всем каналам.\n",
    "- Показатель конверсии для каналов:\n",
    "       - FaceBoom              11.94%\n",
    "       - AdNonSense            10.75%\n",
    "       - lambdaMediaAds        10.36%\n",
    "       - TipTop                 9.37%\n",
    "       - остальные каналы имеют конверсию от 2% до 7%"
   ]
  },
  {
   "cell_type": "markdown",
   "metadata": {},
   "source": [
    "#### Анализ рекламной компании в регионе United States.\n",
    "Проведем анализ рекламной компании по региону United States куда были направленны более 80% бюджета рекламной компании."
   ]
  },
  {
   "cell_type": "code",
   "execution_count": null,
   "metadata": {},
   "outputs": [],
   "source": [
    "profiles_usa = profiles_payer.query('region == \"United States\"')\n",
    "profiles_usa['region'].unique()"
   ]
  },
  {
   "cell_type": "code",
   "execution_count": null,
   "metadata": {},
   "outputs": [],
   "source": [
    "dimensions = ['channel']\n",
    "\n",
    "ltv_raw, ltv_grouped, ltv_history, roi_grouped, roi_history = get_ltv(\n",
    "    profiles_usa, orders, observation_date, horizon_days, dimensions=dimensions\n",
    ")\n",
    "\n",
    "plot_ltv_roi(\n",
    "    ltv_grouped, ltv_history, roi_grouped, roi_history, horizon_days, window=30\n",
    ")"
   ]
  },
  {
   "cell_type": "code",
   "execution_count": null,
   "metadata": {},
   "outputs": [],
   "source": [
    "ltv_grouped[13.0].sort_values(ascending=False).round(2)"
   ]
  },
  {
   "cell_type": "code",
   "execution_count": null,
   "metadata": {},
   "outputs": [],
   "source": [
    "roi_grouped[13.0].sort_values(ascending=False).round(2)"
   ]
  },
  {
   "cell_type": "code",
   "execution_count": null,
   "metadata": {},
   "outputs": [],
   "source": [
    "dimensions = ['channel']\n",
    "retention_raw, retention_grouped, retention_history = get_retention(\n",
    "    profiles_usa, visits, observation_date, horizon_days, dimensions=dimensions\n",
    ")\n",
    "\n",
    "plot_retention(retention_grouped, retention_history, horizon_days, window=14)"
   ]
  },
  {
   "cell_type": "code",
   "execution_count": null,
   "metadata": {},
   "outputs": [],
   "source": [
    "retention_grouped[13.0].sort_values(ascending=False).round(4)*100"
   ]
  },
  {
   "cell_type": "code",
   "execution_count": null,
   "metadata": {},
   "outputs": [],
   "source": [
    "dimensions = ['channel']\n",
    "conversion_raw, conversion_grouped, conversion_history = get_conversion(\n",
    "    profiles_usa, orders, observation_date, horizon_days, dimensions=dimensions)\n",
    "\n",
    "plot_conversion(conversion_grouped, conversion_history, horizon_days, window=30)"
   ]
  },
  {
   "cell_type": "code",
   "execution_count": null,
   "metadata": {},
   "outputs": [],
   "source": [
    "conversion_grouped[13.0].sort_values(ascending=False).round(4)*100"
   ]
  },
  {
   "cell_type": "markdown",
   "metadata": {},
   "source": [
    "В регионе United States реклама  размещается на  пять каналах:\n",
    "TipTop, RocketSuperAds,  FaceBoom, YRabbit, MediaTornado.\n",
    "Показатель LTV по каналам:\n",
    "- TipTop            1.49\n",
    "- RocketSuperAds    0.93\n",
    "- FaceBoom          0.82\n",
    "- YRabbit           0.56\n",
    "- MediaTornado      0.53\n",
    "\n",
    "Показатель динамики LTV на 14 день самый высокий у канала TipTop и составляет 1.5. Остальные каналы находятся в диапазоне 0.5-1.0.\n",
    "\n",
    " Динамика САС показывает, что увеличение финансирования рекламной компании произошло для канала TipTop. Стоимость привлечения одного клиента выросла с 1.3 до 3.5.\n",
    " \n",
    "Показатель ROI для каналов: \n",
    "- YRabbit           258%\n",
    "- MediaTornado      244%\n",
    "- RocketSuperAds    224%\n",
    "- FaceBoom          74%\n",
    "- TipTop            54%\n",
    " \n",
    "Показатель удержания у канала FaceBoom  очень низкий 1.25%, у канала TipTop значительно выше 20.62%.\n",
    "Показатель конверсии FaceBoom  11.94% и TipTop 9.37%\n",
    "Вложение в рекламу по каналам FaceBoom и TipTop не оправдались. Зато каналы YRabbit, MediaTornado и RocketSuperAds  окупили вложения. Стоит уменьшить финансирование рекламной компании TipTop и FaceBoom, и увеличить финансирование  канала  RocketSuperAds имеет удержание платящих пользователей 22.09% и конверсию 7.36%, ROI - 224%.  "
   ]
  },
  {
   "cell_type": "markdown",
   "metadata": {},
   "source": [
    "#### Анализ каналов в регионе Европа"
   ]
  },
  {
   "cell_type": "code",
   "execution_count": null,
   "metadata": {},
   "outputs": [],
   "source": [
    "profiles_evrop = profiles_payer.query('region != \"United States\"')"
   ]
  },
  {
   "cell_type": "code",
   "execution_count": null,
   "metadata": {},
   "outputs": [],
   "source": [
    "dimensions = ['channel']\n",
    "\n",
    "ltv_raw, ltv_grouped, ltv_history, roi_grouped, roi_history = get_ltv(\n",
    "    profiles_evrop, orders, observation_date, horizon_days, dimensions=dimensions\n",
    ")\n",
    "\n",
    "plot_ltv_roi(\n",
    "    ltv_grouped, ltv_history, roi_grouped, roi_history, horizon_days, window=30\n",
    ")"
   ]
  },
  {
   "cell_type": "code",
   "execution_count": null,
   "metadata": {},
   "outputs": [],
   "source": [
    "roi_grouped[13.0].sort_values(ascending=False).round(4)*100"
   ]
  },
  {
   "cell_type": "code",
   "execution_count": null,
   "metadata": {},
   "outputs": [],
   "source": [
    "dimensions = ['channel']\n",
    "retention_raw, retention_grouped, retention_history = get_retention(\n",
    "    profiles_evrop, visits, observation_date, horizon_days, dimensions=dimensions\n",
    ")\n",
    "\n",
    "plot_retention(retention_grouped, retention_history, horizon_days, window=14)"
   ]
  },
  {
   "cell_type": "code",
   "execution_count": null,
   "metadata": {},
   "outputs": [],
   "source": [
    "retention_grouped[13.0].sort_values(ascending=False).round(4)*100"
   ]
  },
  {
   "cell_type": "code",
   "execution_count": null,
   "metadata": {},
   "outputs": [],
   "source": [
    "dimensions = ['channel']\n",
    "conversion_raw, conversion_grouped, conversion_history = get_conversion(\n",
    "    profiles_evrop, orders, observation_date, horizon_days, dimensions=dimensions)\n",
    "\n",
    "plot_conversion(conversion_grouped, conversion_history, horizon_days, window=30)"
   ]
  },
  {
   "cell_type": "code",
   "execution_count": null,
   "metadata": {
    "scrolled": true
   },
   "outputs": [],
   "source": [
    "conversion_grouped[13.0].sort_values(ascending=False).round(4)*100"
   ]
  },
  {
   "cell_type": "markdown",
   "metadata": {},
   "source": [
    "Показатель ROI в регионах Germany, UK и France по каналам составил:\n",
    "- lambdaMediaAds        242.87\n",
    "- LeapBob               225.24\n",
    "- OppleCreativeMedia    163.71\n",
    "- WahooNetBanner        152.63\n",
    "- AdNonSense             83.13\n",
    "Канал рекламная компания на канале AdNonSense не окупила вложенные средства ROI  83%, удержание 2.66%.\n",
    "Канал lambdaMediaAds имеет  ROI - 242.87%, показатель удержания 19.09%, сонверсию 10.36%\n"
   ]
  },
  {
   "cell_type": "markdown",
   "metadata": {},
   "source": [
    "#### Вывод:\n",
    "- Рекламная компания не окупилась, общее ROI близка к 80%. Динамика ROI пользователей на 14 день стабильно снижается с увеличение инвестиций в рекламу. С мая по июнь ROI был выше CAC. С июня по ноябрь ROI стабильно ниже CAC и опускается до 60%.\n",
    "- Устройства оказывающие негативное влияние на окупаемость рекламы: ROI для Mac и iPhone составляет около 70%, ROI для Android составляет 90% реклама на этих платформах не окупилась.Самый высокий показатель ROI для РС составляет около 105%.\n",
    "- Регионы оказывающие негативное влияние на окупаемость рекламы: Показатель ROI для United States составил 70%, в остальных регионах реклама окупилась и принесла прибыль. Показатель для France и Germany около 150%, UK - 160%.\n",
    "- Динамика удержания у региона United States самая низкая и составляет 8.95%. Остальные регионы показывают динамику удержания от 13 до 18%. \n",
    "- Конверсия по региону United States в два составляет 9.61%, что в два раза выше чем в остальных регионах.\n",
    "\n",
    "Стоит пересмотреть распределение средств на рекламную компанию в сторону уменьшения вложениий в регион United States и увеличения в регионах France и Germany и UK.\n",
    "\n",
    "- Каналы оказывающие негативное влияние на окупаемость рекламной компании: Показатель ROI для каналов AdNonSense 83%, FaceBoom 0.74%, TipTop 54%. Реклама в этих каналах не окупилась. Остальные каналы показали 150%-258%\n",
    "- Анализ каналов по региону United States показал, что вложение в рекламу по каналам FaceBoom и TipTop не оправдались. Зато каналы YRabbit, MediaTornado и RocketSuperAds окупили вложения. Возможно стоит уменьшить финансирование рекламной компании TipTop и увеличить финансирование на каналах YRabbit, MediaTornado и RocketSuperAds.\n",
    "- Анализ каналов по регионам Germany, UK и France показал, что вложение в рекламу по каналу AdNonSense не окупились ROI  83%, удержание 2.66%.\n",
    "\n",
    "Показатель ROI в регионах Germany, UK и France по каналам составил:\n",
    "- lambdaMediaAds        242.87\n",
    "- LeapBob               225.24\n",
    "- OppleCreativeMedia    163.71\n",
    "- WahooNetBanner        152.63\n",
    "- AdNonSense             83.13\n",
    "\n",
    "Канал рекламная компания на канале AdNonSense не окупила вложенные средства ROI  83%, удержание 2.66%.\n",
    "\n",
    "Канал lambdaMediaAds имеет  ROI - 242.87%, показатель удержания 19.09%, сонверсию 10.36%\n"
   ]
  },
  {
   "cell_type": "markdown",
   "metadata": {
    "id": "Jn9XBfZCWVwo"
   },
   "source": [
    "### Выводы и рекомендации\n",
    "\n",
    "\n",
    "Проведен анализ данных с целью выявления причи неокупаемости рекламной компании.\n",
    "\n",
    "**Описание проекта.\n",
    "\n",
    "Для развития проекта развлекательного приложения Procrastinate Pro+ была проведена рекламная компания направленная на привлечение новых пользователей. Несмотря на вложеные в рекламу средства, последние несколько месяцев компания терпит убытки. Необходимо разобраться в причинах проблемы и подготовить рекомендации по их устранению.\n",
    "\n",
    "Для анализа предоставленны данные о пользователях, привлечённых с 1 мая по 27 октября 2019 года:\n",
    "\n",
    "- лог сервера с данными об их посещениях,\n",
    "- выгрузка их покупок за этот период,\n",
    "- рекламные расходы.\n",
    "\n",
    "Необходимо проанализировать:\n",
    "\n",
    "- откуда приходят пользователи и какими устройствами они пользуются,\n",
    "- сколько стоит привлечение пользователей из различных рекламных каналов;\n",
    "- сколько денег приносит каждый клиент,\n",
    "- когда расходы на привлечение клиента окупаются,\n",
    "- какие факторы мешают привлечению клиентов. \n",
    "\n",
    "Проведена предобработка предоставленных для анализа данных в датафреймах visits, orders, costs. В датасете visits хранятся данные о всех визитах пользователей в приложение с 01.05.2019 по 31.10.2019 за 6 месяцев. В данных исправленны названия столбцов (переведены в нижний регистр и заменены пробелы на нижнее подчеркивание). Пропуски в данных отсутствуют, явных и неявных дубликатов не выявленно. В столбцах содержащих даты и время изменен тип данных с object на datetime64[ns].\n",
    "\n",
    "**Составлен профиль пользователя:**\n",
    "\n",
    "66.66% пользователей приходятся на регион United States, наибольшее количество плательщиков также в United States. Пользователи предпочитают подключатся к приложениям с мобильных устройств iPhone и Android, при этом плательщики больше предпочитают Mac и iPhone. Наибольшее количество пользователей пришли в приложение сами - organic и через каналы FaceBoom и TipTop, в то время как плательщиков больше пришло через каналы FaceBoom, AdNonSense, lambdaMediaAds.\n",
    "\n",
    "Общая сумма затрат на маркетинг в исследуемый период составила: 105497.3. Финансирование рекламной компании возростало с мая - 9978.570 по сентябрь - 22441.340. В сентябре отмечено снижение расходов на рекламу - 20882.415. максимальные траты на рекламу были на 39 неделю - 6784.580.\n",
    "\n",
    "Самая большая стоимость привлечения клиента у следующих источников:\n",
    "\n",
    "    - TipTop - 2.799003\n",
    "    - FaceBoom - 1.113286\n",
    "    - AdNonSense - 1.008054\n",
    "\n",
    "Общая окупаемость инвестиций ROI на 14 день составляет 80%. затраты на привлечения новых пользователей не окупаются. Динамика ROI  пользователей на 14 день стабильно снижается с увеличение инвестиций в рекламу. С мая по июнь ROI был выше CAC. С июня  по ноябрь ROI стабильно ниже CAC и опускается до 60%. Удержание плательщиков значительно выше  чем у неплатящих. У плательшиков коэфициент удержания падает с 40% до  10%, в то время как у неплатящих с 18% до 0%. Динамика удержания на 14 день у плательщиков составляет  около 11% у неплательщиков близка к 0%.\n",
    "\n",
    "**Анализ по платформам:**\n",
    "\n",
    "ROI для Mac и iPhone составляет около 70% реклама на этих платформах не окупилась. ROI для Android составляет 90%, самый высокий показатель ROI для РС составляет около 105%.\n",
    "Динамика удержания платящих пользователей по всем платформам приблизительно одинакова, падает с 0,4 до 0,1. \n",
    "Конверсия по платформам от 6.5% до 8.7%\n",
    " \n",
    "**Анализ по регионам:**\n",
    "\n",
    "Показатель ROI для United States составил 70%, в остальных регионах реклама окупилась и принесла прибыль. Показатель для France и Germany около 150%, UK - 160%\n",
    "Основные вложения в рекламную компанию были направленны на регион United States. Вложение в рекламу для пользователей United States не оправдали ожиданий.\n",
    "Динамика удержания платящих пользователей на 14 день:\n",
    " - UK               17.79%\n",
    " - France           17.40%\n",
    " - Germany          13.49%\n",
    " - United States     8.95%\n",
    "\n",
    "Конверсия по регионам:\n",
    "  - United States    9.61%\n",
    "  - Germany          5.05%\n",
    "  - UK               4.92%\n",
    "  - France           4.84%\n",
    "  \n",
    "**Анализ по каналам:**\n",
    "\n",
    "Показатель ROI для каналов AdNonSense 83%, FaceBoom 74%, TipTop 54%. Реклама в этих каналах не окупилась. Остальные каналы показали 150%-258%\n",
    "Показатель удержания платящих пользователей на 14 день по каналам AdNonSense 83% и FaceBoom около 0%, TipTop 20.62%. Остальные каналы показали высокий процент удержания плотящих пользователей от 10% до 23%\n",
    "Показатель конверсии для каналов:\n",
    " - FaceBoom              11.94%\n",
    " - AdNonSense            10.75%\n",
    " - lambdaMediaAds        10.36%\n",
    " - TipTop                 9.37%\n",
    " - остальные каналы имеют конверсию от 2% до 7%\n",
    " \n",
    "**Анализ каналов по региону United States:**\n",
    "\n",
    "В регионе United States реклама  размещается на  пять каналах:\n",
    "TipTop, RocketSuperAds,  FaceBoom, YRabbit, MediaTornado.\n",
    "\n",
    " Динамика САС показывает, что увеличение финансирования рекламной компании произошло для канала TipTop, так же высокие расходы на рекламу в канале FaceBoom. \n",
    " \n",
    "Показатель ROI для каналов: \n",
    "- YRabbit           258%\n",
    "- MediaTornado      244%\n",
    "- RocketSuperAds    224%\n",
    "- FaceBoom          74%\n",
    "- TipTop            54%\n",
    "\n",
    "Анализ каналов по региону United States показал, что вложение в рекламу по каналам FaceBoom и TipTop не оправдались. Зато каналы YRabbit, MediaTornado и RocketSuperAds окупили вложения.  \n",
    "\n",
    "Показатель удержания у канала FaceBoom  очень низкий 1.25%, у канала TipTop значительно выше 20.62%.\n",
    "Показатель конверсии FaceBoom  11.94% и TipTop 9.37%\n",
    "\n",
    "Вложение в рекламу по каналам FaceBoom и TipTop не оправдались. Зато каналы YRabbit, MediaTornado и RocketSuperAds  окупили вложения. \n",
    "\n",
    "**Анализ каналов по регионам Germany, UK и France**\n",
    "\n",
    "Анализ каналов по регионам Germany, UK и France показал, что вложение в рекламу по каналу AdNonSense не окупились ROI  83%, удержание 2.66%.\n",
    "\n",
    "Показатель ROI в регионах Germany, UK и France по каналам составил:\n",
    "- lambdaMediaAds        242.87\n",
    "- LeapBob               225.24\n",
    "- OppleCreativeMedia    163.71\n",
    "- WahooNetBanner        152.63\n",
    "- AdNonSense             83.13\n",
    "\n",
    "Рекламная компания на канале AdNonSense не окупила вложенные средства: ROI  83%, удержание 2.66%.\n",
    "Канал lambdaMediaAds показал хорошие результаты:имеет  ROI - 242.87%, показатель удержания 19.09%, сонверсию 10.36%\n",
    "\n",
    "**ИТОГ**: Инвестиции в рекламную компанию не окупились по следубщим причинам:\n",
    "Основные вложения в рекламную компанию были направленны на регион United States в каналы TipTop и FaceBoom. \n",
    "Регион United States: у  каналов FaceBoom ROI - 74%, TipTop ROI - 54%. \n",
    "Регионы Germany, UK и France: у канала AdNonSense ROI - 83%. \n",
    "Увеличение показателя САС с 1.5 до 3.5. для канала TipTop.\n",
    "Низкий показатель ROI по платформам: Android    89%, Mac 73%, iPhone 72%\n",
    "\n",
    "\n",
    "**Рекомендации:**\n",
    "\n",
    "Уменьшить размер инвестиций на рекламу в регионе United States в каналы TipTop и FaceBoom.\n",
    "Уменьшить размер инвестиций на рекламу по регионам Germany, UK и France для канала AdNonSense.\n",
    "\n",
    "В регионе United States увеличить расходы на рекламу для канала  RocketSuperAds который  имеет показатель удержание платящих пользователей 22.09% и конверсию 7.36%, ROI - 224%.  \n",
    "Регионах   UK, France, Germany увеличить расходы на рекламу для канала lambdaMediaAds который  имеет показатель удержание платящих пользователей 19.09% и конверсию 10.36%, ROI - 242.87%.  "
   ]
  }
 ],
 "metadata": {
  "ExecuteTimeLog": [
   {
    "duration": 54,
    "start_time": "2024-05-15T07:18:24.244Z"
   },
   {
    "duration": 1307,
    "start_time": "2024-05-15T07:18:27.451Z"
   },
   {
    "duration": 1361,
    "start_time": "2024-05-15T07:18:28.760Z"
   },
   {
    "duration": 12,
    "start_time": "2024-05-15T07:18:53.582Z"
   },
   {
    "duration": 10,
    "start_time": "2024-05-15T07:23:15.259Z"
   },
   {
    "duration": 9,
    "start_time": "2024-05-15T07:27:47.198Z"
   },
   {
    "duration": 89,
    "start_time": "2024-05-15T07:32:03.403Z"
   },
   {
    "duration": 67,
    "start_time": "2024-05-15T07:37:41.540Z"
   },
   {
    "duration": 26,
    "start_time": "2024-05-15T07:38:09.030Z"
   },
   {
    "duration": 3,
    "start_time": "2024-05-15T07:40:25.090Z"
   },
   {
    "duration": 81,
    "start_time": "2024-05-15T07:40:41.407Z"
   },
   {
    "duration": 70,
    "start_time": "2024-05-15T07:41:46.288Z"
   },
   {
    "duration": 88,
    "start_time": "2024-05-15T07:42:05.536Z"
   },
   {
    "duration": 48,
    "start_time": "2024-05-15T07:42:12.461Z"
   },
   {
    "duration": 124,
    "start_time": "2024-05-15T07:43:28.580Z"
   },
   {
    "duration": 125,
    "start_time": "2024-05-15T07:43:35.980Z"
   },
   {
    "duration": 28,
    "start_time": "2024-05-15T07:44:29.200Z"
   },
   {
    "duration": 115,
    "start_time": "2024-05-15T07:44:40.431Z"
   },
   {
    "duration": 799,
    "start_time": "2024-05-15T07:47:08.845Z"
   },
   {
    "duration": 707,
    "start_time": "2024-05-15T07:47:20.224Z"
   },
   {
    "duration": 33,
    "start_time": "2024-05-15T07:47:27.899Z"
   },
   {
    "duration": 24,
    "start_time": "2024-05-15T07:48:13.493Z"
   },
   {
    "duration": 22,
    "start_time": "2024-05-15T07:48:31.037Z"
   },
   {
    "duration": 5,
    "start_time": "2024-05-15T07:55:16.879Z"
   },
   {
    "duration": 6,
    "start_time": "2024-05-15T07:55:39.511Z"
   },
   {
    "duration": 7,
    "start_time": "2024-05-15T07:56:51.895Z"
   },
   {
    "duration": 6,
    "start_time": "2024-05-15T07:56:55.972Z"
   },
   {
    "duration": 10,
    "start_time": "2024-05-15T07:58:15.604Z"
   },
   {
    "duration": 216,
    "start_time": "2024-05-15T07:59:07.219Z"
   },
   {
    "duration": 232,
    "start_time": "2024-05-15T07:59:57.472Z"
   },
   {
    "duration": 119,
    "start_time": "2024-05-15T08:00:02.831Z"
   },
   {
    "duration": 223,
    "start_time": "2024-05-15T08:02:06.274Z"
   },
   {
    "duration": 105,
    "start_time": "2024-05-15T08:02:31.622Z"
   },
   {
    "duration": 5,
    "start_time": "2024-05-15T08:02:57.187Z"
   },
   {
    "duration": 107,
    "start_time": "2024-05-15T08:03:24.164Z"
   },
   {
    "duration": 57,
    "start_time": "2024-05-15T08:03:33.958Z"
   },
   {
    "duration": 210,
    "start_time": "2024-05-15T08:03:39.179Z"
   },
   {
    "duration": 229,
    "start_time": "2024-05-15T08:04:07.181Z"
   },
   {
    "duration": 222,
    "start_time": "2024-05-15T08:04:12.508Z"
   },
   {
    "duration": 206,
    "start_time": "2024-05-15T08:04:31.978Z"
   },
   {
    "duration": 228,
    "start_time": "2024-05-15T08:06:50.681Z"
   },
   {
    "duration": 214,
    "start_time": "2024-05-15T08:07:06.675Z"
   },
   {
    "duration": 225,
    "start_time": "2024-05-15T08:10:40.682Z"
   },
   {
    "duration": 235,
    "start_time": "2024-05-15T08:10:56.860Z"
   },
   {
    "duration": 218,
    "start_time": "2024-05-15T08:11:32.553Z"
   },
   {
    "duration": 17,
    "start_time": "2024-05-15T08:12:07.636Z"
   },
   {
    "duration": 6,
    "start_time": "2024-05-15T08:12:20.240Z"
   },
   {
    "duration": 230,
    "start_time": "2024-05-15T08:12:44.087Z"
   },
   {
    "duration": 242,
    "start_time": "2024-05-15T08:12:53.398Z"
   },
   {
    "duration": 217,
    "start_time": "2024-05-15T08:13:00.540Z"
   },
   {
    "duration": 241,
    "start_time": "2024-05-15T08:13:10.024Z"
   },
   {
    "duration": 260,
    "start_time": "2024-05-15T08:13:13.362Z"
   },
   {
    "duration": 46,
    "start_time": "2024-05-15T08:13:18.529Z"
   },
   {
    "duration": 255,
    "start_time": "2024-05-15T08:13:24.955Z"
   },
   {
    "duration": 224,
    "start_time": "2024-05-15T08:13:30.123Z"
   },
   {
    "duration": 423,
    "start_time": "2024-05-15T08:15:38.611Z"
   },
   {
    "duration": 460,
    "start_time": "2024-05-15T08:16:00.720Z"
   },
   {
    "duration": 230,
    "start_time": "2024-05-15T08:16:19.791Z"
   },
   {
    "duration": 73,
    "start_time": "2024-05-15T08:19:43.794Z"
   },
   {
    "duration": 14,
    "start_time": "2024-05-15T08:31:35.015Z"
   },
   {
    "duration": 43,
    "start_time": "2024-05-15T08:33:49.539Z"
   },
   {
    "duration": 11,
    "start_time": "2024-05-15T08:34:03.445Z"
   },
   {
    "duration": 3,
    "start_time": "2024-05-15T08:35:02.053Z"
   },
   {
    "duration": 20,
    "start_time": "2024-05-15T08:35:50.623Z"
   },
   {
    "duration": 12,
    "start_time": "2024-05-15T08:37:11.832Z"
   },
   {
    "duration": 31,
    "start_time": "2024-05-15T08:39:30.510Z"
   },
   {
    "duration": 31,
    "start_time": "2024-05-15T08:39:37.093Z"
   },
   {
    "duration": 252,
    "start_time": "2024-05-15T08:40:11.013Z"
   },
   {
    "duration": 30,
    "start_time": "2024-05-15T08:40:14.792Z"
   },
   {
    "duration": 20,
    "start_time": "2024-05-15T08:40:38.044Z"
   },
   {
    "duration": 9,
    "start_time": "2024-05-15T08:42:53.993Z"
   },
   {
    "duration": 10,
    "start_time": "2024-05-15T08:43:43.293Z"
   },
   {
    "duration": 6,
    "start_time": "2024-05-15T08:43:48.110Z"
   },
   {
    "duration": 3,
    "start_time": "2024-05-15T08:45:22.483Z"
   },
   {
    "duration": 11,
    "start_time": "2024-05-15T08:45:35.537Z"
   },
   {
    "duration": 6,
    "start_time": "2024-05-15T08:47:06.278Z"
   },
   {
    "duration": 5,
    "start_time": "2024-05-15T08:47:45.999Z"
   },
   {
    "duration": 5,
    "start_time": "2024-05-15T08:50:28.582Z"
   },
   {
    "duration": 12,
    "start_time": "2024-05-15T08:50:41.500Z"
   },
   {
    "duration": 1150,
    "start_time": "2024-05-15T08:50:53.304Z"
   },
   {
    "duration": 703,
    "start_time": "2024-05-15T08:50:54.458Z"
   },
   {
    "duration": 12,
    "start_time": "2024-05-15T08:50:55.162Z"
   },
   {
    "duration": 87,
    "start_time": "2024-05-15T08:50:55.176Z"
   },
   {
    "duration": 117,
    "start_time": "2024-05-15T08:50:55.265Z"
   },
   {
    "duration": 19,
    "start_time": "2024-05-15T08:50:55.384Z"
   },
   {
    "duration": 212,
    "start_time": "2024-05-15T08:50:55.405Z"
   },
   {
    "duration": 133,
    "start_time": "2024-05-15T08:50:55.619Z"
   },
   {
    "duration": 21,
    "start_time": "2024-05-15T08:50:55.753Z"
   },
   {
    "duration": 49,
    "start_time": "2024-05-15T08:50:55.777Z"
   },
   {
    "duration": 52,
    "start_time": "2024-05-15T08:50:55.828Z"
   },
   {
    "duration": 255,
    "start_time": "2024-05-15T08:50:55.881Z"
   },
   {
    "duration": 57,
    "start_time": "2024-05-15T08:50:56.137Z"
   },
   {
    "duration": 37,
    "start_time": "2024-05-15T08:50:56.195Z"
   },
   {
    "duration": 32,
    "start_time": "2024-05-15T08:50:56.234Z"
   },
   {
    "duration": 21,
    "start_time": "2024-05-15T08:50:56.268Z"
   },
   {
    "duration": 9,
    "start_time": "2024-05-15T08:50:56.291Z"
   },
   {
    "duration": 29,
    "start_time": "2024-05-15T08:50:56.302Z"
   },
   {
    "duration": 20,
    "start_time": "2024-05-15T08:50:56.333Z"
   },
   {
    "duration": 56,
    "start_time": "2024-05-15T08:50:56.355Z"
   },
   {
    "duration": 31,
    "start_time": "2024-05-15T08:50:56.413Z"
   },
   {
    "duration": 14,
    "start_time": "2024-05-15T08:50:56.449Z"
   },
   {
    "duration": 43,
    "start_time": "2024-05-15T08:50:56.469Z"
   },
   {
    "duration": 9,
    "start_time": "2024-05-15T08:50:56.514Z"
   },
   {
    "duration": 23,
    "start_time": "2024-05-15T08:50:56.524Z"
   },
   {
    "duration": 24,
    "start_time": "2024-05-15T08:50:56.549Z"
   },
   {
    "duration": 14,
    "start_time": "2024-05-15T08:50:56.574Z"
   },
   {
    "duration": 15,
    "start_time": "2024-05-15T08:50:56.591Z"
   },
   {
    "duration": 19,
    "start_time": "2024-05-15T08:50:56.608Z"
   },
   {
    "duration": 4,
    "start_time": "2024-05-15T08:51:38.380Z"
   },
   {
    "duration": 11,
    "start_time": "2024-05-15T08:51:40.826Z"
   },
   {
    "duration": 6,
    "start_time": "2024-05-15T08:51:57.466Z"
   },
   {
    "duration": 11,
    "start_time": "2024-05-15T08:51:58.677Z"
   },
   {
    "duration": 4,
    "start_time": "2024-05-15T08:52:53.907Z"
   },
   {
    "duration": 13,
    "start_time": "2024-05-15T08:52:54.866Z"
   },
   {
    "duration": 12,
    "start_time": "2024-05-15T08:53:04.417Z"
   },
   {
    "duration": 6,
    "start_time": "2024-05-15T08:54:26.181Z"
   },
   {
    "duration": 4,
    "start_time": "2024-05-15T08:54:54.698Z"
   },
   {
    "duration": 7,
    "start_time": "2024-05-15T08:55:02.163Z"
   },
   {
    "duration": 6,
    "start_time": "2024-05-15T08:55:22.699Z"
   },
   {
    "duration": 104,
    "start_time": "2024-05-15T08:55:23.149Z"
   },
   {
    "duration": 4,
    "start_time": "2024-05-15T08:55:30.318Z"
   },
   {
    "duration": 7,
    "start_time": "2024-05-15T08:55:30.501Z"
   },
   {
    "duration": 11,
    "start_time": "2024-05-15T08:55:31.317Z"
   },
   {
    "duration": 12,
    "start_time": "2024-05-15T09:29:32.895Z"
   },
   {
    "duration": 7,
    "start_time": "2024-05-15T09:30:51.687Z"
   },
   {
    "duration": 8,
    "start_time": "2024-05-15T09:31:36.949Z"
   },
   {
    "duration": 3,
    "start_time": "2024-05-15T09:32:36.514Z"
   },
   {
    "duration": 9,
    "start_time": "2024-05-15T09:33:04.133Z"
   },
   {
    "duration": 6,
    "start_time": "2024-05-15T09:33:27.953Z"
   },
   {
    "duration": 11,
    "start_time": "2024-05-15T09:33:52.595Z"
   },
   {
    "duration": 3,
    "start_time": "2024-05-15T09:34:41.761Z"
   },
   {
    "duration": 11,
    "start_time": "2024-05-15T09:37:26.726Z"
   },
   {
    "duration": 9,
    "start_time": "2024-05-15T09:42:12.792Z"
   },
   {
    "duration": 1151,
    "start_time": "2024-05-15T09:42:28.574Z"
   },
   {
    "duration": 689,
    "start_time": "2024-05-15T09:42:29.726Z"
   },
   {
    "duration": 11,
    "start_time": "2024-05-15T09:42:30.417Z"
   },
   {
    "duration": 139,
    "start_time": "2024-05-15T09:42:30.430Z"
   },
   {
    "duration": 105,
    "start_time": "2024-05-15T09:42:30.571Z"
   },
   {
    "duration": 39,
    "start_time": "2024-05-15T09:42:30.678Z"
   },
   {
    "duration": 211,
    "start_time": "2024-05-15T09:42:30.719Z"
   },
   {
    "duration": 143,
    "start_time": "2024-05-15T09:42:30.932Z"
   },
   {
    "duration": 21,
    "start_time": "2024-05-15T09:42:31.076Z"
   },
   {
    "duration": 118,
    "start_time": "2024-05-15T09:42:31.099Z"
   },
   {
    "duration": 58,
    "start_time": "2024-05-15T09:42:31.219Z"
   },
   {
    "duration": 284,
    "start_time": "2024-05-15T09:42:31.279Z"
   },
   {
    "duration": 54,
    "start_time": "2024-05-15T09:42:31.565Z"
   },
   {
    "duration": 48,
    "start_time": "2024-05-15T09:42:31.621Z"
   },
   {
    "duration": 38,
    "start_time": "2024-05-15T09:42:31.671Z"
   },
   {
    "duration": 35,
    "start_time": "2024-05-15T09:42:31.710Z"
   },
   {
    "duration": 27,
    "start_time": "2024-05-15T09:42:31.747Z"
   },
   {
    "duration": 30,
    "start_time": "2024-05-15T09:42:31.776Z"
   },
   {
    "duration": 35,
    "start_time": "2024-05-15T09:42:31.808Z"
   },
   {
    "duration": 42,
    "start_time": "2024-05-15T09:42:31.845Z"
   },
   {
    "duration": 15,
    "start_time": "2024-05-15T09:42:31.888Z"
   },
   {
    "duration": 22,
    "start_time": "2024-05-15T09:42:31.904Z"
   },
   {
    "duration": 43,
    "start_time": "2024-05-15T09:42:31.927Z"
   },
   {
    "duration": 27,
    "start_time": "2024-05-15T09:42:31.971Z"
   },
   {
    "duration": 40,
    "start_time": "2024-05-15T09:42:32.000Z"
   },
   {
    "duration": 15,
    "start_time": "2024-05-15T09:42:32.041Z"
   },
   {
    "duration": 7,
    "start_time": "2024-05-15T09:42:32.058Z"
   },
   {
    "duration": 125,
    "start_time": "2024-05-15T09:42:32.068Z"
   },
   {
    "duration": 0,
    "start_time": "2024-05-15T09:42:32.195Z"
   },
   {
    "duration": 0,
    "start_time": "2024-05-15T09:42:32.196Z"
   },
   {
    "duration": 0,
    "start_time": "2024-05-15T09:42:32.197Z"
   },
   {
    "duration": 0,
    "start_time": "2024-05-15T09:42:32.198Z"
   },
   {
    "duration": 0,
    "start_time": "2024-05-15T09:42:32.199Z"
   },
   {
    "duration": 0,
    "start_time": "2024-05-15T09:42:32.200Z"
   },
   {
    "duration": 0,
    "start_time": "2024-05-15T09:42:32.200Z"
   },
   {
    "duration": 0,
    "start_time": "2024-05-15T09:42:32.201Z"
   },
   {
    "duration": 0,
    "start_time": "2024-05-15T09:42:32.202Z"
   },
   {
    "duration": 0,
    "start_time": "2024-05-15T09:42:32.203Z"
   },
   {
    "duration": 0,
    "start_time": "2024-05-15T09:42:32.204Z"
   },
   {
    "duration": 4,
    "start_time": "2024-05-15T09:42:48.562Z"
   },
   {
    "duration": 6,
    "start_time": "2024-05-15T09:42:50.336Z"
   },
   {
    "duration": 18,
    "start_time": "2024-05-15T09:42:50.539Z"
   },
   {
    "duration": 7,
    "start_time": "2024-05-15T09:42:51.420Z"
   },
   {
    "duration": 6,
    "start_time": "2024-05-15T09:42:51.575Z"
   },
   {
    "duration": 8,
    "start_time": "2024-05-15T09:42:51.726Z"
   },
   {
    "duration": 10,
    "start_time": "2024-05-15T09:42:51.889Z"
   },
   {
    "duration": 3,
    "start_time": "2024-05-15T09:42:52.045Z"
   },
   {
    "duration": 11,
    "start_time": "2024-05-15T09:42:52.200Z"
   },
   {
    "duration": 6,
    "start_time": "2024-05-15T09:42:52.360Z"
   },
   {
    "duration": 10,
    "start_time": "2024-05-15T09:42:52.539Z"
   },
   {
    "duration": 8,
    "start_time": "2024-05-15T09:42:52.863Z"
   },
   {
    "duration": 1139,
    "start_time": "2024-05-15T09:44:22.892Z"
   },
   {
    "duration": 947,
    "start_time": "2024-05-15T09:44:24.033Z"
   },
   {
    "duration": 12,
    "start_time": "2024-05-15T09:44:24.982Z"
   },
   {
    "duration": 157,
    "start_time": "2024-05-15T09:44:24.996Z"
   },
   {
    "duration": 115,
    "start_time": "2024-05-15T09:44:25.155Z"
   },
   {
    "duration": 3,
    "start_time": "2024-05-15T09:44:25.272Z"
   },
   {
    "duration": 309,
    "start_time": "2024-05-15T09:44:25.276Z"
   },
   {
    "duration": 281,
    "start_time": "2024-05-15T09:44:25.586Z"
   },
   {
    "duration": 21,
    "start_time": "2024-05-15T09:44:25.868Z"
   },
   {
    "duration": 65,
    "start_time": "2024-05-15T09:44:25.892Z"
   },
   {
    "duration": 20,
    "start_time": "2024-05-15T09:44:25.959Z"
   },
   {
    "duration": 238,
    "start_time": "2024-05-15T09:44:25.981Z"
   },
   {
    "duration": 66,
    "start_time": "2024-05-15T09:44:26.221Z"
   },
   {
    "duration": 8,
    "start_time": "2024-05-15T09:44:26.288Z"
   },
   {
    "duration": 11,
    "start_time": "2024-05-15T09:44:26.297Z"
   },
   {
    "duration": 7,
    "start_time": "2024-05-15T09:44:26.309Z"
   },
   {
    "duration": 3,
    "start_time": "2024-05-15T09:44:26.317Z"
   },
   {
    "duration": 14,
    "start_time": "2024-05-15T09:44:26.344Z"
   },
   {
    "duration": 10,
    "start_time": "2024-05-15T09:44:26.360Z"
   },
   {
    "duration": 43,
    "start_time": "2024-05-15T09:44:26.371Z"
   },
   {
    "duration": 31,
    "start_time": "2024-05-15T09:44:26.416Z"
   },
   {
    "duration": 100,
    "start_time": "2024-05-15T09:44:26.449Z"
   },
   {
    "duration": 0,
    "start_time": "2024-05-15T09:44:26.554Z"
   },
   {
    "duration": 0,
    "start_time": "2024-05-15T09:44:26.556Z"
   },
   {
    "duration": 0,
    "start_time": "2024-05-15T09:44:26.557Z"
   },
   {
    "duration": 0,
    "start_time": "2024-05-15T09:44:26.559Z"
   },
   {
    "duration": 0,
    "start_time": "2024-05-15T09:44:26.560Z"
   },
   {
    "duration": 0,
    "start_time": "2024-05-15T09:44:26.561Z"
   },
   {
    "duration": 0,
    "start_time": "2024-05-15T09:44:26.562Z"
   },
   {
    "duration": 0,
    "start_time": "2024-05-15T09:44:26.563Z"
   },
   {
    "duration": 0,
    "start_time": "2024-05-15T09:44:26.564Z"
   },
   {
    "duration": 0,
    "start_time": "2024-05-15T09:44:26.565Z"
   },
   {
    "duration": 0,
    "start_time": "2024-05-15T09:44:26.566Z"
   },
   {
    "duration": 0,
    "start_time": "2024-05-15T09:44:26.567Z"
   },
   {
    "duration": 0,
    "start_time": "2024-05-15T09:44:26.569Z"
   },
   {
    "duration": 0,
    "start_time": "2024-05-15T09:44:26.570Z"
   },
   {
    "duration": 0,
    "start_time": "2024-05-15T09:44:26.571Z"
   },
   {
    "duration": 0,
    "start_time": "2024-05-15T09:44:26.572Z"
   },
   {
    "duration": 0,
    "start_time": "2024-05-15T09:44:26.573Z"
   },
   {
    "duration": 8,
    "start_time": "2024-05-15T09:44:28.708Z"
   },
   {
    "duration": 1155,
    "start_time": "2024-05-15T09:44:39.162Z"
   },
   {
    "duration": 743,
    "start_time": "2024-05-15T09:44:40.319Z"
   },
   {
    "duration": 11,
    "start_time": "2024-05-15T09:44:41.064Z"
   },
   {
    "duration": 108,
    "start_time": "2024-05-15T09:44:41.077Z"
   },
   {
    "duration": 79,
    "start_time": "2024-05-15T09:44:41.186Z"
   },
   {
    "duration": 11,
    "start_time": "2024-05-15T09:44:41.268Z"
   },
   {
    "duration": 153,
    "start_time": "2024-05-15T09:44:41.280Z"
   },
   {
    "duration": 149,
    "start_time": "2024-05-15T09:44:41.435Z"
   },
   {
    "duration": 21,
    "start_time": "2024-05-15T09:44:41.585Z"
   },
   {
    "duration": 67,
    "start_time": "2024-05-15T09:44:41.609Z"
   },
   {
    "duration": 31,
    "start_time": "2024-05-15T09:44:41.678Z"
   },
   {
    "duration": 241,
    "start_time": "2024-05-15T09:44:41.710Z"
   },
   {
    "duration": 54,
    "start_time": "2024-05-15T09:44:41.953Z"
   },
   {
    "duration": 50,
    "start_time": "2024-05-15T09:44:42.009Z"
   },
   {
    "duration": 39,
    "start_time": "2024-05-15T09:44:42.061Z"
   },
   {
    "duration": 42,
    "start_time": "2024-05-15T09:44:42.102Z"
   },
   {
    "duration": 28,
    "start_time": "2024-05-15T09:44:42.146Z"
   },
   {
    "duration": 46,
    "start_time": "2024-05-15T09:44:42.176Z"
   },
   {
    "duration": 42,
    "start_time": "2024-05-15T09:44:42.223Z"
   },
   {
    "duration": 75,
    "start_time": "2024-05-15T09:44:42.267Z"
   },
   {
    "duration": 28,
    "start_time": "2024-05-15T09:44:42.344Z"
   },
   {
    "duration": 101,
    "start_time": "2024-05-15T09:44:42.373Z"
   },
   {
    "duration": 0,
    "start_time": "2024-05-15T09:44:42.475Z"
   },
   {
    "duration": 0,
    "start_time": "2024-05-15T09:44:42.477Z"
   },
   {
    "duration": 0,
    "start_time": "2024-05-15T09:44:42.478Z"
   },
   {
    "duration": 0,
    "start_time": "2024-05-15T09:44:42.479Z"
   },
   {
    "duration": 0,
    "start_time": "2024-05-15T09:44:42.480Z"
   },
   {
    "duration": 0,
    "start_time": "2024-05-15T09:44:42.481Z"
   },
   {
    "duration": 0,
    "start_time": "2024-05-15T09:44:42.481Z"
   },
   {
    "duration": 0,
    "start_time": "2024-05-15T09:44:42.483Z"
   },
   {
    "duration": 0,
    "start_time": "2024-05-15T09:44:42.483Z"
   },
   {
    "duration": 0,
    "start_time": "2024-05-15T09:44:42.484Z"
   },
   {
    "duration": 0,
    "start_time": "2024-05-15T09:44:42.486Z"
   },
   {
    "duration": 0,
    "start_time": "2024-05-15T09:44:42.487Z"
   },
   {
    "duration": 0,
    "start_time": "2024-05-15T09:44:42.488Z"
   },
   {
    "duration": 0,
    "start_time": "2024-05-15T09:44:42.489Z"
   },
   {
    "duration": 0,
    "start_time": "2024-05-15T09:44:42.490Z"
   },
   {
    "duration": 0,
    "start_time": "2024-05-15T09:44:42.491Z"
   },
   {
    "duration": 0,
    "start_time": "2024-05-15T09:44:42.493Z"
   },
   {
    "duration": 3,
    "start_time": "2024-05-15T09:44:59.559Z"
   },
   {
    "duration": 715,
    "start_time": "2024-05-15T09:44:59.563Z"
   },
   {
    "duration": 9,
    "start_time": "2024-05-15T09:45:00.279Z"
   },
   {
    "duration": 142,
    "start_time": "2024-05-15T09:45:00.289Z"
   },
   {
    "duration": 97,
    "start_time": "2024-05-15T09:45:00.433Z"
   },
   {
    "duration": 50,
    "start_time": "2024-05-15T09:45:00.532Z"
   },
   {
    "duration": 167,
    "start_time": "2024-05-15T09:45:00.583Z"
   },
   {
    "duration": 138,
    "start_time": "2024-05-15T09:45:00.753Z"
   },
   {
    "duration": 19,
    "start_time": "2024-05-15T09:45:00.893Z"
   },
   {
    "duration": 57,
    "start_time": "2024-05-15T09:45:00.914Z"
   },
   {
    "duration": 51,
    "start_time": "2024-05-15T09:45:00.973Z"
   },
   {
    "duration": 258,
    "start_time": "2024-05-15T09:45:01.026Z"
   },
   {
    "duration": 46,
    "start_time": "2024-05-15T09:45:01.286Z"
   },
   {
    "duration": 79,
    "start_time": "2024-05-15T09:45:01.335Z"
   },
   {
    "duration": 72,
    "start_time": "2024-05-15T09:45:01.415Z"
   },
   {
    "duration": 44,
    "start_time": "2024-05-15T09:45:01.489Z"
   },
   {
    "duration": 39,
    "start_time": "2024-05-15T09:45:01.534Z"
   },
   {
    "duration": 76,
    "start_time": "2024-05-15T09:45:01.575Z"
   },
   {
    "duration": 23,
    "start_time": "2024-05-15T09:45:01.652Z"
   },
   {
    "duration": 93,
    "start_time": "2024-05-15T09:45:01.677Z"
   },
   {
    "duration": 59,
    "start_time": "2024-05-15T09:45:01.772Z"
   },
   {
    "duration": 44,
    "start_time": "2024-05-15T09:45:01.833Z"
   },
   {
    "duration": 0,
    "start_time": "2024-05-15T09:45:01.878Z"
   },
   {
    "duration": 0,
    "start_time": "2024-05-15T09:45:01.880Z"
   },
   {
    "duration": 0,
    "start_time": "2024-05-15T09:45:01.881Z"
   },
   {
    "duration": 0,
    "start_time": "2024-05-15T09:45:01.882Z"
   },
   {
    "duration": 0,
    "start_time": "2024-05-15T09:45:01.883Z"
   },
   {
    "duration": 0,
    "start_time": "2024-05-15T09:45:01.884Z"
   },
   {
    "duration": 0,
    "start_time": "2024-05-15T09:45:01.885Z"
   },
   {
    "duration": 0,
    "start_time": "2024-05-15T09:45:01.886Z"
   },
   {
    "duration": 0,
    "start_time": "2024-05-15T09:45:01.887Z"
   },
   {
    "duration": 0,
    "start_time": "2024-05-15T09:45:01.888Z"
   },
   {
    "duration": 0,
    "start_time": "2024-05-15T09:45:01.889Z"
   },
   {
    "duration": 0,
    "start_time": "2024-05-15T09:45:01.890Z"
   },
   {
    "duration": 0,
    "start_time": "2024-05-15T09:45:01.891Z"
   },
   {
    "duration": 0,
    "start_time": "2024-05-15T09:45:01.892Z"
   },
   {
    "duration": 0,
    "start_time": "2024-05-15T09:45:01.892Z"
   },
   {
    "duration": 0,
    "start_time": "2024-05-15T09:45:01.894Z"
   },
   {
    "duration": 0,
    "start_time": "2024-05-15T09:45:01.894Z"
   },
   {
    "duration": 1149,
    "start_time": "2024-05-15T09:45:27.296Z"
   },
   {
    "duration": 683,
    "start_time": "2024-05-15T09:45:28.447Z"
   },
   {
    "duration": 13,
    "start_time": "2024-05-15T09:45:29.133Z"
   },
   {
    "duration": 75,
    "start_time": "2024-05-15T09:45:29.152Z"
   },
   {
    "duration": 87,
    "start_time": "2024-05-15T09:45:29.228Z"
   },
   {
    "duration": 3,
    "start_time": "2024-05-15T09:45:29.316Z"
   },
   {
    "duration": 164,
    "start_time": "2024-05-15T09:45:29.320Z"
   },
   {
    "duration": 133,
    "start_time": "2024-05-15T09:45:29.485Z"
   },
   {
    "duration": 28,
    "start_time": "2024-05-15T09:45:29.620Z"
   },
   {
    "duration": 25,
    "start_time": "2024-05-15T09:45:29.649Z"
   },
   {
    "duration": 20,
    "start_time": "2024-05-15T09:45:29.676Z"
   },
   {
    "duration": 239,
    "start_time": "2024-05-15T09:45:29.697Z"
   },
   {
    "duration": 56,
    "start_time": "2024-05-15T09:45:29.947Z"
   },
   {
    "duration": 27,
    "start_time": "2024-05-15T09:45:30.004Z"
   },
   {
    "duration": 76,
    "start_time": "2024-05-15T09:45:30.033Z"
   },
   {
    "duration": 99,
    "start_time": "2024-05-15T09:45:30.111Z"
   },
   {
    "duration": 148,
    "start_time": "2024-05-15T09:45:30.213Z"
   },
   {
    "duration": 68,
    "start_time": "2024-05-15T09:45:30.363Z"
   },
   {
    "duration": 112,
    "start_time": "2024-05-15T09:45:30.433Z"
   },
   {
    "duration": 95,
    "start_time": "2024-05-15T09:45:30.547Z"
   },
   {
    "duration": 44,
    "start_time": "2024-05-15T09:45:30.643Z"
   },
   {
    "duration": 49,
    "start_time": "2024-05-15T09:45:30.689Z"
   },
   {
    "duration": 36,
    "start_time": "2024-05-15T09:45:30.740Z"
   },
   {
    "duration": 57,
    "start_time": "2024-05-15T09:45:30.777Z"
   },
   {
    "duration": 33,
    "start_time": "2024-05-15T09:45:30.836Z"
   },
   {
    "duration": 56,
    "start_time": "2024-05-15T09:45:30.870Z"
   },
   {
    "duration": 31,
    "start_time": "2024-05-15T09:45:30.927Z"
   },
   {
    "duration": 231,
    "start_time": "2024-05-15T09:45:30.960Z"
   },
   {
    "duration": 0,
    "start_time": "2024-05-15T09:45:31.192Z"
   },
   {
    "duration": 0,
    "start_time": "2024-05-15T09:45:31.245Z"
   },
   {
    "duration": 0,
    "start_time": "2024-05-15T09:45:31.247Z"
   },
   {
    "duration": 0,
    "start_time": "2024-05-15T09:45:31.248Z"
   },
   {
    "duration": 0,
    "start_time": "2024-05-15T09:45:31.250Z"
   },
   {
    "duration": 0,
    "start_time": "2024-05-15T09:45:31.251Z"
   },
   {
    "duration": 0,
    "start_time": "2024-05-15T09:45:31.261Z"
   },
   {
    "duration": 0,
    "start_time": "2024-05-15T09:45:31.263Z"
   },
   {
    "duration": 0,
    "start_time": "2024-05-15T09:45:31.264Z"
   },
   {
    "duration": 0,
    "start_time": "2024-05-15T09:45:31.266Z"
   },
   {
    "duration": 0,
    "start_time": "2024-05-15T09:45:31.266Z"
   },
   {
    "duration": 4,
    "start_time": "2024-05-15T09:45:53.598Z"
   },
   {
    "duration": 6,
    "start_time": "2024-05-15T09:45:54.199Z"
   },
   {
    "duration": 10,
    "start_time": "2024-05-15T09:45:55.068Z"
   },
   {
    "duration": 1209,
    "start_time": "2024-05-15T09:46:02.040Z"
   },
   {
    "duration": 741,
    "start_time": "2024-05-15T09:46:03.251Z"
   },
   {
    "duration": 11,
    "start_time": "2024-05-15T09:46:03.994Z"
   },
   {
    "duration": 83,
    "start_time": "2024-05-15T09:46:04.007Z"
   },
   {
    "duration": 82,
    "start_time": "2024-05-15T09:46:04.092Z"
   },
   {
    "duration": 5,
    "start_time": "2024-05-15T09:46:04.176Z"
   },
   {
    "duration": 157,
    "start_time": "2024-05-15T09:46:04.182Z"
   },
   {
    "duration": 156,
    "start_time": "2024-05-15T09:46:04.341Z"
   },
   {
    "duration": 21,
    "start_time": "2024-05-15T09:46:04.498Z"
   },
   {
    "duration": 34,
    "start_time": "2024-05-15T09:46:04.522Z"
   },
   {
    "duration": 27,
    "start_time": "2024-05-15T09:46:04.557Z"
   },
   {
    "duration": 263,
    "start_time": "2024-05-15T09:46:04.585Z"
   },
   {
    "duration": 55,
    "start_time": "2024-05-15T09:46:04.850Z"
   },
   {
    "duration": 8,
    "start_time": "2024-05-15T09:46:04.906Z"
   },
   {
    "duration": 30,
    "start_time": "2024-05-15T09:46:04.915Z"
   },
   {
    "duration": 12,
    "start_time": "2024-05-15T09:46:04.949Z"
   },
   {
    "duration": 6,
    "start_time": "2024-05-15T09:46:04.962Z"
   },
   {
    "duration": 19,
    "start_time": "2024-05-15T09:46:04.969Z"
   },
   {
    "duration": 10,
    "start_time": "2024-05-15T09:46:04.990Z"
   },
   {
    "duration": 53,
    "start_time": "2024-05-15T09:46:05.001Z"
   },
   {
    "duration": 10,
    "start_time": "2024-05-15T09:46:05.058Z"
   },
   {
    "duration": 19,
    "start_time": "2024-05-15T09:46:05.070Z"
   },
   {
    "duration": 17,
    "start_time": "2024-05-15T09:46:05.090Z"
   },
   {
    "duration": 23,
    "start_time": "2024-05-15T09:46:05.109Z"
   },
   {
    "duration": 33,
    "start_time": "2024-05-15T09:46:05.133Z"
   },
   {
    "duration": 31,
    "start_time": "2024-05-15T09:46:05.167Z"
   },
   {
    "duration": 6,
    "start_time": "2024-05-15T09:46:05.200Z"
   },
   {
    "duration": 11,
    "start_time": "2024-05-15T09:46:05.209Z"
   },
   {
    "duration": 8,
    "start_time": "2024-05-15T09:46:05.221Z"
   },
   {
    "duration": 25,
    "start_time": "2024-05-15T09:46:05.230Z"
   },
   {
    "duration": 8,
    "start_time": "2024-05-15T09:46:05.258Z"
   },
   {
    "duration": 36,
    "start_time": "2024-05-15T09:46:05.268Z"
   },
   {
    "duration": 38,
    "start_time": "2024-05-15T09:46:05.306Z"
   },
   {
    "duration": 17,
    "start_time": "2024-05-15T09:46:05.347Z"
   },
   {
    "duration": 23,
    "start_time": "2024-05-15T09:46:05.365Z"
   },
   {
    "duration": 8,
    "start_time": "2024-05-15T09:46:05.390Z"
   },
   {
    "duration": 9,
    "start_time": "2024-05-15T09:46:05.399Z"
   },
   {
    "duration": 16,
    "start_time": "2024-05-15T09:46:05.410Z"
   },
   {
    "duration": 106,
    "start_time": "2024-05-15T09:46:05.428Z"
   },
   {
    "duration": 8,
    "start_time": "2024-05-15T09:46:38.721Z"
   },
   {
    "duration": 8,
    "start_time": "2024-05-15T09:46:52.631Z"
   },
   {
    "duration": 10,
    "start_time": "2024-05-15T09:52:03.449Z"
   },
   {
    "duration": 8,
    "start_time": "2024-05-15T09:58:40.497Z"
   },
   {
    "duration": 7,
    "start_time": "2024-05-15T10:20:14.386Z"
   },
   {
    "duration": 1068,
    "start_time": "2024-05-15T10:21:18.377Z"
   },
   {
    "duration": 661,
    "start_time": "2024-05-15T10:21:19.447Z"
   },
   {
    "duration": 13,
    "start_time": "2024-05-15T10:21:20.110Z"
   },
   {
    "duration": 80,
    "start_time": "2024-05-15T10:21:20.125Z"
   },
   {
    "duration": 70,
    "start_time": "2024-05-15T10:21:20.207Z"
   },
   {
    "duration": 21,
    "start_time": "2024-05-15T10:21:20.279Z"
   },
   {
    "duration": 147,
    "start_time": "2024-05-15T10:21:20.301Z"
   },
   {
    "duration": 125,
    "start_time": "2024-05-15T10:21:20.450Z"
   },
   {
    "duration": 21,
    "start_time": "2024-05-15T10:21:20.576Z"
   },
   {
    "duration": 21,
    "start_time": "2024-05-15T10:21:20.598Z"
   },
   {
    "duration": 36,
    "start_time": "2024-05-15T10:21:20.620Z"
   },
   {
    "duration": 250,
    "start_time": "2024-05-15T10:21:20.657Z"
   },
   {
    "duration": 51,
    "start_time": "2024-05-15T10:21:20.908Z"
   },
   {
    "duration": 7,
    "start_time": "2024-05-15T10:21:20.962Z"
   },
   {
    "duration": 27,
    "start_time": "2024-05-15T10:21:20.970Z"
   },
   {
    "duration": 7,
    "start_time": "2024-05-15T10:21:20.999Z"
   },
   {
    "duration": 5,
    "start_time": "2024-05-15T10:21:21.007Z"
   },
   {
    "duration": 18,
    "start_time": "2024-05-15T10:21:21.013Z"
   },
   {
    "duration": 21,
    "start_time": "2024-05-15T10:21:21.033Z"
   },
   {
    "duration": 33,
    "start_time": "2024-05-15T10:21:21.056Z"
   },
   {
    "duration": 10,
    "start_time": "2024-05-15T10:21:21.091Z"
   },
   {
    "duration": 8,
    "start_time": "2024-05-15T10:21:21.102Z"
   },
   {
    "duration": 35,
    "start_time": "2024-05-15T10:21:21.111Z"
   },
   {
    "duration": 13,
    "start_time": "2024-05-15T10:21:21.147Z"
   },
   {
    "duration": 21,
    "start_time": "2024-05-15T10:21:21.161Z"
   },
   {
    "duration": 22,
    "start_time": "2024-05-15T10:21:21.184Z"
   },
   {
    "duration": 5,
    "start_time": "2024-05-15T10:21:21.208Z"
   },
   {
    "duration": 12,
    "start_time": "2024-05-15T10:21:21.214Z"
   },
   {
    "duration": 16,
    "start_time": "2024-05-15T10:21:21.228Z"
   },
   {
    "duration": 15,
    "start_time": "2024-05-15T10:21:21.246Z"
   },
   {
    "duration": 6,
    "start_time": "2024-05-15T10:21:21.262Z"
   },
   {
    "duration": 6,
    "start_time": "2024-05-15T10:21:21.270Z"
   },
   {
    "duration": 8,
    "start_time": "2024-05-15T10:21:21.278Z"
   },
   {
    "duration": 12,
    "start_time": "2024-05-15T10:21:21.287Z"
   },
   {
    "duration": 7,
    "start_time": "2024-05-15T10:21:21.300Z"
   },
   {
    "duration": 9,
    "start_time": "2024-05-15T10:21:21.309Z"
   },
   {
    "duration": 30,
    "start_time": "2024-05-15T10:21:21.319Z"
   },
   {
    "duration": 11,
    "start_time": "2024-05-15T10:21:21.350Z"
   },
   {
    "duration": 97,
    "start_time": "2024-05-15T10:21:21.363Z"
   },
   {
    "duration": 0,
    "start_time": "2024-05-15T10:21:21.462Z"
   },
   {
    "duration": 352,
    "start_time": "2024-05-15T10:21:32.393Z"
   },
   {
    "duration": 9,
    "start_time": "2024-05-15T10:23:55.564Z"
   },
   {
    "duration": 532,
    "start_time": "2024-05-15T10:24:01.138Z"
   },
   {
    "duration": 1169,
    "start_time": "2024-05-15T10:24:17.633Z"
   },
   {
    "duration": 687,
    "start_time": "2024-05-15T10:24:18.804Z"
   },
   {
    "duration": 12,
    "start_time": "2024-05-15T10:24:19.493Z"
   },
   {
    "duration": 85,
    "start_time": "2024-05-15T10:24:19.506Z"
   },
   {
    "duration": 82,
    "start_time": "2024-05-15T10:24:19.592Z"
   },
   {
    "duration": 2,
    "start_time": "2024-05-15T10:24:19.676Z"
   },
   {
    "duration": 149,
    "start_time": "2024-05-15T10:24:19.679Z"
   },
   {
    "duration": 137,
    "start_time": "2024-05-15T10:24:19.830Z"
   },
   {
    "duration": 20,
    "start_time": "2024-05-15T10:24:19.968Z"
   },
   {
    "duration": 19,
    "start_time": "2024-05-15T10:24:19.990Z"
   },
   {
    "duration": 43,
    "start_time": "2024-05-15T10:24:20.010Z"
   },
   {
    "duration": 250,
    "start_time": "2024-05-15T10:24:20.054Z"
   },
   {
    "duration": 61,
    "start_time": "2024-05-15T10:24:20.305Z"
   },
   {
    "duration": 8,
    "start_time": "2024-05-15T10:24:20.370Z"
   },
   {
    "duration": 28,
    "start_time": "2024-05-15T10:24:20.380Z"
   },
   {
    "duration": 7,
    "start_time": "2024-05-15T10:24:20.410Z"
   },
   {
    "duration": 2,
    "start_time": "2024-05-15T10:24:20.419Z"
   },
   {
    "duration": 29,
    "start_time": "2024-05-15T10:24:20.423Z"
   },
   {
    "duration": 13,
    "start_time": "2024-05-15T10:24:20.456Z"
   },
   {
    "duration": 40,
    "start_time": "2024-05-15T10:24:20.470Z"
   },
   {
    "duration": 10,
    "start_time": "2024-05-15T10:24:20.511Z"
   },
   {
    "duration": 8,
    "start_time": "2024-05-15T10:24:20.522Z"
   },
   {
    "duration": 42,
    "start_time": "2024-05-15T10:24:20.531Z"
   },
   {
    "duration": 7,
    "start_time": "2024-05-15T10:24:20.575Z"
   },
   {
    "duration": 7,
    "start_time": "2024-05-15T10:24:20.584Z"
   },
   {
    "duration": 7,
    "start_time": "2024-05-15T10:24:20.593Z"
   },
   {
    "duration": 5,
    "start_time": "2024-05-15T10:24:20.602Z"
   },
   {
    "duration": 14,
    "start_time": "2024-05-15T10:24:20.609Z"
   },
   {
    "duration": 38,
    "start_time": "2024-05-15T10:24:20.624Z"
   },
   {
    "duration": 11,
    "start_time": "2024-05-15T10:24:20.664Z"
   },
   {
    "duration": 15,
    "start_time": "2024-05-15T10:24:20.676Z"
   },
   {
    "duration": 8,
    "start_time": "2024-05-15T10:24:20.693Z"
   },
   {
    "duration": 31,
    "start_time": "2024-05-15T10:24:20.702Z"
   },
   {
    "duration": 23,
    "start_time": "2024-05-15T10:24:20.734Z"
   },
   {
    "duration": 4,
    "start_time": "2024-05-15T10:24:20.761Z"
   },
   {
    "duration": 31,
    "start_time": "2024-05-15T10:24:20.766Z"
   },
   {
    "duration": 16,
    "start_time": "2024-05-15T10:24:20.799Z"
   },
   {
    "duration": 16,
    "start_time": "2024-05-15T10:24:20.817Z"
   },
   {
    "duration": 588,
    "start_time": "2024-05-15T10:24:20.835Z"
   },
   {
    "duration": 12,
    "start_time": "2024-05-15T10:30:28.440Z"
   },
   {
    "duration": 19,
    "start_time": "2024-05-15T10:30:30.185Z"
   },
   {
    "duration": 11,
    "start_time": "2024-05-15T10:30:37.727Z"
   },
   {
    "duration": 4,
    "start_time": "2024-05-15T10:31:48.116Z"
   },
   {
    "duration": 1104,
    "start_time": "2024-05-15T10:32:03.744Z"
   },
   {
    "duration": 643,
    "start_time": "2024-05-15T10:32:04.850Z"
   },
   {
    "duration": 11,
    "start_time": "2024-05-15T10:32:05.494Z"
   },
   {
    "duration": 76,
    "start_time": "2024-05-15T10:32:05.507Z"
   },
   {
    "duration": 73,
    "start_time": "2024-05-15T10:32:05.585Z"
   },
   {
    "duration": 26,
    "start_time": "2024-05-15T10:32:05.660Z"
   },
   {
    "duration": 162,
    "start_time": "2024-05-15T10:32:05.688Z"
   },
   {
    "duration": 124,
    "start_time": "2024-05-15T10:32:05.852Z"
   },
   {
    "duration": 22,
    "start_time": "2024-05-15T10:32:05.978Z"
   },
   {
    "duration": 50,
    "start_time": "2024-05-15T10:32:06.003Z"
   },
   {
    "duration": 42,
    "start_time": "2024-05-15T10:32:06.054Z"
   },
   {
    "duration": 207,
    "start_time": "2024-05-15T10:32:06.098Z"
   },
   {
    "duration": 56,
    "start_time": "2024-05-15T10:32:06.306Z"
   },
   {
    "duration": 12,
    "start_time": "2024-05-15T10:32:06.363Z"
   },
   {
    "duration": 13,
    "start_time": "2024-05-15T10:32:06.377Z"
   },
   {
    "duration": 8,
    "start_time": "2024-05-15T10:32:06.391Z"
   },
   {
    "duration": 29,
    "start_time": "2024-05-15T10:32:06.400Z"
   },
   {
    "duration": 21,
    "start_time": "2024-05-15T10:32:06.430Z"
   },
   {
    "duration": 23,
    "start_time": "2024-05-15T10:32:06.453Z"
   },
   {
    "duration": 49,
    "start_time": "2024-05-15T10:32:06.477Z"
   },
   {
    "duration": 11,
    "start_time": "2024-05-15T10:32:06.527Z"
   },
   {
    "duration": 25,
    "start_time": "2024-05-15T10:32:06.540Z"
   },
   {
    "duration": 11,
    "start_time": "2024-05-15T10:32:06.566Z"
   },
   {
    "duration": 12,
    "start_time": "2024-05-15T10:32:06.579Z"
   },
   {
    "duration": 8,
    "start_time": "2024-05-15T10:32:06.593Z"
   },
   {
    "duration": 13,
    "start_time": "2024-05-15T10:32:06.603Z"
   },
   {
    "duration": 14,
    "start_time": "2024-05-15T10:32:06.617Z"
   },
   {
    "duration": 18,
    "start_time": "2024-05-15T10:32:06.634Z"
   },
   {
    "duration": 9,
    "start_time": "2024-05-15T10:32:06.653Z"
   },
   {
    "duration": 16,
    "start_time": "2024-05-15T10:32:06.664Z"
   },
   {
    "duration": 15,
    "start_time": "2024-05-15T10:32:06.681Z"
   },
   {
    "duration": 11,
    "start_time": "2024-05-15T10:32:06.698Z"
   },
   {
    "duration": 8,
    "start_time": "2024-05-15T10:32:06.710Z"
   },
   {
    "duration": 9,
    "start_time": "2024-05-15T10:32:06.720Z"
   },
   {
    "duration": 20,
    "start_time": "2024-05-15T10:32:06.730Z"
   },
   {
    "duration": 9,
    "start_time": "2024-05-15T10:32:06.752Z"
   },
   {
    "duration": 9,
    "start_time": "2024-05-15T10:32:06.762Z"
   },
   {
    "duration": 7,
    "start_time": "2024-05-15T10:32:06.773Z"
   },
   {
    "duration": 11,
    "start_time": "2024-05-15T10:32:06.781Z"
   },
   {
    "duration": 470,
    "start_time": "2024-05-15T10:32:06.794Z"
   },
   {
    "duration": 1190,
    "start_time": "2024-05-15T10:32:36.734Z"
   },
   {
    "duration": 704,
    "start_time": "2024-05-15T10:32:37.925Z"
   },
   {
    "duration": 14,
    "start_time": "2024-05-15T10:32:38.631Z"
   },
   {
    "duration": 94,
    "start_time": "2024-05-15T10:32:38.646Z"
   },
   {
    "duration": 97,
    "start_time": "2024-05-15T10:32:38.741Z"
   },
   {
    "duration": 10,
    "start_time": "2024-05-15T10:32:38.839Z"
   },
   {
    "duration": 199,
    "start_time": "2024-05-15T10:32:38.851Z"
   },
   {
    "duration": 133,
    "start_time": "2024-05-15T10:32:39.052Z"
   },
   {
    "duration": 21,
    "start_time": "2024-05-15T10:32:39.187Z"
   },
   {
    "duration": 20,
    "start_time": "2024-05-15T10:32:39.210Z"
   },
   {
    "duration": 33,
    "start_time": "2024-05-15T10:32:39.244Z"
   },
   {
    "duration": 274,
    "start_time": "2024-05-15T10:32:39.278Z"
   },
   {
    "duration": 51,
    "start_time": "2024-05-15T10:32:39.554Z"
   },
   {
    "duration": 8,
    "start_time": "2024-05-15T10:32:39.607Z"
   },
   {
    "duration": 41,
    "start_time": "2024-05-15T10:32:39.617Z"
   },
   {
    "duration": 14,
    "start_time": "2024-05-15T10:32:39.660Z"
   },
   {
    "duration": 24,
    "start_time": "2024-05-15T10:32:39.676Z"
   },
   {
    "duration": 34,
    "start_time": "2024-05-15T10:32:39.702Z"
   },
   {
    "duration": 27,
    "start_time": "2024-05-15T10:32:39.738Z"
   },
   {
    "duration": 44,
    "start_time": "2024-05-15T10:32:39.767Z"
   },
   {
    "duration": 22,
    "start_time": "2024-05-15T10:32:39.813Z"
   },
   {
    "duration": 10,
    "start_time": "2024-05-15T10:32:39.837Z"
   },
   {
    "duration": 15,
    "start_time": "2024-05-15T10:32:39.849Z"
   },
   {
    "duration": 18,
    "start_time": "2024-05-15T10:32:39.866Z"
   },
   {
    "duration": 18,
    "start_time": "2024-05-15T10:32:39.886Z"
   },
   {
    "duration": 7,
    "start_time": "2024-05-15T10:32:39.906Z"
   },
   {
    "duration": 30,
    "start_time": "2024-05-15T10:32:39.915Z"
   },
   {
    "duration": 22,
    "start_time": "2024-05-15T10:32:39.948Z"
   },
   {
    "duration": 14,
    "start_time": "2024-05-15T10:32:39.972Z"
   },
   {
    "duration": 23,
    "start_time": "2024-05-15T10:32:39.987Z"
   },
   {
    "duration": 68,
    "start_time": "2024-05-15T10:32:40.012Z"
   },
   {
    "duration": 46,
    "start_time": "2024-05-15T10:32:40.082Z"
   },
   {
    "duration": 61,
    "start_time": "2024-05-15T10:32:40.129Z"
   },
   {
    "duration": 41,
    "start_time": "2024-05-15T10:32:40.192Z"
   },
   {
    "duration": 53,
    "start_time": "2024-05-15T10:32:40.235Z"
   },
   {
    "duration": 21,
    "start_time": "2024-05-15T10:32:40.290Z"
   },
   {
    "duration": 37,
    "start_time": "2024-05-15T10:32:40.313Z"
   },
   {
    "duration": 42,
    "start_time": "2024-05-15T10:32:40.352Z"
   },
   {
    "duration": 521,
    "start_time": "2024-05-15T10:32:40.396Z"
   },
   {
    "duration": 449,
    "start_time": "2024-05-15T10:33:21.705Z"
   },
   {
    "duration": 13,
    "start_time": "2024-05-15T10:40:14.279Z"
   },
   {
    "duration": 12,
    "start_time": "2024-05-15T10:42:00.361Z"
   },
   {
    "duration": 41,
    "start_time": "2024-05-15T10:46:43.230Z"
   },
   {
    "duration": 71,
    "start_time": "2024-05-15T10:48:40.800Z"
   },
   {
    "duration": 66,
    "start_time": "2024-05-15T10:49:33.418Z"
   },
   {
    "duration": 92,
    "start_time": "2024-05-15T10:50:12.049Z"
   },
   {
    "duration": 32,
    "start_time": "2024-05-15T10:50:19.453Z"
   },
   {
    "duration": 18,
    "start_time": "2024-05-15T10:50:29.943Z"
   },
   {
    "duration": 19,
    "start_time": "2024-05-15T10:51:21.091Z"
   },
   {
    "duration": 21,
    "start_time": "2024-05-15T10:51:30.406Z"
   },
   {
    "duration": 22,
    "start_time": "2024-05-15T10:55:43.562Z"
   },
   {
    "duration": 21,
    "start_time": "2024-05-15T11:55:10.667Z"
   },
   {
    "duration": 7,
    "start_time": "2024-05-15T11:55:18.455Z"
   },
   {
    "duration": 19,
    "start_time": "2024-05-15T11:57:01.421Z"
   },
   {
    "duration": 7,
    "start_time": "2024-05-15T11:57:02.554Z"
   },
   {
    "duration": 891,
    "start_time": "2024-05-15T11:59:19.078Z"
   },
   {
    "duration": 0,
    "start_time": "2024-05-15T11:59:19.971Z"
   },
   {
    "duration": 21,
    "start_time": "2024-05-15T11:59:40.474Z"
   },
   {
    "duration": 8,
    "start_time": "2024-05-15T11:59:40.996Z"
   },
   {
    "duration": 22,
    "start_time": "2024-05-15T12:00:03.762Z"
   },
   {
    "duration": 7,
    "start_time": "2024-05-15T12:00:03.962Z"
   },
   {
    "duration": 257,
    "start_time": "2024-05-15T12:11:02.489Z"
   },
   {
    "duration": 931,
    "start_time": "2024-05-15T12:14:14.545Z"
   },
   {
    "duration": 857,
    "start_time": "2024-05-15T12:14:43.153Z"
   },
   {
    "duration": 988,
    "start_time": "2024-05-15T12:17:19.642Z"
   },
   {
    "duration": 141,
    "start_time": "2024-05-15T12:19:32.552Z"
   },
   {
    "duration": 12,
    "start_time": "2024-05-15T12:20:44.962Z"
   },
   {
    "duration": 155,
    "start_time": "2024-05-15T12:20:56.942Z"
   },
   {
    "duration": 151,
    "start_time": "2024-05-15T12:21:05.807Z"
   },
   {
    "duration": 149,
    "start_time": "2024-05-15T12:22:19.069Z"
   },
   {
    "duration": 441,
    "start_time": "2024-05-15T12:23:27.625Z"
   },
   {
    "duration": 347,
    "start_time": "2024-05-15T12:24:49.152Z"
   },
   {
    "duration": 228,
    "start_time": "2024-05-15T12:33:16.578Z"
   },
   {
    "duration": 951,
    "start_time": "2024-05-15T12:39:42.993Z"
   },
   {
    "duration": 0,
    "start_time": "2024-05-15T12:39:43.947Z"
   },
   {
    "duration": 23,
    "start_time": "2024-05-15T12:40:00.802Z"
   },
   {
    "duration": 7,
    "start_time": "2024-05-15T12:40:01.800Z"
   },
   {
    "duration": 151,
    "start_time": "2024-05-15T12:40:02.628Z"
   },
   {
    "duration": 190,
    "start_time": "2024-05-15T12:40:03.447Z"
   },
   {
    "duration": 21,
    "start_time": "2024-05-15T12:41:44.907Z"
   },
   {
    "duration": 7,
    "start_time": "2024-05-15T12:41:50.573Z"
   },
   {
    "duration": 32,
    "start_time": "2024-05-15T12:42:21.492Z"
   },
   {
    "duration": 10,
    "start_time": "2024-05-15T12:42:22.209Z"
   },
   {
    "duration": 91,
    "start_time": "2024-05-15T12:43:45.723Z"
   },
   {
    "duration": 742,
    "start_time": "2024-05-15T12:43:49.700Z"
   },
   {
    "duration": 30,
    "start_time": "2024-05-15T12:43:54.658Z"
   },
   {
    "duration": 6,
    "start_time": "2024-05-15T12:43:56.426Z"
   },
   {
    "duration": 137,
    "start_time": "2024-05-15T12:46:35.819Z"
   },
   {
    "duration": 150,
    "start_time": "2024-05-15T12:47:34.175Z"
   },
   {
    "duration": 134,
    "start_time": "2024-05-15T13:30:15.266Z"
   },
   {
    "duration": 259,
    "start_time": "2024-05-15T13:30:46.322Z"
   },
   {
    "duration": 286,
    "start_time": "2024-05-15T13:31:46.868Z"
   },
   {
    "duration": 126,
    "start_time": "2024-05-15T13:33:26.168Z"
   },
   {
    "duration": 143,
    "start_time": "2024-05-15T13:33:38.773Z"
   },
   {
    "duration": 197,
    "start_time": "2024-05-15T13:34:52.226Z"
   },
   {
    "duration": 363,
    "start_time": "2024-05-15T13:35:20.360Z"
   },
   {
    "duration": 284,
    "start_time": "2024-05-15T13:36:08.234Z"
   },
   {
    "duration": 290,
    "start_time": "2024-05-15T13:36:22.289Z"
   },
   {
    "duration": 285,
    "start_time": "2024-05-15T13:37:29.300Z"
   },
   {
    "duration": 255,
    "start_time": "2024-05-15T13:37:35.675Z"
   },
   {
    "duration": 294,
    "start_time": "2024-05-15T13:38:04.819Z"
   },
   {
    "duration": 30,
    "start_time": "2024-05-15T13:50:29.318Z"
   },
   {
    "duration": 7,
    "start_time": "2024-05-15T13:50:36.321Z"
   },
   {
    "duration": 49,
    "start_time": "2024-05-15T13:57:53.068Z"
   },
   {
    "duration": 73,
    "start_time": "2024-05-15T13:57:59.141Z"
   },
   {
    "duration": 5,
    "start_time": "2024-05-15T13:58:50.995Z"
   },
   {
    "duration": 9,
    "start_time": "2024-05-15T14:06:12.550Z"
   },
   {
    "duration": 4,
    "start_time": "2024-05-15T14:06:21.817Z"
   },
   {
    "duration": 15,
    "start_time": "2024-05-15T14:06:22.365Z"
   },
   {
    "duration": 6,
    "start_time": "2024-05-15T14:07:33.705Z"
   },
   {
    "duration": 214,
    "start_time": "2024-05-15T14:07:34.649Z"
   },
   {
    "duration": 5,
    "start_time": "2024-05-15T14:07:48.697Z"
   },
   {
    "duration": 4,
    "start_time": "2024-05-15T14:08:19.824Z"
   },
   {
    "duration": 372,
    "start_time": "2024-05-15T14:08:21.690Z"
   },
   {
    "duration": 4,
    "start_time": "2024-05-15T14:10:09.521Z"
   },
   {
    "duration": 449,
    "start_time": "2024-05-15T14:10:13.724Z"
   },
   {
    "duration": 5,
    "start_time": "2024-05-15T14:10:25.075Z"
   },
   {
    "duration": 333,
    "start_time": "2024-05-15T14:10:25.286Z"
   },
   {
    "duration": 4,
    "start_time": "2024-05-15T14:10:30.944Z"
   },
   {
    "duration": 374,
    "start_time": "2024-05-15T14:10:32.162Z"
   },
   {
    "duration": 4,
    "start_time": "2024-05-15T14:10:36.640Z"
   },
   {
    "duration": 370,
    "start_time": "2024-05-15T14:10:37.438Z"
   },
   {
    "duration": 5,
    "start_time": "2024-05-15T14:10:42.292Z"
   },
   {
    "duration": 341,
    "start_time": "2024-05-15T14:10:44.102Z"
   },
   {
    "duration": 4,
    "start_time": "2024-05-15T14:10:51.041Z"
   },
   {
    "duration": 438,
    "start_time": "2024-05-15T14:10:51.725Z"
   },
   {
    "duration": 4,
    "start_time": "2024-05-15T14:10:58.085Z"
   },
   {
    "duration": 342,
    "start_time": "2024-05-15T14:10:59.616Z"
   },
   {
    "duration": 4,
    "start_time": "2024-05-15T14:11:05.235Z"
   },
   {
    "duration": 361,
    "start_time": "2024-05-15T14:11:05.933Z"
   },
   {
    "duration": 4,
    "start_time": "2024-05-15T14:11:19.110Z"
   },
   {
    "duration": 327,
    "start_time": "2024-05-15T14:11:19.434Z"
   },
   {
    "duration": 7,
    "start_time": "2024-05-15T14:11:24.395Z"
   },
   {
    "duration": 329,
    "start_time": "2024-05-15T14:11:25.704Z"
   },
   {
    "duration": 4,
    "start_time": "2024-05-15T14:11:30.329Z"
   },
   {
    "duration": 382,
    "start_time": "2024-05-15T14:11:30.740Z"
   },
   {
    "duration": 5,
    "start_time": "2024-05-15T14:12:31.514Z"
   },
   {
    "duration": 455,
    "start_time": "2024-05-15T14:12:32.398Z"
   },
   {
    "duration": 4,
    "start_time": "2024-05-15T14:12:40.054Z"
   },
   {
    "duration": 492,
    "start_time": "2024-05-15T14:12:40.655Z"
   },
   {
    "duration": 5,
    "start_time": "2024-05-15T14:12:59.276Z"
   },
   {
    "duration": 460,
    "start_time": "2024-05-15T14:12:59.828Z"
   },
   {
    "duration": 4,
    "start_time": "2024-05-15T14:13:07.406Z"
   },
   {
    "duration": 425,
    "start_time": "2024-05-15T14:13:08.187Z"
   },
   {
    "duration": 4,
    "start_time": "2024-05-15T14:13:45.270Z"
   },
   {
    "duration": 11,
    "start_time": "2024-05-15T14:14:13.351Z"
   },
   {
    "duration": 1065,
    "start_time": "2024-05-15T14:14:40.165Z"
   },
   {
    "duration": 667,
    "start_time": "2024-05-15T14:14:41.232Z"
   },
   {
    "duration": 12,
    "start_time": "2024-05-15T14:14:41.900Z"
   },
   {
    "duration": 108,
    "start_time": "2024-05-15T14:14:41.913Z"
   },
   {
    "duration": 66,
    "start_time": "2024-05-15T14:14:42.023Z"
   },
   {
    "duration": 3,
    "start_time": "2024-05-15T14:14:42.091Z"
   },
   {
    "duration": 156,
    "start_time": "2024-05-15T14:14:42.095Z"
   },
   {
    "duration": 142,
    "start_time": "2024-05-15T14:14:42.253Z"
   },
   {
    "duration": 21,
    "start_time": "2024-05-15T14:14:42.397Z"
   },
   {
    "duration": 26,
    "start_time": "2024-05-15T14:14:42.420Z"
   },
   {
    "duration": 20,
    "start_time": "2024-05-15T14:14:42.447Z"
   },
   {
    "duration": 231,
    "start_time": "2024-05-15T14:14:42.468Z"
   },
   {
    "duration": 59,
    "start_time": "2024-05-15T14:14:42.700Z"
   },
   {
    "duration": 7,
    "start_time": "2024-05-15T14:14:42.761Z"
   },
   {
    "duration": 11,
    "start_time": "2024-05-15T14:14:42.770Z"
   },
   {
    "duration": 9,
    "start_time": "2024-05-15T14:14:42.782Z"
   },
   {
    "duration": 3,
    "start_time": "2024-05-15T14:14:42.792Z"
   },
   {
    "duration": 22,
    "start_time": "2024-05-15T14:14:42.796Z"
   },
   {
    "duration": 15,
    "start_time": "2024-05-15T14:14:42.819Z"
   },
   {
    "duration": 32,
    "start_time": "2024-05-15T14:14:42.835Z"
   },
   {
    "duration": 9,
    "start_time": "2024-05-15T14:14:42.869Z"
   },
   {
    "duration": 7,
    "start_time": "2024-05-15T14:14:42.880Z"
   },
   {
    "duration": 16,
    "start_time": "2024-05-15T14:14:42.888Z"
   },
   {
    "duration": 10,
    "start_time": "2024-05-15T14:14:42.905Z"
   },
   {
    "duration": 3,
    "start_time": "2024-05-15T14:14:42.945Z"
   },
   {
    "duration": 14,
    "start_time": "2024-05-15T14:14:42.949Z"
   },
   {
    "duration": 4,
    "start_time": "2024-05-15T14:14:42.965Z"
   },
   {
    "duration": 6,
    "start_time": "2024-05-15T14:14:42.970Z"
   },
   {
    "duration": 6,
    "start_time": "2024-05-15T14:14:42.977Z"
   },
   {
    "duration": 12,
    "start_time": "2024-05-15T14:14:42.985Z"
   },
   {
    "duration": 6,
    "start_time": "2024-05-15T14:14:43.044Z"
   },
   {
    "duration": 12,
    "start_time": "2024-05-15T14:14:43.052Z"
   },
   {
    "duration": 20,
    "start_time": "2024-05-15T14:14:43.065Z"
   },
   {
    "duration": 10,
    "start_time": "2024-05-15T14:14:43.086Z"
   },
   {
    "duration": 17,
    "start_time": "2024-05-15T14:14:43.097Z"
   },
   {
    "duration": 8,
    "start_time": "2024-05-15T14:14:43.115Z"
   },
   {
    "duration": 22,
    "start_time": "2024-05-15T14:14:43.124Z"
   },
   {
    "duration": 11,
    "start_time": "2024-05-15T14:14:43.147Z"
   },
   {
    "duration": 476,
    "start_time": "2024-05-15T14:14:43.159Z"
   },
   {
    "duration": 16,
    "start_time": "2024-05-15T14:14:43.636Z"
   },
   {
    "duration": 16,
    "start_time": "2024-05-15T14:14:43.655Z"
   },
   {
    "duration": 27,
    "start_time": "2024-05-15T14:14:43.673Z"
   },
   {
    "duration": 7,
    "start_time": "2024-05-15T14:14:43.702Z"
   },
   {
    "duration": 12,
    "start_time": "2024-05-15T14:14:43.710Z"
   },
   {
    "duration": 112,
    "start_time": "2024-05-15T14:14:43.724Z"
   },
   {
    "duration": 0,
    "start_time": "2024-05-15T14:14:43.838Z"
   },
   {
    "duration": 0,
    "start_time": "2024-05-15T14:14:43.839Z"
   },
   {
    "duration": 0,
    "start_time": "2024-05-15T14:14:43.845Z"
   },
   {
    "duration": 0,
    "start_time": "2024-05-15T14:14:43.847Z"
   },
   {
    "duration": 0,
    "start_time": "2024-05-15T14:14:43.848Z"
   },
   {
    "duration": 0,
    "start_time": "2024-05-15T14:14:43.850Z"
   },
   {
    "duration": 0,
    "start_time": "2024-05-15T14:14:43.851Z"
   },
   {
    "duration": 0,
    "start_time": "2024-05-15T14:14:43.852Z"
   },
   {
    "duration": 322,
    "start_time": "2024-05-15T14:15:35.291Z"
   },
   {
    "duration": 262,
    "start_time": "2024-05-15T14:15:38.896Z"
   },
   {
    "duration": 20,
    "start_time": "2024-05-15T14:15:39.418Z"
   },
   {
    "duration": 6,
    "start_time": "2024-05-15T14:15:39.572Z"
   },
   {
    "duration": 272,
    "start_time": "2024-05-15T14:15:39.738Z"
   },
   {
    "duration": 21,
    "start_time": "2024-05-15T14:15:40.201Z"
   },
   {
    "duration": 7,
    "start_time": "2024-05-15T14:15:40.352Z"
   },
   {
    "duration": 4,
    "start_time": "2024-05-15T14:15:40.520Z"
   },
   {
    "duration": 353,
    "start_time": "2024-05-15T14:15:40.667Z"
   },
   {
    "duration": 4,
    "start_time": "2024-05-15T14:15:57.464Z"
   },
   {
    "duration": 248,
    "start_time": "2024-05-15T14:15:58.613Z"
   },
   {
    "duration": 411,
    "start_time": "2024-05-15T14:16:35.830Z"
   },
   {
    "duration": 21,
    "start_time": "2024-05-15T14:18:01.579Z"
   },
   {
    "duration": 7,
    "start_time": "2024-05-15T14:18:03.307Z"
   },
   {
    "duration": 5,
    "start_time": "2024-05-15T14:18:05.938Z"
   },
   {
    "duration": 395,
    "start_time": "2024-05-15T14:18:07.961Z"
   },
   {
    "duration": 20,
    "start_time": "2024-05-15T14:18:21.092Z"
   },
   {
    "duration": 6,
    "start_time": "2024-05-15T14:18:21.585Z"
   },
   {
    "duration": 278,
    "start_time": "2024-05-15T14:18:22.111Z"
   },
   {
    "duration": 1174,
    "start_time": "2024-05-15T14:19:14.739Z"
   },
   {
    "duration": 693,
    "start_time": "2024-05-15T14:19:15.914Z"
   },
   {
    "duration": 13,
    "start_time": "2024-05-15T14:19:16.608Z"
   },
   {
    "duration": 94,
    "start_time": "2024-05-15T14:19:16.623Z"
   },
   {
    "duration": 100,
    "start_time": "2024-05-15T14:19:16.719Z"
   },
   {
    "duration": 4,
    "start_time": "2024-05-15T14:19:16.821Z"
   },
   {
    "duration": 179,
    "start_time": "2024-05-15T14:19:16.826Z"
   },
   {
    "duration": 140,
    "start_time": "2024-05-15T14:19:17.007Z"
   },
   {
    "duration": 39,
    "start_time": "2024-05-15T14:19:17.149Z"
   },
   {
    "duration": 26,
    "start_time": "2024-05-15T14:19:17.190Z"
   },
   {
    "duration": 45,
    "start_time": "2024-05-15T14:19:17.219Z"
   },
   {
    "duration": 247,
    "start_time": "2024-05-15T14:19:17.266Z"
   },
   {
    "duration": 62,
    "start_time": "2024-05-15T14:19:17.515Z"
   },
   {
    "duration": 9,
    "start_time": "2024-05-15T14:19:17.580Z"
   },
   {
    "duration": 14,
    "start_time": "2024-05-15T14:19:17.590Z"
   },
   {
    "duration": 7,
    "start_time": "2024-05-15T14:19:17.606Z"
   },
   {
    "duration": 11,
    "start_time": "2024-05-15T14:19:17.614Z"
   },
   {
    "duration": 21,
    "start_time": "2024-05-15T14:19:17.645Z"
   },
   {
    "duration": 14,
    "start_time": "2024-05-15T14:19:17.667Z"
   },
   {
    "duration": 34,
    "start_time": "2024-05-15T14:19:17.682Z"
   },
   {
    "duration": 9,
    "start_time": "2024-05-15T14:19:17.717Z"
   },
   {
    "duration": 44,
    "start_time": "2024-05-15T14:19:17.728Z"
   },
   {
    "duration": 25,
    "start_time": "2024-05-15T14:19:17.773Z"
   },
   {
    "duration": 17,
    "start_time": "2024-05-15T14:19:17.799Z"
   },
   {
    "duration": 5,
    "start_time": "2024-05-15T14:19:17.818Z"
   },
   {
    "duration": 6,
    "start_time": "2024-05-15T14:19:17.825Z"
   },
   {
    "duration": 4,
    "start_time": "2024-05-15T14:19:17.832Z"
   },
   {
    "duration": 3,
    "start_time": "2024-05-15T14:19:17.838Z"
   },
   {
    "duration": 9,
    "start_time": "2024-05-15T14:19:17.843Z"
   },
   {
    "duration": 10,
    "start_time": "2024-05-15T14:19:17.854Z"
   },
   {
    "duration": 6,
    "start_time": "2024-05-15T14:19:17.866Z"
   },
   {
    "duration": 31,
    "start_time": "2024-05-15T14:19:17.873Z"
   },
   {
    "duration": 16,
    "start_time": "2024-05-15T14:19:17.906Z"
   },
   {
    "duration": 19,
    "start_time": "2024-05-15T14:19:17.923Z"
   },
   {
    "duration": 20,
    "start_time": "2024-05-15T14:19:17.943Z"
   },
   {
    "duration": 15,
    "start_time": "2024-05-15T14:19:17.965Z"
   },
   {
    "duration": 31,
    "start_time": "2024-05-15T14:19:17.982Z"
   },
   {
    "duration": 42,
    "start_time": "2024-05-15T14:19:18.015Z"
   },
   {
    "duration": 484,
    "start_time": "2024-05-15T14:19:18.059Z"
   },
   {
    "duration": 22,
    "start_time": "2024-05-15T14:19:18.546Z"
   },
   {
    "duration": 13,
    "start_time": "2024-05-15T14:19:18.572Z"
   },
   {
    "duration": 22,
    "start_time": "2024-05-15T14:19:18.587Z"
   },
   {
    "duration": 7,
    "start_time": "2024-05-15T14:19:18.610Z"
   },
   {
    "duration": 9,
    "start_time": "2024-05-15T14:19:18.645Z"
   },
   {
    "duration": 305,
    "start_time": "2024-05-15T14:19:18.656Z"
   },
   {
    "duration": 19,
    "start_time": "2024-05-15T14:19:18.963Z"
   },
   {
    "duration": 21,
    "start_time": "2024-05-15T14:19:18.984Z"
   },
   {
    "duration": 283,
    "start_time": "2024-05-15T14:19:19.007Z"
   },
   {
    "duration": 20,
    "start_time": "2024-05-15T14:19:19.292Z"
   },
   {
    "duration": 10,
    "start_time": "2024-05-15T14:19:19.313Z"
   },
   {
    "duration": 109,
    "start_time": "2024-05-15T14:19:19.325Z"
   },
   {
    "duration": 7,
    "start_time": "2024-05-15T14:20:28.773Z"
   },
   {
    "duration": 7,
    "start_time": "2024-05-15T14:20:32.194Z"
   },
   {
    "duration": 375,
    "start_time": "2024-05-15T14:20:44.419Z"
   },
   {
    "duration": 4,
    "start_time": "2024-05-15T14:24:14.891Z"
   },
   {
    "duration": 3,
    "start_time": "2024-05-15T14:25:24.633Z"
   },
   {
    "duration": 28,
    "start_time": "2024-05-15T14:25:24.984Z"
   },
   {
    "duration": 51,
    "start_time": "2024-05-15T14:25:56.298Z"
   },
   {
    "duration": 56,
    "start_time": "2024-05-15T14:27:08.127Z"
   },
   {
    "duration": 3,
    "start_time": "2024-05-15T14:27:34.571Z"
   },
   {
    "duration": 916,
    "start_time": "2024-05-15T14:27:34.987Z"
   },
   {
    "duration": 4,
    "start_time": "2024-05-15T14:28:02.983Z"
   },
   {
    "duration": 54,
    "start_time": "2024-05-15T14:28:03.446Z"
   },
   {
    "duration": 44,
    "start_time": "2024-05-15T14:28:23.165Z"
   },
   {
    "duration": 57,
    "start_time": "2024-05-15T14:28:33.038Z"
   },
   {
    "duration": 4,
    "start_time": "2024-05-15T14:39:12.518Z"
   },
   {
    "duration": 4,
    "start_time": "2024-05-15T14:39:12.901Z"
   },
   {
    "duration": 48,
    "start_time": "2024-05-15T14:39:13.382Z"
   },
   {
    "duration": 265,
    "start_time": "2024-05-15T14:39:14.182Z"
   },
   {
    "duration": 45,
    "start_time": "2024-05-15T14:39:51.382Z"
   },
   {
    "duration": 247,
    "start_time": "2024-05-15T14:40:03.534Z"
   },
   {
    "duration": 53,
    "start_time": "2024-05-15T14:40:27.600Z"
   },
   {
    "duration": 404,
    "start_time": "2024-05-15T14:40:34.988Z"
   },
   {
    "duration": 4,
    "start_time": "2024-05-15T14:54:27.477Z"
   },
   {
    "duration": 4,
    "start_time": "2024-05-15T14:54:28.105Z"
   },
   {
    "duration": 46,
    "start_time": "2024-05-15T14:54:28.600Z"
   },
   {
    "duration": 4,
    "start_time": "2024-05-15T14:54:38.732Z"
   },
   {
    "duration": 4,
    "start_time": "2024-05-15T14:54:39.268Z"
   },
   {
    "duration": 47,
    "start_time": "2024-05-15T14:54:39.867Z"
   },
   {
    "duration": 264,
    "start_time": "2024-05-15T14:54:41.702Z"
   },
   {
    "duration": 3,
    "start_time": "2024-05-15T14:55:42.765Z"
   },
   {
    "duration": 4,
    "start_time": "2024-05-15T14:55:43.212Z"
   },
   {
    "duration": 47,
    "start_time": "2024-05-15T14:55:43.852Z"
   },
   {
    "duration": 1132,
    "start_time": "2024-05-15T14:57:02.743Z"
   },
   {
    "duration": 658,
    "start_time": "2024-05-15T14:57:03.877Z"
   },
   {
    "duration": 12,
    "start_time": "2024-05-15T14:57:04.537Z"
   },
   {
    "duration": 70,
    "start_time": "2024-05-15T14:57:04.551Z"
   },
   {
    "duration": 75,
    "start_time": "2024-05-15T14:57:04.623Z"
   },
   {
    "duration": 3,
    "start_time": "2024-05-15T14:57:04.699Z"
   },
   {
    "duration": 152,
    "start_time": "2024-05-15T14:57:04.703Z"
   },
   {
    "duration": 133,
    "start_time": "2024-05-15T14:57:04.856Z"
   },
   {
    "duration": 25,
    "start_time": "2024-05-15T14:57:04.992Z"
   },
   {
    "duration": 28,
    "start_time": "2024-05-15T14:57:05.018Z"
   },
   {
    "duration": 21,
    "start_time": "2024-05-15T14:57:05.048Z"
   },
   {
    "duration": 258,
    "start_time": "2024-05-15T14:57:05.071Z"
   },
   {
    "duration": 49,
    "start_time": "2024-05-15T14:57:05.331Z"
   },
   {
    "duration": 8,
    "start_time": "2024-05-15T14:57:05.382Z"
   },
   {
    "duration": 14,
    "start_time": "2024-05-15T14:57:05.391Z"
   },
   {
    "duration": 26,
    "start_time": "2024-05-15T14:57:05.407Z"
   },
   {
    "duration": 4,
    "start_time": "2024-05-15T14:57:05.435Z"
   },
   {
    "duration": 19,
    "start_time": "2024-05-15T14:57:05.440Z"
   },
   {
    "duration": 10,
    "start_time": "2024-05-15T14:57:05.461Z"
   },
   {
    "duration": 59,
    "start_time": "2024-05-15T14:57:05.472Z"
   },
   {
    "duration": 17,
    "start_time": "2024-05-15T14:57:05.533Z"
   },
   {
    "duration": 30,
    "start_time": "2024-05-15T14:57:05.552Z"
   },
   {
    "duration": 30,
    "start_time": "2024-05-15T14:57:05.584Z"
   },
   {
    "duration": 22,
    "start_time": "2024-05-15T14:57:05.616Z"
   },
   {
    "duration": 25,
    "start_time": "2024-05-15T14:57:05.640Z"
   },
   {
    "duration": 20,
    "start_time": "2024-05-15T14:57:05.667Z"
   },
   {
    "duration": 24,
    "start_time": "2024-05-15T14:57:05.689Z"
   },
   {
    "duration": 10,
    "start_time": "2024-05-15T14:57:05.715Z"
   },
   {
    "duration": 9,
    "start_time": "2024-05-15T14:57:05.727Z"
   },
   {
    "duration": 11,
    "start_time": "2024-05-15T14:57:05.738Z"
   },
   {
    "duration": 11,
    "start_time": "2024-05-15T14:57:05.751Z"
   },
   {
    "duration": 13,
    "start_time": "2024-05-15T14:57:05.764Z"
   },
   {
    "duration": 16,
    "start_time": "2024-05-15T14:57:05.779Z"
   },
   {
    "duration": 18,
    "start_time": "2024-05-15T14:57:05.796Z"
   },
   {
    "duration": 15,
    "start_time": "2024-05-15T14:57:05.816Z"
   },
   {
    "duration": 17,
    "start_time": "2024-05-15T14:57:05.832Z"
   },
   {
    "duration": 24,
    "start_time": "2024-05-15T14:57:05.851Z"
   },
   {
    "duration": 23,
    "start_time": "2024-05-15T14:57:05.877Z"
   },
   {
    "duration": 478,
    "start_time": "2024-05-15T14:57:05.902Z"
   },
   {
    "duration": 13,
    "start_time": "2024-05-15T14:57:06.381Z"
   },
   {
    "duration": 22,
    "start_time": "2024-05-15T14:57:06.397Z"
   },
   {
    "duration": 4,
    "start_time": "2024-05-15T14:57:06.421Z"
   },
   {
    "duration": 20,
    "start_time": "2024-05-15T14:57:06.426Z"
   },
   {
    "duration": 47,
    "start_time": "2024-05-15T14:57:06.448Z"
   },
   {
    "duration": 294,
    "start_time": "2024-05-15T14:57:06.497Z"
   },
   {
    "duration": 54,
    "start_time": "2024-05-15T14:57:06.792Z"
   },
   {
    "duration": 101,
    "start_time": "2024-05-15T14:57:06.847Z"
   },
   {
    "duration": 0,
    "start_time": "2024-05-15T14:57:06.950Z"
   },
   {
    "duration": 0,
    "start_time": "2024-05-15T14:57:06.951Z"
   },
   {
    "duration": 45,
    "start_time": "2024-05-15T14:59:09.411Z"
   },
   {
    "duration": 256,
    "start_time": "2024-05-15T14:59:13.004Z"
   },
   {
    "duration": 1105,
    "start_time": "2024-05-15T14:59:47.180Z"
   },
   {
    "duration": 645,
    "start_time": "2024-05-15T14:59:48.287Z"
   },
   {
    "duration": 11,
    "start_time": "2024-05-15T14:59:48.934Z"
   },
   {
    "duration": 70,
    "start_time": "2024-05-15T14:59:48.947Z"
   },
   {
    "duration": 80,
    "start_time": "2024-05-15T14:59:49.019Z"
   },
   {
    "duration": 3,
    "start_time": "2024-05-15T14:59:49.101Z"
   },
   {
    "duration": 150,
    "start_time": "2024-05-15T14:59:49.105Z"
   },
   {
    "duration": 128,
    "start_time": "2024-05-15T14:59:49.257Z"
   },
   {
    "duration": 21,
    "start_time": "2024-05-15T14:59:49.386Z"
   },
   {
    "duration": 19,
    "start_time": "2024-05-15T14:59:49.409Z"
   },
   {
    "duration": 20,
    "start_time": "2024-05-15T14:59:49.445Z"
   },
   {
    "duration": 239,
    "start_time": "2024-05-15T14:59:49.467Z"
   },
   {
    "duration": 50,
    "start_time": "2024-05-15T14:59:49.708Z"
   },
   {
    "duration": 7,
    "start_time": "2024-05-15T14:59:49.760Z"
   },
   {
    "duration": 11,
    "start_time": "2024-05-15T14:59:49.768Z"
   },
   {
    "duration": 7,
    "start_time": "2024-05-15T14:59:49.780Z"
   },
   {
    "duration": 3,
    "start_time": "2024-05-15T14:59:49.788Z"
   },
   {
    "duration": 15,
    "start_time": "2024-05-15T14:59:49.792Z"
   },
   {
    "duration": 41,
    "start_time": "2024-05-15T14:59:49.809Z"
   },
   {
    "duration": 36,
    "start_time": "2024-05-15T14:59:49.852Z"
   },
   {
    "duration": 9,
    "start_time": "2024-05-15T14:59:49.889Z"
   },
   {
    "duration": 6,
    "start_time": "2024-05-15T14:59:49.900Z"
   },
   {
    "duration": 9,
    "start_time": "2024-05-15T14:59:49.908Z"
   },
   {
    "duration": 28,
    "start_time": "2024-05-15T14:59:49.918Z"
   },
   {
    "duration": 24,
    "start_time": "2024-05-15T14:59:49.948Z"
   },
   {
    "duration": 18,
    "start_time": "2024-05-15T14:59:49.973Z"
   },
   {
    "duration": 21,
    "start_time": "2024-05-15T14:59:49.993Z"
   },
   {
    "duration": 34,
    "start_time": "2024-05-15T14:59:50.017Z"
   },
   {
    "duration": 32,
    "start_time": "2024-05-15T14:59:50.052Z"
   },
   {
    "duration": 21,
    "start_time": "2024-05-15T14:59:50.085Z"
   },
   {
    "duration": 6,
    "start_time": "2024-05-15T14:59:50.107Z"
   },
   {
    "duration": 10,
    "start_time": "2024-05-15T14:59:50.115Z"
   },
   {
    "duration": 9,
    "start_time": "2024-05-15T14:59:50.126Z"
   },
   {
    "duration": 12,
    "start_time": "2024-05-15T14:59:50.137Z"
   },
   {
    "duration": 25,
    "start_time": "2024-05-15T14:59:50.150Z"
   },
   {
    "duration": 9,
    "start_time": "2024-05-15T14:59:50.176Z"
   },
   {
    "duration": 6,
    "start_time": "2024-05-15T14:59:50.186Z"
   },
   {
    "duration": 11,
    "start_time": "2024-05-15T14:59:50.193Z"
   },
   {
    "duration": 461,
    "start_time": "2024-05-15T14:59:50.205Z"
   },
   {
    "duration": 13,
    "start_time": "2024-05-15T14:59:50.667Z"
   },
   {
    "duration": 18,
    "start_time": "2024-05-15T14:59:50.681Z"
   },
   {
    "duration": 11,
    "start_time": "2024-05-15T14:59:50.700Z"
   },
   {
    "duration": 27,
    "start_time": "2024-05-15T14:59:50.713Z"
   },
   {
    "duration": 54,
    "start_time": "2024-05-15T14:59:50.742Z"
   },
   {
    "duration": 270,
    "start_time": "2024-05-15T14:59:50.798Z"
   },
   {
    "duration": 46,
    "start_time": "2024-05-15T14:59:51.069Z"
   },
   {
    "duration": 259,
    "start_time": "2024-05-15T14:59:51.116Z"
   },
   {
    "duration": 49,
    "start_time": "2024-05-15T14:59:51.377Z"
   },
   {
    "duration": 371,
    "start_time": "2024-05-15T14:59:51.427Z"
   },
   {
    "duration": 20,
    "start_time": "2024-05-15T16:14:45.908Z"
   },
   {
    "duration": 101,
    "start_time": "2024-05-15T16:15:14.765Z"
   },
   {
    "duration": 16,
    "start_time": "2024-05-15T16:15:21.616Z"
   },
   {
    "duration": 31,
    "start_time": "2024-05-15T16:15:32.835Z"
   },
   {
    "duration": 24,
    "start_time": "2024-05-15T16:16:17.720Z"
   },
   {
    "duration": 22,
    "start_time": "2024-05-15T16:16:23.551Z"
   },
   {
    "duration": 29,
    "start_time": "2024-05-15T16:17:02.236Z"
   },
   {
    "duration": 4,
    "start_time": "2024-05-15T16:17:59.956Z"
   },
   {
    "duration": 30,
    "start_time": "2024-05-15T16:34:34.432Z"
   },
   {
    "duration": 5,
    "start_time": "2024-05-15T16:35:57.499Z"
   },
   {
    "duration": 22,
    "start_time": "2024-05-15T16:35:58.314Z"
   },
   {
    "duration": 5,
    "start_time": "2024-05-15T16:36:25.154Z"
   },
   {
    "duration": 1394,
    "start_time": "2024-05-16T06:57:10.742Z"
   },
   {
    "duration": 1885,
    "start_time": "2024-05-16T06:57:12.138Z"
   },
   {
    "duration": 13,
    "start_time": "2024-05-16T06:57:14.025Z"
   },
   {
    "duration": 100,
    "start_time": "2024-05-16T06:57:14.040Z"
   },
   {
    "duration": 87,
    "start_time": "2024-05-16T06:57:14.142Z"
   },
   {
    "duration": 47,
    "start_time": "2024-05-16T06:57:14.231Z"
   },
   {
    "duration": 165,
    "start_time": "2024-05-16T06:57:14.280Z"
   },
   {
    "duration": 179,
    "start_time": "2024-05-16T06:57:14.447Z"
   },
   {
    "duration": 34,
    "start_time": "2024-05-16T06:57:14.628Z"
   },
   {
    "duration": 32,
    "start_time": "2024-05-16T06:57:14.670Z"
   },
   {
    "duration": 39,
    "start_time": "2024-05-16T06:57:14.704Z"
   },
   {
    "duration": 270,
    "start_time": "2024-05-16T06:57:14.745Z"
   },
   {
    "duration": 75,
    "start_time": "2024-05-16T06:57:15.017Z"
   },
   {
    "duration": 46,
    "start_time": "2024-05-16T06:57:15.096Z"
   },
   {
    "duration": 71,
    "start_time": "2024-05-16T06:57:15.144Z"
   },
   {
    "duration": 26,
    "start_time": "2024-05-16T06:57:15.216Z"
   },
   {
    "duration": 29,
    "start_time": "2024-05-16T06:57:15.244Z"
   },
   {
    "duration": 47,
    "start_time": "2024-05-16T06:57:15.274Z"
   },
   {
    "duration": 31,
    "start_time": "2024-05-16T06:57:15.323Z"
   },
   {
    "duration": 68,
    "start_time": "2024-05-16T06:57:15.356Z"
   },
   {
    "duration": 31,
    "start_time": "2024-05-16T06:57:15.426Z"
   },
   {
    "duration": 26,
    "start_time": "2024-05-16T06:57:15.459Z"
   },
   {
    "duration": 51,
    "start_time": "2024-05-16T06:57:15.486Z"
   },
   {
    "duration": 43,
    "start_time": "2024-05-16T06:57:15.539Z"
   },
   {
    "duration": 25,
    "start_time": "2024-05-16T06:57:15.584Z"
   },
   {
    "duration": 37,
    "start_time": "2024-05-16T06:57:15.611Z"
   },
   {
    "duration": 12,
    "start_time": "2024-05-16T06:57:15.650Z"
   },
   {
    "duration": 27,
    "start_time": "2024-05-16T06:57:15.664Z"
   },
   {
    "duration": 28,
    "start_time": "2024-05-16T06:57:15.693Z"
   },
   {
    "duration": 29,
    "start_time": "2024-05-16T06:57:15.723Z"
   },
   {
    "duration": 22,
    "start_time": "2024-05-16T06:57:15.754Z"
   },
   {
    "duration": 38,
    "start_time": "2024-05-16T06:57:15.778Z"
   },
   {
    "duration": 38,
    "start_time": "2024-05-16T06:57:15.818Z"
   },
   {
    "duration": 35,
    "start_time": "2024-05-16T06:57:15.858Z"
   },
   {
    "duration": 28,
    "start_time": "2024-05-16T06:57:15.895Z"
   },
   {
    "duration": 37,
    "start_time": "2024-05-16T06:57:15.926Z"
   },
   {
    "duration": 25,
    "start_time": "2024-05-16T06:57:15.964Z"
   },
   {
    "duration": 42,
    "start_time": "2024-05-16T06:57:15.991Z"
   },
   {
    "duration": 543,
    "start_time": "2024-05-16T06:57:16.034Z"
   },
   {
    "duration": 22,
    "start_time": "2024-05-16T06:57:16.579Z"
   },
   {
    "duration": 31,
    "start_time": "2024-05-16T06:57:16.607Z"
   },
   {
    "duration": 20,
    "start_time": "2024-05-16T06:57:16.640Z"
   },
   {
    "duration": 47,
    "start_time": "2024-05-16T06:57:16.662Z"
   },
   {
    "duration": 81,
    "start_time": "2024-05-16T06:57:16.711Z"
   },
   {
    "duration": 315,
    "start_time": "2024-05-16T06:57:16.793Z"
   },
   {
    "duration": 52,
    "start_time": "2024-05-16T06:57:17.109Z"
   },
   {
    "duration": 311,
    "start_time": "2024-05-16T06:57:17.162Z"
   },
   {
    "duration": 55,
    "start_time": "2024-05-16T06:57:17.475Z"
   },
   {
    "duration": 396,
    "start_time": "2024-05-16T06:57:17.532Z"
   },
   {
    "duration": 6,
    "start_time": "2024-05-16T06:57:17.930Z"
   },
   {
    "duration": 60,
    "start_time": "2024-05-16T06:57:17.938Z"
   },
   {
    "duration": 23,
    "start_time": "2024-05-16T06:57:18.000Z"
   },
   {
    "duration": 5,
    "start_time": "2024-05-16T07:19:20.631Z"
   },
   {
    "duration": 9,
    "start_time": "2024-05-16T07:24:27.836Z"
   },
   {
    "duration": 7,
    "start_time": "2024-05-16T07:24:39.955Z"
   },
   {
    "duration": 9,
    "start_time": "2024-05-16T07:24:54.306Z"
   },
   {
    "duration": 68,
    "start_time": "2024-05-16T07:25:46.501Z"
   },
   {
    "duration": 123,
    "start_time": "2024-05-16T07:25:54.174Z"
   },
   {
    "duration": 82,
    "start_time": "2024-05-16T07:26:10.476Z"
   },
   {
    "duration": 12,
    "start_time": "2024-05-16T07:26:18.150Z"
   },
   {
    "duration": 77,
    "start_time": "2024-05-16T07:26:41.225Z"
   },
   {
    "duration": 70,
    "start_time": "2024-05-16T07:26:45.900Z"
   },
   {
    "duration": 84,
    "start_time": "2024-05-16T07:27:25.970Z"
   },
   {
    "duration": 98,
    "start_time": "2024-05-16T07:29:08.738Z"
   },
   {
    "duration": 66,
    "start_time": "2024-05-16T07:29:22.105Z"
   },
   {
    "duration": 84,
    "start_time": "2024-05-16T07:30:15.634Z"
   },
   {
    "duration": 68,
    "start_time": "2024-05-16T07:31:07.428Z"
   },
   {
    "duration": 3,
    "start_time": "2024-05-16T07:32:37.107Z"
   },
   {
    "duration": 5,
    "start_time": "2024-05-16T07:32:44.856Z"
   },
   {
    "duration": 6,
    "start_time": "2024-05-16T07:32:58.381Z"
   },
   {
    "duration": 9,
    "start_time": "2024-05-16T07:33:19.585Z"
   },
   {
    "duration": 5,
    "start_time": "2024-05-16T07:44:14.315Z"
   },
   {
    "duration": 4,
    "start_time": "2024-05-16T07:44:24.384Z"
   },
   {
    "duration": 4,
    "start_time": "2024-05-16T07:44:52.021Z"
   },
   {
    "duration": 1353,
    "start_time": "2024-05-16T08:56:49.221Z"
   },
   {
    "duration": 1878,
    "start_time": "2024-05-16T08:56:50.576Z"
   },
   {
    "duration": 15,
    "start_time": "2024-05-16T08:56:52.456Z"
   },
   {
    "duration": 116,
    "start_time": "2024-05-16T08:56:52.473Z"
   },
   {
    "duration": 72,
    "start_time": "2024-05-16T08:56:52.591Z"
   },
   {
    "duration": 16,
    "start_time": "2024-05-16T08:56:52.665Z"
   },
   {
    "duration": 172,
    "start_time": "2024-05-16T08:56:52.682Z"
   },
   {
    "duration": 144,
    "start_time": "2024-05-16T08:56:52.856Z"
   },
   {
    "duration": 22,
    "start_time": "2024-05-16T08:56:53.001Z"
   },
   {
    "duration": 20,
    "start_time": "2024-05-16T08:56:53.025Z"
   },
   {
    "duration": 51,
    "start_time": "2024-05-16T08:56:53.047Z"
   },
   {
    "duration": 252,
    "start_time": "2024-05-16T08:56:53.099Z"
   },
   {
    "duration": 55,
    "start_time": "2024-05-16T08:56:53.352Z"
   },
   {
    "duration": 16,
    "start_time": "2024-05-16T08:56:53.410Z"
   },
   {
    "duration": 29,
    "start_time": "2024-05-16T08:56:53.427Z"
   },
   {
    "duration": 10,
    "start_time": "2024-05-16T08:56:53.458Z"
   },
   {
    "duration": 13,
    "start_time": "2024-05-16T08:56:53.470Z"
   },
   {
    "duration": 63,
    "start_time": "2024-05-16T08:56:53.484Z"
   },
   {
    "duration": 19,
    "start_time": "2024-05-16T08:56:53.549Z"
   },
   {
    "duration": 46,
    "start_time": "2024-05-16T08:56:53.570Z"
   },
   {
    "duration": 10,
    "start_time": "2024-05-16T08:56:53.618Z"
   },
   {
    "duration": 18,
    "start_time": "2024-05-16T08:56:53.630Z"
   },
   {
    "duration": 17,
    "start_time": "2024-05-16T08:56:53.650Z"
   },
   {
    "duration": 22,
    "start_time": "2024-05-16T08:56:53.669Z"
   },
   {
    "duration": 7,
    "start_time": "2024-05-16T08:56:53.693Z"
   },
   {
    "duration": 10,
    "start_time": "2024-05-16T08:56:53.702Z"
   },
   {
    "duration": 6,
    "start_time": "2024-05-16T08:56:53.714Z"
   },
   {
    "duration": 6,
    "start_time": "2024-05-16T08:56:53.722Z"
   },
   {
    "duration": 31,
    "start_time": "2024-05-16T08:56:53.729Z"
   },
   {
    "duration": 20,
    "start_time": "2024-05-16T08:56:53.762Z"
   },
   {
    "duration": 17,
    "start_time": "2024-05-16T08:56:53.783Z"
   },
   {
    "duration": 19,
    "start_time": "2024-05-16T08:56:53.802Z"
   },
   {
    "duration": 20,
    "start_time": "2024-05-16T08:56:53.823Z"
   },
   {
    "duration": 18,
    "start_time": "2024-05-16T08:56:53.845Z"
   },
   {
    "duration": 22,
    "start_time": "2024-05-16T08:56:53.865Z"
   },
   {
    "duration": 10,
    "start_time": "2024-05-16T08:56:53.889Z"
   },
   {
    "duration": 13,
    "start_time": "2024-05-16T08:56:53.900Z"
   },
   {
    "duration": 10,
    "start_time": "2024-05-16T08:56:53.915Z"
   },
   {
    "duration": 507,
    "start_time": "2024-05-16T08:56:53.927Z"
   },
   {
    "duration": 15,
    "start_time": "2024-05-16T08:56:54.437Z"
   },
   {
    "duration": 29,
    "start_time": "2024-05-16T08:56:54.456Z"
   },
   {
    "duration": 4,
    "start_time": "2024-05-16T08:56:54.486Z"
   },
   {
    "duration": 11,
    "start_time": "2024-05-16T08:56:54.492Z"
   },
   {
    "duration": 76,
    "start_time": "2024-05-16T08:56:54.505Z"
   },
   {
    "duration": 312,
    "start_time": "2024-05-16T08:56:54.583Z"
   },
   {
    "duration": 51,
    "start_time": "2024-05-16T08:56:54.897Z"
   },
   {
    "duration": 284,
    "start_time": "2024-05-16T08:56:54.949Z"
   },
   {
    "duration": 57,
    "start_time": "2024-05-16T08:56:55.235Z"
   },
   {
    "duration": 394,
    "start_time": "2024-05-16T08:56:55.293Z"
   },
   {
    "duration": 4,
    "start_time": "2024-05-16T08:56:55.689Z"
   },
   {
    "duration": 39,
    "start_time": "2024-05-16T08:56:55.695Z"
   },
   {
    "duration": 21,
    "start_time": "2024-05-16T08:56:55.736Z"
   },
   {
    "duration": 110,
    "start_time": "2024-05-16T09:00:42.233Z"
   },
   {
    "duration": 46,
    "start_time": "2024-05-16T09:02:26.717Z"
   },
   {
    "duration": 14,
    "start_time": "2024-05-16T09:02:42.172Z"
   },
   {
    "duration": 39,
    "start_time": "2024-05-16T09:02:58.373Z"
   },
   {
    "duration": 11,
    "start_time": "2024-05-16T09:05:16.295Z"
   },
   {
    "duration": 17,
    "start_time": "2024-05-16T09:05:27.287Z"
   },
   {
    "duration": 16,
    "start_time": "2024-05-16T09:05:51.880Z"
   },
   {
    "duration": 133,
    "start_time": "2024-05-16T09:07:36.316Z"
   },
   {
    "duration": 142,
    "start_time": "2024-05-16T09:07:54.140Z"
   },
   {
    "duration": 25,
    "start_time": "2024-05-16T09:08:55.400Z"
   },
   {
    "duration": 24,
    "start_time": "2024-05-16T09:09:05.484Z"
   },
   {
    "duration": 22,
    "start_time": "2024-05-16T09:09:25.376Z"
   },
   {
    "duration": 7,
    "start_time": "2024-05-16T09:09:26.752Z"
   },
   {
    "duration": 10,
    "start_time": "2024-05-16T09:10:12.958Z"
   },
   {
    "duration": 8,
    "start_time": "2024-05-16T09:11:11.070Z"
   },
   {
    "duration": 143,
    "start_time": "2024-05-16T09:11:16.008Z"
   },
   {
    "duration": 368,
    "start_time": "2024-05-16T09:12:34.619Z"
   },
   {
    "duration": 280,
    "start_time": "2024-05-16T09:12:56.773Z"
   },
   {
    "duration": 292,
    "start_time": "2024-05-16T09:13:27.517Z"
   },
   {
    "duration": 300,
    "start_time": "2024-05-16T09:13:40.168Z"
   },
   {
    "duration": 87,
    "start_time": "2024-05-16T09:19:34.047Z"
   },
   {
    "duration": 74,
    "start_time": "2024-05-16T09:19:44.086Z"
   },
   {
    "duration": 26,
    "start_time": "2024-05-16T09:19:57.070Z"
   },
   {
    "duration": 23,
    "start_time": "2024-05-16T09:21:03.228Z"
   },
   {
    "duration": 68,
    "start_time": "2024-05-16T09:23:43.943Z"
   },
   {
    "duration": 21,
    "start_time": "2024-05-16T09:23:57.219Z"
   },
   {
    "duration": 19,
    "start_time": "2024-05-16T09:24:18.149Z"
   },
   {
    "duration": 24,
    "start_time": "2024-05-16T09:24:27.135Z"
   },
   {
    "duration": 15,
    "start_time": "2024-05-16T09:26:11.364Z"
   },
   {
    "duration": 221,
    "start_time": "2024-05-16T09:26:19.361Z"
   },
   {
    "duration": 231,
    "start_time": "2024-05-16T09:29:15.402Z"
   },
   {
    "duration": 239,
    "start_time": "2024-05-16T09:31:21.417Z"
   },
   {
    "duration": 297,
    "start_time": "2024-05-16T09:31:44.286Z"
   },
   {
    "duration": 267,
    "start_time": "2024-05-16T09:31:53.555Z"
   },
   {
    "duration": 74,
    "start_time": "2024-05-16T09:37:42.338Z"
   },
   {
    "duration": 9,
    "start_time": "2024-05-16T09:37:47.906Z"
   },
   {
    "duration": 54,
    "start_time": "2024-05-16T09:39:51.655Z"
   },
   {
    "duration": 55,
    "start_time": "2024-05-16T09:40:54.032Z"
   },
   {
    "duration": 14,
    "start_time": "2024-05-16T10:11:25.134Z"
   },
   {
    "duration": 1197,
    "start_time": "2024-05-16T10:12:17.545Z"
   },
   {
    "duration": 772,
    "start_time": "2024-05-16T10:12:18.745Z"
   },
   {
    "duration": 13,
    "start_time": "2024-05-16T10:12:19.519Z"
   },
   {
    "duration": 79,
    "start_time": "2024-05-16T10:12:19.534Z"
   },
   {
    "duration": 80,
    "start_time": "2024-05-16T10:12:19.616Z"
   },
   {
    "duration": 4,
    "start_time": "2024-05-16T10:12:19.698Z"
   },
   {
    "duration": 191,
    "start_time": "2024-05-16T10:12:19.704Z"
   },
   {
    "duration": 148,
    "start_time": "2024-05-16T10:12:19.897Z"
   },
   {
    "duration": 34,
    "start_time": "2024-05-16T10:12:20.047Z"
   },
   {
    "duration": 30,
    "start_time": "2024-05-16T10:12:20.083Z"
   },
   {
    "duration": 38,
    "start_time": "2024-05-16T10:12:20.115Z"
   },
   {
    "duration": 238,
    "start_time": "2024-05-16T10:12:20.155Z"
   },
   {
    "duration": 55,
    "start_time": "2024-05-16T10:12:20.395Z"
   },
   {
    "duration": 28,
    "start_time": "2024-05-16T10:12:20.453Z"
   },
   {
    "duration": 34,
    "start_time": "2024-05-16T10:12:20.483Z"
   },
   {
    "duration": 44,
    "start_time": "2024-05-16T10:12:20.519Z"
   },
   {
    "duration": 28,
    "start_time": "2024-05-16T10:12:20.565Z"
   },
   {
    "duration": 42,
    "start_time": "2024-05-16T10:12:20.594Z"
   },
   {
    "duration": 39,
    "start_time": "2024-05-16T10:12:20.638Z"
   },
   {
    "duration": 65,
    "start_time": "2024-05-16T10:12:20.679Z"
   },
   {
    "duration": 13,
    "start_time": "2024-05-16T10:12:20.746Z"
   },
   {
    "duration": 10,
    "start_time": "2024-05-16T10:12:20.760Z"
   },
   {
    "duration": 18,
    "start_time": "2024-05-16T10:12:20.771Z"
   },
   {
    "duration": 16,
    "start_time": "2024-05-16T10:12:20.790Z"
   },
   {
    "duration": 22,
    "start_time": "2024-05-16T10:12:20.808Z"
   },
   {
    "duration": 22,
    "start_time": "2024-05-16T10:12:20.831Z"
   },
   {
    "duration": 16,
    "start_time": "2024-05-16T10:12:20.854Z"
   },
   {
    "duration": 25,
    "start_time": "2024-05-16T10:12:20.872Z"
   },
   {
    "duration": 16,
    "start_time": "2024-05-16T10:12:20.899Z"
   },
   {
    "duration": 28,
    "start_time": "2024-05-16T10:12:20.916Z"
   },
   {
    "duration": 7,
    "start_time": "2024-05-16T10:12:20.946Z"
   },
   {
    "duration": 57,
    "start_time": "2024-05-16T10:12:20.954Z"
   },
   {
    "duration": 106,
    "start_time": "2024-05-16T10:12:21.013Z"
   },
   {
    "duration": 119,
    "start_time": "2024-05-16T10:12:21.121Z"
   },
   {
    "duration": 13,
    "start_time": "2024-05-16T10:12:21.241Z"
   },
   {
    "duration": 13,
    "start_time": "2024-05-16T10:12:21.256Z"
   },
   {
    "duration": 24,
    "start_time": "2024-05-16T10:12:21.271Z"
   },
   {
    "duration": 15,
    "start_time": "2024-05-16T10:12:21.296Z"
   },
   {
    "duration": 506,
    "start_time": "2024-05-16T10:12:21.313Z"
   },
   {
    "duration": 14,
    "start_time": "2024-05-16T10:12:21.821Z"
   },
   {
    "duration": 20,
    "start_time": "2024-05-16T10:12:21.839Z"
   },
   {
    "duration": 19,
    "start_time": "2024-05-16T10:12:21.861Z"
   },
   {
    "duration": 12,
    "start_time": "2024-05-16T10:12:21.881Z"
   },
   {
    "duration": 60,
    "start_time": "2024-05-16T10:12:21.895Z"
   },
   {
    "duration": 330,
    "start_time": "2024-05-16T10:12:21.957Z"
   },
   {
    "duration": 53,
    "start_time": "2024-05-16T10:12:22.289Z"
   },
   {
    "duration": 319,
    "start_time": "2024-05-16T10:12:22.344Z"
   },
   {
    "duration": 64,
    "start_time": "2024-05-16T10:12:22.665Z"
   },
   {
    "duration": 413,
    "start_time": "2024-05-16T10:12:22.731Z"
   },
   {
    "duration": 5,
    "start_time": "2024-05-16T10:12:23.145Z"
   },
   {
    "duration": 38,
    "start_time": "2024-05-16T10:12:23.151Z"
   },
   {
    "duration": 46,
    "start_time": "2024-05-16T10:12:23.191Z"
   },
   {
    "duration": 75,
    "start_time": "2024-05-16T10:12:23.239Z"
   },
   {
    "duration": 37,
    "start_time": "2024-05-16T10:12:23.316Z"
   },
   {
    "duration": 19,
    "start_time": "2024-05-16T10:12:23.355Z"
   },
   {
    "duration": 366,
    "start_time": "2024-05-16T10:12:23.375Z"
   },
   {
    "duration": 24,
    "start_time": "2024-05-16T10:12:23.743Z"
   },
   {
    "duration": 130,
    "start_time": "2024-05-16T10:12:23.780Z"
   },
   {
    "duration": 378,
    "start_time": "2024-05-16T10:12:23.912Z"
   },
   {
    "duration": 3,
    "start_time": "2024-05-16T10:12:24.291Z"
   },
   {
    "duration": 421,
    "start_time": "2024-05-16T10:13:05.203Z"
   },
   {
    "duration": 681,
    "start_time": "2024-05-16T10:14:08.192Z"
   },
   {
    "duration": 789,
    "start_time": "2024-05-16T10:14:08.875Z"
   },
   {
    "duration": 12,
    "start_time": "2024-05-16T10:14:09.666Z"
   },
   {
    "duration": 98,
    "start_time": "2024-05-16T10:14:09.680Z"
   },
   {
    "duration": 93,
    "start_time": "2024-05-16T10:14:09.781Z"
   },
   {
    "duration": 3,
    "start_time": "2024-05-16T10:14:09.876Z"
   },
   {
    "duration": 159,
    "start_time": "2024-05-16T10:14:09.880Z"
   },
   {
    "duration": 148,
    "start_time": "2024-05-16T10:14:10.041Z"
   },
   {
    "duration": 23,
    "start_time": "2024-05-16T10:14:10.191Z"
   },
   {
    "duration": 21,
    "start_time": "2024-05-16T10:14:10.216Z"
   },
   {
    "duration": 47,
    "start_time": "2024-05-16T10:14:10.238Z"
   },
   {
    "duration": 248,
    "start_time": "2024-05-16T10:14:10.287Z"
   },
   {
    "duration": 64,
    "start_time": "2024-05-16T10:14:10.537Z"
   },
   {
    "duration": 9,
    "start_time": "2024-05-16T10:14:10.604Z"
   },
   {
    "duration": 20,
    "start_time": "2024-05-16T10:14:10.614Z"
   },
   {
    "duration": 8,
    "start_time": "2024-05-16T10:14:10.636Z"
   },
   {
    "duration": 35,
    "start_time": "2024-05-16T10:14:10.645Z"
   },
   {
    "duration": 14,
    "start_time": "2024-05-16T10:14:10.682Z"
   },
   {
    "duration": 26,
    "start_time": "2024-05-16T10:14:10.697Z"
   },
   {
    "duration": 36,
    "start_time": "2024-05-16T10:14:10.725Z"
   },
   {
    "duration": 17,
    "start_time": "2024-05-16T10:14:10.763Z"
   },
   {
    "duration": 10,
    "start_time": "2024-05-16T10:14:10.781Z"
   },
   {
    "duration": 13,
    "start_time": "2024-05-16T10:14:10.792Z"
   },
   {
    "duration": 14,
    "start_time": "2024-05-16T10:14:10.807Z"
   },
   {
    "duration": 24,
    "start_time": "2024-05-16T10:14:10.822Z"
   },
   {
    "duration": 46,
    "start_time": "2024-05-16T10:14:10.848Z"
   },
   {
    "duration": 7,
    "start_time": "2024-05-16T10:14:10.896Z"
   },
   {
    "duration": 8,
    "start_time": "2024-05-16T10:14:10.905Z"
   },
   {
    "duration": 6,
    "start_time": "2024-05-16T10:14:10.915Z"
   },
   {
    "duration": 14,
    "start_time": "2024-05-16T10:14:10.923Z"
   },
   {
    "duration": 7,
    "start_time": "2024-05-16T10:14:10.939Z"
   },
   {
    "duration": 11,
    "start_time": "2024-05-16T10:14:10.948Z"
   },
   {
    "duration": 12,
    "start_time": "2024-05-16T10:14:10.961Z"
   },
   {
    "duration": 13,
    "start_time": "2024-05-16T10:14:10.981Z"
   },
   {
    "duration": 7,
    "start_time": "2024-05-16T10:14:10.996Z"
   },
   {
    "duration": 14,
    "start_time": "2024-05-16T10:14:11.004Z"
   },
   {
    "duration": 10,
    "start_time": "2024-05-16T10:14:11.020Z"
   },
   {
    "duration": 11,
    "start_time": "2024-05-16T10:14:11.032Z"
   },
   {
    "duration": 537,
    "start_time": "2024-05-16T10:14:11.044Z"
   },
   {
    "duration": 14,
    "start_time": "2024-05-16T10:14:11.582Z"
   },
   {
    "duration": 14,
    "start_time": "2024-05-16T10:14:11.599Z"
   },
   {
    "duration": 7,
    "start_time": "2024-05-16T10:14:11.615Z"
   },
   {
    "duration": 9,
    "start_time": "2024-05-16T10:14:11.623Z"
   },
   {
    "duration": 71,
    "start_time": "2024-05-16T10:14:11.633Z"
   },
   {
    "duration": 317,
    "start_time": "2024-05-16T10:14:11.705Z"
   },
   {
    "duration": 62,
    "start_time": "2024-05-16T10:14:12.024Z"
   },
   {
    "duration": 315,
    "start_time": "2024-05-16T10:14:12.088Z"
   },
   {
    "duration": 51,
    "start_time": "2024-05-16T10:14:12.405Z"
   },
   {
    "duration": 503,
    "start_time": "2024-05-16T10:14:12.458Z"
   },
   {
    "duration": 5,
    "start_time": "2024-05-16T10:14:12.962Z"
   },
   {
    "duration": 31,
    "start_time": "2024-05-16T10:14:12.969Z"
   },
   {
    "duration": 22,
    "start_time": "2024-05-16T10:14:13.002Z"
   },
   {
    "duration": 67,
    "start_time": "2024-05-16T10:14:13.025Z"
   },
   {
    "duration": 22,
    "start_time": "2024-05-16T10:14:13.093Z"
   },
   {
    "duration": 8,
    "start_time": "2024-05-16T10:14:13.117Z"
   },
   {
    "duration": 315,
    "start_time": "2024-05-16T10:14:13.126Z"
   },
   {
    "duration": 23,
    "start_time": "2024-05-16T10:14:13.443Z"
   },
   {
    "duration": 50,
    "start_time": "2024-05-16T10:14:13.480Z"
   },
   {
    "duration": 278,
    "start_time": "2024-05-16T10:14:13.532Z"
   },
   {
    "duration": 3,
    "start_time": "2024-05-16T10:14:13.812Z"
   },
   {
    "duration": 1701,
    "start_time": "2024-05-16T10:14:13.816Z"
   },
   {
    "duration": 85,
    "start_time": "2024-05-16T10:36:52.947Z"
   },
   {
    "duration": 698,
    "start_time": "2024-05-16T11:00:17.698Z"
   },
   {
    "duration": 1398,
    "start_time": "2024-05-16T11:00:59.214Z"
   },
   {
    "duration": 2005,
    "start_time": "2024-05-16T11:41:52.592Z"
   },
   {
    "duration": 1986,
    "start_time": "2024-05-16T11:53:46.880Z"
   },
   {
    "duration": 1948,
    "start_time": "2024-05-16T11:53:59.648Z"
   },
   {
    "duration": 1895,
    "start_time": "2024-05-16T11:54:15.108Z"
   },
   {
    "duration": 2071,
    "start_time": "2024-05-16T11:54:25.241Z"
   },
   {
    "duration": 2000,
    "start_time": "2024-05-16T11:54:56.541Z"
   },
   {
    "duration": 1990,
    "start_time": "2024-05-16T11:55:05.404Z"
   },
   {
    "duration": 1994,
    "start_time": "2024-05-16T13:07:45.410Z"
   },
   {
    "duration": 2644,
    "start_time": "2024-05-16T13:33:32.600Z"
   },
   {
    "duration": 25,
    "start_time": "2024-05-16T13:40:53.946Z"
   },
   {
    "duration": 9,
    "start_time": "2024-05-16T13:41:35.985Z"
   },
   {
    "duration": 14,
    "start_time": "2024-05-16T13:42:06.880Z"
   },
   {
    "duration": 12,
    "start_time": "2024-05-16T13:42:10.670Z"
   },
   {
    "duration": 38,
    "start_time": "2024-05-16T13:47:49.182Z"
   },
   {
    "duration": 8,
    "start_time": "2024-05-16T13:50:20.800Z"
   },
   {
    "duration": 26,
    "start_time": "2024-05-16T13:50:31.370Z"
   },
   {
    "duration": 19,
    "start_time": "2024-05-16T13:53:16.817Z"
   },
   {
    "duration": 10,
    "start_time": "2024-05-16T13:53:38.970Z"
   },
   {
    "duration": 385,
    "start_time": "2024-05-16T14:42:43.768Z"
   },
   {
    "duration": 697,
    "start_time": "2024-05-16T14:42:50.767Z"
   },
   {
    "duration": 798,
    "start_time": "2024-05-16T14:42:51.466Z"
   },
   {
    "duration": 13,
    "start_time": "2024-05-16T14:42:52.265Z"
   },
   {
    "duration": 89,
    "start_time": "2024-05-16T14:42:52.279Z"
   },
   {
    "duration": 122,
    "start_time": "2024-05-16T14:42:52.370Z"
   },
   {
    "duration": 23,
    "start_time": "2024-05-16T14:42:52.494Z"
   },
   {
    "duration": 281,
    "start_time": "2024-05-16T14:42:52.519Z"
   },
   {
    "duration": 166,
    "start_time": "2024-05-16T14:42:52.802Z"
   },
   {
    "duration": 44,
    "start_time": "2024-05-16T14:42:52.969Z"
   },
   {
    "duration": 179,
    "start_time": "2024-05-16T14:42:53.015Z"
   },
   {
    "duration": 64,
    "start_time": "2024-05-16T14:42:53.196Z"
   },
   {
    "duration": 256,
    "start_time": "2024-05-16T14:42:53.262Z"
   },
   {
    "duration": 52,
    "start_time": "2024-05-16T14:42:53.520Z"
   },
   {
    "duration": 86,
    "start_time": "2024-05-16T14:42:53.583Z"
   },
   {
    "duration": 147,
    "start_time": "2024-05-16T14:42:53.671Z"
   },
   {
    "duration": 27,
    "start_time": "2024-05-16T14:42:53.819Z"
   },
   {
    "duration": 56,
    "start_time": "2024-05-16T14:42:53.847Z"
   },
   {
    "duration": 52,
    "start_time": "2024-05-16T14:42:53.904Z"
   },
   {
    "duration": 48,
    "start_time": "2024-05-16T14:42:53.958Z"
   },
   {
    "duration": 58,
    "start_time": "2024-05-16T14:42:54.008Z"
   },
   {
    "duration": 23,
    "start_time": "2024-05-16T14:42:54.068Z"
   },
   {
    "duration": 27,
    "start_time": "2024-05-16T14:42:54.093Z"
   },
   {
    "duration": 45,
    "start_time": "2024-05-16T14:42:54.122Z"
   },
   {
    "duration": 45,
    "start_time": "2024-05-16T14:42:54.169Z"
   },
   {
    "duration": 14,
    "start_time": "2024-05-16T14:42:54.215Z"
   },
   {
    "duration": 60,
    "start_time": "2024-05-16T14:42:54.231Z"
   },
   {
    "duration": 13,
    "start_time": "2024-05-16T14:42:54.293Z"
   },
   {
    "duration": 21,
    "start_time": "2024-05-16T14:42:54.307Z"
   },
   {
    "duration": 46,
    "start_time": "2024-05-16T14:42:54.329Z"
   },
   {
    "duration": 47,
    "start_time": "2024-05-16T14:42:54.377Z"
   },
   {
    "duration": 28,
    "start_time": "2024-05-16T14:42:54.425Z"
   },
   {
    "duration": 21,
    "start_time": "2024-05-16T14:42:54.456Z"
   },
   {
    "duration": 11,
    "start_time": "2024-05-16T14:42:54.479Z"
   },
   {
    "duration": 16,
    "start_time": "2024-05-16T14:42:54.492Z"
   },
   {
    "duration": 78,
    "start_time": "2024-05-16T14:42:54.510Z"
   },
   {
    "duration": 13,
    "start_time": "2024-05-16T14:42:54.591Z"
   },
   {
    "duration": 28,
    "start_time": "2024-05-16T14:42:54.606Z"
   },
   {
    "duration": 13,
    "start_time": "2024-05-16T14:42:54.636Z"
   },
   {
    "duration": 531,
    "start_time": "2024-05-16T14:42:54.650Z"
   },
   {
    "duration": 14,
    "start_time": "2024-05-16T14:42:55.182Z"
   },
   {
    "duration": 17,
    "start_time": "2024-05-16T14:42:55.200Z"
   },
   {
    "duration": 14,
    "start_time": "2024-05-16T14:42:55.218Z"
   },
   {
    "duration": 36,
    "start_time": "2024-05-16T14:42:55.234Z"
   },
   {
    "duration": 48,
    "start_time": "2024-05-16T14:42:55.272Z"
   },
   {
    "duration": 312,
    "start_time": "2024-05-16T14:42:55.322Z"
   },
   {
    "duration": 55,
    "start_time": "2024-05-16T14:42:55.635Z"
   },
   {
    "duration": 290,
    "start_time": "2024-05-16T14:42:55.692Z"
   },
   {
    "duration": 54,
    "start_time": "2024-05-16T14:42:55.984Z"
   },
   {
    "duration": 478,
    "start_time": "2024-05-16T14:42:56.040Z"
   },
   {
    "duration": 4,
    "start_time": "2024-05-16T14:42:56.520Z"
   },
   {
    "duration": 85,
    "start_time": "2024-05-16T14:42:56.526Z"
   },
   {
    "duration": 27,
    "start_time": "2024-05-16T14:42:56.613Z"
   },
   {
    "duration": 55,
    "start_time": "2024-05-16T14:42:56.643Z"
   },
   {
    "duration": 23,
    "start_time": "2024-05-16T14:42:56.700Z"
   },
   {
    "duration": 8,
    "start_time": "2024-05-16T14:42:56.725Z"
   },
   {
    "duration": 335,
    "start_time": "2024-05-16T14:42:56.734Z"
   },
   {
    "duration": 24,
    "start_time": "2024-05-16T14:42:57.071Z"
   },
   {
    "duration": 289,
    "start_time": "2024-05-16T14:42:57.097Z"
   },
   {
    "duration": 3,
    "start_time": "2024-05-16T14:42:57.387Z"
   },
   {
    "duration": 1726,
    "start_time": "2024-05-16T14:42:57.392Z"
   },
   {
    "duration": 715,
    "start_time": "2024-05-16T14:42:59.120Z"
   },
   {
    "duration": 1374,
    "start_time": "2024-05-16T14:42:59.838Z"
   },
   {
    "duration": 1894,
    "start_time": "2024-05-16T14:43:01.214Z"
   },
   {
    "duration": 1955,
    "start_time": "2024-05-16T14:43:03.110Z"
   },
   {
    "duration": 2594,
    "start_time": "2024-05-16T14:43:05.067Z"
   },
   {
    "duration": 659,
    "start_time": "2024-05-16T15:11:07.020Z"
   },
   {
    "duration": 770,
    "start_time": "2024-05-16T15:11:07.681Z"
   },
   {
    "duration": 13,
    "start_time": "2024-05-16T15:11:08.453Z"
   },
   {
    "duration": 159,
    "start_time": "2024-05-16T15:11:08.468Z"
   },
   {
    "duration": 163,
    "start_time": "2024-05-16T15:11:08.629Z"
   },
   {
    "duration": 152,
    "start_time": "2024-05-16T15:11:08.794Z"
   },
   {
    "duration": 193,
    "start_time": "2024-05-16T15:11:08.948Z"
   },
   {
    "duration": 141,
    "start_time": "2024-05-16T15:11:09.143Z"
   },
   {
    "duration": 24,
    "start_time": "2024-05-16T15:11:09.286Z"
   },
   {
    "duration": 171,
    "start_time": "2024-05-16T15:11:09.313Z"
   },
   {
    "duration": 50,
    "start_time": "2024-05-16T15:11:09.486Z"
   },
   {
    "duration": 276,
    "start_time": "2024-05-16T15:11:09.537Z"
   },
   {
    "duration": 51,
    "start_time": "2024-05-16T15:11:09.815Z"
   },
   {
    "duration": 27,
    "start_time": "2024-05-16T15:11:09.867Z"
   },
   {
    "duration": 19,
    "start_time": "2024-05-16T15:11:09.896Z"
   },
   {
    "duration": 8,
    "start_time": "2024-05-16T15:11:09.916Z"
   },
   {
    "duration": 3,
    "start_time": "2024-05-16T15:11:09.926Z"
   },
   {
    "duration": 31,
    "start_time": "2024-05-16T15:11:09.930Z"
   },
   {
    "duration": 17,
    "start_time": "2024-05-16T15:11:09.963Z"
   },
   {
    "duration": 34,
    "start_time": "2024-05-16T15:11:09.981Z"
   },
   {
    "duration": 16,
    "start_time": "2024-05-16T15:11:10.016Z"
   },
   {
    "duration": 66,
    "start_time": "2024-05-16T15:11:10.033Z"
   },
   {
    "duration": 89,
    "start_time": "2024-05-16T15:11:10.100Z"
   },
   {
    "duration": 19,
    "start_time": "2024-05-16T15:11:10.190Z"
   },
   {
    "duration": 8,
    "start_time": "2024-05-16T15:11:10.210Z"
   },
   {
    "duration": 24,
    "start_time": "2024-05-16T15:11:10.219Z"
   },
   {
    "duration": 6,
    "start_time": "2024-05-16T15:11:10.244Z"
   },
   {
    "duration": 5,
    "start_time": "2024-05-16T15:11:10.254Z"
   },
   {
    "duration": 31,
    "start_time": "2024-05-16T15:11:10.260Z"
   },
   {
    "duration": 31,
    "start_time": "2024-05-16T15:11:10.292Z"
   },
   {
    "duration": 18,
    "start_time": "2024-05-16T15:11:10.324Z"
   },
   {
    "duration": 25,
    "start_time": "2024-05-16T15:11:10.344Z"
   },
   {
    "duration": 14,
    "start_time": "2024-05-16T15:11:10.371Z"
   },
   {
    "duration": 31,
    "start_time": "2024-05-16T15:11:10.387Z"
   },
   {
    "duration": 15,
    "start_time": "2024-05-16T15:11:10.420Z"
   },
   {
    "duration": 11,
    "start_time": "2024-05-16T15:11:10.437Z"
   },
   {
    "duration": 56,
    "start_time": "2024-05-16T15:11:10.450Z"
   },
   {
    "duration": 29,
    "start_time": "2024-05-16T15:11:10.508Z"
   },
   {
    "duration": 565,
    "start_time": "2024-05-16T15:11:10.539Z"
   },
   {
    "duration": 14,
    "start_time": "2024-05-16T15:11:11.106Z"
   },
   {
    "duration": 34,
    "start_time": "2024-05-16T15:11:11.121Z"
   },
   {
    "duration": 5,
    "start_time": "2024-05-16T15:11:11.156Z"
   },
   {
    "duration": 24,
    "start_time": "2024-05-16T15:11:11.162Z"
   },
   {
    "duration": 61,
    "start_time": "2024-05-16T15:11:11.187Z"
   },
   {
    "duration": 315,
    "start_time": "2024-05-16T15:11:11.250Z"
   },
   {
    "duration": 55,
    "start_time": "2024-05-16T15:11:11.566Z"
   },
   {
    "duration": 293,
    "start_time": "2024-05-16T15:11:11.623Z"
   },
   {
    "duration": 62,
    "start_time": "2024-05-16T15:11:11.918Z"
   },
   {
    "duration": 474,
    "start_time": "2024-05-16T15:11:11.982Z"
   },
   {
    "duration": 6,
    "start_time": "2024-05-16T15:11:12.458Z"
   },
   {
    "duration": 34,
    "start_time": "2024-05-16T15:11:12.466Z"
   },
   {
    "duration": 21,
    "start_time": "2024-05-16T15:11:12.502Z"
   },
   {
    "duration": 77,
    "start_time": "2024-05-16T15:11:12.526Z"
   },
   {
    "duration": 23,
    "start_time": "2024-05-16T15:11:12.605Z"
   },
   {
    "duration": 8,
    "start_time": "2024-05-16T15:11:12.630Z"
   },
   {
    "duration": 382,
    "start_time": "2024-05-16T15:11:12.640Z"
   },
   {
    "duration": 25,
    "start_time": "2024-05-16T15:11:13.024Z"
   },
   {
    "duration": 277,
    "start_time": "2024-05-16T15:11:13.050Z"
   },
   {
    "duration": 3,
    "start_time": "2024-05-16T15:11:13.328Z"
   },
   {
    "duration": 1716,
    "start_time": "2024-05-16T15:11:13.333Z"
   },
   {
    "duration": 751,
    "start_time": "2024-05-16T15:11:15.051Z"
   },
   {
    "duration": 1390,
    "start_time": "2024-05-16T15:11:15.804Z"
   },
   {
    "duration": 1873,
    "start_time": "2024-05-16T15:11:17.196Z"
   },
   {
    "duration": 1972,
    "start_time": "2024-05-16T15:11:19.071Z"
   },
   {
    "duration": 2641,
    "start_time": "2024-05-16T15:11:21.045Z"
   },
   {
    "duration": 683,
    "start_time": "2024-05-16T15:13:03.968Z"
   },
   {
    "duration": 732,
    "start_time": "2024-05-16T15:13:04.653Z"
   },
   {
    "duration": 14,
    "start_time": "2024-05-16T15:13:05.387Z"
   },
   {
    "duration": 98,
    "start_time": "2024-05-16T15:13:05.402Z"
   },
   {
    "duration": 149,
    "start_time": "2024-05-16T15:13:05.502Z"
   },
   {
    "duration": 3,
    "start_time": "2024-05-16T15:13:05.653Z"
   },
   {
    "duration": 162,
    "start_time": "2024-05-16T15:13:05.657Z"
   },
   {
    "duration": 166,
    "start_time": "2024-05-16T15:13:05.821Z"
   },
   {
    "duration": 22,
    "start_time": "2024-05-16T15:13:05.989Z"
   },
   {
    "duration": 44,
    "start_time": "2024-05-16T15:13:06.013Z"
   },
   {
    "duration": 35,
    "start_time": "2024-05-16T15:13:06.058Z"
   },
   {
    "duration": 269,
    "start_time": "2024-05-16T15:13:06.095Z"
   },
   {
    "duration": 56,
    "start_time": "2024-05-16T15:13:06.366Z"
   },
   {
    "duration": 57,
    "start_time": "2024-05-16T15:13:06.426Z"
   },
   {
    "duration": 60,
    "start_time": "2024-05-16T15:13:06.485Z"
   },
   {
    "duration": 103,
    "start_time": "2024-05-16T15:13:06.546Z"
   },
   {
    "duration": 78,
    "start_time": "2024-05-16T15:13:06.651Z"
   },
   {
    "duration": 143,
    "start_time": "2024-05-16T15:13:06.731Z"
   },
   {
    "duration": 77,
    "start_time": "2024-05-16T15:13:06.876Z"
   },
   {
    "duration": 59,
    "start_time": "2024-05-16T15:13:06.955Z"
   },
   {
    "duration": 41,
    "start_time": "2024-05-16T15:13:07.015Z"
   },
   {
    "duration": 44,
    "start_time": "2024-05-16T15:13:07.057Z"
   },
   {
    "duration": 19,
    "start_time": "2024-05-16T15:13:07.102Z"
   },
   {
    "duration": 36,
    "start_time": "2024-05-16T15:13:07.123Z"
   },
   {
    "duration": 31,
    "start_time": "2024-05-16T15:13:07.161Z"
   },
   {
    "duration": 11,
    "start_time": "2024-05-16T15:13:07.194Z"
   },
   {
    "duration": 23,
    "start_time": "2024-05-16T15:13:07.206Z"
   },
   {
    "duration": 10,
    "start_time": "2024-05-16T15:13:07.231Z"
   },
   {
    "duration": 38,
    "start_time": "2024-05-16T15:13:07.242Z"
   },
   {
    "duration": 35,
    "start_time": "2024-05-16T15:13:07.282Z"
   },
   {
    "duration": 18,
    "start_time": "2024-05-16T15:13:07.319Z"
   },
   {
    "duration": 22,
    "start_time": "2024-05-16T15:13:07.338Z"
   },
   {
    "duration": 70,
    "start_time": "2024-05-16T15:13:07.362Z"
   },
   {
    "duration": 141,
    "start_time": "2024-05-16T15:13:07.435Z"
   },
   {
    "duration": 55,
    "start_time": "2024-05-16T15:13:07.578Z"
   },
   {
    "duration": 17,
    "start_time": "2024-05-16T15:13:07.635Z"
   },
   {
    "duration": 85,
    "start_time": "2024-05-16T15:13:07.654Z"
   },
   {
    "duration": 45,
    "start_time": "2024-05-16T15:13:07.744Z"
   },
   {
    "duration": 525,
    "start_time": "2024-05-16T15:13:07.790Z"
   },
   {
    "duration": 14,
    "start_time": "2024-05-16T15:13:08.316Z"
   },
   {
    "duration": 29,
    "start_time": "2024-05-16T15:13:08.334Z"
   },
   {
    "duration": 14,
    "start_time": "2024-05-16T15:13:08.365Z"
   },
   {
    "duration": 29,
    "start_time": "2024-05-16T15:13:08.380Z"
   },
   {
    "duration": 65,
    "start_time": "2024-05-16T15:13:08.411Z"
   },
   {
    "duration": 330,
    "start_time": "2024-05-16T15:13:08.477Z"
   },
   {
    "duration": 53,
    "start_time": "2024-05-16T15:13:08.809Z"
   },
   {
    "duration": 283,
    "start_time": "2024-05-16T15:13:08.880Z"
   },
   {
    "duration": 69,
    "start_time": "2024-05-16T15:13:09.165Z"
   },
   {
    "duration": 459,
    "start_time": "2024-05-16T15:13:09.237Z"
   },
   {
    "duration": 5,
    "start_time": "2024-05-16T15:13:09.698Z"
   },
   {
    "duration": 141,
    "start_time": "2024-05-16T15:13:09.704Z"
   },
   {
    "duration": 115,
    "start_time": "2024-05-16T15:13:09.847Z"
   },
   {
    "duration": 44,
    "start_time": "2024-05-16T15:13:09.964Z"
   },
   {
    "duration": 21,
    "start_time": "2024-05-16T15:13:10.010Z"
   },
   {
    "duration": 8,
    "start_time": "2024-05-16T15:13:10.033Z"
   },
   {
    "duration": 319,
    "start_time": "2024-05-16T15:13:10.043Z"
   },
   {
    "duration": 32,
    "start_time": "2024-05-16T15:13:10.363Z"
   },
   {
    "duration": 261,
    "start_time": "2024-05-16T15:13:10.397Z"
   },
   {
    "duration": 3,
    "start_time": "2024-05-16T15:13:10.659Z"
   },
   {
    "duration": 1695,
    "start_time": "2024-05-16T15:13:10.663Z"
   },
   {
    "duration": 754,
    "start_time": "2024-05-16T15:13:12.359Z"
   },
   {
    "duration": 1355,
    "start_time": "2024-05-16T15:13:13.114Z"
   },
   {
    "duration": 2163,
    "start_time": "2024-05-16T15:13:14.471Z"
   },
   {
    "duration": 2040,
    "start_time": "2024-05-16T15:13:16.636Z"
   },
   {
    "duration": 2577,
    "start_time": "2024-05-16T15:13:18.678Z"
   },
   {
    "duration": 660,
    "start_time": "2024-05-16T15:18:56.306Z"
   },
   {
    "duration": 783,
    "start_time": "2024-05-16T15:18:56.967Z"
   },
   {
    "duration": 13,
    "start_time": "2024-05-16T15:18:57.752Z"
   },
   {
    "duration": 79,
    "start_time": "2024-05-16T15:18:57.766Z"
   },
   {
    "duration": 85,
    "start_time": "2024-05-16T15:18:57.848Z"
   },
   {
    "duration": 31,
    "start_time": "2024-05-16T15:18:57.934Z"
   },
   {
    "duration": 159,
    "start_time": "2024-05-16T15:18:57.967Z"
   },
   {
    "duration": 154,
    "start_time": "2024-05-16T15:18:58.127Z"
   },
   {
    "duration": 24,
    "start_time": "2024-05-16T15:18:58.282Z"
   },
   {
    "duration": 21,
    "start_time": "2024-05-16T15:18:58.308Z"
   },
   {
    "duration": 22,
    "start_time": "2024-05-16T15:18:58.331Z"
   },
   {
    "duration": 251,
    "start_time": "2024-05-16T15:18:58.380Z"
   },
   {
    "duration": 65,
    "start_time": "2024-05-16T15:18:58.632Z"
   },
   {
    "duration": 25,
    "start_time": "2024-05-16T15:18:58.702Z"
   },
   {
    "duration": 18,
    "start_time": "2024-05-16T15:18:58.729Z"
   },
   {
    "duration": 12,
    "start_time": "2024-05-16T15:18:58.750Z"
   },
   {
    "duration": 17,
    "start_time": "2024-05-16T15:18:58.764Z"
   },
   {
    "duration": 19,
    "start_time": "2024-05-16T15:18:58.783Z"
   },
   {
    "duration": 22,
    "start_time": "2024-05-16T15:18:58.804Z"
   },
   {
    "duration": 45,
    "start_time": "2024-05-16T15:18:58.827Z"
   },
   {
    "duration": 14,
    "start_time": "2024-05-16T15:18:58.874Z"
   },
   {
    "duration": 12,
    "start_time": "2024-05-16T15:18:58.890Z"
   },
   {
    "duration": 64,
    "start_time": "2024-05-16T15:18:58.904Z"
   },
   {
    "duration": 7,
    "start_time": "2024-05-16T15:18:58.970Z"
   },
   {
    "duration": 4,
    "start_time": "2024-05-16T15:18:58.978Z"
   },
   {
    "duration": 18,
    "start_time": "2024-05-16T15:18:58.984Z"
   },
   {
    "duration": 48,
    "start_time": "2024-05-16T15:18:59.004Z"
   },
   {
    "duration": 30,
    "start_time": "2024-05-16T15:18:59.053Z"
   },
   {
    "duration": 17,
    "start_time": "2024-05-16T15:18:59.085Z"
   },
   {
    "duration": 16,
    "start_time": "2024-05-16T15:18:59.104Z"
   },
   {
    "duration": 29,
    "start_time": "2024-05-16T15:18:59.122Z"
   },
   {
    "duration": 24,
    "start_time": "2024-05-16T15:18:59.153Z"
   },
   {
    "duration": 26,
    "start_time": "2024-05-16T15:18:59.179Z"
   },
   {
    "duration": 10,
    "start_time": "2024-05-16T15:18:59.207Z"
   },
   {
    "duration": 7,
    "start_time": "2024-05-16T15:18:59.219Z"
   },
   {
    "duration": 10,
    "start_time": "2024-05-16T15:18:59.228Z"
   },
   {
    "duration": 21,
    "start_time": "2024-05-16T15:18:59.239Z"
   },
   {
    "duration": 36,
    "start_time": "2024-05-16T15:18:59.263Z"
   },
   {
    "duration": 530,
    "start_time": "2024-05-16T15:18:59.301Z"
   },
   {
    "duration": 13,
    "start_time": "2024-05-16T15:18:59.833Z"
   },
   {
    "duration": 14,
    "start_time": "2024-05-16T15:18:59.850Z"
   },
   {
    "duration": 51,
    "start_time": "2024-05-16T15:18:59.881Z"
   },
   {
    "duration": 37,
    "start_time": "2024-05-16T15:18:59.933Z"
   },
   {
    "duration": 106,
    "start_time": "2024-05-16T15:18:59.972Z"
   },
   {
    "duration": 695,
    "start_time": "2024-05-16T15:19:00.079Z"
   },
   {
    "duration": 56,
    "start_time": "2024-05-16T15:19:00.776Z"
   },
   {
    "duration": 579,
    "start_time": "2024-05-16T15:19:00.834Z"
   },
   {
    "duration": 51,
    "start_time": "2024-05-16T15:19:01.414Z"
   },
   {
    "duration": 513,
    "start_time": "2024-05-16T15:19:01.467Z"
   },
   {
    "duration": 3,
    "start_time": "2024-05-16T15:19:01.982Z"
   },
   {
    "duration": 89,
    "start_time": "2024-05-16T15:19:01.987Z"
   },
   {
    "duration": 23,
    "start_time": "2024-05-16T15:19:02.078Z"
   },
   {
    "duration": 80,
    "start_time": "2024-05-16T15:19:02.103Z"
   },
   {
    "duration": 148,
    "start_time": "2024-05-16T15:19:02.186Z"
   },
   {
    "duration": 18,
    "start_time": "2024-05-16T15:19:02.336Z"
   },
   {
    "duration": 367,
    "start_time": "2024-05-16T15:19:02.356Z"
   },
   {
    "duration": 24,
    "start_time": "2024-05-16T15:19:02.725Z"
   },
   {
    "duration": 304,
    "start_time": "2024-05-16T15:19:02.751Z"
   },
   {
    "duration": 4,
    "start_time": "2024-05-16T15:19:03.057Z"
   },
   {
    "duration": 1803,
    "start_time": "2024-05-16T15:19:03.063Z"
   },
   {
    "duration": 722,
    "start_time": "2024-05-16T15:19:04.868Z"
   },
   {
    "duration": 1449,
    "start_time": "2024-05-16T15:19:05.592Z"
   },
   {
    "duration": 1938,
    "start_time": "2024-05-16T15:19:07.043Z"
   },
   {
    "duration": 1985,
    "start_time": "2024-05-16T15:19:08.982Z"
   },
   {
    "duration": 2634,
    "start_time": "2024-05-16T15:19:10.969Z"
   },
   {
    "duration": 863,
    "start_time": "2024-05-16T15:35:16.426Z"
   },
   {
    "duration": 1468,
    "start_time": "2024-05-16T15:35:17.291Z"
   },
   {
    "duration": 13,
    "start_time": "2024-05-16T15:35:18.760Z"
   },
   {
    "duration": 77,
    "start_time": "2024-05-16T15:35:18.775Z"
   },
   {
    "duration": 86,
    "start_time": "2024-05-16T15:35:18.865Z"
   },
   {
    "duration": 4,
    "start_time": "2024-05-16T15:35:18.953Z"
   },
   {
    "duration": 148,
    "start_time": "2024-05-16T15:35:18.965Z"
   },
   {
    "duration": 136,
    "start_time": "2024-05-16T15:35:19.114Z"
   },
   {
    "duration": 22,
    "start_time": "2024-05-16T15:35:19.251Z"
   },
   {
    "duration": 23,
    "start_time": "2024-05-16T15:35:19.276Z"
   },
   {
    "duration": 21,
    "start_time": "2024-05-16T15:35:19.301Z"
   },
   {
    "duration": 217,
    "start_time": "2024-05-16T15:35:19.323Z"
   },
   {
    "duration": 48,
    "start_time": "2024-05-16T15:35:19.541Z"
   },
   {
    "duration": 7,
    "start_time": "2024-05-16T15:35:19.590Z"
   },
   {
    "duration": 11,
    "start_time": "2024-05-16T15:35:19.598Z"
   },
   {
    "duration": 6,
    "start_time": "2024-05-16T15:35:19.611Z"
   },
   {
    "duration": 3,
    "start_time": "2024-05-16T15:35:19.618Z"
   },
   {
    "duration": 44,
    "start_time": "2024-05-16T15:35:19.622Z"
   },
   {
    "duration": 10,
    "start_time": "2024-05-16T15:35:19.668Z"
   },
   {
    "duration": 32,
    "start_time": "2024-05-16T15:35:19.679Z"
   },
   {
    "duration": 10,
    "start_time": "2024-05-16T15:35:19.712Z"
   },
   {
    "duration": 7,
    "start_time": "2024-05-16T15:35:19.723Z"
   },
   {
    "duration": 34,
    "start_time": "2024-05-16T15:35:19.732Z"
   },
   {
    "duration": 19,
    "start_time": "2024-05-16T15:35:19.768Z"
   },
   {
    "duration": 6,
    "start_time": "2024-05-16T15:35:19.788Z"
   },
   {
    "duration": 8,
    "start_time": "2024-05-16T15:35:19.796Z"
   },
   {
    "duration": 4,
    "start_time": "2024-05-16T15:35:19.806Z"
   },
   {
    "duration": 5,
    "start_time": "2024-05-16T15:35:19.814Z"
   },
   {
    "duration": 13,
    "start_time": "2024-05-16T15:35:19.820Z"
   },
   {
    "duration": 30,
    "start_time": "2024-05-16T15:35:19.835Z"
   },
   {
    "duration": 10,
    "start_time": "2024-05-16T15:35:19.867Z"
   },
   {
    "duration": 6,
    "start_time": "2024-05-16T15:35:19.879Z"
   },
   {
    "duration": 12,
    "start_time": "2024-05-16T15:35:19.887Z"
   },
   {
    "duration": 12,
    "start_time": "2024-05-16T15:35:19.901Z"
   },
   {
    "duration": 7,
    "start_time": "2024-05-16T15:35:19.915Z"
   },
   {
    "duration": 9,
    "start_time": "2024-05-16T15:35:19.924Z"
   },
   {
    "duration": 8,
    "start_time": "2024-05-16T15:35:19.934Z"
   },
   {
    "duration": 25,
    "start_time": "2024-05-16T15:35:19.949Z"
   },
   {
    "duration": 472,
    "start_time": "2024-05-16T15:35:19.976Z"
   },
   {
    "duration": 18,
    "start_time": "2024-05-16T15:35:20.450Z"
   },
   {
    "duration": 35,
    "start_time": "2024-05-16T15:35:20.470Z"
   },
   {
    "duration": 9,
    "start_time": "2024-05-16T15:35:20.507Z"
   },
   {
    "duration": 8,
    "start_time": "2024-05-16T15:35:20.517Z"
   },
   {
    "duration": 44,
    "start_time": "2024-05-16T15:35:20.527Z"
   },
   {
    "duration": 257,
    "start_time": "2024-05-16T15:35:20.572Z"
   },
   {
    "duration": 55,
    "start_time": "2024-05-16T15:35:20.830Z"
   },
   {
    "duration": 244,
    "start_time": "2024-05-16T15:35:20.886Z"
   },
   {
    "duration": 51,
    "start_time": "2024-05-16T15:35:21.131Z"
   },
   {
    "duration": 400,
    "start_time": "2024-05-16T15:35:21.184Z"
   },
   {
    "duration": 5,
    "start_time": "2024-05-16T15:35:21.585Z"
   },
   {
    "duration": 26,
    "start_time": "2024-05-16T15:35:21.591Z"
   },
   {
    "duration": 19,
    "start_time": "2024-05-16T15:35:21.619Z"
   },
   {
    "duration": 57,
    "start_time": "2024-05-16T15:35:21.640Z"
   },
   {
    "duration": 19,
    "start_time": "2024-05-16T15:35:21.699Z"
   },
   {
    "duration": 13,
    "start_time": "2024-05-16T15:35:21.720Z"
   },
   {
    "duration": 336,
    "start_time": "2024-05-16T15:35:21.735Z"
   },
   {
    "duration": 22,
    "start_time": "2024-05-16T15:35:22.073Z"
   },
   {
    "duration": 244,
    "start_time": "2024-05-16T15:35:22.096Z"
   },
   {
    "duration": 3,
    "start_time": "2024-05-16T15:35:22.341Z"
   },
   {
    "duration": 1650,
    "start_time": "2024-05-16T15:35:22.346Z"
   },
   {
    "duration": 655,
    "start_time": "2024-05-16T15:35:23.998Z"
   },
   {
    "duration": 1727,
    "start_time": "2024-05-16T15:35:24.655Z"
   },
   {
    "duration": 2017,
    "start_time": "2024-05-16T15:35:26.383Z"
   },
   {
    "duration": 1840,
    "start_time": "2024-05-16T15:35:28.401Z"
   },
   {
    "duration": 2309,
    "start_time": "2024-05-16T15:35:30.243Z"
   },
   {
    "duration": 72,
    "start_time": "2024-05-16T16:06:15.564Z"
   },
   {
    "duration": 71,
    "start_time": "2024-05-16T16:07:22.881Z"
   },
   {
    "duration": 72,
    "start_time": "2024-05-16T16:07:29.372Z"
   },
   {
    "duration": 0,
    "start_time": "2024-05-16T16:07:29.448Z"
   },
   {
    "duration": 0,
    "start_time": "2024-05-16T16:07:29.450Z"
   },
   {
    "duration": 0,
    "start_time": "2024-05-16T16:07:29.451Z"
   },
   {
    "duration": 0,
    "start_time": "2024-05-16T16:07:29.452Z"
   },
   {
    "duration": 0,
    "start_time": "2024-05-16T16:07:29.453Z"
   },
   {
    "duration": 0,
    "start_time": "2024-05-16T16:07:29.454Z"
   },
   {
    "duration": 0,
    "start_time": "2024-05-16T16:07:29.456Z"
   },
   {
    "duration": 0,
    "start_time": "2024-05-16T16:07:29.457Z"
   },
   {
    "duration": 0,
    "start_time": "2024-05-16T16:07:29.459Z"
   },
   {
    "duration": 0,
    "start_time": "2024-05-16T16:07:29.460Z"
   },
   {
    "duration": 0,
    "start_time": "2024-05-16T16:07:29.462Z"
   },
   {
    "duration": 0,
    "start_time": "2024-05-16T16:07:29.463Z"
   },
   {
    "duration": 0,
    "start_time": "2024-05-16T16:07:29.465Z"
   },
   {
    "duration": 0,
    "start_time": "2024-05-16T16:07:29.466Z"
   },
   {
    "duration": 0,
    "start_time": "2024-05-16T16:07:29.467Z"
   },
   {
    "duration": 0,
    "start_time": "2024-05-16T16:07:29.468Z"
   },
   {
    "duration": 0,
    "start_time": "2024-05-16T16:07:29.470Z"
   },
   {
    "duration": 0,
    "start_time": "2024-05-16T16:07:29.471Z"
   },
   {
    "duration": 0,
    "start_time": "2024-05-16T16:07:29.472Z"
   },
   {
    "duration": 0,
    "start_time": "2024-05-16T16:07:29.480Z"
   },
   {
    "duration": 0,
    "start_time": "2024-05-16T16:07:29.481Z"
   },
   {
    "duration": 0,
    "start_time": "2024-05-16T16:07:29.482Z"
   },
   {
    "duration": 0,
    "start_time": "2024-05-16T16:07:29.483Z"
   },
   {
    "duration": 0,
    "start_time": "2024-05-16T16:07:29.484Z"
   },
   {
    "duration": 0,
    "start_time": "2024-05-16T16:07:29.485Z"
   },
   {
    "duration": 0,
    "start_time": "2024-05-16T16:07:29.486Z"
   },
   {
    "duration": 0,
    "start_time": "2024-05-16T16:07:29.487Z"
   },
   {
    "duration": 0,
    "start_time": "2024-05-16T16:07:29.489Z"
   },
   {
    "duration": 0,
    "start_time": "2024-05-16T16:07:29.490Z"
   },
   {
    "duration": 0,
    "start_time": "2024-05-16T16:07:29.491Z"
   },
   {
    "duration": 0,
    "start_time": "2024-05-16T16:07:29.492Z"
   },
   {
    "duration": 0,
    "start_time": "2024-05-16T16:07:29.494Z"
   },
   {
    "duration": 0,
    "start_time": "2024-05-16T16:07:29.495Z"
   },
   {
    "duration": 0,
    "start_time": "2024-05-16T16:07:29.497Z"
   },
   {
    "duration": 0,
    "start_time": "2024-05-16T16:07:29.498Z"
   },
   {
    "duration": 0,
    "start_time": "2024-05-16T16:07:29.499Z"
   },
   {
    "duration": 0,
    "start_time": "2024-05-16T16:07:29.501Z"
   },
   {
    "duration": 0,
    "start_time": "2024-05-16T16:07:29.502Z"
   },
   {
    "duration": 0,
    "start_time": "2024-05-16T16:07:29.503Z"
   },
   {
    "duration": 0,
    "start_time": "2024-05-16T16:07:29.505Z"
   },
   {
    "duration": 0,
    "start_time": "2024-05-16T16:07:29.506Z"
   },
   {
    "duration": 0,
    "start_time": "2024-05-16T16:07:29.507Z"
   },
   {
    "duration": 0,
    "start_time": "2024-05-16T16:07:29.508Z"
   },
   {
    "duration": 0,
    "start_time": "2024-05-16T16:07:29.510Z"
   },
   {
    "duration": 0,
    "start_time": "2024-05-16T16:07:29.511Z"
   },
   {
    "duration": 0,
    "start_time": "2024-05-16T16:07:29.512Z"
   },
   {
    "duration": 0,
    "start_time": "2024-05-16T16:07:29.513Z"
   },
   {
    "duration": 0,
    "start_time": "2024-05-16T16:07:29.514Z"
   },
   {
    "duration": 0,
    "start_time": "2024-05-16T16:07:29.516Z"
   },
   {
    "duration": 0,
    "start_time": "2024-05-16T16:07:29.516Z"
   },
   {
    "duration": 0,
    "start_time": "2024-05-16T16:07:29.518Z"
   },
   {
    "duration": 0,
    "start_time": "2024-05-16T16:07:29.519Z"
   },
   {
    "duration": 109,
    "start_time": "2024-05-16T16:07:29.583Z"
   },
   {
    "duration": 0,
    "start_time": "2024-05-16T16:07:29.693Z"
   },
   {
    "duration": 0,
    "start_time": "2024-05-16T16:07:29.694Z"
   },
   {
    "duration": 0,
    "start_time": "2024-05-16T16:07:29.695Z"
   },
   {
    "duration": 0,
    "start_time": "2024-05-16T16:07:29.696Z"
   },
   {
    "duration": 0,
    "start_time": "2024-05-16T16:07:29.697Z"
   },
   {
    "duration": 0,
    "start_time": "2024-05-16T16:07:29.698Z"
   },
   {
    "duration": 0,
    "start_time": "2024-05-16T16:07:29.699Z"
   },
   {
    "duration": 0,
    "start_time": "2024-05-16T16:07:29.700Z"
   },
   {
    "duration": 0,
    "start_time": "2024-05-16T16:07:29.701Z"
   },
   {
    "duration": 0,
    "start_time": "2024-05-16T16:07:29.702Z"
   },
   {
    "duration": 0,
    "start_time": "2024-05-16T16:07:29.703Z"
   },
   {
    "duration": 0,
    "start_time": "2024-05-16T16:07:29.704Z"
   },
   {
    "duration": 68,
    "start_time": "2024-05-16T16:08:17.027Z"
   },
   {
    "duration": 71,
    "start_time": "2024-05-16T16:08:47.619Z"
   },
   {
    "duration": 68,
    "start_time": "2024-05-16T16:09:10.574Z"
   },
   {
    "duration": 68,
    "start_time": "2024-05-16T16:09:27.197Z"
   },
   {
    "duration": 0,
    "start_time": "2024-05-16T16:09:27.268Z"
   },
   {
    "duration": 0,
    "start_time": "2024-05-16T16:09:27.270Z"
   },
   {
    "duration": 0,
    "start_time": "2024-05-16T16:09:27.272Z"
   },
   {
    "duration": 0,
    "start_time": "2024-05-16T16:09:27.274Z"
   },
   {
    "duration": 0,
    "start_time": "2024-05-16T16:09:27.275Z"
   },
   {
    "duration": 0,
    "start_time": "2024-05-16T16:09:27.277Z"
   },
   {
    "duration": 0,
    "start_time": "2024-05-16T16:09:27.278Z"
   },
   {
    "duration": 0,
    "start_time": "2024-05-16T16:09:27.279Z"
   },
   {
    "duration": 0,
    "start_time": "2024-05-16T16:09:27.281Z"
   },
   {
    "duration": 0,
    "start_time": "2024-05-16T16:09:27.282Z"
   },
   {
    "duration": 0,
    "start_time": "2024-05-16T16:09:27.284Z"
   },
   {
    "duration": 0,
    "start_time": "2024-05-16T16:09:27.285Z"
   },
   {
    "duration": 0,
    "start_time": "2024-05-16T16:09:27.286Z"
   },
   {
    "duration": 0,
    "start_time": "2024-05-16T16:09:27.287Z"
   },
   {
    "duration": 0,
    "start_time": "2024-05-16T16:09:27.289Z"
   },
   {
    "duration": 0,
    "start_time": "2024-05-16T16:09:27.290Z"
   },
   {
    "duration": 0,
    "start_time": "2024-05-16T16:09:27.292Z"
   },
   {
    "duration": 0,
    "start_time": "2024-05-16T16:09:27.293Z"
   },
   {
    "duration": 0,
    "start_time": "2024-05-16T16:09:27.294Z"
   },
   {
    "duration": 0,
    "start_time": "2024-05-16T16:09:27.295Z"
   },
   {
    "duration": 0,
    "start_time": "2024-05-16T16:09:27.296Z"
   },
   {
    "duration": 0,
    "start_time": "2024-05-16T16:09:27.298Z"
   },
   {
    "duration": 0,
    "start_time": "2024-05-16T16:09:27.299Z"
   },
   {
    "duration": 0,
    "start_time": "2024-05-16T16:09:27.300Z"
   },
   {
    "duration": 0,
    "start_time": "2024-05-16T16:09:27.301Z"
   },
   {
    "duration": 0,
    "start_time": "2024-05-16T16:09:27.302Z"
   },
   {
    "duration": 0,
    "start_time": "2024-05-16T16:09:27.303Z"
   },
   {
    "duration": 1,
    "start_time": "2024-05-16T16:09:27.303Z"
   },
   {
    "duration": 0,
    "start_time": "2024-05-16T16:09:27.305Z"
   },
   {
    "duration": 0,
    "start_time": "2024-05-16T16:09:27.306Z"
   },
   {
    "duration": 0,
    "start_time": "2024-05-16T16:09:27.307Z"
   },
   {
    "duration": 0,
    "start_time": "2024-05-16T16:09:27.308Z"
   },
   {
    "duration": 73,
    "start_time": "2024-05-16T16:09:27.315Z"
   },
   {
    "duration": 38,
    "start_time": "2024-05-16T16:09:27.390Z"
   },
   {
    "duration": 23,
    "start_time": "2024-05-16T16:09:27.430Z"
   },
   {
    "duration": 25,
    "start_time": "2024-05-16T16:09:27.455Z"
   },
   {
    "duration": 12,
    "start_time": "2024-05-16T16:09:27.482Z"
   },
   {
    "duration": 16,
    "start_time": "2024-05-16T16:09:27.496Z"
   },
   {
    "duration": 22,
    "start_time": "2024-05-16T16:09:27.513Z"
   },
   {
    "duration": 0,
    "start_time": "2024-05-16T16:09:27.537Z"
   },
   {
    "duration": 0,
    "start_time": "2024-05-16T16:09:27.539Z"
   },
   {
    "duration": 0,
    "start_time": "2024-05-16T16:09:27.540Z"
   },
   {
    "duration": 0,
    "start_time": "2024-05-16T16:09:27.542Z"
   },
   {
    "duration": 0,
    "start_time": "2024-05-16T16:09:27.543Z"
   },
   {
    "duration": 0,
    "start_time": "2024-05-16T16:09:27.544Z"
   },
   {
    "duration": 0,
    "start_time": "2024-05-16T16:09:27.545Z"
   },
   {
    "duration": 0,
    "start_time": "2024-05-16T16:09:27.547Z"
   },
   {
    "duration": 0,
    "start_time": "2024-05-16T16:09:27.548Z"
   },
   {
    "duration": 0,
    "start_time": "2024-05-16T16:09:27.549Z"
   },
   {
    "duration": 0,
    "start_time": "2024-05-16T16:09:27.550Z"
   },
   {
    "duration": 0,
    "start_time": "2024-05-16T16:09:27.551Z"
   },
   {
    "duration": 0,
    "start_time": "2024-05-16T16:09:27.552Z"
   },
   {
    "duration": 0,
    "start_time": "2024-05-16T16:09:27.554Z"
   },
   {
    "duration": 0,
    "start_time": "2024-05-16T16:09:27.555Z"
   },
   {
    "duration": 0,
    "start_time": "2024-05-16T16:09:27.556Z"
   },
   {
    "duration": 0,
    "start_time": "2024-05-16T16:09:27.581Z"
   },
   {
    "duration": 0,
    "start_time": "2024-05-16T16:09:27.582Z"
   },
   {
    "duration": 0,
    "start_time": "2024-05-16T16:09:27.583Z"
   },
   {
    "duration": 0,
    "start_time": "2024-05-16T16:09:27.584Z"
   },
   {
    "duration": 0,
    "start_time": "2024-05-16T16:09:27.585Z"
   },
   {
    "duration": 0,
    "start_time": "2024-05-16T16:09:27.586Z"
   },
   {
    "duration": 0,
    "start_time": "2024-05-16T16:09:27.588Z"
   },
   {
    "duration": 0,
    "start_time": "2024-05-16T16:09:27.588Z"
   },
   {
    "duration": 0,
    "start_time": "2024-05-16T16:09:27.589Z"
   },
   {
    "duration": 0,
    "start_time": "2024-05-16T16:09:27.591Z"
   },
   {
    "duration": 67,
    "start_time": "2024-05-16T16:09:36.556Z"
   },
   {
    "duration": 687,
    "start_time": "2024-05-16T16:09:44.802Z"
   },
   {
    "duration": 820,
    "start_time": "2024-05-16T16:09:45.491Z"
   },
   {
    "duration": 12,
    "start_time": "2024-05-16T16:09:46.313Z"
   },
   {
    "duration": 105,
    "start_time": "2024-05-16T16:09:46.327Z"
   },
   {
    "duration": 88,
    "start_time": "2024-05-16T16:09:46.434Z"
   },
   {
    "duration": 3,
    "start_time": "2024-05-16T16:09:46.524Z"
   },
   {
    "duration": 167,
    "start_time": "2024-05-16T16:09:46.529Z"
   },
   {
    "duration": 142,
    "start_time": "2024-05-16T16:09:46.698Z"
   },
   {
    "duration": 23,
    "start_time": "2024-05-16T16:09:46.841Z"
   },
   {
    "duration": 60,
    "start_time": "2024-05-16T16:09:46.866Z"
   },
   {
    "duration": 22,
    "start_time": "2024-05-16T16:09:46.928Z"
   },
   {
    "duration": 249,
    "start_time": "2024-05-16T16:09:46.952Z"
   },
   {
    "duration": 52,
    "start_time": "2024-05-16T16:09:47.203Z"
   },
   {
    "duration": 25,
    "start_time": "2024-05-16T16:09:47.260Z"
   },
   {
    "duration": 50,
    "start_time": "2024-05-16T16:09:47.287Z"
   },
   {
    "duration": 15,
    "start_time": "2024-05-16T16:09:47.339Z"
   },
   {
    "duration": 6,
    "start_time": "2024-05-16T16:09:47.356Z"
   },
   {
    "duration": 16,
    "start_time": "2024-05-16T16:09:47.363Z"
   },
   {
    "duration": 19,
    "start_time": "2024-05-16T16:09:47.381Z"
   },
   {
    "duration": 66,
    "start_time": "2024-05-16T16:09:47.402Z"
   },
   {
    "duration": 11,
    "start_time": "2024-05-16T16:09:47.470Z"
   },
   {
    "duration": 28,
    "start_time": "2024-05-16T16:09:47.483Z"
   },
   {
    "duration": 52,
    "start_time": "2024-05-16T16:09:47.513Z"
   },
   {
    "duration": 14,
    "start_time": "2024-05-16T16:09:47.566Z"
   },
   {
    "duration": 9,
    "start_time": "2024-05-16T16:09:47.582Z"
   },
   {
    "duration": 11,
    "start_time": "2024-05-16T16:09:47.593Z"
   },
   {
    "duration": 6,
    "start_time": "2024-05-16T16:09:47.606Z"
   },
   {
    "duration": 7,
    "start_time": "2024-05-16T16:09:47.614Z"
   },
   {
    "duration": 16,
    "start_time": "2024-05-16T16:09:47.623Z"
   },
   {
    "duration": 25,
    "start_time": "2024-05-16T16:09:47.640Z"
   },
   {
    "duration": 24,
    "start_time": "2024-05-16T16:09:47.667Z"
   },
   {
    "duration": 28,
    "start_time": "2024-05-16T16:09:47.694Z"
   },
   {
    "duration": 42,
    "start_time": "2024-05-16T16:09:47.724Z"
   },
   {
    "duration": 29,
    "start_time": "2024-05-16T16:09:47.768Z"
   },
   {
    "duration": 134,
    "start_time": "2024-05-16T16:09:47.799Z"
   },
   {
    "duration": 39,
    "start_time": "2024-05-16T16:09:47.935Z"
   },
   {
    "duration": 35,
    "start_time": "2024-05-16T16:09:47.976Z"
   },
   {
    "duration": 16,
    "start_time": "2024-05-16T16:09:48.012Z"
   },
   {
    "duration": 549,
    "start_time": "2024-05-16T16:09:48.029Z"
   },
   {
    "duration": 14,
    "start_time": "2024-05-16T16:09:48.581Z"
   },
   {
    "duration": 22,
    "start_time": "2024-05-16T16:09:48.599Z"
   },
   {
    "duration": 27,
    "start_time": "2024-05-16T16:09:48.623Z"
   },
   {
    "duration": 18,
    "start_time": "2024-05-16T16:09:48.652Z"
   },
   {
    "duration": 72,
    "start_time": "2024-05-16T16:09:48.672Z"
   },
   {
    "duration": 316,
    "start_time": "2024-05-16T16:09:48.746Z"
   },
   {
    "duration": 55,
    "start_time": "2024-05-16T16:09:49.064Z"
   },
   {
    "duration": 300,
    "start_time": "2024-05-16T16:09:49.121Z"
   },
   {
    "duration": 75,
    "start_time": "2024-05-16T16:09:49.423Z"
   },
   {
    "duration": 453,
    "start_time": "2024-05-16T16:09:49.499Z"
   },
   {
    "duration": 4,
    "start_time": "2024-05-16T16:09:49.954Z"
   },
   {
    "duration": 41,
    "start_time": "2024-05-16T16:09:49.960Z"
   },
   {
    "duration": 34,
    "start_time": "2024-05-16T16:09:50.003Z"
   },
   {
    "duration": 57,
    "start_time": "2024-05-16T16:09:50.038Z"
   },
   {
    "duration": 53,
    "start_time": "2024-05-16T16:09:50.096Z"
   },
   {
    "duration": 24,
    "start_time": "2024-05-16T16:09:50.151Z"
   },
   {
    "duration": 334,
    "start_time": "2024-05-16T16:09:50.177Z"
   },
   {
    "duration": 24,
    "start_time": "2024-05-16T16:09:50.512Z"
   },
   {
    "duration": 307,
    "start_time": "2024-05-16T16:09:50.538Z"
   },
   {
    "duration": 4,
    "start_time": "2024-05-16T16:09:50.847Z"
   },
   {
    "duration": 1717,
    "start_time": "2024-05-16T16:09:50.853Z"
   },
   {
    "duration": 768,
    "start_time": "2024-05-16T16:09:52.572Z"
   },
   {
    "duration": 1869,
    "start_time": "2024-05-16T16:09:53.342Z"
   },
   {
    "duration": 2337,
    "start_time": "2024-05-16T16:09:55.213Z"
   },
   {
    "duration": 1994,
    "start_time": "2024-05-16T16:09:57.551Z"
   },
   {
    "duration": 2694,
    "start_time": "2024-05-16T16:09:59.546Z"
   },
   {
    "duration": 531,
    "start_time": "2024-05-16T16:11:42.650Z"
   },
   {
    "duration": 91,
    "start_time": "2024-05-16T16:11:57.620Z"
   },
   {
    "duration": 820,
    "start_time": "2024-05-17T07:45:53.479Z"
   },
   {
    "duration": 1498,
    "start_time": "2024-05-17T07:45:54.302Z"
   },
   {
    "duration": 15,
    "start_time": "2024-05-17T07:45:55.802Z"
   },
   {
    "duration": 107,
    "start_time": "2024-05-17T07:45:55.819Z"
   },
   {
    "duration": 75,
    "start_time": "2024-05-17T07:45:55.928Z"
   },
   {
    "duration": 5,
    "start_time": "2024-05-17T07:45:56.004Z"
   },
   {
    "duration": 174,
    "start_time": "2024-05-17T07:45:56.010Z"
   },
   {
    "duration": 149,
    "start_time": "2024-05-17T07:45:56.186Z"
   },
   {
    "duration": 22,
    "start_time": "2024-05-17T07:45:56.337Z"
   },
   {
    "duration": 21,
    "start_time": "2024-05-17T07:45:56.361Z"
   },
   {
    "duration": 22,
    "start_time": "2024-05-17T07:45:56.384Z"
   },
   {
    "duration": 231,
    "start_time": "2024-05-17T07:45:56.428Z"
   },
   {
    "duration": 50,
    "start_time": "2024-05-17T07:45:56.661Z"
   },
   {
    "duration": 26,
    "start_time": "2024-05-17T07:45:56.713Z"
   },
   {
    "duration": 25,
    "start_time": "2024-05-17T07:45:56.741Z"
   },
   {
    "duration": 8,
    "start_time": "2024-05-17T07:45:56.768Z"
   },
   {
    "duration": 10,
    "start_time": "2024-05-17T07:45:56.777Z"
   },
   {
    "duration": 21,
    "start_time": "2024-05-17T07:45:56.789Z"
   },
   {
    "duration": 15,
    "start_time": "2024-05-17T07:45:56.812Z"
   },
   {
    "duration": 52,
    "start_time": "2024-05-17T07:45:56.829Z"
   },
   {
    "duration": 23,
    "start_time": "2024-05-17T07:45:56.882Z"
   },
   {
    "duration": 22,
    "start_time": "2024-05-17T07:45:56.907Z"
   },
   {
    "duration": 33,
    "start_time": "2024-05-17T07:45:56.931Z"
   },
   {
    "duration": 22,
    "start_time": "2024-05-17T07:45:56.966Z"
   },
   {
    "duration": 12,
    "start_time": "2024-05-17T07:45:56.990Z"
   },
   {
    "duration": 12,
    "start_time": "2024-05-17T07:45:57.003Z"
   },
   {
    "duration": 9,
    "start_time": "2024-05-17T07:45:57.016Z"
   },
   {
    "duration": 23,
    "start_time": "2024-05-17T07:45:57.029Z"
   },
   {
    "duration": 12,
    "start_time": "2024-05-17T07:45:57.053Z"
   },
   {
    "duration": 12,
    "start_time": "2024-05-17T07:45:57.067Z"
   },
   {
    "duration": 9,
    "start_time": "2024-05-17T07:45:57.081Z"
   },
   {
    "duration": 22,
    "start_time": "2024-05-17T07:45:57.092Z"
   },
   {
    "duration": 10,
    "start_time": "2024-05-17T07:45:57.115Z"
   },
   {
    "duration": 22,
    "start_time": "2024-05-17T07:45:57.127Z"
   },
   {
    "duration": 12,
    "start_time": "2024-05-17T07:45:57.150Z"
   },
   {
    "duration": 10,
    "start_time": "2024-05-17T07:45:57.164Z"
   },
   {
    "duration": 10,
    "start_time": "2024-05-17T07:45:57.176Z"
   },
   {
    "duration": 17,
    "start_time": "2024-05-17T07:45:57.188Z"
   },
   {
    "duration": 577,
    "start_time": "2024-05-17T07:45:57.207Z"
   },
   {
    "duration": 15,
    "start_time": "2024-05-17T07:45:57.786Z"
   },
   {
    "duration": 27,
    "start_time": "2024-05-17T07:45:57.803Z"
   },
   {
    "duration": 15,
    "start_time": "2024-05-17T07:45:57.831Z"
   },
   {
    "duration": 52,
    "start_time": "2024-05-17T07:45:57.848Z"
   },
   {
    "duration": 71,
    "start_time": "2024-05-17T07:45:57.902Z"
   },
   {
    "duration": 307,
    "start_time": "2024-05-17T07:45:57.974Z"
   },
   {
    "duration": 60,
    "start_time": "2024-05-17T07:45:58.283Z"
   },
   {
    "duration": 278,
    "start_time": "2024-05-17T07:45:58.345Z"
   },
   {
    "duration": 53,
    "start_time": "2024-05-17T07:45:58.625Z"
   },
   {
    "duration": 455,
    "start_time": "2024-05-17T07:45:58.680Z"
   },
   {
    "duration": 4,
    "start_time": "2024-05-17T07:45:59.137Z"
   },
   {
    "duration": 27,
    "start_time": "2024-05-17T07:45:59.143Z"
   },
   {
    "duration": 26,
    "start_time": "2024-05-17T07:45:59.172Z"
   },
   {
    "duration": 68,
    "start_time": "2024-05-17T07:45:59.200Z"
   },
   {
    "duration": 21,
    "start_time": "2024-05-17T07:45:59.270Z"
   },
   {
    "duration": 8,
    "start_time": "2024-05-17T07:45:59.293Z"
   },
   {
    "duration": 354,
    "start_time": "2024-05-17T07:45:59.303Z"
   },
   {
    "duration": 23,
    "start_time": "2024-05-17T07:45:59.659Z"
   },
   {
    "duration": 268,
    "start_time": "2024-05-17T07:45:59.684Z"
   },
   {
    "duration": 3,
    "start_time": "2024-05-17T07:45:59.954Z"
   },
   {
    "duration": 1721,
    "start_time": "2024-05-17T07:45:59.959Z"
   },
   {
    "duration": 756,
    "start_time": "2024-05-17T07:46:01.682Z"
   },
   {
    "duration": 1396,
    "start_time": "2024-05-17T07:46:02.439Z"
   },
   {
    "duration": 1896,
    "start_time": "2024-05-17T07:46:03.836Z"
   },
   {
    "duration": 2006,
    "start_time": "2024-05-17T07:46:05.733Z"
   },
   {
    "duration": 2582,
    "start_time": "2024-05-17T07:46:07.741Z"
   },
   {
    "duration": 3,
    "start_time": "2024-05-17T07:48:22.759Z"
   },
   {
    "duration": 689,
    "start_time": "2024-05-17T07:48:27.893Z"
   },
   {
    "duration": 745,
    "start_time": "2024-05-17T07:48:28.584Z"
   },
   {
    "duration": 20,
    "start_time": "2024-05-17T07:48:29.332Z"
   },
   {
    "duration": 89,
    "start_time": "2024-05-17T07:48:29.354Z"
   },
   {
    "duration": 85,
    "start_time": "2024-05-17T07:48:29.446Z"
   },
   {
    "duration": 4,
    "start_time": "2024-05-17T07:48:29.534Z"
   },
   {
    "duration": 214,
    "start_time": "2024-05-17T07:48:29.540Z"
   },
   {
    "duration": 154,
    "start_time": "2024-05-17T07:48:29.756Z"
   },
   {
    "duration": 29,
    "start_time": "2024-05-17T07:48:29.912Z"
   },
   {
    "duration": 41,
    "start_time": "2024-05-17T07:48:29.943Z"
   },
   {
    "duration": 56,
    "start_time": "2024-05-17T07:48:29.985Z"
   },
   {
    "duration": 423,
    "start_time": "2024-05-17T07:48:30.043Z"
   },
   {
    "duration": 163,
    "start_time": "2024-05-17T07:48:30.468Z"
   },
   {
    "duration": 35,
    "start_time": "2024-05-17T07:48:30.634Z"
   },
   {
    "duration": 87,
    "start_time": "2024-05-17T07:48:30.672Z"
   },
   {
    "duration": 75,
    "start_time": "2024-05-17T07:48:30.761Z"
   },
   {
    "duration": 67,
    "start_time": "2024-05-17T07:48:30.838Z"
   },
   {
    "duration": 94,
    "start_time": "2024-05-17T07:48:30.907Z"
   },
   {
    "duration": 125,
    "start_time": "2024-05-17T07:48:31.003Z"
   },
   {
    "duration": 120,
    "start_time": "2024-05-17T07:48:31.131Z"
   },
   {
    "duration": 266,
    "start_time": "2024-05-17T07:48:31.254Z"
   },
   {
    "duration": 89,
    "start_time": "2024-05-17T07:48:31.521Z"
   },
   {
    "duration": 77,
    "start_time": "2024-05-17T07:48:31.611Z"
   },
   {
    "duration": 75,
    "start_time": "2024-05-17T07:48:31.689Z"
   },
   {
    "duration": 51,
    "start_time": "2024-05-17T07:48:31.765Z"
   },
   {
    "duration": 45,
    "start_time": "2024-05-17T07:48:31.817Z"
   },
   {
    "duration": 89,
    "start_time": "2024-05-17T07:48:31.864Z"
   },
   {
    "duration": 41,
    "start_time": "2024-05-17T07:48:31.954Z"
   },
   {
    "duration": 23,
    "start_time": "2024-05-17T07:48:31.997Z"
   },
   {
    "duration": 53,
    "start_time": "2024-05-17T07:48:32.022Z"
   },
   {
    "duration": 40,
    "start_time": "2024-05-17T07:48:32.076Z"
   },
   {
    "duration": 120,
    "start_time": "2024-05-17T07:48:32.118Z"
   },
   {
    "duration": 41,
    "start_time": "2024-05-17T07:48:32.240Z"
   },
   {
    "duration": 63,
    "start_time": "2024-05-17T07:48:32.283Z"
   },
   {
    "duration": 87,
    "start_time": "2024-05-17T07:48:32.347Z"
   },
   {
    "duration": 44,
    "start_time": "2024-05-17T07:48:32.437Z"
   },
   {
    "duration": 52,
    "start_time": "2024-05-17T07:48:32.483Z"
   },
   {
    "duration": 63,
    "start_time": "2024-05-17T07:48:32.537Z"
   },
   {
    "duration": 601,
    "start_time": "2024-05-17T07:48:32.602Z"
   },
   {
    "duration": 24,
    "start_time": "2024-05-17T07:48:33.205Z"
   },
   {
    "duration": 15,
    "start_time": "2024-05-17T07:48:33.235Z"
   },
   {
    "duration": 4,
    "start_time": "2024-05-17T07:48:33.252Z"
   },
   {
    "duration": 8,
    "start_time": "2024-05-17T07:48:33.258Z"
   },
   {
    "duration": 71,
    "start_time": "2024-05-17T07:48:33.267Z"
   },
   {
    "duration": 325,
    "start_time": "2024-05-17T07:48:33.340Z"
   },
   {
    "duration": 47,
    "start_time": "2024-05-17T07:48:33.667Z"
   },
   {
    "duration": 299,
    "start_time": "2024-05-17T07:48:33.728Z"
   },
   {
    "duration": 54,
    "start_time": "2024-05-17T07:48:34.029Z"
   },
   {
    "duration": 499,
    "start_time": "2024-05-17T07:48:34.085Z"
   },
   {
    "duration": 4,
    "start_time": "2024-05-17T07:48:34.586Z"
   },
   {
    "duration": 45,
    "start_time": "2024-05-17T07:48:34.593Z"
   },
   {
    "duration": 31,
    "start_time": "2024-05-17T07:48:34.640Z"
   },
   {
    "duration": 61,
    "start_time": "2024-05-17T07:48:34.672Z"
   },
   {
    "duration": 22,
    "start_time": "2024-05-17T07:48:34.735Z"
   },
   {
    "duration": 8,
    "start_time": "2024-05-17T07:48:34.759Z"
   },
   {
    "duration": 349,
    "start_time": "2024-05-17T07:48:34.768Z"
   },
   {
    "duration": 30,
    "start_time": "2024-05-17T07:48:35.119Z"
   },
   {
    "duration": 275,
    "start_time": "2024-05-17T07:48:35.151Z"
   },
   {
    "duration": 3,
    "start_time": "2024-05-17T07:48:35.427Z"
   },
   {
    "duration": 1748,
    "start_time": "2024-05-17T07:48:35.432Z"
   },
   {
    "duration": 779,
    "start_time": "2024-05-17T07:48:37.182Z"
   },
   {
    "duration": 1430,
    "start_time": "2024-05-17T07:48:37.963Z"
   },
   {
    "duration": 1957,
    "start_time": "2024-05-17T07:48:39.395Z"
   },
   {
    "duration": 1985,
    "start_time": "2024-05-17T07:48:41.353Z"
   },
   {
    "duration": 2626,
    "start_time": "2024-05-17T07:48:43.340Z"
   },
   {
    "duration": 45,
    "start_time": "2024-05-17T07:49:39.130Z"
   },
   {
    "duration": 4,
    "start_time": "2024-05-17T07:56:46.030Z"
   },
   {
    "duration": 5,
    "start_time": "2024-05-17T07:56:46.669Z"
   },
   {
    "duration": 56,
    "start_time": "2024-05-17T07:56:47.630Z"
   },
   {
    "duration": 296,
    "start_time": "2024-05-17T07:56:47.858Z"
   },
   {
    "duration": 46,
    "start_time": "2024-05-17T07:56:48.707Z"
   },
   {
    "duration": 279,
    "start_time": "2024-05-17T07:56:48.914Z"
   },
   {
    "duration": 64,
    "start_time": "2024-05-17T07:56:49.495Z"
   },
   {
    "duration": 507,
    "start_time": "2024-05-17T07:56:49.649Z"
   },
   {
    "duration": 4,
    "start_time": "2024-05-17T07:58:09.646Z"
   },
   {
    "duration": 4,
    "start_time": "2024-05-17T07:58:13.033Z"
   },
   {
    "duration": 142,
    "start_time": "2024-05-17T07:58:13.459Z"
   },
   {
    "duration": 4,
    "start_time": "2024-05-17T07:58:27.325Z"
   },
   {
    "duration": 5,
    "start_time": "2024-05-17T07:58:28.350Z"
   },
   {
    "duration": 55,
    "start_time": "2024-05-17T07:58:28.784Z"
   },
   {
    "duration": 4,
    "start_time": "2024-05-17T07:59:25.655Z"
   },
   {
    "duration": 4,
    "start_time": "2024-05-17T07:59:26.872Z"
   },
   {
    "duration": 59,
    "start_time": "2024-05-17T07:59:27.475Z"
   },
   {
    "duration": 279,
    "start_time": "2024-05-17T07:59:38.380Z"
   },
   {
    "duration": 49,
    "start_time": "2024-05-17T07:59:39.483Z"
   },
   {
    "duration": 274,
    "start_time": "2024-05-17T07:59:39.663Z"
   },
   {
    "duration": 53,
    "start_time": "2024-05-17T07:59:40.105Z"
   },
   {
    "duration": 376,
    "start_time": "2024-05-17T07:59:40.231Z"
   },
   {
    "duration": 24,
    "start_time": "2024-05-17T08:05:34.258Z"
   },
   {
    "duration": 27,
    "start_time": "2024-05-17T08:05:43.658Z"
   },
   {
    "duration": 27,
    "start_time": "2024-05-17T08:06:33.107Z"
   },
   {
    "duration": 27,
    "start_time": "2024-05-17T08:06:46.365Z"
   },
   {
    "duration": 30,
    "start_time": "2024-05-17T08:06:50.653Z"
   },
   {
    "duration": 30,
    "start_time": "2024-05-17T08:10:01.181Z"
   },
   {
    "duration": 392,
    "start_time": "2024-05-17T08:12:10.081Z"
   },
   {
    "duration": 378,
    "start_time": "2024-05-17T08:12:23.840Z"
   },
   {
    "duration": 389,
    "start_time": "2024-05-17T08:12:27.037Z"
   },
   {
    "duration": 390,
    "start_time": "2024-05-17T08:12:33.452Z"
   },
   {
    "duration": 451,
    "start_time": "2024-05-17T08:13:23.952Z"
   },
   {
    "duration": 375,
    "start_time": "2024-05-17T08:13:33.370Z"
   },
   {
    "duration": 380,
    "start_time": "2024-05-17T08:13:39.223Z"
   },
   {
    "duration": 387,
    "start_time": "2024-05-17T08:13:44.587Z"
   },
   {
    "duration": 500,
    "start_time": "2024-05-17T08:13:47.885Z"
   },
   {
    "duration": 391,
    "start_time": "2024-05-17T08:14:03.777Z"
   },
   {
    "duration": 365,
    "start_time": "2024-05-17T08:14:08.468Z"
   },
   {
    "duration": 177,
    "start_time": "2024-05-17T08:14:30.266Z"
   },
   {
    "duration": 387,
    "start_time": "2024-05-17T08:14:38.676Z"
   },
   {
    "duration": 450,
    "start_time": "2024-05-17T08:14:46.295Z"
   },
   {
    "duration": 5,
    "start_time": "2024-05-17T08:14:53.080Z"
   },
   {
    "duration": 389,
    "start_time": "2024-05-17T08:14:58.941Z"
   },
   {
    "duration": 489,
    "start_time": "2024-05-17T08:15:05.449Z"
   },
   {
    "duration": 415,
    "start_time": "2024-05-17T08:15:11.790Z"
   },
   {
    "duration": 443,
    "start_time": "2024-05-17T08:19:38.162Z"
   },
   {
    "duration": 103,
    "start_time": "2024-05-17T08:21:13.629Z"
   },
   {
    "duration": 920,
    "start_time": "2024-05-17T08:21:18.854Z"
   },
   {
    "duration": 744,
    "start_time": "2024-05-17T08:21:19.776Z"
   },
   {
    "duration": 19,
    "start_time": "2024-05-17T08:21:20.522Z"
   },
   {
    "duration": 93,
    "start_time": "2024-05-17T08:21:20.543Z"
   },
   {
    "duration": 87,
    "start_time": "2024-05-17T08:21:20.638Z"
   },
   {
    "duration": 4,
    "start_time": "2024-05-17T08:21:20.727Z"
   },
   {
    "duration": 169,
    "start_time": "2024-05-17T08:21:20.733Z"
   },
   {
    "duration": 162,
    "start_time": "2024-05-17T08:21:20.904Z"
   },
   {
    "duration": 25,
    "start_time": "2024-05-17T08:21:21.068Z"
   },
   {
    "duration": 36,
    "start_time": "2024-05-17T08:21:21.094Z"
   },
   {
    "duration": 27,
    "start_time": "2024-05-17T08:21:21.132Z"
   },
   {
    "duration": 240,
    "start_time": "2024-05-17T08:21:21.161Z"
   },
   {
    "duration": 59,
    "start_time": "2024-05-17T08:21:21.403Z"
   },
   {
    "duration": 9,
    "start_time": "2024-05-17T08:21:21.466Z"
   },
   {
    "duration": 19,
    "start_time": "2024-05-17T08:21:21.477Z"
   },
   {
    "duration": 20,
    "start_time": "2024-05-17T08:21:21.497Z"
   },
   {
    "duration": 7,
    "start_time": "2024-05-17T08:21:21.528Z"
   },
   {
    "duration": 30,
    "start_time": "2024-05-17T08:21:21.537Z"
   },
   {
    "duration": 17,
    "start_time": "2024-05-17T08:21:21.569Z"
   },
   {
    "duration": 48,
    "start_time": "2024-05-17T08:21:21.587Z"
   },
   {
    "duration": 11,
    "start_time": "2024-05-17T08:21:21.637Z"
   },
   {
    "duration": 22,
    "start_time": "2024-05-17T08:21:21.650Z"
   },
   {
    "duration": 30,
    "start_time": "2024-05-17T08:21:21.674Z"
   },
   {
    "duration": 34,
    "start_time": "2024-05-17T08:21:21.706Z"
   },
   {
    "duration": 7,
    "start_time": "2024-05-17T08:21:21.742Z"
   },
   {
    "duration": 21,
    "start_time": "2024-05-17T08:21:21.750Z"
   },
   {
    "duration": 6,
    "start_time": "2024-05-17T08:21:21.773Z"
   },
   {
    "duration": 6,
    "start_time": "2024-05-17T08:21:21.780Z"
   },
   {
    "duration": 32,
    "start_time": "2024-05-17T08:21:21.788Z"
   },
   {
    "duration": 23,
    "start_time": "2024-05-17T08:21:21.822Z"
   },
   {
    "duration": 19,
    "start_time": "2024-05-17T08:21:21.847Z"
   },
   {
    "duration": 10,
    "start_time": "2024-05-17T08:21:21.868Z"
   },
   {
    "duration": 15,
    "start_time": "2024-05-17T08:21:21.880Z"
   },
   {
    "duration": 10,
    "start_time": "2024-05-17T08:21:21.897Z"
   },
   {
    "duration": 28,
    "start_time": "2024-05-17T08:21:21.909Z"
   },
   {
    "duration": 12,
    "start_time": "2024-05-17T08:21:21.939Z"
   },
   {
    "duration": 20,
    "start_time": "2024-05-17T08:21:21.952Z"
   },
   {
    "duration": 13,
    "start_time": "2024-05-17T08:21:21.974Z"
   },
   {
    "duration": 672,
    "start_time": "2024-05-17T08:21:21.988Z"
   },
   {
    "duration": 69,
    "start_time": "2024-05-17T08:21:22.662Z"
   },
   {
    "duration": 14,
    "start_time": "2024-05-17T08:21:22.735Z"
   },
   {
    "duration": 22,
    "start_time": "2024-05-17T08:21:22.750Z"
   },
   {
    "duration": 56,
    "start_time": "2024-05-17T08:21:22.773Z"
   },
   {
    "duration": 106,
    "start_time": "2024-05-17T08:21:22.831Z"
   },
   {
    "duration": 613,
    "start_time": "2024-05-17T08:21:22.938Z"
   },
   {
    "duration": 103,
    "start_time": "2024-05-17T08:21:23.553Z"
   },
   {
    "duration": 596,
    "start_time": "2024-05-17T08:21:23.658Z"
   },
   {
    "duration": 106,
    "start_time": "2024-05-17T08:21:24.255Z"
   },
   {
    "duration": 909,
    "start_time": "2024-05-17T08:21:24.363Z"
   },
   {
    "duration": 58,
    "start_time": "2024-05-17T08:21:25.273Z"
   },
   {
    "duration": 45,
    "start_time": "2024-05-17T08:21:25.333Z"
   },
   {
    "duration": 608,
    "start_time": "2024-05-17T08:21:25.380Z"
   },
   {
    "duration": 0,
    "start_time": "2024-05-17T08:21:25.990Z"
   },
   {
    "duration": 0,
    "start_time": "2024-05-17T08:21:25.991Z"
   },
   {
    "duration": 0,
    "start_time": "2024-05-17T08:21:25.993Z"
   },
   {
    "duration": 0,
    "start_time": "2024-05-17T08:21:25.994Z"
   },
   {
    "duration": 0,
    "start_time": "2024-05-17T08:21:25.995Z"
   },
   {
    "duration": 0,
    "start_time": "2024-05-17T08:21:25.996Z"
   },
   {
    "duration": 0,
    "start_time": "2024-05-17T08:21:25.998Z"
   },
   {
    "duration": 0,
    "start_time": "2024-05-17T08:21:25.999Z"
   },
   {
    "duration": 0,
    "start_time": "2024-05-17T08:21:26.000Z"
   },
   {
    "duration": 0,
    "start_time": "2024-05-17T08:21:26.001Z"
   },
   {
    "duration": 0,
    "start_time": "2024-05-17T08:21:26.003Z"
   },
   {
    "duration": 0,
    "start_time": "2024-05-17T08:21:26.004Z"
   },
   {
    "duration": 0,
    "start_time": "2024-05-17T08:21:26.005Z"
   },
   {
    "duration": 0,
    "start_time": "2024-05-17T08:21:26.006Z"
   },
   {
    "duration": 379,
    "start_time": "2024-05-17T08:22:40.990Z"
   },
   {
    "duration": 4,
    "start_time": "2024-05-17T08:23:12.681Z"
   },
   {
    "duration": 705,
    "start_time": "2024-05-17T08:23:18.308Z"
   },
   {
    "duration": 773,
    "start_time": "2024-05-17T08:23:19.015Z"
   },
   {
    "duration": 14,
    "start_time": "2024-05-17T08:23:19.789Z"
   },
   {
    "duration": 103,
    "start_time": "2024-05-17T08:23:19.805Z"
   },
   {
    "duration": 77,
    "start_time": "2024-05-17T08:23:19.910Z"
   },
   {
    "duration": 38,
    "start_time": "2024-05-17T08:23:19.989Z"
   },
   {
    "duration": 195,
    "start_time": "2024-05-17T08:23:20.028Z"
   },
   {
    "duration": 145,
    "start_time": "2024-05-17T08:23:20.224Z"
   },
   {
    "duration": 24,
    "start_time": "2024-05-17T08:23:20.370Z"
   },
   {
    "duration": 39,
    "start_time": "2024-05-17T08:23:20.396Z"
   },
   {
    "duration": 34,
    "start_time": "2024-05-17T08:23:20.436Z"
   },
   {
    "duration": 248,
    "start_time": "2024-05-17T08:23:20.472Z"
   },
   {
    "duration": 56,
    "start_time": "2024-05-17T08:23:20.721Z"
   },
   {
    "duration": 20,
    "start_time": "2024-05-17T08:23:20.780Z"
   },
   {
    "duration": 33,
    "start_time": "2024-05-17T08:23:20.802Z"
   },
   {
    "duration": 27,
    "start_time": "2024-05-17T08:23:20.836Z"
   },
   {
    "duration": 17,
    "start_time": "2024-05-17T08:23:20.864Z"
   },
   {
    "duration": 33,
    "start_time": "2024-05-17T08:23:20.883Z"
   },
   {
    "duration": 37,
    "start_time": "2024-05-17T08:23:20.918Z"
   },
   {
    "duration": 50,
    "start_time": "2024-05-17T08:23:20.957Z"
   },
   {
    "duration": 41,
    "start_time": "2024-05-17T08:23:21.009Z"
   },
   {
    "duration": 17,
    "start_time": "2024-05-17T08:23:21.052Z"
   },
   {
    "duration": 12,
    "start_time": "2024-05-17T08:23:21.070Z"
   },
   {
    "duration": 12,
    "start_time": "2024-05-17T08:23:21.083Z"
   },
   {
    "duration": 27,
    "start_time": "2024-05-17T08:23:21.097Z"
   },
   {
    "duration": 11,
    "start_time": "2024-05-17T08:23:21.126Z"
   },
   {
    "duration": 5,
    "start_time": "2024-05-17T08:23:21.139Z"
   },
   {
    "duration": 12,
    "start_time": "2024-05-17T08:23:21.146Z"
   },
   {
    "duration": 20,
    "start_time": "2024-05-17T08:23:21.160Z"
   },
   {
    "duration": 32,
    "start_time": "2024-05-17T08:23:21.182Z"
   },
   {
    "duration": 25,
    "start_time": "2024-05-17T08:23:21.216Z"
   },
   {
    "duration": 14,
    "start_time": "2024-05-17T08:23:21.243Z"
   },
   {
    "duration": 25,
    "start_time": "2024-05-17T08:23:21.259Z"
   },
   {
    "duration": 17,
    "start_time": "2024-05-17T08:23:21.286Z"
   },
   {
    "duration": 13,
    "start_time": "2024-05-17T08:23:21.304Z"
   },
   {
    "duration": 9,
    "start_time": "2024-05-17T08:23:21.319Z"
   },
   {
    "duration": 9,
    "start_time": "2024-05-17T08:23:21.330Z"
   },
   {
    "duration": 11,
    "start_time": "2024-05-17T08:23:21.341Z"
   },
   {
    "duration": 572,
    "start_time": "2024-05-17T08:23:21.354Z"
   },
   {
    "duration": 14,
    "start_time": "2024-05-17T08:23:21.927Z"
   },
   {
    "duration": 14,
    "start_time": "2024-05-17T08:23:21.945Z"
   },
   {
    "duration": 4,
    "start_time": "2024-05-17T08:23:21.961Z"
   },
   {
    "duration": 7,
    "start_time": "2024-05-17T08:23:21.967Z"
   },
   {
    "duration": 78,
    "start_time": "2024-05-17T08:23:21.976Z"
   },
   {
    "duration": 316,
    "start_time": "2024-05-17T08:23:22.055Z"
   },
   {
    "duration": 57,
    "start_time": "2024-05-17T08:23:22.373Z"
   },
   {
    "duration": 300,
    "start_time": "2024-05-17T08:23:22.432Z"
   },
   {
    "duration": 55,
    "start_time": "2024-05-17T08:23:22.734Z"
   },
   {
    "duration": 469,
    "start_time": "2024-05-17T08:23:22.791Z"
   },
   {
    "duration": 4,
    "start_time": "2024-05-17T08:23:23.262Z"
   },
   {
    "duration": 37,
    "start_time": "2024-05-17T08:23:23.267Z"
   },
   {
    "duration": 434,
    "start_time": "2024-05-17T08:23:23.306Z"
   },
   {
    "duration": 22,
    "start_time": "2024-05-17T08:23:23.742Z"
   },
   {
    "duration": 46,
    "start_time": "2024-05-17T08:23:23.766Z"
   },
   {
    "duration": 34,
    "start_time": "2024-05-17T08:23:23.814Z"
   },
   {
    "duration": 8,
    "start_time": "2024-05-17T08:23:23.849Z"
   },
   {
    "duration": 331,
    "start_time": "2024-05-17T08:23:23.858Z"
   },
   {
    "duration": 24,
    "start_time": "2024-05-17T08:23:24.191Z"
   },
   {
    "duration": 277,
    "start_time": "2024-05-17T08:23:24.230Z"
   },
   {
    "duration": 3,
    "start_time": "2024-05-17T08:23:24.508Z"
   },
   {
    "duration": 1696,
    "start_time": "2024-05-17T08:23:24.513Z"
   },
   {
    "duration": 756,
    "start_time": "2024-05-17T08:23:26.211Z"
   },
   {
    "duration": 1441,
    "start_time": "2024-05-17T08:23:26.968Z"
   },
   {
    "duration": 1941,
    "start_time": "2024-05-17T08:23:28.411Z"
   },
   {
    "duration": 2056,
    "start_time": "2024-05-17T08:23:30.353Z"
   },
   {
    "duration": 2694,
    "start_time": "2024-05-17T08:23:32.410Z"
   },
   {
    "duration": 388,
    "start_time": "2024-05-17T08:24:05.779Z"
   },
   {
    "duration": 387,
    "start_time": "2024-05-17T08:24:15.973Z"
   },
   {
    "duration": 594,
    "start_time": "2024-05-17T08:25:48.630Z"
   },
   {
    "duration": 114,
    "start_time": "2024-05-17T08:26:32.230Z"
   },
   {
    "duration": 295,
    "start_time": "2024-05-17T08:26:45.120Z"
   },
   {
    "duration": 269,
    "start_time": "2024-05-17T08:26:56.856Z"
   },
   {
    "duration": 387,
    "start_time": "2024-05-17T08:27:52.131Z"
   },
   {
    "duration": 369,
    "start_time": "2024-05-17T08:28:03.757Z"
   },
   {
    "duration": 387,
    "start_time": "2024-05-17T08:28:10.534Z"
   },
   {
    "duration": 368,
    "start_time": "2024-05-17T08:28:16.166Z"
   },
   {
    "duration": 418,
    "start_time": "2024-05-17T08:28:30.086Z"
   },
   {
    "duration": 51,
    "start_time": "2024-05-17T08:48:27.092Z"
   },
   {
    "duration": 41,
    "start_time": "2024-05-17T08:48:37.802Z"
   },
   {
    "duration": 36,
    "start_time": "2024-05-17T08:48:46.416Z"
   },
   {
    "duration": 12,
    "start_time": "2024-05-17T08:48:46.927Z"
   },
   {
    "duration": 54,
    "start_time": "2024-05-17T08:49:09.078Z"
   },
   {
    "duration": 347,
    "start_time": "2024-05-17T08:49:15.146Z"
   },
   {
    "duration": 48,
    "start_time": "2024-05-17T08:49:38.810Z"
   },
   {
    "duration": 54,
    "start_time": "2024-05-17T08:49:39.159Z"
   },
   {
    "duration": 13,
    "start_time": "2024-05-17T08:49:39.493Z"
   },
   {
    "duration": 340,
    "start_time": "2024-05-17T08:49:40.003Z"
   },
   {
    "duration": 1111,
    "start_time": "2024-05-17T08:50:06.528Z"
   },
   {
    "duration": 345,
    "start_time": "2024-05-17T08:50:32.886Z"
   },
   {
    "duration": 479,
    "start_time": "2024-05-17T08:52:25.356Z"
   },
   {
    "duration": 2938,
    "start_time": "2024-05-17T08:54:33.073Z"
   },
   {
    "duration": 392,
    "start_time": "2024-05-17T08:56:07.273Z"
   },
   {
    "duration": 433,
    "start_time": "2024-05-17T08:56:36.538Z"
   },
   {
    "duration": 397,
    "start_time": "2024-05-17T08:56:42.899Z"
   },
   {
    "duration": 386,
    "start_time": "2024-05-17T08:56:49.425Z"
   },
   {
    "duration": 486,
    "start_time": "2024-05-17T08:57:01.986Z"
   },
   {
    "duration": 411,
    "start_time": "2024-05-17T08:57:09.307Z"
   },
   {
    "duration": 53,
    "start_time": "2024-05-17T08:57:26.414Z"
   },
   {
    "duration": 170,
    "start_time": "2024-05-17T08:57:31.038Z"
   },
   {
    "duration": 139,
    "start_time": "2024-05-17T08:58:13.924Z"
   },
   {
    "duration": 363,
    "start_time": "2024-05-17T08:58:49.851Z"
   },
   {
    "duration": 185,
    "start_time": "2024-05-17T08:59:11.989Z"
   },
   {
    "duration": 908,
    "start_time": "2024-05-17T09:00:04.372Z"
   },
   {
    "duration": 512,
    "start_time": "2024-05-17T09:03:55.725Z"
   },
   {
    "duration": 382,
    "start_time": "2024-05-17T09:04:06.089Z"
   },
   {
    "duration": 613,
    "start_time": "2024-05-17T09:04:21.895Z"
   },
   {
    "duration": 425,
    "start_time": "2024-05-17T09:04:29.533Z"
   },
   {
    "duration": 22,
    "start_time": "2024-05-17T09:06:21.441Z"
   },
   {
    "duration": 21,
    "start_time": "2024-05-17T09:06:50.268Z"
   },
   {
    "duration": 25,
    "start_time": "2024-05-17T09:07:41.116Z"
   },
   {
    "duration": 23,
    "start_time": "2024-05-17T09:09:35.612Z"
   },
   {
    "duration": 1240,
    "start_time": "2024-05-17T09:09:48.631Z"
   },
   {
    "duration": 767,
    "start_time": "2024-05-17T09:09:49.873Z"
   },
   {
    "duration": 13,
    "start_time": "2024-05-17T09:09:50.642Z"
   },
   {
    "duration": 88,
    "start_time": "2024-05-17T09:09:50.657Z"
   },
   {
    "duration": 85,
    "start_time": "2024-05-17T09:09:50.747Z"
   },
   {
    "duration": 20,
    "start_time": "2024-05-17T09:09:50.834Z"
   },
   {
    "duration": 165,
    "start_time": "2024-05-17T09:09:50.856Z"
   },
   {
    "duration": 145,
    "start_time": "2024-05-17T09:09:51.022Z"
   },
   {
    "duration": 26,
    "start_time": "2024-05-17T09:09:51.169Z"
   },
   {
    "duration": 40,
    "start_time": "2024-05-17T09:09:51.197Z"
   },
   {
    "duration": 32,
    "start_time": "2024-05-17T09:09:51.239Z"
   },
   {
    "duration": 233,
    "start_time": "2024-05-17T09:09:51.273Z"
   },
   {
    "duration": 79,
    "start_time": "2024-05-17T09:09:51.508Z"
   },
   {
    "duration": 42,
    "start_time": "2024-05-17T09:09:51.590Z"
   },
   {
    "duration": 46,
    "start_time": "2024-05-17T09:09:51.634Z"
   },
   {
    "duration": 12,
    "start_time": "2024-05-17T09:09:51.682Z"
   },
   {
    "duration": 40,
    "start_time": "2024-05-17T09:09:51.696Z"
   },
   {
    "duration": 61,
    "start_time": "2024-05-17T09:09:51.738Z"
   },
   {
    "duration": 21,
    "start_time": "2024-05-17T09:09:51.801Z"
   },
   {
    "duration": 60,
    "start_time": "2024-05-17T09:09:51.823Z"
   },
   {
    "duration": 13,
    "start_time": "2024-05-17T09:09:51.885Z"
   },
   {
    "duration": 11,
    "start_time": "2024-05-17T09:09:51.900Z"
   },
   {
    "duration": 44,
    "start_time": "2024-05-17T09:09:51.913Z"
   },
   {
    "duration": 37,
    "start_time": "2024-05-17T09:09:51.959Z"
   },
   {
    "duration": 8,
    "start_time": "2024-05-17T09:09:51.997Z"
   },
   {
    "duration": 35,
    "start_time": "2024-05-17T09:09:52.007Z"
   },
   {
    "duration": 38,
    "start_time": "2024-05-17T09:09:52.044Z"
   },
   {
    "duration": 30,
    "start_time": "2024-05-17T09:09:52.084Z"
   },
   {
    "duration": 26,
    "start_time": "2024-05-17T09:09:52.116Z"
   },
   {
    "duration": 36,
    "start_time": "2024-05-17T09:09:52.144Z"
   },
   {
    "duration": 35,
    "start_time": "2024-05-17T09:09:52.182Z"
   },
   {
    "duration": 63,
    "start_time": "2024-05-17T09:09:52.219Z"
   },
   {
    "duration": 57,
    "start_time": "2024-05-17T09:09:52.284Z"
   },
   {
    "duration": 36,
    "start_time": "2024-05-17T09:09:52.343Z"
   },
   {
    "duration": 53,
    "start_time": "2024-05-17T09:09:52.381Z"
   },
   {
    "duration": 26,
    "start_time": "2024-05-17T09:09:52.436Z"
   },
   {
    "duration": 46,
    "start_time": "2024-05-17T09:09:52.464Z"
   },
   {
    "duration": 45,
    "start_time": "2024-05-17T09:09:52.512Z"
   },
   {
    "duration": 570,
    "start_time": "2024-05-17T09:09:52.559Z"
   },
   {
    "duration": 15,
    "start_time": "2024-05-17T09:09:53.130Z"
   },
   {
    "duration": 37,
    "start_time": "2024-05-17T09:09:53.150Z"
   },
   {
    "duration": 34,
    "start_time": "2024-05-17T09:09:53.190Z"
   },
   {
    "duration": 54,
    "start_time": "2024-05-17T09:09:53.226Z"
   },
   {
    "duration": 96,
    "start_time": "2024-05-17T09:09:53.282Z"
   },
   {
    "duration": 312,
    "start_time": "2024-05-17T09:09:53.380Z"
   },
   {
    "duration": 59,
    "start_time": "2024-05-17T09:09:53.693Z"
   },
   {
    "duration": 320,
    "start_time": "2024-05-17T09:09:53.755Z"
   },
   {
    "duration": 57,
    "start_time": "2024-05-17T09:09:54.077Z"
   },
   {
    "duration": 425,
    "start_time": "2024-05-17T09:09:54.136Z"
   },
   {
    "duration": 5,
    "start_time": "2024-05-17T09:09:54.563Z"
   },
   {
    "duration": 141,
    "start_time": "2024-05-17T09:09:54.569Z"
   },
   {
    "duration": 398,
    "start_time": "2024-05-17T09:09:54.712Z"
   },
   {
    "duration": 28,
    "start_time": "2024-05-17T09:09:55.112Z"
   },
   {
    "duration": 45,
    "start_time": "2024-05-17T09:09:55.142Z"
   },
   {
    "duration": 74,
    "start_time": "2024-05-17T09:09:55.189Z"
   },
   {
    "duration": 13,
    "start_time": "2024-05-17T09:09:55.265Z"
   },
   {
    "duration": 134,
    "start_time": "2024-05-17T09:09:55.279Z"
   },
   {
    "duration": 0,
    "start_time": "2024-05-17T09:09:55.415Z"
   },
   {
    "duration": 0,
    "start_time": "2024-05-17T09:09:55.428Z"
   },
   {
    "duration": 0,
    "start_time": "2024-05-17T09:09:55.430Z"
   },
   {
    "duration": 0,
    "start_time": "2024-05-17T09:09:55.431Z"
   },
   {
    "duration": 0,
    "start_time": "2024-05-17T09:09:55.432Z"
   },
   {
    "duration": 0,
    "start_time": "2024-05-17T09:09:55.433Z"
   },
   {
    "duration": 0,
    "start_time": "2024-05-17T09:09:55.434Z"
   },
   {
    "duration": 0,
    "start_time": "2024-05-17T09:09:55.436Z"
   },
   {
    "duration": 0,
    "start_time": "2024-05-17T09:09:55.437Z"
   },
   {
    "duration": 0,
    "start_time": "2024-05-17T09:09:55.438Z"
   },
   {
    "duration": 483,
    "start_time": "2024-05-17T09:10:50.105Z"
   },
   {
    "duration": 388,
    "start_time": "2024-05-17T09:17:29.561Z"
   },
   {
    "duration": 901,
    "start_time": "2024-05-17T09:21:39.856Z"
   },
   {
    "duration": 847,
    "start_time": "2024-05-17T09:22:16.140Z"
   },
   {
    "duration": 144,
    "start_time": "2024-05-17T09:22:24.699Z"
   },
   {
    "duration": 134,
    "start_time": "2024-05-17T09:22:37.297Z"
   },
   {
    "duration": 176,
    "start_time": "2024-05-17T09:22:47.235Z"
   },
   {
    "duration": 176,
    "start_time": "2024-05-17T09:23:26.608Z"
   },
   {
    "duration": 393,
    "start_time": "2024-05-17T09:28:27.264Z"
   },
   {
    "duration": 497,
    "start_time": "2024-05-17T09:28:39.391Z"
   },
   {
    "duration": 398,
    "start_time": "2024-05-17T09:28:44.972Z"
   },
   {
    "duration": 390,
    "start_time": "2024-05-17T09:28:48.741Z"
   },
   {
    "duration": 377,
    "start_time": "2024-05-17T09:28:54.282Z"
   },
   {
    "duration": 369,
    "start_time": "2024-05-17T09:29:06.288Z"
   },
   {
    "duration": 370,
    "start_time": "2024-05-17T09:29:32.898Z"
   },
   {
    "duration": 470,
    "start_time": "2024-05-17T09:29:39.753Z"
   },
   {
    "duration": 383,
    "start_time": "2024-05-17T09:31:25.885Z"
   },
   {
    "duration": 378,
    "start_time": "2024-05-17T09:43:58.402Z"
   },
   {
    "duration": 820,
    "start_time": "2024-05-17T09:45:12.605Z"
   },
   {
    "duration": 878,
    "start_time": "2024-05-17T09:45:22.092Z"
   },
   {
    "duration": 785,
    "start_time": "2024-05-17T09:45:29.003Z"
   },
   {
    "duration": 760,
    "start_time": "2024-05-17T09:45:48.920Z"
   },
   {
    "duration": 830,
    "start_time": "2024-05-17T09:45:53.920Z"
   },
   {
    "duration": 848,
    "start_time": "2024-05-17T09:45:59.265Z"
   },
   {
    "duration": 791,
    "start_time": "2024-05-17T09:46:04.511Z"
   },
   {
    "duration": 763,
    "start_time": "2024-05-17T09:46:13.663Z"
   },
   {
    "duration": 934,
    "start_time": "2024-05-17T09:46:21.230Z"
   },
   {
    "duration": 845,
    "start_time": "2024-05-17T09:46:37.125Z"
   },
   {
    "duration": 933,
    "start_time": "2024-05-17T09:46:46.109Z"
   },
   {
    "duration": 816,
    "start_time": "2024-05-17T09:46:59.287Z"
   },
   {
    "duration": 968,
    "start_time": "2024-05-17T09:47:05.732Z"
   },
   {
    "duration": 893,
    "start_time": "2024-05-17T09:47:11.210Z"
   },
   {
    "duration": 795,
    "start_time": "2024-05-17T09:47:21.870Z"
   },
   {
    "duration": 801,
    "start_time": "2024-05-17T09:47:27.390Z"
   },
   {
    "duration": 971,
    "start_time": "2024-05-17T09:47:34.842Z"
   },
   {
    "duration": 772,
    "start_time": "2024-05-17T09:47:41.140Z"
   },
   {
    "duration": 749,
    "start_time": "2024-05-17T09:47:48.454Z"
   },
   {
    "duration": 917,
    "start_time": "2024-05-17T09:48:06.963Z"
   },
   {
    "duration": 796,
    "start_time": "2024-05-17T09:48:28.865Z"
   },
   {
    "duration": 851,
    "start_time": "2024-05-17T09:48:35.192Z"
   },
   {
    "duration": 802,
    "start_time": "2024-05-17T09:48:40.467Z"
   },
   {
    "duration": 937,
    "start_time": "2024-05-17T09:48:56.653Z"
   },
   {
    "duration": 361,
    "start_time": "2024-05-17T09:49:07.472Z"
   },
   {
    "duration": 1212,
    "start_time": "2024-05-17T09:56:26.364Z"
   },
   {
    "duration": 795,
    "start_time": "2024-05-17T09:56:27.578Z"
   },
   {
    "duration": 14,
    "start_time": "2024-05-17T09:56:28.375Z"
   },
   {
    "duration": 94,
    "start_time": "2024-05-17T09:56:28.390Z"
   },
   {
    "duration": 99,
    "start_time": "2024-05-17T09:56:28.486Z"
   },
   {
    "duration": 6,
    "start_time": "2024-05-17T09:56:28.586Z"
   },
   {
    "duration": 229,
    "start_time": "2024-05-17T09:56:28.594Z"
   },
   {
    "duration": 144,
    "start_time": "2024-05-17T09:56:28.824Z"
   },
   {
    "duration": 22,
    "start_time": "2024-05-17T09:56:28.970Z"
   },
   {
    "duration": 35,
    "start_time": "2024-05-17T09:56:28.995Z"
   },
   {
    "duration": 34,
    "start_time": "2024-05-17T09:56:29.031Z"
   },
   {
    "duration": 239,
    "start_time": "2024-05-17T09:56:29.066Z"
   },
   {
    "duration": 54,
    "start_time": "2024-05-17T09:56:29.307Z"
   },
   {
    "duration": 12,
    "start_time": "2024-05-17T09:56:29.363Z"
   },
   {
    "duration": 33,
    "start_time": "2024-05-17T09:56:29.378Z"
   },
   {
    "duration": 16,
    "start_time": "2024-05-17T09:56:29.413Z"
   },
   {
    "duration": 3,
    "start_time": "2024-05-17T09:56:29.431Z"
   },
   {
    "duration": 25,
    "start_time": "2024-05-17T09:56:29.438Z"
   },
   {
    "duration": 12,
    "start_time": "2024-05-17T09:56:29.464Z"
   },
   {
    "duration": 60,
    "start_time": "2024-05-17T09:56:29.478Z"
   },
   {
    "duration": 13,
    "start_time": "2024-05-17T09:56:29.540Z"
   },
   {
    "duration": 11,
    "start_time": "2024-05-17T09:56:29.556Z"
   },
   {
    "duration": 17,
    "start_time": "2024-05-17T09:56:29.569Z"
   },
   {
    "duration": 14,
    "start_time": "2024-05-17T09:56:29.588Z"
   },
   {
    "duration": 26,
    "start_time": "2024-05-17T09:56:29.604Z"
   },
   {
    "duration": 10,
    "start_time": "2024-05-17T09:56:29.636Z"
   },
   {
    "duration": 6,
    "start_time": "2024-05-17T09:56:29.648Z"
   },
   {
    "duration": 6,
    "start_time": "2024-05-17T09:56:29.659Z"
   },
   {
    "duration": 12,
    "start_time": "2024-05-17T09:56:29.667Z"
   },
   {
    "duration": 17,
    "start_time": "2024-05-17T09:56:29.681Z"
   },
   {
    "duration": 7,
    "start_time": "2024-05-17T09:56:29.730Z"
   },
   {
    "duration": 20,
    "start_time": "2024-05-17T09:56:29.739Z"
   },
   {
    "duration": 19,
    "start_time": "2024-05-17T09:56:29.761Z"
   },
   {
    "duration": 17,
    "start_time": "2024-05-17T09:56:29.782Z"
   },
   {
    "duration": 32,
    "start_time": "2024-05-17T09:56:29.800Z"
   },
   {
    "duration": 18,
    "start_time": "2024-05-17T09:56:29.834Z"
   },
   {
    "duration": 18,
    "start_time": "2024-05-17T09:56:29.854Z"
   },
   {
    "duration": 16,
    "start_time": "2024-05-17T09:56:29.874Z"
   },
   {
    "duration": 570,
    "start_time": "2024-05-17T09:56:29.892Z"
   },
   {
    "duration": 13,
    "start_time": "2024-05-17T09:56:30.464Z"
   },
   {
    "duration": 80,
    "start_time": "2024-05-17T09:56:30.479Z"
   },
   {
    "duration": 59,
    "start_time": "2024-05-17T09:56:30.561Z"
   },
   {
    "duration": 136,
    "start_time": "2024-05-17T09:56:30.622Z"
   },
   {
    "duration": 186,
    "start_time": "2024-05-17T09:56:30.760Z"
   },
   {
    "duration": 490,
    "start_time": "2024-05-17T09:56:30.948Z"
   },
   {
    "duration": 47,
    "start_time": "2024-05-17T09:56:31.440Z"
   },
   {
    "duration": 589,
    "start_time": "2024-05-17T09:56:31.489Z"
   },
   {
    "duration": 75,
    "start_time": "2024-05-17T09:56:32.080Z"
   },
   {
    "duration": 841,
    "start_time": "2024-05-17T09:56:32.157Z"
   },
   {
    "duration": 4,
    "start_time": "2024-05-17T09:56:33.000Z"
   },
   {
    "duration": 247,
    "start_time": "2024-05-17T09:56:33.005Z"
   },
   {
    "duration": 387,
    "start_time": "2024-05-17T09:56:33.253Z"
   },
   {
    "duration": 22,
    "start_time": "2024-05-17T09:56:33.641Z"
   },
   {
    "duration": 373,
    "start_time": "2024-05-17T09:56:33.665Z"
   },
   {
    "duration": 58,
    "start_time": "2024-05-17T09:56:34.040Z"
   },
   {
    "duration": 13,
    "start_time": "2024-05-17T09:56:34.100Z"
   },
   {
    "duration": 1006,
    "start_time": "2024-05-17T09:56:34.130Z"
   },
   {
    "duration": 24,
    "start_time": "2024-05-17T09:56:35.138Z"
   },
   {
    "duration": 281,
    "start_time": "2024-05-17T09:56:35.164Z"
   },
   {
    "duration": 2,
    "start_time": "2024-05-17T09:56:35.447Z"
   },
   {
    "duration": 1618,
    "start_time": "2024-05-17T09:56:35.451Z"
   },
   {
    "duration": 755,
    "start_time": "2024-05-17T09:56:37.071Z"
   },
   {
    "duration": 1326,
    "start_time": "2024-05-17T09:56:37.828Z"
   },
   {
    "duration": 2024,
    "start_time": "2024-05-17T09:56:39.155Z"
   },
   {
    "duration": 1931,
    "start_time": "2024-05-17T09:56:41.181Z"
   },
   {
    "duration": 2749,
    "start_time": "2024-05-17T09:56:43.114Z"
   },
   {
    "duration": 14,
    "start_time": "2024-05-17T10:13:43.907Z"
   },
   {
    "duration": 941,
    "start_time": "2024-05-17T10:13:54.735Z"
   },
   {
    "duration": 12,
    "start_time": "2024-05-17T10:14:49.573Z"
   },
   {
    "duration": 12,
    "start_time": "2024-05-17T10:15:05.278Z"
   },
   {
    "duration": 12,
    "start_time": "2024-05-17T10:15:10.584Z"
   },
   {
    "duration": 12,
    "start_time": "2024-05-17T10:15:20.792Z"
   },
   {
    "duration": 38,
    "start_time": "2024-05-17T10:17:58.954Z"
   },
   {
    "duration": 37,
    "start_time": "2024-05-17T10:19:18.305Z"
   },
   {
    "duration": 48,
    "start_time": "2024-05-17T11:46:34.048Z"
   },
   {
    "duration": 1212,
    "start_time": "2024-05-17T11:46:42.960Z"
   },
   {
    "duration": 1936,
    "start_time": "2024-05-17T11:46:44.174Z"
   },
   {
    "duration": 11,
    "start_time": "2024-05-17T11:46:46.112Z"
   },
   {
    "duration": 107,
    "start_time": "2024-05-17T11:46:46.125Z"
   },
   {
    "duration": 51,
    "start_time": "2024-05-17T11:46:46.284Z"
   },
   {
    "duration": 3,
    "start_time": "2024-05-17T11:46:46.337Z"
   },
   {
    "duration": 166,
    "start_time": "2024-05-17T11:46:46.341Z"
   },
   {
    "duration": 119,
    "start_time": "2024-05-17T11:46:46.509Z"
   },
   {
    "duration": 21,
    "start_time": "2024-05-17T11:46:46.630Z"
   },
   {
    "duration": 33,
    "start_time": "2024-05-17T11:46:46.652Z"
   },
   {
    "duration": 41,
    "start_time": "2024-05-17T11:46:46.687Z"
   },
   {
    "duration": 175,
    "start_time": "2024-05-17T11:46:46.729Z"
   },
   {
    "duration": 36,
    "start_time": "2024-05-17T11:46:46.906Z"
   },
   {
    "duration": 19,
    "start_time": "2024-05-17T11:46:46.945Z"
   },
   {
    "duration": 13,
    "start_time": "2024-05-17T11:46:46.965Z"
   },
   {
    "duration": 6,
    "start_time": "2024-05-17T11:46:46.984Z"
   },
   {
    "duration": 11,
    "start_time": "2024-05-17T11:46:46.991Z"
   },
   {
    "duration": 18,
    "start_time": "2024-05-17T11:46:47.004Z"
   },
   {
    "duration": 10,
    "start_time": "2024-05-17T11:46:47.024Z"
   },
   {
    "duration": 45,
    "start_time": "2024-05-17T11:46:47.035Z"
   },
   {
    "duration": 8,
    "start_time": "2024-05-17T11:46:47.082Z"
   },
   {
    "duration": 6,
    "start_time": "2024-05-17T11:46:47.092Z"
   },
   {
    "duration": 34,
    "start_time": "2024-05-17T11:46:47.100Z"
   },
   {
    "duration": 15,
    "start_time": "2024-05-17T11:46:47.135Z"
   },
   {
    "duration": 13,
    "start_time": "2024-05-17T11:46:47.151Z"
   },
   {
    "duration": 12,
    "start_time": "2024-05-17T11:46:47.166Z"
   },
   {
    "duration": 14,
    "start_time": "2024-05-17T11:46:47.180Z"
   },
   {
    "duration": 5,
    "start_time": "2024-05-17T11:46:47.195Z"
   },
   {
    "duration": 8,
    "start_time": "2024-05-17T11:46:47.202Z"
   },
   {
    "duration": 14,
    "start_time": "2024-05-17T11:46:47.211Z"
   },
   {
    "duration": 10,
    "start_time": "2024-05-17T11:46:47.227Z"
   },
   {
    "duration": 108,
    "start_time": "2024-05-17T11:46:47.238Z"
   },
   {
    "duration": 30,
    "start_time": "2024-05-17T11:46:47.348Z"
   },
   {
    "duration": 39,
    "start_time": "2024-05-17T11:46:47.379Z"
   },
   {
    "duration": 31,
    "start_time": "2024-05-17T11:46:47.420Z"
   },
   {
    "duration": 29,
    "start_time": "2024-05-17T11:46:47.453Z"
   },
   {
    "duration": 45,
    "start_time": "2024-05-17T11:46:47.483Z"
   },
   {
    "duration": 88,
    "start_time": "2024-05-17T11:46:47.529Z"
   },
   {
    "duration": 461,
    "start_time": "2024-05-17T11:46:47.619Z"
   },
   {
    "duration": 10,
    "start_time": "2024-05-17T11:46:48.081Z"
   },
   {
    "duration": 36,
    "start_time": "2024-05-17T11:46:48.095Z"
   },
   {
    "duration": 29,
    "start_time": "2024-05-17T11:46:48.133Z"
   },
   {
    "duration": 29,
    "start_time": "2024-05-17T11:46:48.164Z"
   },
   {
    "duration": 70,
    "start_time": "2024-05-17T11:46:48.194Z"
   },
   {
    "duration": 255,
    "start_time": "2024-05-17T11:46:48.265Z"
   },
   {
    "duration": 41,
    "start_time": "2024-05-17T11:46:48.522Z"
   },
   {
    "duration": 249,
    "start_time": "2024-05-17T11:46:48.565Z"
   },
   {
    "duration": 45,
    "start_time": "2024-05-17T11:46:48.815Z"
   },
   {
    "duration": 360,
    "start_time": "2024-05-17T11:46:48.862Z"
   },
   {
    "duration": 5,
    "start_time": "2024-05-17T11:46:49.224Z"
   },
   {
    "duration": 145,
    "start_time": "2024-05-17T11:46:49.230Z"
   },
   {
    "duration": 315,
    "start_time": "2024-05-17T11:46:49.377Z"
   },
   {
    "duration": 21,
    "start_time": "2024-05-17T11:46:49.694Z"
   },
   {
    "duration": 40,
    "start_time": "2024-05-17T11:46:49.717Z"
   },
   {
    "duration": 149,
    "start_time": "2024-05-17T11:46:49.759Z"
   },
   {
    "duration": 11,
    "start_time": "2024-05-17T11:46:49.910Z"
   },
   {
    "duration": 170,
    "start_time": "2024-05-17T11:46:49.923Z"
   },
   {
    "duration": 806,
    "start_time": "2024-05-17T11:46:50.095Z"
   },
   {
    "duration": 303,
    "start_time": "2024-05-17T11:46:50.903Z"
   },
   {
    "duration": 31,
    "start_time": "2024-05-17T11:46:51.208Z"
   },
   {
    "duration": 233,
    "start_time": "2024-05-17T11:46:51.240Z"
   },
   {
    "duration": 15,
    "start_time": "2024-05-17T11:46:51.475Z"
   },
   {
    "duration": 2,
    "start_time": "2024-05-17T11:46:51.491Z"
   },
   {
    "duration": 1393,
    "start_time": "2024-05-17T11:46:51.495Z"
   },
   {
    "duration": 645,
    "start_time": "2024-05-17T11:46:52.889Z"
   },
   {
    "duration": 1164,
    "start_time": "2024-05-17T11:46:53.535Z"
   },
   {
    "duration": 1551,
    "start_time": "2024-05-17T11:46:54.701Z"
   },
   {
    "duration": 1533,
    "start_time": "2024-05-17T11:46:56.253Z"
   },
   {
    "duration": 2098,
    "start_time": "2024-05-17T11:46:57.788Z"
   },
   {
    "duration": 13,
    "start_time": "2024-05-17T11:52:01.220Z"
   },
   {
    "duration": 22,
    "start_time": "2024-05-17T11:52:32.458Z"
   },
   {
    "duration": 1086,
    "start_time": "2024-05-17T11:54:03.815Z"
   },
   {
    "duration": 587,
    "start_time": "2024-05-17T12:01:51.758Z"
   },
   {
    "duration": 520,
    "start_time": "2024-05-17T12:03:25.021Z"
   },
   {
    "duration": 551,
    "start_time": "2024-05-17T12:03:42.676Z"
   },
   {
    "duration": 587,
    "start_time": "2024-05-17T12:03:49.099Z"
   },
   {
    "duration": 527,
    "start_time": "2024-05-17T12:03:59.935Z"
   },
   {
    "duration": 534,
    "start_time": "2024-05-17T12:04:08.913Z"
   },
   {
    "duration": 915,
    "start_time": "2024-05-17T12:04:56.548Z"
   },
   {
    "duration": 985,
    "start_time": "2024-05-17T12:05:37.004Z"
   },
   {
    "duration": 923,
    "start_time": "2024-05-17T12:05:42.739Z"
   },
   {
    "duration": 991,
    "start_time": "2024-05-17T12:06:31.764Z"
   },
   {
    "duration": 969,
    "start_time": "2024-05-17T12:06:41.502Z"
   },
   {
    "duration": 1590,
    "start_time": "2024-05-17T12:07:23.102Z"
   },
   {
    "duration": 1440,
    "start_time": "2024-05-17T12:09:07.744Z"
   },
   {
    "duration": 1457,
    "start_time": "2024-05-17T12:09:47.136Z"
   },
   {
    "duration": 1454,
    "start_time": "2024-05-17T12:12:23.095Z"
   },
   {
    "duration": 1429,
    "start_time": "2024-05-17T12:23:52.241Z"
   },
   {
    "duration": 1397,
    "start_time": "2024-05-17T12:24:03.377Z"
   },
   {
    "duration": 1481,
    "start_time": "2024-05-17T12:24:09.747Z"
   },
   {
    "duration": 1351,
    "start_time": "2024-05-17T12:32:28.525Z"
   },
   {
    "duration": 11,
    "start_time": "2024-05-17T12:38:47.430Z"
   },
   {
    "duration": 11,
    "start_time": "2024-05-17T12:38:51.456Z"
   },
   {
    "duration": 19,
    "start_time": "2024-05-17T12:39:23.322Z"
   },
   {
    "duration": 14,
    "start_time": "2024-05-17T12:43:07.137Z"
   },
   {
    "duration": 1842,
    "start_time": "2024-05-17T12:44:22.184Z"
   },
   {
    "duration": 1691,
    "start_time": "2024-05-17T12:44:43.527Z"
   },
   {
    "duration": 15,
    "start_time": "2024-05-17T12:45:49.739Z"
   },
   {
    "duration": 976,
    "start_time": "2024-05-17T12:46:03.029Z"
   },
   {
    "duration": 14,
    "start_time": "2024-05-17T12:46:18.834Z"
   },
   {
    "duration": 14,
    "start_time": "2024-05-17T12:46:32.848Z"
   },
   {
    "duration": 4,
    "start_time": "2024-05-17T12:46:44.368Z"
   },
   {
    "duration": 4,
    "start_time": "2024-05-17T12:47:29.673Z"
   },
   {
    "duration": 4,
    "start_time": "2024-05-17T12:47:45.597Z"
   },
   {
    "duration": 16,
    "start_time": "2024-05-17T13:04:25.030Z"
   },
   {
    "duration": 1417,
    "start_time": "2024-05-17T13:04:35.443Z"
   },
   {
    "duration": 13,
    "start_time": "2024-05-17T13:11:45.715Z"
   },
   {
    "duration": 4,
    "start_time": "2024-05-17T13:13:54.121Z"
   },
   {
    "duration": 5,
    "start_time": "2024-05-17T13:19:39.538Z"
   },
   {
    "duration": 18,
    "start_time": "2024-05-17T13:24:00.383Z"
   },
   {
    "duration": 7,
    "start_time": "2024-05-17T13:24:25.526Z"
   },
   {
    "duration": 5,
    "start_time": "2024-05-17T13:35:26.196Z"
   },
   {
    "duration": 543,
    "start_time": "2024-05-17T13:55:07.922Z"
   },
   {
    "duration": 966,
    "start_time": "2024-05-17T13:56:17.136Z"
   },
   {
    "duration": 1115,
    "start_time": "2024-05-17T13:59:10.777Z"
   },
   {
    "duration": 617,
    "start_time": "2024-05-17T13:59:20.236Z"
   },
   {
    "duration": 4,
    "start_time": "2024-05-17T14:02:48.051Z"
   },
   {
    "duration": 4,
    "start_time": "2024-05-17T14:04:55.858Z"
   },
   {
    "duration": 1130,
    "start_time": "2024-05-17T14:06:14.460Z"
   },
   {
    "duration": 692,
    "start_time": "2024-05-17T14:06:40.816Z"
   },
   {
    "duration": 5,
    "start_time": "2024-05-17T14:18:00.899Z"
   },
   {
    "duration": 5,
    "start_time": "2024-05-17T14:18:21.185Z"
   },
   {
    "duration": 6,
    "start_time": "2024-05-17T14:18:26.375Z"
   },
   {
    "duration": 6,
    "start_time": "2024-05-17T14:18:33.349Z"
   },
   {
    "duration": 8,
    "start_time": "2024-05-17T14:18:37.108Z"
   },
   {
    "duration": 6,
    "start_time": "2024-05-17T14:22:51.404Z"
   },
   {
    "duration": 6,
    "start_time": "2024-05-17T14:26:16.708Z"
   },
   {
    "duration": 5,
    "start_time": "2024-05-17T14:26:35.336Z"
   },
   {
    "duration": 1428,
    "start_time": "2024-05-17T14:31:53.913Z"
   },
   {
    "duration": 1345,
    "start_time": "2024-05-17T14:33:30.113Z"
   },
   {
    "duration": 1655,
    "start_time": "2024-05-17T14:33:36.200Z"
   },
   {
    "duration": 1408,
    "start_time": "2024-05-17T14:33:43.536Z"
   },
   {
    "duration": 1488,
    "start_time": "2024-05-17T14:34:38.177Z"
   },
   {
    "duration": 1300,
    "start_time": "2024-05-17T14:35:36.995Z"
   },
   {
    "duration": 1398,
    "start_time": "2024-05-17T14:35:52.904Z"
   },
   {
    "duration": 1259,
    "start_time": "2024-05-17T14:36:04.834Z"
   },
   {
    "duration": 1382,
    "start_time": "2024-05-17T14:36:10.478Z"
   },
   {
    "duration": 1338,
    "start_time": "2024-05-17T14:36:20.964Z"
   },
   {
    "duration": 1349,
    "start_time": "2024-05-17T14:36:44.772Z"
   },
   {
    "duration": 6,
    "start_time": "2024-05-17T14:40:56.599Z"
   },
   {
    "duration": 5,
    "start_time": "2024-05-17T14:41:19.364Z"
   },
   {
    "duration": 5,
    "start_time": "2024-05-17T14:41:48.989Z"
   },
   {
    "duration": 5,
    "start_time": "2024-05-17T14:43:03.830Z"
   },
   {
    "duration": 6,
    "start_time": "2024-05-17T14:43:29.011Z"
   },
   {
    "duration": 783,
    "start_time": "2024-05-17T14:47:40.896Z"
   },
   {
    "duration": 63,
    "start_time": "2024-05-17T14:48:11.477Z"
   },
   {
    "duration": 6,
    "start_time": "2024-05-17T14:48:21.774Z"
   },
   {
    "duration": 8,
    "start_time": "2024-05-17T14:48:31.881Z"
   },
   {
    "duration": 5,
    "start_time": "2024-05-17T14:48:52.064Z"
   },
   {
    "duration": 4,
    "start_time": "2024-05-17T14:49:08.589Z"
   },
   {
    "duration": 5,
    "start_time": "2024-05-17T14:49:11.877Z"
   },
   {
    "duration": 4,
    "start_time": "2024-05-17T14:53:52.544Z"
   },
   {
    "duration": 4,
    "start_time": "2024-05-17T14:54:25.785Z"
   },
   {
    "duration": 7,
    "start_time": "2024-05-17T14:55:03.479Z"
   },
   {
    "duration": 1409,
    "start_time": "2024-05-17T14:55:55.870Z"
   },
   {
    "duration": 1066,
    "start_time": "2024-05-17T14:57:11.563Z"
   },
   {
    "duration": 8,
    "start_time": "2024-05-17T14:57:41.708Z"
   },
   {
    "duration": 630,
    "start_time": "2024-05-17T14:59:00.576Z"
   },
   {
    "duration": 5,
    "start_time": "2024-05-17T14:59:15.880Z"
   },
   {
    "duration": 23,
    "start_time": "2024-05-17T16:19:49.394Z"
   },
   {
    "duration": 10,
    "start_time": "2024-05-17T16:19:59.434Z"
   },
   {
    "duration": 7,
    "start_time": "2024-05-17T16:20:11.780Z"
   },
   {
    "duration": 1386,
    "start_time": "2024-05-17T16:20:21.456Z"
   },
   {
    "duration": 5,
    "start_time": "2024-05-17T16:20:55.379Z"
   },
   {
    "duration": 979,
    "start_time": "2024-05-17T16:21:52.433Z"
   },
   {
    "duration": 6,
    "start_time": "2024-05-17T16:22:38.490Z"
   },
   {
    "duration": 638,
    "start_time": "2024-05-17T16:23:19.679Z"
   },
   {
    "duration": 5,
    "start_time": "2024-05-17T16:23:36.983Z"
   },
   {
    "duration": 635,
    "start_time": "2024-05-17T16:23:54.095Z"
   },
   {
    "duration": 4,
    "start_time": "2024-05-17T16:23:56.354Z"
   },
   {
    "duration": 7,
    "start_time": "2024-05-17T16:31:34.758Z"
   },
   {
    "duration": 8,
    "start_time": "2024-05-17T16:31:36.992Z"
   },
   {
    "duration": 6,
    "start_time": "2024-05-17T16:31:37.900Z"
   },
   {
    "duration": 1329,
    "start_time": "2024-05-17T16:31:38.609Z"
   },
   {
    "duration": 5,
    "start_time": "2024-05-17T16:31:40.920Z"
   },
   {
    "duration": 991,
    "start_time": "2024-05-17T16:31:41.984Z"
   },
   {
    "duration": 6,
    "start_time": "2024-05-17T16:31:42.984Z"
   },
   {
    "duration": 655,
    "start_time": "2024-05-17T16:31:42.992Z"
   },
   {
    "duration": 5,
    "start_time": "2024-05-17T16:31:43.914Z"
   },
   {
    "duration": 947,
    "start_time": "2024-05-17T17:40:27.279Z"
   },
   {
    "duration": 1007,
    "start_time": "2024-05-17T17:40:34.563Z"
   },
   {
    "duration": 1039,
    "start_time": "2024-05-17T17:40:44.686Z"
   },
   {
    "duration": 4,
    "start_time": "2024-05-17T17:43:06.063Z"
   },
   {
    "duration": 975,
    "start_time": "2024-05-17T17:43:21.145Z"
   },
   {
    "duration": 525,
    "start_time": "2024-05-17T17:43:22.122Z"
   },
   {
    "duration": 12,
    "start_time": "2024-05-17T17:43:22.648Z"
   },
   {
    "duration": 101,
    "start_time": "2024-05-17T17:43:22.662Z"
   },
   {
    "duration": 70,
    "start_time": "2024-05-17T17:43:22.765Z"
   },
   {
    "duration": 31,
    "start_time": "2024-05-17T17:43:22.836Z"
   },
   {
    "duration": 193,
    "start_time": "2024-05-17T17:43:22.868Z"
   },
   {
    "duration": 106,
    "start_time": "2024-05-17T17:43:23.063Z"
   },
   {
    "duration": 24,
    "start_time": "2024-05-17T17:43:23.170Z"
   },
   {
    "duration": 17,
    "start_time": "2024-05-17T17:43:23.196Z"
   },
   {
    "duration": 37,
    "start_time": "2024-05-17T17:43:23.214Z"
   },
   {
    "duration": 147,
    "start_time": "2024-05-17T17:43:23.252Z"
   },
   {
    "duration": 33,
    "start_time": "2024-05-17T17:43:23.400Z"
   },
   {
    "duration": 49,
    "start_time": "2024-05-17T17:43:23.434Z"
   },
   {
    "duration": 12,
    "start_time": "2024-05-17T17:43:23.484Z"
   },
   {
    "duration": 6,
    "start_time": "2024-05-17T17:43:23.498Z"
   },
   {
    "duration": 2,
    "start_time": "2024-05-17T17:43:23.505Z"
   },
   {
    "duration": 18,
    "start_time": "2024-05-17T17:43:23.508Z"
   },
   {
    "duration": 8,
    "start_time": "2024-05-17T17:43:23.527Z"
   },
   {
    "duration": 26,
    "start_time": "2024-05-17T17:43:23.536Z"
   },
   {
    "duration": 8,
    "start_time": "2024-05-17T17:43:23.563Z"
   },
   {
    "duration": 6,
    "start_time": "2024-05-17T17:43:23.584Z"
   },
   {
    "duration": 18,
    "start_time": "2024-05-17T17:43:23.591Z"
   },
   {
    "duration": 136,
    "start_time": "2024-05-17T17:43:23.610Z"
   },
   {
    "duration": 5,
    "start_time": "2024-05-17T17:43:23.747Z"
   },
   {
    "duration": 6,
    "start_time": "2024-05-17T17:43:23.753Z"
   },
   {
    "duration": 5,
    "start_time": "2024-05-17T17:43:23.760Z"
   },
   {
    "duration": 4,
    "start_time": "2024-05-17T17:43:23.768Z"
   },
   {
    "duration": 4,
    "start_time": "2024-05-17T17:43:23.773Z"
   },
   {
    "duration": 23,
    "start_time": "2024-05-17T17:43:23.778Z"
   },
   {
    "duration": 5,
    "start_time": "2024-05-17T17:43:23.802Z"
   },
   {
    "duration": 6,
    "start_time": "2024-05-17T17:43:23.808Z"
   },
   {
    "duration": 20,
    "start_time": "2024-05-17T17:43:23.815Z"
   },
   {
    "duration": 20,
    "start_time": "2024-05-17T17:43:23.836Z"
   },
   {
    "duration": 6,
    "start_time": "2024-05-17T17:43:23.857Z"
   },
   {
    "duration": 8,
    "start_time": "2024-05-17T17:43:23.864Z"
   },
   {
    "duration": 8,
    "start_time": "2024-05-17T17:43:23.873Z"
   },
   {
    "duration": 37,
    "start_time": "2024-05-17T17:43:23.882Z"
   },
   {
    "duration": 466,
    "start_time": "2024-05-17T17:43:23.921Z"
   },
   {
    "duration": 10,
    "start_time": "2024-05-17T17:43:24.388Z"
   },
   {
    "duration": 11,
    "start_time": "2024-05-17T17:43:24.399Z"
   },
   {
    "duration": 4,
    "start_time": "2024-05-17T17:43:24.411Z"
   },
   {
    "duration": 6,
    "start_time": "2024-05-17T17:43:24.417Z"
   },
   {
    "duration": 60,
    "start_time": "2024-05-17T17:43:24.424Z"
   },
   {
    "duration": 232,
    "start_time": "2024-05-17T17:43:24.486Z"
   },
   {
    "duration": 39,
    "start_time": "2024-05-17T17:43:24.720Z"
   },
   {
    "duration": 293,
    "start_time": "2024-05-17T17:43:24.761Z"
   },
   {
    "duration": 48,
    "start_time": "2024-05-17T17:43:25.056Z"
   },
   {
    "duration": 297,
    "start_time": "2024-05-17T17:43:25.106Z"
   },
   {
    "duration": 4,
    "start_time": "2024-05-17T17:43:25.405Z"
   },
   {
    "duration": 33,
    "start_time": "2024-05-17T17:43:25.411Z"
   },
   {
    "duration": 272,
    "start_time": "2024-05-17T17:43:25.446Z"
   },
   {
    "duration": 20,
    "start_time": "2024-05-17T17:43:25.720Z"
   },
   {
    "duration": 46,
    "start_time": "2024-05-17T17:43:25.742Z"
   },
   {
    "duration": 46,
    "start_time": "2024-05-17T17:43:25.789Z"
   },
   {
    "duration": 9,
    "start_time": "2024-05-17T17:43:25.837Z"
   },
   {
    "duration": 149,
    "start_time": "2024-05-17T17:43:25.847Z"
   },
   {
    "duration": 736,
    "start_time": "2024-05-17T17:43:25.997Z"
   },
   {
    "duration": 30,
    "start_time": "2024-05-17T17:43:26.735Z"
   },
   {
    "duration": 297,
    "start_time": "2024-05-17T17:43:26.767Z"
   },
   {
    "duration": 2,
    "start_time": "2024-05-17T17:43:27.066Z"
   },
   {
    "duration": 40,
    "start_time": "2024-05-17T17:43:27.070Z"
   },
   {
    "duration": 1010,
    "start_time": "2024-05-17T17:43:27.112Z"
   },
   {
    "duration": 492,
    "start_time": "2024-05-17T17:43:28.124Z"
   },
   {
    "duration": 914,
    "start_time": "2024-05-17T17:43:28.618Z"
   },
   {
    "duration": 1416,
    "start_time": "2024-05-17T17:43:29.534Z"
   },
   {
    "duration": 6,
    "start_time": "2024-05-17T17:43:30.951Z"
   },
   {
    "duration": 1172,
    "start_time": "2024-05-17T17:43:30.959Z"
   },
   {
    "duration": 651,
    "start_time": "2024-05-17T17:43:32.133Z"
   },
   {
    "duration": 5,
    "start_time": "2024-05-17T17:43:32.785Z"
   },
   {
    "duration": 1476,
    "start_time": "2024-05-17T17:43:32.791Z"
   },
   {
    "duration": 1123,
    "start_time": "2024-05-17T17:43:34.268Z"
   },
   {
    "duration": 1110,
    "start_time": "2024-05-17T17:43:35.393Z"
   },
   {
    "duration": 6,
    "start_time": "2024-05-17T17:43:36.504Z"
   },
   {
    "duration": 25,
    "start_time": "2024-05-17T17:43:36.511Z"
   },
   {
    "duration": 2126,
    "start_time": "2024-05-17T17:43:36.537Z"
   },
   {
    "duration": 4,
    "start_time": "2024-05-17T17:43:38.665Z"
   },
   {
    "duration": 174,
    "start_time": "2024-05-17T17:43:38.670Z"
   },
   {
    "duration": 1479,
    "start_time": "2024-05-17T17:43:38.845Z"
   },
   {
    "duration": 60,
    "start_time": "2024-05-17T17:43:40.325Z"
   },
   {
    "duration": 1257,
    "start_time": "2024-05-17T17:43:40.386Z"
   },
   {
    "duration": 5,
    "start_time": "2024-05-17T17:43:41.648Z"
   },
   {
    "duration": 60,
    "start_time": "2024-05-17T17:43:41.654Z"
   },
   {
    "duration": 1459,
    "start_time": "2024-05-17T17:43:41.715Z"
   },
   {
    "duration": 12,
    "start_time": "2024-05-17T17:43:43.175Z"
   },
   {
    "duration": 5,
    "start_time": "2024-05-17T17:43:43.189Z"
   },
   {
    "duration": 1117,
    "start_time": "2024-05-17T17:43:43.195Z"
   },
   {
    "duration": 7,
    "start_time": "2024-05-17T17:43:44.314Z"
   },
   {
    "duration": 640,
    "start_time": "2024-05-17T17:43:44.323Z"
   },
   {
    "duration": 5,
    "start_time": "2024-05-17T17:43:44.965Z"
   },
   {
    "duration": 30,
    "start_time": "2024-05-17T17:43:44.972Z"
   },
   {
    "duration": 1394,
    "start_time": "2024-05-17T17:43:45.003Z"
   },
   {
    "duration": 6,
    "start_time": "2024-05-17T17:43:46.398Z"
   },
   {
    "duration": 1032,
    "start_time": "2024-05-17T17:43:46.406Z"
   },
   {
    "duration": 7,
    "start_time": "2024-05-17T17:43:47.440Z"
   },
   {
    "duration": 617,
    "start_time": "2024-05-17T17:43:47.448Z"
   },
   {
    "duration": 5,
    "start_time": "2024-05-17T17:43:48.066Z"
   },
   {
    "duration": 1107,
    "start_time": "2024-05-18T11:19:52.541Z"
   },
   {
    "duration": 1629,
    "start_time": "2024-05-18T11:19:53.650Z"
   },
   {
    "duration": 11,
    "start_time": "2024-05-18T11:19:55.280Z"
   },
   {
    "duration": 50,
    "start_time": "2024-05-18T11:19:55.293Z"
   },
   {
    "duration": 53,
    "start_time": "2024-05-18T11:19:55.344Z"
   },
   {
    "duration": 3,
    "start_time": "2024-05-18T11:19:55.398Z"
   },
   {
    "duration": 132,
    "start_time": "2024-05-18T11:19:55.402Z"
   },
   {
    "duration": 111,
    "start_time": "2024-05-18T11:19:55.535Z"
   },
   {
    "duration": 18,
    "start_time": "2024-05-18T11:19:55.648Z"
   },
   {
    "duration": 29,
    "start_time": "2024-05-18T11:19:55.668Z"
   },
   {
    "duration": 20,
    "start_time": "2024-05-18T11:19:55.699Z"
   },
   {
    "duration": 156,
    "start_time": "2024-05-18T11:19:55.720Z"
   },
   {
    "duration": 38,
    "start_time": "2024-05-18T11:19:55.877Z"
   },
   {
    "duration": 6,
    "start_time": "2024-05-18T11:19:55.916Z"
   },
   {
    "duration": 35,
    "start_time": "2024-05-18T11:19:55.924Z"
   },
   {
    "duration": 6,
    "start_time": "2024-05-18T11:19:55.960Z"
   },
   {
    "duration": 3,
    "start_time": "2024-05-18T11:19:55.967Z"
   },
   {
    "duration": 13,
    "start_time": "2024-05-18T11:19:55.971Z"
   },
   {
    "duration": 8,
    "start_time": "2024-05-18T11:19:55.985Z"
   },
   {
    "duration": 23,
    "start_time": "2024-05-18T11:19:55.994Z"
   },
   {
    "duration": 8,
    "start_time": "2024-05-18T11:19:56.018Z"
   },
   {
    "duration": 23,
    "start_time": "2024-05-18T11:19:56.027Z"
   },
   {
    "duration": 10,
    "start_time": "2024-05-18T11:19:56.051Z"
   },
   {
    "duration": 5,
    "start_time": "2024-05-18T11:19:56.062Z"
   },
   {
    "duration": 8,
    "start_time": "2024-05-18T11:19:56.068Z"
   },
   {
    "duration": 10,
    "start_time": "2024-05-18T11:19:56.077Z"
   },
   {
    "duration": 4,
    "start_time": "2024-05-18T11:19:56.088Z"
   },
   {
    "duration": 4,
    "start_time": "2024-05-18T11:19:56.095Z"
   },
   {
    "duration": 4,
    "start_time": "2024-05-18T11:19:56.100Z"
   },
   {
    "duration": 8,
    "start_time": "2024-05-18T11:19:56.105Z"
   },
   {
    "duration": 6,
    "start_time": "2024-05-18T11:19:56.114Z"
   },
   {
    "duration": 13,
    "start_time": "2024-05-18T11:19:56.121Z"
   },
   {
    "duration": 8,
    "start_time": "2024-05-18T11:19:56.135Z"
   },
   {
    "duration": 9,
    "start_time": "2024-05-18T11:19:56.145Z"
   },
   {
    "duration": 30,
    "start_time": "2024-05-18T11:19:56.155Z"
   },
   {
    "duration": 7,
    "start_time": "2024-05-18T11:19:56.186Z"
   },
   {
    "duration": 7,
    "start_time": "2024-05-18T11:19:56.194Z"
   },
   {
    "duration": 17,
    "start_time": "2024-05-18T11:19:56.202Z"
   },
   {
    "duration": 422,
    "start_time": "2024-05-18T11:19:56.220Z"
   },
   {
    "duration": 9,
    "start_time": "2024-05-18T11:19:56.644Z"
   },
   {
    "duration": 38,
    "start_time": "2024-05-18T11:19:56.655Z"
   },
   {
    "duration": 63,
    "start_time": "2024-05-18T11:19:56.694Z"
   },
   {
    "duration": 78,
    "start_time": "2024-05-18T11:19:56.759Z"
   },
   {
    "duration": 55,
    "start_time": "2024-05-18T11:19:56.838Z"
   },
   {
    "duration": 242,
    "start_time": "2024-05-18T11:19:56.894Z"
   },
   {
    "duration": 38,
    "start_time": "2024-05-18T11:19:57.137Z"
   },
   {
    "duration": 270,
    "start_time": "2024-05-18T11:19:57.176Z"
   },
   {
    "duration": 55,
    "start_time": "2024-05-18T11:19:57.447Z"
   },
   {
    "duration": 304,
    "start_time": "2024-05-18T11:19:57.503Z"
   },
   {
    "duration": 3,
    "start_time": "2024-05-18T11:19:57.808Z"
   },
   {
    "duration": 51,
    "start_time": "2024-05-18T11:19:57.812Z"
   },
   {
    "duration": 256,
    "start_time": "2024-05-18T11:19:57.864Z"
   },
   {
    "duration": 18,
    "start_time": "2024-05-18T11:19:58.121Z"
   },
   {
    "duration": 31,
    "start_time": "2024-05-18T11:19:58.140Z"
   },
   {
    "duration": 54,
    "start_time": "2024-05-18T11:19:58.172Z"
   },
   {
    "duration": 8,
    "start_time": "2024-05-18T11:19:58.228Z"
   },
   {
    "duration": 732,
    "start_time": "2024-05-18T11:19:58.237Z"
   },
   {
    "duration": 28,
    "start_time": "2024-05-18T11:19:58.970Z"
   },
   {
    "duration": 211,
    "start_time": "2024-05-18T11:19:59.000Z"
   },
   {
    "duration": 2,
    "start_time": "2024-05-18T11:19:59.213Z"
   },
   {
    "duration": 40,
    "start_time": "2024-05-18T11:19:59.216Z"
   },
   {
    "duration": 1164,
    "start_time": "2024-05-18T11:19:59.258Z"
   },
   {
    "duration": 503,
    "start_time": "2024-05-18T11:20:00.423Z"
   },
   {
    "duration": 920,
    "start_time": "2024-05-18T11:20:00.927Z"
   },
   {
    "duration": 1481,
    "start_time": "2024-05-18T11:20:01.849Z"
   },
   {
    "duration": 4,
    "start_time": "2024-05-18T11:20:03.331Z"
   },
   {
    "duration": 1063,
    "start_time": "2024-05-18T11:20:03.336Z"
   },
   {
    "duration": 594,
    "start_time": "2024-05-18T11:20:04.401Z"
   },
   {
    "duration": 4,
    "start_time": "2024-05-18T11:20:04.996Z"
   },
   {
    "duration": 1561,
    "start_time": "2024-05-18T11:20:05.001Z"
   },
   {
    "duration": 1065,
    "start_time": "2024-05-18T11:20:06.563Z"
   },
   {
    "duration": 635,
    "start_time": "2024-05-18T11:20:07.629Z"
   },
   {
    "duration": 5,
    "start_time": "2024-05-18T11:20:08.265Z"
   },
   {
    "duration": 159,
    "start_time": "2024-05-18T11:20:08.272Z"
   },
   {
    "duration": 1802,
    "start_time": "2024-05-18T11:20:08.432Z"
   },
   {
    "duration": 5,
    "start_time": "2024-05-18T11:20:10.235Z"
   },
   {
    "duration": 123,
    "start_time": "2024-05-18T11:20:10.241Z"
   },
   {
    "duration": 1408,
    "start_time": "2024-05-18T11:20:10.365Z"
   },
   {
    "duration": 13,
    "start_time": "2024-05-18T11:20:11.774Z"
   },
   {
    "duration": 794,
    "start_time": "2024-05-18T11:20:11.789Z"
   },
   {
    "duration": 5,
    "start_time": "2024-05-18T11:20:12.584Z"
   },
   {
    "duration": 55,
    "start_time": "2024-05-18T11:20:12.594Z"
   },
   {
    "duration": 1976,
    "start_time": "2024-05-18T11:20:12.650Z"
   },
   {
    "duration": 5,
    "start_time": "2024-05-18T11:20:14.627Z"
   },
   {
    "duration": 26,
    "start_time": "2024-05-18T11:20:14.633Z"
   },
   {
    "duration": 1097,
    "start_time": "2024-05-18T11:20:14.660Z"
   },
   {
    "duration": 6,
    "start_time": "2024-05-18T11:20:15.758Z"
   },
   {
    "duration": 632,
    "start_time": "2024-05-18T11:20:15.765Z"
   },
   {
    "duration": 5,
    "start_time": "2024-05-18T11:20:16.398Z"
   },
   {
    "duration": 15,
    "start_time": "2024-05-18T11:20:16.404Z"
   },
   {
    "duration": 1375,
    "start_time": "2024-05-18T11:20:16.420Z"
   },
   {
    "duration": 6,
    "start_time": "2024-05-18T11:20:17.796Z"
   },
   {
    "duration": 1078,
    "start_time": "2024-05-18T11:20:17.803Z"
   },
   {
    "duration": 5,
    "start_time": "2024-05-18T11:20:18.882Z"
   },
   {
    "duration": 614,
    "start_time": "2024-05-18T11:20:18.889Z"
   },
   {
    "duration": 4,
    "start_time": "2024-05-18T11:20:19.504Z"
   },
   {
    "duration": 48,
    "start_time": "2024-05-18T11:50:10.739Z"
   },
   {
    "duration": 1384,
    "start_time": "2024-05-18T11:50:17.674Z"
   },
   {
    "duration": 1362,
    "start_time": "2024-05-18T11:50:19.060Z"
   },
   {
    "duration": 19,
    "start_time": "2024-05-18T11:50:20.423Z"
   },
   {
    "duration": 56,
    "start_time": "2024-05-18T11:50:20.444Z"
   },
   {
    "duration": 71,
    "start_time": "2024-05-18T11:50:20.501Z"
   },
   {
    "duration": 6,
    "start_time": "2024-05-18T11:50:20.573Z"
   },
   {
    "duration": 197,
    "start_time": "2024-05-18T11:50:20.580Z"
   },
   {
    "duration": 139,
    "start_time": "2024-05-18T11:50:20.779Z"
   },
   {
    "duration": 29,
    "start_time": "2024-05-18T11:50:20.925Z"
   },
   {
    "duration": 21,
    "start_time": "2024-05-18T11:50:20.957Z"
   },
   {
    "duration": 23,
    "start_time": "2024-05-18T11:50:20.979Z"
   },
   {
    "duration": 240,
    "start_time": "2024-05-18T11:50:21.018Z"
   },
   {
    "duration": 38,
    "start_time": "2024-05-18T11:50:21.260Z"
   },
   {
    "duration": 6,
    "start_time": "2024-05-18T11:50:21.300Z"
   },
   {
    "duration": 26,
    "start_time": "2024-05-18T11:50:21.308Z"
   },
   {
    "duration": 9,
    "start_time": "2024-05-18T11:50:21.335Z"
   },
   {
    "duration": 10,
    "start_time": "2024-05-18T11:50:21.346Z"
   },
   {
    "duration": 15,
    "start_time": "2024-05-18T11:50:21.357Z"
   },
   {
    "duration": 9,
    "start_time": "2024-05-18T11:50:21.373Z"
   },
   {
    "duration": 27,
    "start_time": "2024-05-18T11:50:21.384Z"
   },
   {
    "duration": 15,
    "start_time": "2024-05-18T11:50:21.418Z"
   },
   {
    "duration": 13,
    "start_time": "2024-05-18T11:50:21.434Z"
   },
   {
    "duration": 9,
    "start_time": "2024-05-18T11:50:21.448Z"
   },
   {
    "duration": 5,
    "start_time": "2024-05-18T11:50:21.458Z"
   },
   {
    "duration": 3,
    "start_time": "2024-05-18T11:50:21.464Z"
   },
   {
    "duration": 5,
    "start_time": "2024-05-18T11:50:21.468Z"
   },
   {
    "duration": 4,
    "start_time": "2024-05-18T11:50:21.474Z"
   },
   {
    "duration": 4,
    "start_time": "2024-05-18T11:50:21.481Z"
   },
   {
    "duration": 31,
    "start_time": "2024-05-18T11:50:21.486Z"
   },
   {
    "duration": 22,
    "start_time": "2024-05-18T11:50:21.522Z"
   },
   {
    "duration": 6,
    "start_time": "2024-05-18T11:50:21.546Z"
   },
   {
    "duration": 8,
    "start_time": "2024-05-18T11:50:21.553Z"
   },
   {
    "duration": 7,
    "start_time": "2024-05-18T11:50:21.562Z"
   },
   {
    "duration": 9,
    "start_time": "2024-05-18T11:50:21.571Z"
   },
   {
    "duration": 8,
    "start_time": "2024-05-18T11:50:21.581Z"
   },
   {
    "duration": 8,
    "start_time": "2024-05-18T11:50:21.590Z"
   },
   {
    "duration": 5,
    "start_time": "2024-05-18T11:50:21.599Z"
   },
   {
    "duration": 22,
    "start_time": "2024-05-18T11:50:21.617Z"
   },
   {
    "duration": 557,
    "start_time": "2024-05-18T11:50:21.640Z"
   },
   {
    "duration": 12,
    "start_time": "2024-05-18T11:50:22.199Z"
   },
   {
    "duration": 16,
    "start_time": "2024-05-18T11:50:22.225Z"
   },
   {
    "duration": 4,
    "start_time": "2024-05-18T11:50:22.243Z"
   },
   {
    "duration": 7,
    "start_time": "2024-05-18T11:50:22.248Z"
   },
   {
    "duration": 43,
    "start_time": "2024-05-18T11:50:22.257Z"
   },
   {
    "duration": 323,
    "start_time": "2024-05-18T11:50:22.301Z"
   },
   {
    "duration": 46,
    "start_time": "2024-05-18T11:50:22.625Z"
   },
   {
    "duration": 270,
    "start_time": "2024-05-18T11:50:22.673Z"
   },
   {
    "duration": 47,
    "start_time": "2024-05-18T11:50:22.944Z"
   },
   {
    "duration": 735,
    "start_time": "2024-05-18T11:50:23.017Z"
   },
   {
    "duration": 4,
    "start_time": "2024-05-18T11:50:23.754Z"
   },
   {
    "duration": 112,
    "start_time": "2024-05-18T11:50:23.813Z"
   },
   {
    "duration": 649,
    "start_time": "2024-05-18T11:50:23.928Z"
   },
   {
    "duration": 20,
    "start_time": "2024-05-18T11:50:24.579Z"
   },
   {
    "duration": 40,
    "start_time": "2024-05-18T11:50:24.625Z"
   },
   {
    "duration": 66,
    "start_time": "2024-05-18T11:50:24.667Z"
   },
   {
    "duration": 12,
    "start_time": "2024-05-18T11:50:24.735Z"
   },
   {
    "duration": 886,
    "start_time": "2024-05-18T11:50:24.749Z"
   },
   {
    "duration": 52,
    "start_time": "2024-05-18T11:50:25.636Z"
   },
   {
    "duration": 271,
    "start_time": "2024-05-18T11:50:25.690Z"
   },
   {
    "duration": 3,
    "start_time": "2024-05-18T11:50:25.963Z"
   },
   {
    "duration": 22,
    "start_time": "2024-05-18T11:50:25.968Z"
   },
   {
    "duration": 1281,
    "start_time": "2024-05-18T11:50:25.992Z"
   },
   {
    "duration": 599,
    "start_time": "2024-05-18T11:50:27.274Z"
   },
   {
    "duration": 1124,
    "start_time": "2024-05-18T11:50:27.875Z"
   },
   {
    "duration": 1677,
    "start_time": "2024-05-18T11:50:29.001Z"
   },
   {
    "duration": 5,
    "start_time": "2024-05-18T11:50:30.680Z"
   },
   {
    "duration": 1439,
    "start_time": "2024-05-18T11:50:30.686Z"
   },
   {
    "duration": 767,
    "start_time": "2024-05-18T11:50:32.127Z"
   },
   {
    "duration": 6,
    "start_time": "2024-05-18T11:50:32.895Z"
   },
   {
    "duration": 1863,
    "start_time": "2024-05-18T11:50:32.902Z"
   },
   {
    "duration": 1433,
    "start_time": "2024-05-18T11:50:34.766Z"
   },
   {
    "duration": 725,
    "start_time": "2024-05-18T11:50:36.201Z"
   },
   {
    "duration": 8,
    "start_time": "2024-05-18T11:50:36.928Z"
   },
   {
    "duration": 13,
    "start_time": "2024-05-18T11:50:36.942Z"
   },
   {
    "duration": 2100,
    "start_time": "2024-05-18T11:50:36.957Z"
   },
   {
    "duration": 5,
    "start_time": "2024-05-18T11:50:39.058Z"
   },
   {
    "duration": 8,
    "start_time": "2024-05-18T11:50:39.064Z"
   },
   {
    "duration": 1704,
    "start_time": "2024-05-18T11:50:39.073Z"
   },
   {
    "duration": 6,
    "start_time": "2024-05-18T11:50:40.778Z"
   },
   {
    "duration": 899,
    "start_time": "2024-05-18T11:50:40.786Z"
   },
   {
    "duration": 6,
    "start_time": "2024-05-18T11:50:41.686Z"
   },
   {
    "duration": 33,
    "start_time": "2024-05-18T11:50:41.697Z"
   },
   {
    "duration": 1597,
    "start_time": "2024-05-18T11:50:41.732Z"
   },
   {
    "duration": 10,
    "start_time": "2024-05-18T11:50:43.333Z"
   },
   {
    "duration": 10,
    "start_time": "2024-05-18T11:50:43.344Z"
   },
   {
    "duration": 1444,
    "start_time": "2024-05-18T11:50:43.355Z"
   },
   {
    "duration": 29,
    "start_time": "2024-05-18T11:50:44.800Z"
   },
   {
    "duration": 760,
    "start_time": "2024-05-18T11:50:44.834Z"
   },
   {
    "duration": 5,
    "start_time": "2024-05-18T11:50:45.596Z"
   },
   {
    "duration": 13,
    "start_time": "2024-05-18T11:50:45.625Z"
   },
   {
    "duration": 1557,
    "start_time": "2024-05-18T11:50:45.639Z"
   },
   {
    "duration": 5,
    "start_time": "2024-05-18T11:50:47.198Z"
   },
   {
    "duration": 1357,
    "start_time": "2024-05-18T11:50:47.204Z"
   },
   {
    "duration": 6,
    "start_time": "2024-05-18T11:50:48.563Z"
   },
   {
    "duration": 764,
    "start_time": "2024-05-18T11:50:48.570Z"
   },
   {
    "duration": 6,
    "start_time": "2024-05-18T11:50:49.335Z"
   },
   {
    "duration": 63,
    "start_time": "2024-05-18T11:53:52.494Z"
   },
   {
    "duration": 38,
    "start_time": "2024-05-18T11:54:18.552Z"
   },
   {
    "duration": 253,
    "start_time": "2024-05-18T11:56:08.434Z"
   }
  ],
  "colab": {
   "provenance": []
  },
  "kernelspec": {
   "display_name": "Python 3 (ipykernel)",
   "language": "python",
   "name": "python3"
  },
  "language_info": {
   "codemirror_mode": {
    "name": "ipython",
    "version": 3
   },
   "file_extension": ".py",
   "mimetype": "text/x-python",
   "name": "python",
   "nbconvert_exporter": "python",
   "pygments_lexer": "ipython3",
   "version": "3.11.5"
  },
  "toc": {
   "base_numbering": 1,
   "nav_menu": {},
   "number_sections": true,
   "sideBar": true,
   "skip_h1_title": true,
   "title_cell": "Проект: Анализ окупаемости рекламной  компании развлекательного приложения Procrastinate Pro+",
   "title_sidebar": "Contents",
   "toc_cell": true,
   "toc_position": {
    "height": "calc(100% - 180px)",
    "left": "10px",
    "top": "150px",
    "width": "282.637512px"
   },
   "toc_section_display": true,
   "toc_window_display": true
  }
 },
 "nbformat": 4,
 "nbformat_minor": 1
}
